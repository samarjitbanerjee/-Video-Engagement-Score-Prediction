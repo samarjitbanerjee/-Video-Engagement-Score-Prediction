{
  "nbformat": 4,
  "nbformat_minor": 0,
  "metadata": {
    "colab": {
      "name": "score pred.ipynb",
      "provenance": [],
      "collapsed_sections": []
    },
    "kernelspec": {
      "name": "python3",
      "display_name": "Python 3"
    },
    "language_info": {
      "name": "python"
    }
  },
  "cells": [
    {
      "cell_type": "code",
      "execution_count": 195,
      "metadata": {
        "id": "uwG3IEcWF95H"
      },
      "outputs": [],
      "source": [
        "import pandas as pd\n",
        "import numpy as np\n",
        "import matplotlib.pyplot as plt\n",
        "import seaborn as sns\n",
        "from sklearn.model_selection import train_test_split\n",
        "from sklearn.feature_extraction.text import CountVectorizer\n",
        "from sklearn.linear_model import ElasticNet\n",
        "from sklearn.neighbors import KNeighborsRegressor\n",
        "from sklearn.model_selection import RandomizedSearchCV\n",
        "from sklearn.metrics import r2_score,mean_squared_error\n",
        "from sklearn.tree import DecisionTreeRegressor\n",
        "from sklearn.model_selection import RandomizedSearchCV\n",
        "from random import randint\n",
        "from sklearn.metrics import r2_score\n",
        "import xgboost as xgb\n",
        "import lightgbm as lgb\n",
        "from sklearn.model_selection import RandomizedSearchCV\n",
        "from random import randint\n",
        "from sklearn.metrics import r2_score\n",
        "from scipy.stats import randint as sp_randint\n",
        "from scipy.stats import uniform as sp_uniform\n",
        "import pickle\n",
        "from sklearn.metrics import r2_score,mean_squared_error\n",
        "import pickle\n",
        "from tqdm import tqdm\n",
        "import warnings\n",
        "warnings.filterwarnings('ignore')"
      ]
    },
    {
      "cell_type": "markdown",
      "source": [
        "# Data loading "
      ],
      "metadata": {
        "id": "Fqhil4W2D33f"
      }
    },
    {
      "cell_type": "code",
      "source": [
        "df=pd.read_csv('/content/drive/MyDrive/train_0OECtn8.csv',index_col='row_id')\n",
        "df.head()"
      ],
      "metadata": {
        "colab": {
          "base_uri": "https://localhost:8080/",
          "height": 238
        },
        "id": "30RIhQ8KGdR_",
        "outputId": "3093d54d-3ec0-4924-9d8b-b43cfbf0eda0"
      },
      "execution_count": 231,
      "outputs": [
        {
          "output_type": "execute_result",
          "data": {
            "text/html": [
              "\n",
              "  <div id=\"df-78300966-f11d-4206-8a57-3b29a5130bfe\">\n",
              "    <div class=\"colab-df-container\">\n",
              "      <div>\n",
              "<style scoped>\n",
              "    .dataframe tbody tr th:only-of-type {\n",
              "        vertical-align: middle;\n",
              "    }\n",
              "\n",
              "    .dataframe tbody tr th {\n",
              "        vertical-align: top;\n",
              "    }\n",
              "\n",
              "    .dataframe thead th {\n",
              "        text-align: right;\n",
              "    }\n",
              "</style>\n",
              "<table border=\"1\" class=\"dataframe\">\n",
              "  <thead>\n",
              "    <tr style=\"text-align: right;\">\n",
              "      <th></th>\n",
              "      <th>user_id</th>\n",
              "      <th>category_id</th>\n",
              "      <th>video_id</th>\n",
              "      <th>age</th>\n",
              "      <th>gender</th>\n",
              "      <th>profession</th>\n",
              "      <th>followers</th>\n",
              "      <th>views</th>\n",
              "      <th>engagement_score</th>\n",
              "    </tr>\n",
              "    <tr>\n",
              "      <th>row_id</th>\n",
              "      <th></th>\n",
              "      <th></th>\n",
              "      <th></th>\n",
              "      <th></th>\n",
              "      <th></th>\n",
              "      <th></th>\n",
              "      <th></th>\n",
              "      <th></th>\n",
              "      <th></th>\n",
              "    </tr>\n",
              "  </thead>\n",
              "  <tbody>\n",
              "    <tr>\n",
              "      <th>1</th>\n",
              "      <td>19990</td>\n",
              "      <td>37</td>\n",
              "      <td>128</td>\n",
              "      <td>24</td>\n",
              "      <td>Male</td>\n",
              "      <td>Student</td>\n",
              "      <td>180</td>\n",
              "      <td>1000</td>\n",
              "      <td>4.33</td>\n",
              "    </tr>\n",
              "    <tr>\n",
              "      <th>2</th>\n",
              "      <td>5304</td>\n",
              "      <td>32</td>\n",
              "      <td>132</td>\n",
              "      <td>14</td>\n",
              "      <td>Female</td>\n",
              "      <td>Student</td>\n",
              "      <td>330</td>\n",
              "      <td>714</td>\n",
              "      <td>1.79</td>\n",
              "    </tr>\n",
              "    <tr>\n",
              "      <th>3</th>\n",
              "      <td>1840</td>\n",
              "      <td>12</td>\n",
              "      <td>24</td>\n",
              "      <td>19</td>\n",
              "      <td>Male</td>\n",
              "      <td>Student</td>\n",
              "      <td>180</td>\n",
              "      <td>138</td>\n",
              "      <td>4.35</td>\n",
              "    </tr>\n",
              "    <tr>\n",
              "      <th>4</th>\n",
              "      <td>12597</td>\n",
              "      <td>23</td>\n",
              "      <td>112</td>\n",
              "      <td>19</td>\n",
              "      <td>Male</td>\n",
              "      <td>Student</td>\n",
              "      <td>220</td>\n",
              "      <td>613</td>\n",
              "      <td>3.77</td>\n",
              "    </tr>\n",
              "    <tr>\n",
              "      <th>5</th>\n",
              "      <td>13626</td>\n",
              "      <td>23</td>\n",
              "      <td>112</td>\n",
              "      <td>27</td>\n",
              "      <td>Male</td>\n",
              "      <td>Working Professional</td>\n",
              "      <td>220</td>\n",
              "      <td>613</td>\n",
              "      <td>3.13</td>\n",
              "    </tr>\n",
              "  </tbody>\n",
              "</table>\n",
              "</div>\n",
              "      <button class=\"colab-df-convert\" onclick=\"convertToInteractive('df-78300966-f11d-4206-8a57-3b29a5130bfe')\"\n",
              "              title=\"Convert this dataframe to an interactive table.\"\n",
              "              style=\"display:none;\">\n",
              "        \n",
              "  <svg xmlns=\"http://www.w3.org/2000/svg\" height=\"24px\"viewBox=\"0 0 24 24\"\n",
              "       width=\"24px\">\n",
              "    <path d=\"M0 0h24v24H0V0z\" fill=\"none\"/>\n",
              "    <path d=\"M18.56 5.44l.94 2.06.94-2.06 2.06-.94-2.06-.94-.94-2.06-.94 2.06-2.06.94zm-11 1L8.5 8.5l.94-2.06 2.06-.94-2.06-.94L8.5 2.5l-.94 2.06-2.06.94zm10 10l.94 2.06.94-2.06 2.06-.94-2.06-.94-.94-2.06-.94 2.06-2.06.94z\"/><path d=\"M17.41 7.96l-1.37-1.37c-.4-.4-.92-.59-1.43-.59-.52 0-1.04.2-1.43.59L10.3 9.45l-7.72 7.72c-.78.78-.78 2.05 0 2.83L4 21.41c.39.39.9.59 1.41.59.51 0 1.02-.2 1.41-.59l7.78-7.78 2.81-2.81c.8-.78.8-2.07 0-2.86zM5.41 20L4 18.59l7.72-7.72 1.47 1.35L5.41 20z\"/>\n",
              "  </svg>\n",
              "      </button>\n",
              "      \n",
              "  <style>\n",
              "    .colab-df-container {\n",
              "      display:flex;\n",
              "      flex-wrap:wrap;\n",
              "      gap: 12px;\n",
              "    }\n",
              "\n",
              "    .colab-df-convert {\n",
              "      background-color: #E8F0FE;\n",
              "      border: none;\n",
              "      border-radius: 50%;\n",
              "      cursor: pointer;\n",
              "      display: none;\n",
              "      fill: #1967D2;\n",
              "      height: 32px;\n",
              "      padding: 0 0 0 0;\n",
              "      width: 32px;\n",
              "    }\n",
              "\n",
              "    .colab-df-convert:hover {\n",
              "      background-color: #E2EBFA;\n",
              "      box-shadow: 0px 1px 2px rgba(60, 64, 67, 0.3), 0px 1px 3px 1px rgba(60, 64, 67, 0.15);\n",
              "      fill: #174EA6;\n",
              "    }\n",
              "\n",
              "    [theme=dark] .colab-df-convert {\n",
              "      background-color: #3B4455;\n",
              "      fill: #D2E3FC;\n",
              "    }\n",
              "\n",
              "    [theme=dark] .colab-df-convert:hover {\n",
              "      background-color: #434B5C;\n",
              "      box-shadow: 0px 1px 3px 1px rgba(0, 0, 0, 0.15);\n",
              "      filter: drop-shadow(0px 1px 2px rgba(0, 0, 0, 0.3));\n",
              "      fill: #FFFFFF;\n",
              "    }\n",
              "  </style>\n",
              "\n",
              "      <script>\n",
              "        const buttonEl =\n",
              "          document.querySelector('#df-78300966-f11d-4206-8a57-3b29a5130bfe button.colab-df-convert');\n",
              "        buttonEl.style.display =\n",
              "          google.colab.kernel.accessAllowed ? 'block' : 'none';\n",
              "\n",
              "        async function convertToInteractive(key) {\n",
              "          const element = document.querySelector('#df-78300966-f11d-4206-8a57-3b29a5130bfe');\n",
              "          const dataTable =\n",
              "            await google.colab.kernel.invokeFunction('convertToInteractive',\n",
              "                                                     [key], {});\n",
              "          if (!dataTable) return;\n",
              "\n",
              "          const docLinkHtml = 'Like what you see? Visit the ' +\n",
              "            '<a target=\"_blank\" href=https://colab.research.google.com/notebooks/data_table.ipynb>data table notebook</a>'\n",
              "            + ' to learn more about interactive tables.';\n",
              "          element.innerHTML = '';\n",
              "          dataTable['output_type'] = 'display_data';\n",
              "          await google.colab.output.renderOutput(dataTable, element);\n",
              "          const docLink = document.createElement('div');\n",
              "          docLink.innerHTML = docLinkHtml;\n",
              "          element.appendChild(docLink);\n",
              "        }\n",
              "      </script>\n",
              "    </div>\n",
              "  </div>\n",
              "  "
            ],
            "text/plain": [
              "        user_id  category_id  video_id  ...  followers views engagement_score\n",
              "row_id                                  ...                                  \n",
              "1         19990           37       128  ...        180  1000             4.33\n",
              "2          5304           32       132  ...        330   714             1.79\n",
              "3          1840           12        24  ...        180   138             4.35\n",
              "4         12597           23       112  ...        220   613             3.77\n",
              "5         13626           23       112  ...        220   613             3.13\n",
              "\n",
              "[5 rows x 9 columns]"
            ]
          },
          "metadata": {},
          "execution_count": 231
        }
      ]
    },
    {
      "cell_type": "code",
      "source": [
        "df.head()"
      ],
      "metadata": {
        "colab": {
          "base_uri": "https://localhost:8080/",
          "height": 238
        },
        "id": "D9T-wB_nBnmH",
        "outputId": "484e983b-0dd8-435c-caa0-f4e7dc473d1e"
      },
      "execution_count": 232,
      "outputs": [
        {
          "output_type": "execute_result",
          "data": {
            "text/html": [
              "\n",
              "  <div id=\"df-477c2ccb-03f3-426d-b44a-7c771598b7df\">\n",
              "    <div class=\"colab-df-container\">\n",
              "      <div>\n",
              "<style scoped>\n",
              "    .dataframe tbody tr th:only-of-type {\n",
              "        vertical-align: middle;\n",
              "    }\n",
              "\n",
              "    .dataframe tbody tr th {\n",
              "        vertical-align: top;\n",
              "    }\n",
              "\n",
              "    .dataframe thead th {\n",
              "        text-align: right;\n",
              "    }\n",
              "</style>\n",
              "<table border=\"1\" class=\"dataframe\">\n",
              "  <thead>\n",
              "    <tr style=\"text-align: right;\">\n",
              "      <th></th>\n",
              "      <th>user_id</th>\n",
              "      <th>category_id</th>\n",
              "      <th>video_id</th>\n",
              "      <th>age</th>\n",
              "      <th>gender</th>\n",
              "      <th>profession</th>\n",
              "      <th>followers</th>\n",
              "      <th>views</th>\n",
              "      <th>engagement_score</th>\n",
              "    </tr>\n",
              "    <tr>\n",
              "      <th>row_id</th>\n",
              "      <th></th>\n",
              "      <th></th>\n",
              "      <th></th>\n",
              "      <th></th>\n",
              "      <th></th>\n",
              "      <th></th>\n",
              "      <th></th>\n",
              "      <th></th>\n",
              "      <th></th>\n",
              "    </tr>\n",
              "  </thead>\n",
              "  <tbody>\n",
              "    <tr>\n",
              "      <th>1</th>\n",
              "      <td>19990</td>\n",
              "      <td>37</td>\n",
              "      <td>128</td>\n",
              "      <td>24</td>\n",
              "      <td>Male</td>\n",
              "      <td>Student</td>\n",
              "      <td>180</td>\n",
              "      <td>1000</td>\n",
              "      <td>4.33</td>\n",
              "    </tr>\n",
              "    <tr>\n",
              "      <th>2</th>\n",
              "      <td>5304</td>\n",
              "      <td>32</td>\n",
              "      <td>132</td>\n",
              "      <td>14</td>\n",
              "      <td>Female</td>\n",
              "      <td>Student</td>\n",
              "      <td>330</td>\n",
              "      <td>714</td>\n",
              "      <td>1.79</td>\n",
              "    </tr>\n",
              "    <tr>\n",
              "      <th>3</th>\n",
              "      <td>1840</td>\n",
              "      <td>12</td>\n",
              "      <td>24</td>\n",
              "      <td>19</td>\n",
              "      <td>Male</td>\n",
              "      <td>Student</td>\n",
              "      <td>180</td>\n",
              "      <td>138</td>\n",
              "      <td>4.35</td>\n",
              "    </tr>\n",
              "    <tr>\n",
              "      <th>4</th>\n",
              "      <td>12597</td>\n",
              "      <td>23</td>\n",
              "      <td>112</td>\n",
              "      <td>19</td>\n",
              "      <td>Male</td>\n",
              "      <td>Student</td>\n",
              "      <td>220</td>\n",
              "      <td>613</td>\n",
              "      <td>3.77</td>\n",
              "    </tr>\n",
              "    <tr>\n",
              "      <th>5</th>\n",
              "      <td>13626</td>\n",
              "      <td>23</td>\n",
              "      <td>112</td>\n",
              "      <td>27</td>\n",
              "      <td>Male</td>\n",
              "      <td>Working Professional</td>\n",
              "      <td>220</td>\n",
              "      <td>613</td>\n",
              "      <td>3.13</td>\n",
              "    </tr>\n",
              "  </tbody>\n",
              "</table>\n",
              "</div>\n",
              "      <button class=\"colab-df-convert\" onclick=\"convertToInteractive('df-477c2ccb-03f3-426d-b44a-7c771598b7df')\"\n",
              "              title=\"Convert this dataframe to an interactive table.\"\n",
              "              style=\"display:none;\">\n",
              "        \n",
              "  <svg xmlns=\"http://www.w3.org/2000/svg\" height=\"24px\"viewBox=\"0 0 24 24\"\n",
              "       width=\"24px\">\n",
              "    <path d=\"M0 0h24v24H0V0z\" fill=\"none\"/>\n",
              "    <path d=\"M18.56 5.44l.94 2.06.94-2.06 2.06-.94-2.06-.94-.94-2.06-.94 2.06-2.06.94zm-11 1L8.5 8.5l.94-2.06 2.06-.94-2.06-.94L8.5 2.5l-.94 2.06-2.06.94zm10 10l.94 2.06.94-2.06 2.06-.94-2.06-.94-.94-2.06-.94 2.06-2.06.94z\"/><path d=\"M17.41 7.96l-1.37-1.37c-.4-.4-.92-.59-1.43-.59-.52 0-1.04.2-1.43.59L10.3 9.45l-7.72 7.72c-.78.78-.78 2.05 0 2.83L4 21.41c.39.39.9.59 1.41.59.51 0 1.02-.2 1.41-.59l7.78-7.78 2.81-2.81c.8-.78.8-2.07 0-2.86zM5.41 20L4 18.59l7.72-7.72 1.47 1.35L5.41 20z\"/>\n",
              "  </svg>\n",
              "      </button>\n",
              "      \n",
              "  <style>\n",
              "    .colab-df-container {\n",
              "      display:flex;\n",
              "      flex-wrap:wrap;\n",
              "      gap: 12px;\n",
              "    }\n",
              "\n",
              "    .colab-df-convert {\n",
              "      background-color: #E8F0FE;\n",
              "      border: none;\n",
              "      border-radius: 50%;\n",
              "      cursor: pointer;\n",
              "      display: none;\n",
              "      fill: #1967D2;\n",
              "      height: 32px;\n",
              "      padding: 0 0 0 0;\n",
              "      width: 32px;\n",
              "    }\n",
              "\n",
              "    .colab-df-convert:hover {\n",
              "      background-color: #E2EBFA;\n",
              "      box-shadow: 0px 1px 2px rgba(60, 64, 67, 0.3), 0px 1px 3px 1px rgba(60, 64, 67, 0.15);\n",
              "      fill: #174EA6;\n",
              "    }\n",
              "\n",
              "    [theme=dark] .colab-df-convert {\n",
              "      background-color: #3B4455;\n",
              "      fill: #D2E3FC;\n",
              "    }\n",
              "\n",
              "    [theme=dark] .colab-df-convert:hover {\n",
              "      background-color: #434B5C;\n",
              "      box-shadow: 0px 1px 3px 1px rgba(0, 0, 0, 0.15);\n",
              "      filter: drop-shadow(0px 1px 2px rgba(0, 0, 0, 0.3));\n",
              "      fill: #FFFFFF;\n",
              "    }\n",
              "  </style>\n",
              "\n",
              "      <script>\n",
              "        const buttonEl =\n",
              "          document.querySelector('#df-477c2ccb-03f3-426d-b44a-7c771598b7df button.colab-df-convert');\n",
              "        buttonEl.style.display =\n",
              "          google.colab.kernel.accessAllowed ? 'block' : 'none';\n",
              "\n",
              "        async function convertToInteractive(key) {\n",
              "          const element = document.querySelector('#df-477c2ccb-03f3-426d-b44a-7c771598b7df');\n",
              "          const dataTable =\n",
              "            await google.colab.kernel.invokeFunction('convertToInteractive',\n",
              "                                                     [key], {});\n",
              "          if (!dataTable) return;\n",
              "\n",
              "          const docLinkHtml = 'Like what you see? Visit the ' +\n",
              "            '<a target=\"_blank\" href=https://colab.research.google.com/notebooks/data_table.ipynb>data table notebook</a>'\n",
              "            + ' to learn more about interactive tables.';\n",
              "          element.innerHTML = '';\n",
              "          dataTable['output_type'] = 'display_data';\n",
              "          await google.colab.output.renderOutput(dataTable, element);\n",
              "          const docLink = document.createElement('div');\n",
              "          docLink.innerHTML = docLinkHtml;\n",
              "          element.appendChild(docLink);\n",
              "        }\n",
              "      </script>\n",
              "    </div>\n",
              "  </div>\n",
              "  "
            ],
            "text/plain": [
              "        user_id  category_id  video_id  ...  followers views engagement_score\n",
              "row_id                                  ...                                  \n",
              "1         19990           37       128  ...        180  1000             4.33\n",
              "2          5304           32       132  ...        330   714             1.79\n",
              "3          1840           12        24  ...        180   138             4.35\n",
              "4         12597           23       112  ...        220   613             3.77\n",
              "5         13626           23       112  ...        220   613             3.13\n",
              "\n",
              "[5 rows x 9 columns]"
            ]
          },
          "metadata": {},
          "execution_count": 232
        }
      ]
    },
    {
      "cell_type": "markdown",
      "source": [
        "# Finding the information of the Dataset"
      ],
      "metadata": {
        "id": "NCgBg6YQbQQz"
      }
    },
    {
      "cell_type": "code",
      "source": [
        "df.shape"
      ],
      "metadata": {
        "colab": {
          "base_uri": "https://localhost:8080/"
        },
        "id": "vpN_92b1bW6f",
        "outputId": "6d758b52-6f73-4473-ea8e-9cb7f7a2c647"
      },
      "execution_count": 198,
      "outputs": [
        {
          "output_type": "execute_result",
          "data": {
            "text/plain": [
              "(89197, 9)"
            ]
          },
          "metadata": {},
          "execution_count": 198
        }
      ]
    },
    {
      "cell_type": "markdown",
      "source": [
        "### There are total 89197 numbers of data point with 9 features present in the dataset"
      ],
      "metadata": {
        "id": "H7CSGv8Zb3x_"
      }
    },
    {
      "cell_type": "code",
      "source": [
        "df.columns"
      ],
      "metadata": {
        "colab": {
          "base_uri": "https://localhost:8080/"
        },
        "id": "tk2R_tj5bpj4",
        "outputId": "526806ea-1d36-48f0-a917-9351da8777b9"
      },
      "execution_count": 199,
      "outputs": [
        {
          "output_type": "execute_result",
          "data": {
            "text/plain": [
              "Index(['user_id', 'category_id', 'video_id', 'age', 'gender', 'profession',\n",
              "       'followers', 'views', 'engagement_score'],\n",
              "      dtype='object')"
            ]
          },
          "metadata": {},
          "execution_count": 199
        }
      ]
    },
    {
      "cell_type": "code",
      "source": [
        "df.info()"
      ],
      "metadata": {
        "colab": {
          "base_uri": "https://localhost:8080/"
        },
        "id": "Zs8mHxiCbtve",
        "outputId": "7be63cd2-5b1d-49d7-9803-d103bf395727"
      },
      "execution_count": 200,
      "outputs": [
        {
          "output_type": "stream",
          "name": "stdout",
          "text": [
            "<class 'pandas.core.frame.DataFrame'>\n",
            "Int64Index: 89197 entries, 1 to 89197\n",
            "Data columns (total 9 columns):\n",
            " #   Column            Non-Null Count  Dtype  \n",
            "---  ------            --------------  -----  \n",
            " 0   user_id           89197 non-null  int64  \n",
            " 1   category_id       89197 non-null  int64  \n",
            " 2   video_id          89197 non-null  int64  \n",
            " 3   age               89197 non-null  int64  \n",
            " 4   gender            89197 non-null  object \n",
            " 5   profession        89197 non-null  object \n",
            " 6   followers         89197 non-null  int64  \n",
            " 7   views             89197 non-null  int64  \n",
            " 8   engagement_score  89197 non-null  float64\n",
            "dtypes: float64(1), int64(6), object(2)\n",
            "memory usage: 6.8+ MB\n"
          ]
        }
      ]
    },
    {
      "cell_type": "markdown",
      "source": [
        "### Dataset have no null values"
      ],
      "metadata": {
        "id": "8Fkg9w3EbyZh"
      }
    },
    {
      "cell_type": "markdown",
      "source": [
        "# EDA"
      ],
      "metadata": {
        "id": "EDouPvOLFnx1"
      }
    },
    {
      "cell_type": "markdown",
      "source": [
        "**engagement_score**"
      ],
      "metadata": {
        "id": "CR529D2qKMf_"
      }
    },
    {
      "cell_type": "code",
      "source": [
        "df.engagement_score.describe()"
      ],
      "metadata": {
        "colab": {
          "base_uri": "https://localhost:8080/"
        },
        "id": "zLuZ6086KOH_",
        "outputId": "3e718c45-f001-4a07-b760-d61e5dad941b"
      },
      "execution_count": 201,
      "outputs": [
        {
          "output_type": "execute_result",
          "data": {
            "text/plain": [
              "count    89197.000000\n",
              "mean         3.487797\n",
              "std          0.863498\n",
              "min          0.000000\n",
              "25%          2.900000\n",
              "50%          3.710000\n",
              "75%          4.150000\n",
              "max          5.000000\n",
              "Name: engagement_score, dtype: float64"
            ]
          },
          "metadata": {},
          "execution_count": 201
        }
      ]
    },
    {
      "cell_type": "markdown",
      "source": [
        "\n",
        "\n",
        "*   The mean value of engagement_score is 3.48 and the mean value of engagement_score 3.71.There is very less difference between mean and median ,so that we can conclude , there is no outlier in engagement_score\n",
        "\n",
        "\n"
      ],
      "metadata": {
        "id": "C7spLd3OF3wV"
      }
    },
    {
      "cell_type": "code",
      "source": [
        "sns.distplot(df.engagement_score)\n",
        "plt.show()"
      ],
      "metadata": {
        "colab": {
          "base_uri": "https://localhost:8080/",
          "height": 280
        },
        "id": "5jLpc0_xG8n5",
        "outputId": "25d1863c-1f20-479e-85ac-2c5d25c2c4c7"
      },
      "execution_count": 202,
      "outputs": [
        {
          "output_type": "display_data",
          "data": {
            "image/png": "[encoded data removed]",
            "text/plain": [
              "<Figure size 432x288 with 1 Axes>"
            ]
          },
          "metadata": {
            "needs_background": "light"
          }
        }
      ]
    },
    {
      "cell_type": "code",
      "source": [
        "from scipy.stats import probplot\n",
        "x,y = probplot(df.engagement_score,dist='norm',plot=plt)\n",
        "plt.show()"
      ],
      "metadata": {
        "colab": {
          "base_uri": "https://localhost:8080/",
          "height": 295
        },
        "id": "4vpuwmi_IN4n",
        "outputId": "c7e713db-feb0-469d-c9bb-bcf18ffb6626"
      },
      "execution_count": 203,
      "outputs": [
        {
          "output_type": "display_data",
          "data": {
            "image/png": "[encoded data removed]",
            "text/plain": [
              "<Figure size 432x288 with 1 Axes>"
            ]
          },
          "metadata": {
            "needs_background": "light"
          }
        }
      ]
    },
    {
      "cell_type": "markdown",
      "source": [
        "\n",
        "\n",
        "*   The distribution is not normal distribution for engagement_score\n",
        "\n",
        "\n"
      ],
      "metadata": {
        "id": "Xxxzn3imGegU"
      }
    },
    {
      "cell_type": "code",
      "source": [
        "sns.boxplot(y=df.engagement_score)\n",
        "plt.show()"
      ],
      "metadata": {
        "colab": {
          "base_uri": "https://localhost:8080/",
          "height": 252
        },
        "id": "PumBFxrkKX2O",
        "outputId": "dea49584-8cc4-45d3-bbf5-a91abb8aaf20"
      },
      "execution_count": 204,
      "outputs": [
        {
          "output_type": "display_data",
          "data": {
            "image/png": "[encoded data removed]",
            "text/plain": [
              "<Figure size 432x288 with 1 Axes>"
            ]
          },
          "metadata": {
            "needs_background": "light"
          }
        }
      ]
    },
    {
      "cell_type": "code",
      "source": [
        "(df[(df.engagement_score >= 1) & (df.engagement_score<=5)].shape[0]/df.shape[0])*100"
      ],
      "metadata": {
        "colab": {
          "base_uri": "https://localhost:8080/"
        },
        "id": "pVXzS9fyKoYZ",
        "outputId": "501954c8-a691-47a4-c35c-dc498d23b276"
      },
      "execution_count": 205,
      "outputs": [
        {
          "output_type": "execute_result",
          "data": {
            "text/plain": [
              "99.08068657017613"
            ]
          },
          "metadata": {},
          "execution_count": 205
        }
      ]
    },
    {
      "cell_type": "markdown",
      "source": [
        "\n",
        "\n",
        "*  Maximun Score are in the range of 1 to 5\n",
        "\n",
        "\n"
      ],
      "metadata": {
        "id": "W7gw1ndTGtJU"
      }
    },
    {
      "cell_type": "code",
      "source": [
        "df['log_engagement_score'] = df.engagement_score.apply(lambda x: np.log(x) if x!=0 else x)\n",
        "sns.distplot(df.log_engagement_score)\n",
        "plt.show()"
      ],
      "metadata": {
        "colab": {
          "base_uri": "https://localhost:8080/",
          "height": 280
        },
        "id": "0crGBkLvHSdY",
        "outputId": "0f39f08a-471d-4815-fafc-9cc4444c9d85"
      },
      "execution_count": 206,
      "outputs": [
        {
          "output_type": "display_data",
          "data": {
            "image/png": "[encoded data removed]",
            "text/plain": [
              "<Figure size 432x288 with 1 Axes>"
            ]
          },
          "metadata": {
            "needs_background": "light"
          }
        }
      ]
    },
    {
      "cell_type": "markdown",
      "source": [
        "\n",
        "\n",
        "*   engagement_score distribution is also not log_normal distribution\n",
        "\n"
      ],
      "metadata": {
        "id": "CzYXKrgpG2Ss"
      }
    },
    {
      "cell_type": "code",
      "source": [
        "df.drop(columns=['log_engagement_score'],inplace=True)"
      ],
      "metadata": {
        "id": "GVMCSnV3IDbQ"
      },
      "execution_count": 207,
      "outputs": []
    },
    {
      "cell_type": "markdown",
      "source": [
        "**views**"
      ],
      "metadata": {
        "id": "czhGTLIlLIio"
      }
    },
    {
      "cell_type": "code",
      "source": [
        "sns.distplot(df.views)\n",
        "plt.show()"
      ],
      "metadata": {
        "colab": {
          "base_uri": "https://localhost:8080/",
          "height": 279
        },
        "id": "Lu8dxAIKLLZl",
        "outputId": "74de91c9-fe69-45ba-82ac-a9b1b5c25431"
      },
      "execution_count": 208,
      "outputs": [
        {
          "output_type": "display_data",
          "data": {
            "image/png": "[encoded data removed]",
            "text/plain": [
              "<Figure size 432x288 with 1 Axes>"
            ]
          },
          "metadata": {
            "needs_background": "light"
          }
        }
      ]
    },
    {
      "cell_type": "code",
      "source": [
        "sns.boxplot(y = df.views)\n",
        "plt.show()"
      ],
      "metadata": {
        "colab": {
          "base_uri": "https://localhost:8080/",
          "height": 252
        },
        "id": "YnP6TOQl81y5",
        "outputId": "c8f404fc-3725-4534-e689-a60960361bc9"
      },
      "execution_count": 209,
      "outputs": [
        {
          "output_type": "display_data",
          "data": {
            "image/png": "[encoded data removed]",
            "text/plain": [
              "<Figure size 432x288 with 1 Axes>"
            ]
          },
          "metadata": {
            "needs_background": "light"
          }
        }
      ]
    },
    {
      "cell_type": "markdown",
      "source": [
        "**user_id**"
      ],
      "metadata": {
        "id": "V8sxcRJLJfut"
      }
    },
    {
      "cell_type": "code",
      "source": [
        "df.user_id.value_counts()"
      ],
      "metadata": {
        "colab": {
          "base_uri": "https://localhost:8080/"
        },
        "id": "XyVkBBSdJfOw",
        "outputId": "0a9ddaff-74dc-4718-fdd0-d88a6395e281"
      },
      "execution_count": 210,
      "outputs": [
        {
          "output_type": "execute_result",
          "data": {
            "text/plain": [
              "5198     10\n",
              "13218    10\n",
              "1448     10\n",
              "13410    10\n",
              "7157     10\n",
              "         ..\n",
              "21507     2\n",
              "4404      2\n",
              "21430     2\n",
              "17541     2\n",
              "11279     2\n",
              "Name: user_id, Length: 27734, dtype: int64"
            ]
          },
          "metadata": {},
          "execution_count": 210
        }
      ]
    },
    {
      "cell_type": "code",
      "source": [
        "df1 = pd.DataFrame(df.groupby(by=['user_id'])['engagement_score'].mean().sort_values(ascending=False))\n",
        "df1.reset_index(inplace=True)\n",
        "df1.rename(columns={'engagement_score':'mean_engagement_score'},inplace=True)\n",
        "\n",
        "df2 = pd.DataFrame(df.groupby(by=['user_id'])['video_id'].count().sort_values(ascending=False))\n",
        "df2.reset_index(inplace=True)\n",
        "df2.rename(columns={'video_id':'count_video_id'},inplace=True)\n",
        "\n",
        "df3= df1.merge(df2,on=['user_id'])\n",
        "df3.head()"
      ],
      "metadata": {
        "colab": {
          "base_uri": "https://localhost:8080/",
          "height": 206
        },
        "id": "PnuN2tlYLxI3",
        "outputId": "7ff660db-e5ed-4491-8b59-77da96c3d97f"
      },
      "execution_count": 211,
      "outputs": [
        {
          "output_type": "execute_result",
          "data": {
            "text/html": [
              "\n",
              "  <div id=\"df-b86fe8ea-6a3d-4b3f-8ba9-04fd9e4569b4\">\n",
              "    <div class=\"colab-df-container\">\n",
              "      <div>\n",
              "<style scoped>\n",
              "    .dataframe tbody tr th:only-of-type {\n",
              "        vertical-align: middle;\n",
              "    }\n",
              "\n",
              "    .dataframe tbody tr th {\n",
              "        vertical-align: top;\n",
              "    }\n",
              "\n",
              "    .dataframe thead th {\n",
              "        text-align: right;\n",
              "    }\n",
              "</style>\n",
              "<table border=\"1\" class=\"dataframe\">\n",
              "  <thead>\n",
              "    <tr style=\"text-align: right;\">\n",
              "      <th></th>\n",
              "      <th>user_id</th>\n",
              "      <th>mean_engagement_score</th>\n",
              "      <th>count_video_id</th>\n",
              "    </tr>\n",
              "  </thead>\n",
              "  <tbody>\n",
              "    <tr>\n",
              "      <th>0</th>\n",
              "      <td>26230</td>\n",
              "      <td>5.000000</td>\n",
              "      <td>2</td>\n",
              "    </tr>\n",
              "    <tr>\n",
              "      <th>1</th>\n",
              "      <td>16251</td>\n",
              "      <td>5.000000</td>\n",
              "      <td>2</td>\n",
              "    </tr>\n",
              "    <tr>\n",
              "      <th>2</th>\n",
              "      <td>193</td>\n",
              "      <td>5.000000</td>\n",
              "      <td>2</td>\n",
              "    </tr>\n",
              "    <tr>\n",
              "      <th>3</th>\n",
              "      <td>8353</td>\n",
              "      <td>5.000000</td>\n",
              "      <td>2</td>\n",
              "    </tr>\n",
              "    <tr>\n",
              "      <th>4</th>\n",
              "      <td>26737</td>\n",
              "      <td>4.993333</td>\n",
              "      <td>3</td>\n",
              "    </tr>\n",
              "  </tbody>\n",
              "</table>\n",
              "</div>\n",
              "      <button class=\"colab-df-convert\" onclick=\"convertToInteractive('df-b86fe8ea-6a3d-4b3f-8ba9-04fd9e4569b4')\"\n",
              "              title=\"Convert this dataframe to an interactive table.\"\n",
              "              style=\"display:none;\">\n",
              "        \n",
              "  <svg xmlns=\"http://www.w3.org/2000/svg\" height=\"24px\"viewBox=\"0 0 24 24\"\n",
              "       width=\"24px\">\n",
              "    <path d=\"M0 0h24v24H0V0z\" fill=\"none\"/>\n",
              "    <path d=\"M18.56 5.44l.94 2.06.94-2.06 2.06-.94-2.06-.94-.94-2.06-.94 2.06-2.06.94zm-11 1L8.5 8.5l.94-2.06 2.06-.94-2.06-.94L8.5 2.5l-.94 2.06-2.06.94zm10 10l.94 2.06.94-2.06 2.06-.94-2.06-.94-.94-2.06-.94 2.06-2.06.94z\"/><path d=\"M17.41 7.96l-1.37-1.37c-.4-.4-.92-.59-1.43-.59-.52 0-1.04.2-1.43.59L10.3 9.45l-7.72 7.72c-.78.78-.78 2.05 0 2.83L4 21.41c.39.39.9.59 1.41.59.51 0 1.02-.2 1.41-.59l7.78-7.78 2.81-2.81c.8-.78.8-2.07 0-2.86zM5.41 20L4 18.59l7.72-7.72 1.47 1.35L5.41 20z\"/>\n",
              "  </svg>\n",
              "      </button>\n",
              "      \n",
              "  <style>\n",
              "    .colab-df-container {\n",
              "      display:flex;\n",
              "      flex-wrap:wrap;\n",
              "      gap: 12px;\n",
              "    }\n",
              "\n",
              "    .colab-df-convert {\n",
              "      background-color: #E8F0FE;\n",
              "      border: none;\n",
              "      border-radius: 50%;\n",
              "      cursor: pointer;\n",
              "      display: none;\n",
              "      fill: #1967D2;\n",
              "      height: 32px;\n",
              "      padding: 0 0 0 0;\n",
              "      width: 32px;\n",
              "    }\n",
              "\n",
              "    .colab-df-convert:hover {\n",
              "      background-color: #E2EBFA;\n",
              "      box-shadow: 0px 1px 2px rgba(60, 64, 67, 0.3), 0px 1px 3px 1px rgba(60, 64, 67, 0.15);\n",
              "      fill: #174EA6;\n",
              "    }\n",
              "\n",
              "    [theme=dark] .colab-df-convert {\n",
              "      background-color: #3B4455;\n",
              "      fill: #D2E3FC;\n",
              "    }\n",
              "\n",
              "    [theme=dark] .colab-df-convert:hover {\n",
              "      background-color: #434B5C;\n",
              "      box-shadow: 0px 1px 3px 1px rgba(0, 0, 0, 0.15);\n",
              "      filter: drop-shadow(0px 1px 2px rgba(0, 0, 0, 0.3));\n",
              "      fill: #FFFFFF;\n",
              "    }\n",
              "  </style>\n",
              "\n",
              "      <script>\n",
              "        const buttonEl =\n",
              "          document.querySelector('#df-b86fe8ea-6a3d-4b3f-8ba9-04fd9e4569b4 button.colab-df-convert');\n",
              "        buttonEl.style.display =\n",
              "          google.colab.kernel.accessAllowed ? 'block' : 'none';\n",
              "\n",
              "        async function convertToInteractive(key) {\n",
              "          const element = document.querySelector('#df-b86fe8ea-6a3d-4b3f-8ba9-04fd9e4569b4');\n",
              "          const dataTable =\n",
              "            await google.colab.kernel.invokeFunction('convertToInteractive',\n",
              "                                                     [key], {});\n",
              "          if (!dataTable) return;\n",
              "\n",
              "          const docLinkHtml = 'Like what you see? Visit the ' +\n",
              "            '<a target=\"_blank\" href=https://colab.research.google.com/notebooks/data_table.ipynb>data table notebook</a>'\n",
              "            + ' to learn more about interactive tables.';\n",
              "          element.innerHTML = '';\n",
              "          dataTable['output_type'] = 'display_data';\n",
              "          await google.colab.output.renderOutput(dataTable, element);\n",
              "          const docLink = document.createElement('div');\n",
              "          docLink.innerHTML = docLinkHtml;\n",
              "          element.appendChild(docLink);\n",
              "        }\n",
              "      </script>\n",
              "    </div>\n",
              "  </div>\n",
              "  "
            ],
            "text/plain": [
              "   user_id  mean_engagement_score  count_video_id\n",
              "0    26230               5.000000               2\n",
              "1    16251               5.000000               2\n",
              "2      193               5.000000               2\n",
              "3     8353               5.000000               2\n",
              "4    26737               4.993333               3"
            ]
          },
          "metadata": {},
          "execution_count": 211
        }
      ]
    },
    {
      "cell_type": "code",
      "source": [
        "sns.scatterplot(df3.count_video_id,df3.mean_engagement_score)\n",
        "plt.show()"
      ],
      "metadata": {
        "colab": {
          "base_uri": "https://localhost:8080/",
          "height": 280
        },
        "id": "ywhS_crBU1un",
        "outputId": "7baad71b-ee87-4694-e4fa-a7a06395b84e"
      },
      "execution_count": 213,
      "outputs": [
        {
          "output_type": "display_data",
          "data": {
            "image/png": "[encoded data removed]",
            "text/plain": [
              "<Figure size 432x288 with 1 Axes>"
            ]
          },
          "metadata": {
            "needs_background": "light"
          }
        }
      ]
    },
    {
      "cell_type": "code",
      "source": [
        "df.groupby(by = ['user_id','video_id'])['engagement_score'].median()"
      ],
      "metadata": {
        "colab": {
          "base_uri": "https://localhost:8080/"
        },
        "id": "zndhaORiN4R0",
        "outputId": "271e7ed1-3544-4620-d78e-ad249ef2c39d"
      },
      "execution_count": 214,
      "outputs": [
        {
          "output_type": "execute_result",
          "data": {
            "text/plain": [
              "user_id  video_id\n",
              "1        1           2.88\n",
              "         2           3.66\n",
              "         3           2.88\n",
              "2        4           3.65\n",
              "         5           3.50\n",
              "                     ... \n",
              "27733    16          3.43\n",
              "         49          1.95\n",
              "         110         2.30\n",
              "27734    46          3.98\n",
              "         121         4.29\n",
              "Name: engagement_score, Length: 89197, dtype: float64"
            ]
          },
          "metadata": {},
          "execution_count": 214
        }
      ]
    },
    {
      "cell_type": "markdown",
      "source": [
        "**category_id**"
      ],
      "metadata": {
        "id": "k28lfQ5MWdFl"
      }
    },
    {
      "cell_type": "code",
      "source": [
        "len(df.category_id.unique())"
      ],
      "metadata": {
        "colab": {
          "base_uri": "https://localhost:8080/"
        },
        "id": "rpquNW9bW5Sl",
        "outputId": "8f7769e9-d64c-4889-8ffe-b5a25901a000"
      },
      "execution_count": 215,
      "outputs": [
        {
          "output_type": "execute_result",
          "data": {
            "text/plain": [
              "47"
            ]
          },
          "metadata": {},
          "execution_count": 215
        }
      ]
    },
    {
      "cell_type": "code",
      "source": [
        "df.category_id.value_counts().sort_values(ascending=False).head().plot(kind='bar')\n",
        "plt.show()"
      ],
      "metadata": {
        "colab": {
          "base_uri": "https://localhost:8080/",
          "height": 268
        },
        "id": "D3u68P-_Wd-e",
        "outputId": "768acf5b-e2e8-4d49-ecc6-cf05e9793504"
      },
      "execution_count": 216,
      "outputs": [
        {
          "output_type": "display_data",
          "data": {
            "image/png": "[encoded data removed]",
            "text/plain": [
              "<Figure size 432x288 with 1 Axes>"
            ]
          },
          "metadata": {
            "needs_background": "light"
          }
        }
      ]
    },
    {
      "cell_type": "code",
      "source": [
        "df_cat = pd.DataFrame(df.groupby('category_id')['engagement_score'].mean().sort_values(ascending=False))\n",
        "df_cat.reset_index(inplace=True)\n",
        "print(df_cat.head())\n",
        "\n",
        "sns.lineplot(df_cat.category_id,df_cat.engagement_score)\n",
        "plt.show()"
      ],
      "metadata": {
        "colab": {
          "base_uri": "https://localhost:8080/",
          "height": 384
        },
        "id": "CrXJQoZBWg0E",
        "outputId": "8eb802cb-3692-48b8-b006-6074afd434d0"
      },
      "execution_count": 217,
      "outputs": [
        {
          "output_type": "stream",
          "name": "stdout",
          "text": [
            "   category_id  engagement_score\n",
            "0           43          4.043435\n",
            "1           23          3.955189\n",
            "2            9          3.950270\n",
            "3           36          3.896859\n",
            "4           35          3.857667\n"
          ]
        },
        {
          "output_type": "display_data",
          "data": {
            "image/png": "[encoded data removed]",
            "text/plain": [
              "<Figure size 432x288 with 1 Axes>"
            ]
          },
          "metadata": {
            "needs_background": "light"
          }
        }
      ]
    },
    {
      "cell_type": "code",
      "source": [
        "df.groupby('category_id')['video_id'].count().sort_values(ascending=False).head()"
      ],
      "metadata": {
        "colab": {
          "base_uri": "https://localhost:8080/"
        },
        "id": "YzTCqnSnAn3k",
        "outputId": "c1ecc4a4-09af-47fd-89a6-0b7033755983"
      },
      "execution_count": 218,
      "outputs": [
        {
          "output_type": "execute_result",
          "data": {
            "text/plain": [
              "category_id\n",
              "5     8104\n",
              "8     6313\n",
              "25    4880\n",
              "19    4679\n",
              "21    4043\n",
              "Name: video_id, dtype: int64"
            ]
          },
          "metadata": {},
          "execution_count": 218
        }
      ]
    },
    {
      "cell_type": "markdown",
      "source": [
        "**views**"
      ],
      "metadata": {
        "id": "dwxihzakZ3a8"
      }
    },
    {
      "cell_type": "code",
      "source": [
        "df_views= pd.DataFrame(df.groupby(by='views')['engagement_score'].mean().sort_values(ascending=False))\n",
        "df_views.reset_index(inplace=True)\n",
        "df_views.sort_values(by = 'views',ascending=False)\n",
        "\n",
        "sns.scatterplot(df_views.views,df_views.engagement_score)\n",
        "plt.show()"
      ],
      "metadata": {
        "colab": {
          "base_uri": "https://localhost:8080/",
          "height": 280
        },
        "id": "iL313e5bZ4KC",
        "outputId": "03f9a852-defd-431e-b257-a6c0e58bd932"
      },
      "execution_count": 219,
      "outputs": [
        {
          "output_type": "display_data",
          "data": {
            "image/png": "[encoded data removed]",
            "text/plain": [
              "<Figure size 432x288 with 1 Axes>"
            ]
          },
          "metadata": {
            "needs_background": "light"
          }
        }
      ]
    },
    {
      "cell_type": "markdown",
      "source": [
        "**followers**"
      ],
      "metadata": {
        "id": "aszsXXDAdlHB"
      }
    },
    {
      "cell_type": "code",
      "source": [
        "df_followers= pd.DataFrame(df.groupby(by='followers')['engagement_score'].mean().sort_values(ascending=False))\n",
        "df_followers.reset_index(inplace=True)\n",
        "df_followers.sort_values(by = 'followers',ascending=False)\n",
        "\n",
        "sns.scatterplot(df_followers.followers,df_followers.engagement_score)\n",
        "plt.show()"
      ],
      "metadata": {
        "colab": {
          "base_uri": "https://localhost:8080/",
          "height": 279
        },
        "id": "Cst005DMdmCP",
        "outputId": "fa50129b-3186-404a-ca00-528afc0dc44b"
      },
      "execution_count": 220,
      "outputs": [
        {
          "output_type": "display_data",
          "data": {
            "image/png": "[encoded data removed]",
            "text/plain": [
              "<Figure size 432x288 with 1 Axes>"
            ]
          },
          "metadata": {
            "needs_background": "light"
          }
        }
      ]
    },
    {
      "cell_type": "code",
      "source": [
        "sns.boxplot(y = df.followers)\n",
        "plt.show()"
      ],
      "metadata": {
        "colab": {
          "base_uri": "https://localhost:8080/",
          "height": 254
        },
        "id": "HeG-YcN-9XQS",
        "outputId": "0aefd23f-a5c7-4725-b188-e1f286c66874"
      },
      "execution_count": 221,
      "outputs": [
        {
          "output_type": "display_data",
          "data": {
            "image/png": "[encoded data removed]",
            "text/plain": [
              "<Figure size 432x288 with 1 Axes>"
            ]
          },
          "metadata": {
            "needs_background": "light"
          }
        }
      ]
    },
    {
      "cell_type": "markdown",
      "source": [
        "**profession**"
      ],
      "metadata": {
        "id": "cZmcbGnVd_vO"
      }
    },
    {
      "cell_type": "code",
      "source": [
        "df.profession.value_counts().sort_values(ascending=False).plot(kind='bar')\n",
        "plt.show()"
      ],
      "metadata": {
        "colab": {
          "base_uri": "https://localhost:8080/",
          "height": 359
        },
        "id": "qMzP4Xd8d-3d",
        "outputId": "b8670b5d-0e2c-43c8-cdaf-142cf6137987"
      },
      "execution_count": 222,
      "outputs": [
        {
          "output_type": "display_data",
          "data": {
            "image/png": "[encoded data removed]",
            "text/plain": [
              "<Figure size 432x288 with 1 Axes>"
            ]
          },
          "metadata": {
            "needs_background": "light"
          }
        }
      ]
    },
    {
      "cell_type": "code",
      "source": [
        "print(df.groupby(by='profession')['engagement_score'].mean().sort_values(ascending=False))\n",
        "\n",
        "sns.boxplot(df.profession,df.engagement_score)\n",
        "plt.show()"
      ],
      "metadata": {
        "colab": {
          "base_uri": "https://localhost:8080/",
          "height": 366
        },
        "id": "Id4eCex9eS6v",
        "outputId": "509f2b2d-b2f5-4eef-9775-bfa2e46053c0"
      },
      "execution_count": 223,
      "outputs": [
        {
          "output_type": "stream",
          "name": "stdout",
          "text": [
            "profession\n",
            "Student                 3.737970\n",
            "Other                   3.329757\n",
            "Working Professional    3.096949\n",
            "Name: engagement_score, dtype: float64\n"
          ]
        },
        {
          "output_type": "display_data",
          "data": {
            "image/png": "[encoded data removed]",
            "text/plain": [
              "<Figure size 432x288 with 1 Axes>"
            ]
          },
          "metadata": {
            "needs_background": "light"
          }
        }
      ]
    },
    {
      "cell_type": "markdown",
      "source": [
        "**age**"
      ],
      "metadata": {
        "id": "N6-FRwK6fUAu"
      }
    },
    {
      "cell_type": "code",
      "source": [
        "df.age.describe()"
      ],
      "metadata": {
        "colab": {
          "base_uri": "https://localhost:8080/"
        },
        "id": "IaFtuyMXgiD4",
        "outputId": "bcdc548a-8b47-4ced-dd5f-44374f9cba49"
      },
      "execution_count": 224,
      "outputs": [
        {
          "output_type": "execute_result",
          "data": {
            "text/plain": [
              "count    89197.000000\n",
              "mean        24.848616\n",
              "std          8.955535\n",
              "min         10.000000\n",
              "25%         18.000000\n",
              "50%         23.000000\n",
              "75%         32.000000\n",
              "max         68.000000\n",
              "Name: age, dtype: float64"
            ]
          },
          "metadata": {},
          "execution_count": 224
        }
      ]
    },
    {
      "cell_type": "code",
      "source": [
        "plt.figure(figsize=(15,7))\n",
        "df.age.value_counts().sort_values(ascending=False).plot(kind='bar')\n",
        "plt.show()"
      ],
      "metadata": {
        "colab": {
          "base_uri": "https://localhost:8080/",
          "height": 431
        },
        "id": "RqQ7TFZbfTAy",
        "outputId": "3d8efefc-1159-4775-b49a-79b3a39183c1"
      },
      "execution_count": 225,
      "outputs": [
        {
          "output_type": "display_data",
          "data": {
            "image/png": "[encoded data removed]",
            "text/plain": [
              "<Figure size 1080x504 with 1 Axes>"
            ]
          },
          "metadata": {
            "needs_background": "light"
          }
        }
      ]
    },
    {
      "cell_type": "markdown",
      "source": [
        "**gender**"
      ],
      "metadata": {
        "id": "z6j1siLckocd"
      }
    },
    {
      "cell_type": "code",
      "source": [
        "df.gender.value_counts()"
      ],
      "metadata": {
        "colab": {
          "base_uri": "https://localhost:8080/"
        },
        "id": "GvGyI_GKkpOO",
        "outputId": "292b82cb-bca6-42ef-c05a-821463eb881f"
      },
      "execution_count": 228,
      "outputs": [
        {
          "output_type": "execute_result",
          "data": {
            "text/plain": [
              "Male      52397\n",
              "Female    36800\n",
              "Name: gender, dtype: int64"
            ]
          },
          "metadata": {},
          "execution_count": 228
        }
      ]
    },
    {
      "cell_type": "code",
      "source": [
        "sns.boxplot(df.gender,df.engagement_score)\n",
        "plt.show()"
      ],
      "metadata": {
        "colab": {
          "base_uri": "https://localhost:8080/",
          "height": 279
        },
        "id": "KSvNc1aNk0nD",
        "outputId": "469eafe4-30e4-4170-a543-776a0dfa6c16"
      },
      "execution_count": 229,
      "outputs": [
        {
          "output_type": "display_data",
          "data": {
            "image/png": "[encoded data removed]",
            "text/plain": [
              "<Figure size 432x288 with 1 Axes>"
            ]
          },
          "metadata": {
            "needs_background": "light"
          }
        }
      ]
    },
    {
      "cell_type": "markdown",
      "source": [
        "#  **Data preprocess : Train Data**"
      ],
      "metadata": {
        "id": "6xSBQSfpoaqQ"
      }
    },
    {
      "cell_type": "markdown",
      "source": [
        "### Add a new feature 'view_followers_ratio'"
      ],
      "metadata": {
        "id": "720DvkMlIS2i"
      }
    },
    {
      "cell_type": "code",
      "source": [
        "df['view_followers_ratio'] = df.views/df.followers"
      ],
      "metadata": {
        "id": "P3yGg6lpD_-j"
      },
      "execution_count": 233,
      "outputs": []
    },
    {
      "cell_type": "markdown",
      "source": [
        "### Devide the feature 'eng_score_bracket' in to 5 brackets (1,2,3,4,5)"
      ],
      "metadata": {
        "id": "Vj6kr5OlIEZ4"
      }
    },
    {
      "cell_type": "code",
      "source": [
        "def Transform(x):\n",
        "  if x>=0 and x<=1:\n",
        "    return '1'\n",
        "  elif x>1 and x<=2:\n",
        "    return '2'\n",
        "  elif x>2 and x<=3:\n",
        "    return '3'\n",
        "  elif x>3 and x<=4:\n",
        "    return '4'\n",
        "  else:\n",
        "    return '5'"
      ],
      "metadata": {
        "id": "_bOHsTEmBGEb"
      },
      "execution_count": 238,
      "outputs": []
    },
    {
      "cell_type": "code",
      "source": [
        "df['eng_score_bracket'] = df.engagement_score.apply(lambda x: Transform(x))"
      ],
      "metadata": {
        "id": "x1knOH-kA72U"
      },
      "execution_count": 239,
      "outputs": []
    },
    {
      "cell_type": "markdown",
      "source": [
        "### Creat a new dataframe named 'driver'"
      ],
      "metadata": {
        "id": "gsgmFgZSIMQk"
      }
    },
    {
      "cell_type": "code",
      "source": [
        "driver = df.copy()"
      ],
      "metadata": {
        "id": "OCJCi-OmjfmH"
      },
      "execution_count": 240,
      "outputs": []
    },
    {
      "cell_type": "code",
      "source": [
        "driver.head()"
      ],
      "metadata": {
        "colab": {
          "base_uri": "https://localhost:8080/",
          "height": 319
        },
        "id": "KGtOgng2RM6n",
        "outputId": "0335be1c-64cb-4527-f174-ff5d0e4b278f"
      },
      "execution_count": 241,
      "outputs": [
        {
          "output_type": "execute_result",
          "data": {
            "text/html": [
              "\n",
              "  <div id=\"df-e8b5e842-98e5-4a31-aaa0-df04705fd84a\">\n",
              "    <div class=\"colab-df-container\">\n",
              "      <div>\n",
              "<style scoped>\n",
              "    .dataframe tbody tr th:only-of-type {\n",
              "        vertical-align: middle;\n",
              "    }\n",
              "\n",
              "    .dataframe tbody tr th {\n",
              "        vertical-align: top;\n",
              "    }\n",
              "\n",
              "    .dataframe thead th {\n",
              "        text-align: right;\n",
              "    }\n",
              "</style>\n",
              "<table border=\"1\" class=\"dataframe\">\n",
              "  <thead>\n",
              "    <tr style=\"text-align: right;\">\n",
              "      <th></th>\n",
              "      <th>user_id</th>\n",
              "      <th>category_id</th>\n",
              "      <th>video_id</th>\n",
              "      <th>age</th>\n",
              "      <th>gender</th>\n",
              "      <th>profession</th>\n",
              "      <th>followers</th>\n",
              "      <th>views</th>\n",
              "      <th>engagement_score</th>\n",
              "      <th>view_followers_ratio</th>\n",
              "      <th>eng_score_bracket</th>\n",
              "    </tr>\n",
              "    <tr>\n",
              "      <th>row_id</th>\n",
              "      <th></th>\n",
              "      <th></th>\n",
              "      <th></th>\n",
              "      <th></th>\n",
              "      <th></th>\n",
              "      <th></th>\n",
              "      <th></th>\n",
              "      <th></th>\n",
              "      <th></th>\n",
              "      <th></th>\n",
              "      <th></th>\n",
              "    </tr>\n",
              "  </thead>\n",
              "  <tbody>\n",
              "    <tr>\n",
              "      <th>1</th>\n",
              "      <td>19990</td>\n",
              "      <td>37</td>\n",
              "      <td>128</td>\n",
              "      <td>24</td>\n",
              "      <td>Male</td>\n",
              "      <td>Student</td>\n",
              "      <td>180</td>\n",
              "      <td>1000</td>\n",
              "      <td>4.33</td>\n",
              "      <td>5.555556</td>\n",
              "      <td>5</td>\n",
              "    </tr>\n",
              "    <tr>\n",
              "      <th>2</th>\n",
              "      <td>5304</td>\n",
              "      <td>32</td>\n",
              "      <td>132</td>\n",
              "      <td>14</td>\n",
              "      <td>Female</td>\n",
              "      <td>Student</td>\n",
              "      <td>330</td>\n",
              "      <td>714</td>\n",
              "      <td>1.79</td>\n",
              "      <td>2.163636</td>\n",
              "      <td>2</td>\n",
              "    </tr>\n",
              "    <tr>\n",
              "      <th>3</th>\n",
              "      <td>1840</td>\n",
              "      <td>12</td>\n",
              "      <td>24</td>\n",
              "      <td>19</td>\n",
              "      <td>Male</td>\n",
              "      <td>Student</td>\n",
              "      <td>180</td>\n",
              "      <td>138</td>\n",
              "      <td>4.35</td>\n",
              "      <td>0.766667</td>\n",
              "      <td>5</td>\n",
              "    </tr>\n",
              "    <tr>\n",
              "      <th>4</th>\n",
              "      <td>12597</td>\n",
              "      <td>23</td>\n",
              "      <td>112</td>\n",
              "      <td>19</td>\n",
              "      <td>Male</td>\n",
              "      <td>Student</td>\n",
              "      <td>220</td>\n",
              "      <td>613</td>\n",
              "      <td>3.77</td>\n",
              "      <td>2.786364</td>\n",
              "      <td>4</td>\n",
              "    </tr>\n",
              "    <tr>\n",
              "      <th>5</th>\n",
              "      <td>13626</td>\n",
              "      <td>23</td>\n",
              "      <td>112</td>\n",
              "      <td>27</td>\n",
              "      <td>Male</td>\n",
              "      <td>Working Professional</td>\n",
              "      <td>220</td>\n",
              "      <td>613</td>\n",
              "      <td>3.13</td>\n",
              "      <td>2.786364</td>\n",
              "      <td>4</td>\n",
              "    </tr>\n",
              "  </tbody>\n",
              "</table>\n",
              "</div>\n",
              "      <button class=\"colab-df-convert\" onclick=\"convertToInteractive('df-e8b5e842-98e5-4a31-aaa0-df04705fd84a')\"\n",
              "              title=\"Convert this dataframe to an interactive table.\"\n",
              "              style=\"display:none;\">\n",
              "        \n",
              "  <svg xmlns=\"http://www.w3.org/2000/svg\" height=\"24px\"viewBox=\"0 0 24 24\"\n",
              "       width=\"24px\">\n",
              "    <path d=\"M0 0h24v24H0V0z\" fill=\"none\"/>\n",
              "    <path d=\"M18.56 5.44l.94 2.06.94-2.06 2.06-.94-2.06-.94-.94-2.06-.94 2.06-2.06.94zm-11 1L8.5 8.5l.94-2.06 2.06-.94-2.06-.94L8.5 2.5l-.94 2.06-2.06.94zm10 10l.94 2.06.94-2.06 2.06-.94-2.06-.94-.94-2.06-.94 2.06-2.06.94z\"/><path d=\"M17.41 7.96l-1.37-1.37c-.4-.4-.92-.59-1.43-.59-.52 0-1.04.2-1.43.59L10.3 9.45l-7.72 7.72c-.78.78-.78 2.05 0 2.83L4 21.41c.39.39.9.59 1.41.59.51 0 1.02-.2 1.41-.59l7.78-7.78 2.81-2.81c.8-.78.8-2.07 0-2.86zM5.41 20L4 18.59l7.72-7.72 1.47 1.35L5.41 20z\"/>\n",
              "  </svg>\n",
              "      </button>\n",
              "      \n",
              "  <style>\n",
              "    .colab-df-container {\n",
              "      display:flex;\n",
              "      flex-wrap:wrap;\n",
              "      gap: 12px;\n",
              "    }\n",
              "\n",
              "    .colab-df-convert {\n",
              "      background-color: #E8F0FE;\n",
              "      border: none;\n",
              "      border-radius: 50%;\n",
              "      cursor: pointer;\n",
              "      display: none;\n",
              "      fill: #1967D2;\n",
              "      height: 32px;\n",
              "      padding: 0 0 0 0;\n",
              "      width: 32px;\n",
              "    }\n",
              "\n",
              "    .colab-df-convert:hover {\n",
              "      background-color: #E2EBFA;\n",
              "      box-shadow: 0px 1px 2px rgba(60, 64, 67, 0.3), 0px 1px 3px 1px rgba(60, 64, 67, 0.15);\n",
              "      fill: #174EA6;\n",
              "    }\n",
              "\n",
              "    [theme=dark] .colab-df-convert {\n",
              "      background-color: #3B4455;\n",
              "      fill: #D2E3FC;\n",
              "    }\n",
              "\n",
              "    [theme=dark] .colab-df-convert:hover {\n",
              "      background-color: #434B5C;\n",
              "      box-shadow: 0px 1px 3px 1px rgba(0, 0, 0, 0.15);\n",
              "      filter: drop-shadow(0px 1px 2px rgba(0, 0, 0, 0.3));\n",
              "      fill: #FFFFFF;\n",
              "    }\n",
              "  </style>\n",
              "\n",
              "      <script>\n",
              "        const buttonEl =\n",
              "          document.querySelector('#df-e8b5e842-98e5-4a31-aaa0-df04705fd84a button.colab-df-convert');\n",
              "        buttonEl.style.display =\n",
              "          google.colab.kernel.accessAllowed ? 'block' : 'none';\n",
              "\n",
              "        async function convertToInteractive(key) {\n",
              "          const element = document.querySelector('#df-e8b5e842-98e5-4a31-aaa0-df04705fd84a');\n",
              "          const dataTable =\n",
              "            await google.colab.kernel.invokeFunction('convertToInteractive',\n",
              "                                                     [key], {});\n",
              "          if (!dataTable) return;\n",
              "\n",
              "          const docLinkHtml = 'Like what you see? Visit the ' +\n",
              "            '<a target=\"_blank\" href=https://colab.research.google.com/notebooks/data_table.ipynb>data table notebook</a>'\n",
              "            + ' to learn more about interactive tables.';\n",
              "          element.innerHTML = '';\n",
              "          dataTable['output_type'] = 'display_data';\n",
              "          await google.colab.output.renderOutput(dataTable, element);\n",
              "          const docLink = document.createElement('div');\n",
              "          docLink.innerHTML = docLinkHtml;\n",
              "          element.appendChild(docLink);\n",
              "        }\n",
              "      </script>\n",
              "    </div>\n",
              "  </div>\n",
              "  "
            ],
            "text/plain": [
              "        user_id  category_id  ...  view_followers_ratio  eng_score_bracket\n",
              "row_id                        ...                                         \n",
              "1         19990           37  ...              5.555556                  5\n",
              "2          5304           32  ...              2.163636                  2\n",
              "3          1840           12  ...              0.766667                  5\n",
              "4         12597           23  ...              2.786364                  4\n",
              "5         13626           23  ...              2.786364                  4\n",
              "\n",
              "[5 rows x 11 columns]"
            ]
          },
          "metadata": {},
          "execution_count": 241
        }
      ]
    },
    {
      "cell_type": "markdown",
      "source": [
        "### Delete the unnecessary columns"
      ],
      "metadata": {
        "id": "GkHVRH8sIaVy"
      }
    },
    {
      "cell_type": "code",
      "source": [
        "driver.drop(columns = ['age','gender','profession','followers','views'],inplace=True)\n",
        "driver.head()"
      ],
      "metadata": {
        "colab": {
          "base_uri": "https://localhost:8080/",
          "height": 238
        },
        "id": "k8t7f23BjjaG",
        "outputId": "a22c8988-38f2-4106-ee5e-168ec0e75dc4"
      },
      "execution_count": 242,
      "outputs": [
        {
          "output_type": "execute_result",
          "data": {
            "text/html": [
              "\n",
              "  <div id=\"df-0711c35e-3d69-4232-98f3-fc267dea4a2a\">\n",
              "    <div class=\"colab-df-container\">\n",
              "      <div>\n",
              "<style scoped>\n",
              "    .dataframe tbody tr th:only-of-type {\n",
              "        vertical-align: middle;\n",
              "    }\n",
              "\n",
              "    .dataframe tbody tr th {\n",
              "        vertical-align: top;\n",
              "    }\n",
              "\n",
              "    .dataframe thead th {\n",
              "        text-align: right;\n",
              "    }\n",
              "</style>\n",
              "<table border=\"1\" class=\"dataframe\">\n",
              "  <thead>\n",
              "    <tr style=\"text-align: right;\">\n",
              "      <th></th>\n",
              "      <th>user_id</th>\n",
              "      <th>category_id</th>\n",
              "      <th>video_id</th>\n",
              "      <th>engagement_score</th>\n",
              "      <th>view_followers_ratio</th>\n",
              "      <th>eng_score_bracket</th>\n",
              "    </tr>\n",
              "    <tr>\n",
              "      <th>row_id</th>\n",
              "      <th></th>\n",
              "      <th></th>\n",
              "      <th></th>\n",
              "      <th></th>\n",
              "      <th></th>\n",
              "      <th></th>\n",
              "    </tr>\n",
              "  </thead>\n",
              "  <tbody>\n",
              "    <tr>\n",
              "      <th>1</th>\n",
              "      <td>19990</td>\n",
              "      <td>37</td>\n",
              "      <td>128</td>\n",
              "      <td>4.33</td>\n",
              "      <td>5.555556</td>\n",
              "      <td>5</td>\n",
              "    </tr>\n",
              "    <tr>\n",
              "      <th>2</th>\n",
              "      <td>5304</td>\n",
              "      <td>32</td>\n",
              "      <td>132</td>\n",
              "      <td>1.79</td>\n",
              "      <td>2.163636</td>\n",
              "      <td>2</td>\n",
              "    </tr>\n",
              "    <tr>\n",
              "      <th>3</th>\n",
              "      <td>1840</td>\n",
              "      <td>12</td>\n",
              "      <td>24</td>\n",
              "      <td>4.35</td>\n",
              "      <td>0.766667</td>\n",
              "      <td>5</td>\n",
              "    </tr>\n",
              "    <tr>\n",
              "      <th>4</th>\n",
              "      <td>12597</td>\n",
              "      <td>23</td>\n",
              "      <td>112</td>\n",
              "      <td>3.77</td>\n",
              "      <td>2.786364</td>\n",
              "      <td>4</td>\n",
              "    </tr>\n",
              "    <tr>\n",
              "      <th>5</th>\n",
              "      <td>13626</td>\n",
              "      <td>23</td>\n",
              "      <td>112</td>\n",
              "      <td>3.13</td>\n",
              "      <td>2.786364</td>\n",
              "      <td>4</td>\n",
              "    </tr>\n",
              "  </tbody>\n",
              "</table>\n",
              "</div>\n",
              "      <button class=\"colab-df-convert\" onclick=\"convertToInteractive('df-0711c35e-3d69-4232-98f3-fc267dea4a2a')\"\n",
              "              title=\"Convert this dataframe to an interactive table.\"\n",
              "              style=\"display:none;\">\n",
              "        \n",
              "  <svg xmlns=\"http://www.w3.org/2000/svg\" height=\"24px\"viewBox=\"0 0 24 24\"\n",
              "       width=\"24px\">\n",
              "    <path d=\"M0 0h24v24H0V0z\" fill=\"none\"/>\n",
              "    <path d=\"M18.56 5.44l.94 2.06.94-2.06 2.06-.94-2.06-.94-.94-2.06-.94 2.06-2.06.94zm-11 1L8.5 8.5l.94-2.06 2.06-.94-2.06-.94L8.5 2.5l-.94 2.06-2.06.94zm10 10l.94 2.06.94-2.06 2.06-.94-2.06-.94-.94-2.06-.94 2.06-2.06.94z\"/><path d=\"M17.41 7.96l-1.37-1.37c-.4-.4-.92-.59-1.43-.59-.52 0-1.04.2-1.43.59L10.3 9.45l-7.72 7.72c-.78.78-.78 2.05 0 2.83L4 21.41c.39.39.9.59 1.41.59.51 0 1.02-.2 1.41-.59l7.78-7.78 2.81-2.81c.8-.78.8-2.07 0-2.86zM5.41 20L4 18.59l7.72-7.72 1.47 1.35L5.41 20z\"/>\n",
              "  </svg>\n",
              "      </button>\n",
              "      \n",
              "  <style>\n",
              "    .colab-df-container {\n",
              "      display:flex;\n",
              "      flex-wrap:wrap;\n",
              "      gap: 12px;\n",
              "    }\n",
              "\n",
              "    .colab-df-convert {\n",
              "      background-color: #E8F0FE;\n",
              "      border: none;\n",
              "      border-radius: 50%;\n",
              "      cursor: pointer;\n",
              "      display: none;\n",
              "      fill: #1967D2;\n",
              "      height: 32px;\n",
              "      padding: 0 0 0 0;\n",
              "      width: 32px;\n",
              "    }\n",
              "\n",
              "    .colab-df-convert:hover {\n",
              "      background-color: #E2EBFA;\n",
              "      box-shadow: 0px 1px 2px rgba(60, 64, 67, 0.3), 0px 1px 3px 1px rgba(60, 64, 67, 0.15);\n",
              "      fill: #174EA6;\n",
              "    }\n",
              "\n",
              "    [theme=dark] .colab-df-convert {\n",
              "      background-color: #3B4455;\n",
              "      fill: #D2E3FC;\n",
              "    }\n",
              "\n",
              "    [theme=dark] .colab-df-convert:hover {\n",
              "      background-color: #434B5C;\n",
              "      box-shadow: 0px 1px 3px 1px rgba(0, 0, 0, 0.15);\n",
              "      filter: drop-shadow(0px 1px 2px rgba(0, 0, 0, 0.3));\n",
              "      fill: #FFFFFF;\n",
              "    }\n",
              "  </style>\n",
              "\n",
              "      <script>\n",
              "        const buttonEl =\n",
              "          document.querySelector('#df-0711c35e-3d69-4232-98f3-fc267dea4a2a button.colab-df-convert');\n",
              "        buttonEl.style.display =\n",
              "          google.colab.kernel.accessAllowed ? 'block' : 'none';\n",
              "\n",
              "        async function convertToInteractive(key) {\n",
              "          const element = document.querySelector('#df-0711c35e-3d69-4232-98f3-fc267dea4a2a');\n",
              "          const dataTable =\n",
              "            await google.colab.kernel.invokeFunction('convertToInteractive',\n",
              "                                                     [key], {});\n",
              "          if (!dataTable) return;\n",
              "\n",
              "          const docLinkHtml = 'Like what you see? Visit the ' +\n",
              "            '<a target=\"_blank\" href=https://colab.research.google.com/notebooks/data_table.ipynb>data table notebook</a>'\n",
              "            + ' to learn more about interactive tables.';\n",
              "          element.innerHTML = '';\n",
              "          dataTable['output_type'] = 'display_data';\n",
              "          await google.colab.output.renderOutput(dataTable, element);\n",
              "          const docLink = document.createElement('div');\n",
              "          docLink.innerHTML = docLinkHtml;\n",
              "          element.appendChild(docLink);\n",
              "        }\n",
              "      </script>\n",
              "    </div>\n",
              "  </div>\n",
              "  "
            ],
            "text/plain": [
              "        user_id  category_id  ...  view_followers_ratio  eng_score_bracket\n",
              "row_id                        ...                                         \n",
              "1         19990           37  ...              5.555556                  5\n",
              "2          5304           32  ...              2.163636                  2\n",
              "3          1840           12  ...              0.766667                  5\n",
              "4         12597           23  ...              2.786364                  4\n",
              "5         13626           23  ...              2.786364                  4\n",
              "\n",
              "[5 rows x 6 columns]"
            ]
          },
          "metadata": {},
          "execution_count": 242
        }
      ]
    },
    {
      "cell_type": "markdown",
      "source": [
        "### Creat a age bracket and divide the age feture as per age bracket"
      ],
      "metadata": {
        "id": "Rpj8RfwUIhVS"
      }
    },
    {
      "cell_type": "code",
      "source": [
        "def agebracketcalc(x):\n",
        "  if x > 0 and x<= 18:\n",
        "    return '0-18'\n",
        "  elif x>18 and x <= 28:\n",
        "    return '18-28'\n",
        "  elif x > 28 and x<= 38:\n",
        "    return '28-38'\n",
        "  elif x> 38 and x<= 48:\n",
        "    return '38-48'\n",
        "  else:\n",
        "    return '48+'"
      ],
      "metadata": {
        "id": "DckSEymSLvKJ"
      },
      "execution_count": 243,
      "outputs": []
    },
    {
      "cell_type": "code",
      "source": [
        "df['age_bracket'] = df.age.apply(lambda x: agebracketcalc(x))"
      ],
      "metadata": {
        "id": "QfcpCKOPLvKJ"
      },
      "execution_count": 244,
      "outputs": []
    },
    {
      "cell_type": "code",
      "source": [
        "df['view_followers_ratio'] = df.views/df.followers"
      ],
      "metadata": {
        "id": "QADV3fTdL21M"
      },
      "execution_count": 245,
      "outputs": []
    },
    {
      "cell_type": "markdown",
      "source": [
        "# **Data preprocess : Test Data**"
      ],
      "metadata": {
        "id": "iT9b5I0s_YfT"
      }
    },
    {
      "cell_type": "code",
      "source": [
        "df_test = pd.read_csv('/content/drive/MyDrive/test_1zqHu22.csv',index_col='row_id')\n",
        "df_test.head()"
      ],
      "metadata": {
        "colab": {
          "base_uri": "https://localhost:8080/",
          "height": 238
        },
        "id": "DqWB-3H9kN7M",
        "outputId": "f6fe32ea-3abe-4cc9-96b4-d3bbe03e15d4"
      },
      "execution_count": 246,
      "outputs": [
        {
          "output_type": "execute_result",
          "data": {
            "text/html": [
              "\n",
              "  <div id=\"df-aa46d267-fef4-469e-8203-1937c7d174e1\">\n",
              "    <div class=\"colab-df-container\">\n",
              "      <div>\n",
              "<style scoped>\n",
              "    .dataframe tbody tr th:only-of-type {\n",
              "        vertical-align: middle;\n",
              "    }\n",
              "\n",
              "    .dataframe tbody tr th {\n",
              "        vertical-align: top;\n",
              "    }\n",
              "\n",
              "    .dataframe thead th {\n",
              "        text-align: right;\n",
              "    }\n",
              "</style>\n",
              "<table border=\"1\" class=\"dataframe\">\n",
              "  <thead>\n",
              "    <tr style=\"text-align: right;\">\n",
              "      <th></th>\n",
              "      <th>user_id</th>\n",
              "      <th>category_id</th>\n",
              "      <th>video_id</th>\n",
              "      <th>age</th>\n",
              "      <th>gender</th>\n",
              "      <th>profession</th>\n",
              "      <th>followers</th>\n",
              "      <th>views</th>\n",
              "    </tr>\n",
              "    <tr>\n",
              "      <th>row_id</th>\n",
              "      <th></th>\n",
              "      <th></th>\n",
              "      <th></th>\n",
              "      <th></th>\n",
              "      <th></th>\n",
              "      <th></th>\n",
              "      <th></th>\n",
              "      <th></th>\n",
              "    </tr>\n",
              "  </thead>\n",
              "  <tbody>\n",
              "    <tr>\n",
              "      <th>89198</th>\n",
              "      <td>7986</td>\n",
              "      <td>12</td>\n",
              "      <td>42</td>\n",
              "      <td>14</td>\n",
              "      <td>Male</td>\n",
              "      <td>Student</td>\n",
              "      <td>180</td>\n",
              "      <td>138</td>\n",
              "    </tr>\n",
              "    <tr>\n",
              "      <th>89199</th>\n",
              "      <td>11278</td>\n",
              "      <td>34</td>\n",
              "      <td>115</td>\n",
              "      <td>14</td>\n",
              "      <td>Male</td>\n",
              "      <td>Student</td>\n",
              "      <td>230</td>\n",
              "      <td>840</td>\n",
              "    </tr>\n",
              "    <tr>\n",
              "      <th>89200</th>\n",
              "      <td>17245</td>\n",
              "      <td>8</td>\n",
              "      <td>110</td>\n",
              "      <td>44</td>\n",
              "      <td>Female</td>\n",
              "      <td>Working Professional</td>\n",
              "      <td>280</td>\n",
              "      <td>628</td>\n",
              "    </tr>\n",
              "    <tr>\n",
              "      <th>89201</th>\n",
              "      <td>9851</td>\n",
              "      <td>16</td>\n",
              "      <td>137</td>\n",
              "      <td>18</td>\n",
              "      <td>Male</td>\n",
              "      <td>Student</td>\n",
              "      <td>270</td>\n",
              "      <td>462</td>\n",
              "    </tr>\n",
              "    <tr>\n",
              "      <th>89202</th>\n",
              "      <td>16008</td>\n",
              "      <td>34</td>\n",
              "      <td>96</td>\n",
              "      <td>47</td>\n",
              "      <td>Female</td>\n",
              "      <td>Other</td>\n",
              "      <td>230</td>\n",
              "      <td>840</td>\n",
              "    </tr>\n",
              "  </tbody>\n",
              "</table>\n",
              "</div>\n",
              "      <button class=\"colab-df-convert\" onclick=\"convertToInteractive('df-aa46d267-fef4-469e-8203-1937c7d174e1')\"\n",
              "              title=\"Convert this dataframe to an interactive table.\"\n",
              "              style=\"display:none;\">\n",
              "        \n",
              "  <svg xmlns=\"http://www.w3.org/2000/svg\" height=\"24px\"viewBox=\"0 0 24 24\"\n",
              "       width=\"24px\">\n",
              "    <path d=\"M0 0h24v24H0V0z\" fill=\"none\"/>\n",
              "    <path d=\"M18.56 5.44l.94 2.06.94-2.06 2.06-.94-2.06-.94-.94-2.06-.94 2.06-2.06.94zm-11 1L8.5 8.5l.94-2.06 2.06-.94-2.06-.94L8.5 2.5l-.94 2.06-2.06.94zm10 10l.94 2.06.94-2.06 2.06-.94-2.06-.94-.94-2.06-.94 2.06-2.06.94z\"/><path d=\"M17.41 7.96l-1.37-1.37c-.4-.4-.92-.59-1.43-.59-.52 0-1.04.2-1.43.59L10.3 9.45l-7.72 7.72c-.78.78-.78 2.05 0 2.83L4 21.41c.39.39.9.59 1.41.59.51 0 1.02-.2 1.41-.59l7.78-7.78 2.81-2.81c.8-.78.8-2.07 0-2.86zM5.41 20L4 18.59l7.72-7.72 1.47 1.35L5.41 20z\"/>\n",
              "  </svg>\n",
              "      </button>\n",
              "      \n",
              "  <style>\n",
              "    .colab-df-container {\n",
              "      display:flex;\n",
              "      flex-wrap:wrap;\n",
              "      gap: 12px;\n",
              "    }\n",
              "\n",
              "    .colab-df-convert {\n",
              "      background-color: #E8F0FE;\n",
              "      border: none;\n",
              "      border-radius: 50%;\n",
              "      cursor: pointer;\n",
              "      display: none;\n",
              "      fill: #1967D2;\n",
              "      height: 32px;\n",
              "      padding: 0 0 0 0;\n",
              "      width: 32px;\n",
              "    }\n",
              "\n",
              "    .colab-df-convert:hover {\n",
              "      background-color: #E2EBFA;\n",
              "      box-shadow: 0px 1px 2px rgba(60, 64, 67, 0.3), 0px 1px 3px 1px rgba(60, 64, 67, 0.15);\n",
              "      fill: #174EA6;\n",
              "    }\n",
              "\n",
              "    [theme=dark] .colab-df-convert {\n",
              "      background-color: #3B4455;\n",
              "      fill: #D2E3FC;\n",
              "    }\n",
              "\n",
              "    [theme=dark] .colab-df-convert:hover {\n",
              "      background-color: #434B5C;\n",
              "      box-shadow: 0px 1px 3px 1px rgba(0, 0, 0, 0.15);\n",
              "      filter: drop-shadow(0px 1px 2px rgba(0, 0, 0, 0.3));\n",
              "      fill: #FFFFFF;\n",
              "    }\n",
              "  </style>\n",
              "\n",
              "      <script>\n",
              "        const buttonEl =\n",
              "          document.querySelector('#df-aa46d267-fef4-469e-8203-1937c7d174e1 button.colab-df-convert');\n",
              "        buttonEl.style.display =\n",
              "          google.colab.kernel.accessAllowed ? 'block' : 'none';\n",
              "\n",
              "        async function convertToInteractive(key) {\n",
              "          const element = document.querySelector('#df-aa46d267-fef4-469e-8203-1937c7d174e1');\n",
              "          const dataTable =\n",
              "            await google.colab.kernel.invokeFunction('convertToInteractive',\n",
              "                                                     [key], {});\n",
              "          if (!dataTable) return;\n",
              "\n",
              "          const docLinkHtml = 'Like what you see? Visit the ' +\n",
              "            '<a target=\"_blank\" href=https://colab.research.google.com/notebooks/data_table.ipynb>data table notebook</a>'\n",
              "            + ' to learn more about interactive tables.';\n",
              "          element.innerHTML = '';\n",
              "          dataTable['output_type'] = 'display_data';\n",
              "          await google.colab.output.renderOutput(dataTable, element);\n",
              "          const docLink = document.createElement('div');\n",
              "          docLink.innerHTML = docLinkHtml;\n",
              "          element.appendChild(docLink);\n",
              "        }\n",
              "      </script>\n",
              "    </div>\n",
              "  </div>\n",
              "  "
            ],
            "text/plain": [
              "        user_id  category_id  video_id  ...            profession followers views\n",
              "row_id                                  ...                                      \n",
              "89198      7986           12        42  ...               Student       180   138\n",
              "89199     11278           34       115  ...               Student       230   840\n",
              "89200     17245            8       110  ...  Working Professional       280   628\n",
              "89201      9851           16       137  ...               Student       270   462\n",
              "89202     16008           34        96  ...                 Other       230   840\n",
              "\n",
              "[5 rows x 8 columns]"
            ]
          },
          "metadata": {},
          "execution_count": 246
        }
      ]
    },
    {
      "cell_type": "code",
      "source": [
        "df_test['age_bracket'] = df_test.age.apply(lambda x: agebracketcalc(x))"
      ],
      "metadata": {
        "id": "u-TiTBMZWEaO"
      },
      "execution_count": 247,
      "outputs": []
    },
    {
      "cell_type": "code",
      "source": [
        "df_test['view_followers_ratio'] = df_test.views/df_test.followers"
      ],
      "metadata": {
        "id": "ByWWlv5aV0va"
      },
      "execution_count": 248,
      "outputs": []
    },
    {
      "cell_type": "code",
      "source": [
        "df_test.drop(columns=['age'],inplace=True)"
      ],
      "metadata": {
        "id": "f-pMr1rUWMxz"
      },
      "execution_count": 249,
      "outputs": []
    },
    {
      "cell_type": "code",
      "source": [
        "df_test.head()"
      ],
      "metadata": {
        "colab": {
          "base_uri": "https://localhost:8080/",
          "height": 282
        },
        "id": "dRtnpvuTWRxz",
        "outputId": "94fa0b11-8d44-4b1e-d53b-0d538699df06"
      },
      "execution_count": 250,
      "outputs": [
        {
          "output_type": "execute_result",
          "data": {
            "text/html": [
              "\n",
              "  <div id=\"df-a0cef78d-256d-4999-bc92-dec80ea0bad7\">\n",
              "    <div class=\"colab-df-container\">\n",
              "      <div>\n",
              "<style scoped>\n",
              "    .dataframe tbody tr th:only-of-type {\n",
              "        vertical-align: middle;\n",
              "    }\n",
              "\n",
              "    .dataframe tbody tr th {\n",
              "        vertical-align: top;\n",
              "    }\n",
              "\n",
              "    .dataframe thead th {\n",
              "        text-align: right;\n",
              "    }\n",
              "</style>\n",
              "<table border=\"1\" class=\"dataframe\">\n",
              "  <thead>\n",
              "    <tr style=\"text-align: right;\">\n",
              "      <th></th>\n",
              "      <th>user_id</th>\n",
              "      <th>category_id</th>\n",
              "      <th>video_id</th>\n",
              "      <th>gender</th>\n",
              "      <th>profession</th>\n",
              "      <th>followers</th>\n",
              "      <th>views</th>\n",
              "      <th>age_bracket</th>\n",
              "      <th>view_followers_ratio</th>\n",
              "    </tr>\n",
              "    <tr>\n",
              "      <th>row_id</th>\n",
              "      <th></th>\n",
              "      <th></th>\n",
              "      <th></th>\n",
              "      <th></th>\n",
              "      <th></th>\n",
              "      <th></th>\n",
              "      <th></th>\n",
              "      <th></th>\n",
              "      <th></th>\n",
              "    </tr>\n",
              "  </thead>\n",
              "  <tbody>\n",
              "    <tr>\n",
              "      <th>89198</th>\n",
              "      <td>7986</td>\n",
              "      <td>12</td>\n",
              "      <td>42</td>\n",
              "      <td>Male</td>\n",
              "      <td>Student</td>\n",
              "      <td>180</td>\n",
              "      <td>138</td>\n",
              "      <td>0-18</td>\n",
              "      <td>0.766667</td>\n",
              "    </tr>\n",
              "    <tr>\n",
              "      <th>89199</th>\n",
              "      <td>11278</td>\n",
              "      <td>34</td>\n",
              "      <td>115</td>\n",
              "      <td>Male</td>\n",
              "      <td>Student</td>\n",
              "      <td>230</td>\n",
              "      <td>840</td>\n",
              "      <td>0-18</td>\n",
              "      <td>3.652174</td>\n",
              "    </tr>\n",
              "    <tr>\n",
              "      <th>89200</th>\n",
              "      <td>17245</td>\n",
              "      <td>8</td>\n",
              "      <td>110</td>\n",
              "      <td>Female</td>\n",
              "      <td>Working Professional</td>\n",
              "      <td>280</td>\n",
              "      <td>628</td>\n",
              "      <td>38-48</td>\n",
              "      <td>2.242857</td>\n",
              "    </tr>\n",
              "    <tr>\n",
              "      <th>89201</th>\n",
              "      <td>9851</td>\n",
              "      <td>16</td>\n",
              "      <td>137</td>\n",
              "      <td>Male</td>\n",
              "      <td>Student</td>\n",
              "      <td>270</td>\n",
              "      <td>462</td>\n",
              "      <td>0-18</td>\n",
              "      <td>1.711111</td>\n",
              "    </tr>\n",
              "    <tr>\n",
              "      <th>89202</th>\n",
              "      <td>16008</td>\n",
              "      <td>34</td>\n",
              "      <td>96</td>\n",
              "      <td>Female</td>\n",
              "      <td>Other</td>\n",
              "      <td>230</td>\n",
              "      <td>840</td>\n",
              "      <td>38-48</td>\n",
              "      <td>3.652174</td>\n",
              "    </tr>\n",
              "  </tbody>\n",
              "</table>\n",
              "</div>\n",
              "      <button class=\"colab-df-convert\" onclick=\"convertToInteractive('df-a0cef78d-256d-4999-bc92-dec80ea0bad7')\"\n",
              "              title=\"Convert this dataframe to an interactive table.\"\n",
              "              style=\"display:none;\">\n",
              "        \n",
              "  <svg xmlns=\"http://www.w3.org/2000/svg\" height=\"24px\"viewBox=\"0 0 24 24\"\n",
              "       width=\"24px\">\n",
              "    <path d=\"M0 0h24v24H0V0z\" fill=\"none\"/>\n",
              "    <path d=\"M18.56 5.44l.94 2.06.94-2.06 2.06-.94-2.06-.94-.94-2.06-.94 2.06-2.06.94zm-11 1L8.5 8.5l.94-2.06 2.06-.94-2.06-.94L8.5 2.5l-.94 2.06-2.06.94zm10 10l.94 2.06.94-2.06 2.06-.94-2.06-.94-.94-2.06-.94 2.06-2.06.94z\"/><path d=\"M17.41 7.96l-1.37-1.37c-.4-.4-.92-.59-1.43-.59-.52 0-1.04.2-1.43.59L10.3 9.45l-7.72 7.72c-.78.78-.78 2.05 0 2.83L4 21.41c.39.39.9.59 1.41.59.51 0 1.02-.2 1.41-.59l7.78-7.78 2.81-2.81c.8-.78.8-2.07 0-2.86zM5.41 20L4 18.59l7.72-7.72 1.47 1.35L5.41 20z\"/>\n",
              "  </svg>\n",
              "      </button>\n",
              "      \n",
              "  <style>\n",
              "    .colab-df-container {\n",
              "      display:flex;\n",
              "      flex-wrap:wrap;\n",
              "      gap: 12px;\n",
              "    }\n",
              "\n",
              "    .colab-df-convert {\n",
              "      background-color: #E8F0FE;\n",
              "      border: none;\n",
              "      border-radius: 50%;\n",
              "      cursor: pointer;\n",
              "      display: none;\n",
              "      fill: #1967D2;\n",
              "      height: 32px;\n",
              "      padding: 0 0 0 0;\n",
              "      width: 32px;\n",
              "    }\n",
              "\n",
              "    .colab-df-convert:hover {\n",
              "      background-color: #E2EBFA;\n",
              "      box-shadow: 0px 1px 2px rgba(60, 64, 67, 0.3), 0px 1px 3px 1px rgba(60, 64, 67, 0.15);\n",
              "      fill: #174EA6;\n",
              "    }\n",
              "\n",
              "    [theme=dark] .colab-df-convert {\n",
              "      background-color: #3B4455;\n",
              "      fill: #D2E3FC;\n",
              "    }\n",
              "\n",
              "    [theme=dark] .colab-df-convert:hover {\n",
              "      background-color: #434B5C;\n",
              "      box-shadow: 0px 1px 3px 1px rgba(0, 0, 0, 0.15);\n",
              "      filter: drop-shadow(0px 1px 2px rgba(0, 0, 0, 0.3));\n",
              "      fill: #FFFFFF;\n",
              "    }\n",
              "  </style>\n",
              "\n",
              "      <script>\n",
              "        const buttonEl =\n",
              "          document.querySelector('#df-a0cef78d-256d-4999-bc92-dec80ea0bad7 button.colab-df-convert');\n",
              "        buttonEl.style.display =\n",
              "          google.colab.kernel.accessAllowed ? 'block' : 'none';\n",
              "\n",
              "        async function convertToInteractive(key) {\n",
              "          const element = document.querySelector('#df-a0cef78d-256d-4999-bc92-dec80ea0bad7');\n",
              "          const dataTable =\n",
              "            await google.colab.kernel.invokeFunction('convertToInteractive',\n",
              "                                                     [key], {});\n",
              "          if (!dataTable) return;\n",
              "\n",
              "          const docLinkHtml = 'Like what you see? Visit the ' +\n",
              "            '<a target=\"_blank\" href=https://colab.research.google.com/notebooks/data_table.ipynb>data table notebook</a>'\n",
              "            + ' to learn more about interactive tables.';\n",
              "          element.innerHTML = '';\n",
              "          dataTable['output_type'] = 'display_data';\n",
              "          await google.colab.output.renderOutput(dataTable, element);\n",
              "          const docLink = document.createElement('div');\n",
              "          docLink.innerHTML = docLinkHtml;\n",
              "          element.appendChild(docLink);\n",
              "        }\n",
              "      </script>\n",
              "    </div>\n",
              "  </div>\n",
              "  "
            ],
            "text/plain": [
              "        user_id  category_id  video_id  ... views age_bracket  view_followers_ratio\n",
              "row_id                                  ...                                        \n",
              "89198      7986           12        42  ...   138        0-18              0.766667\n",
              "89199     11278           34       115  ...   840        0-18              3.652174\n",
              "89200     17245            8       110  ...   628       38-48              2.242857\n",
              "89201      9851           16       137  ...   462        0-18              1.711111\n",
              "89202     16008           34        96  ...   840       38-48              3.652174\n",
              "\n",
              "[5 rows x 9 columns]"
            ]
          },
          "metadata": {},
          "execution_count": 250
        }
      ]
    },
    {
      "cell_type": "markdown",
      "source": [
        "# **Spliting Data**"
      ],
      "metadata": {
        "id": "s11-BUtWL5jj"
      }
    },
    {
      "cell_type": "code",
      "source": [
        "y=df['engagement_score']\n",
        "X=df.drop('engagement_score',axis=1)"
      ],
      "metadata": {
        "id": "g9oWYdrzaejX"
      },
      "execution_count": 251,
      "outputs": []
    },
    {
      "cell_type": "code",
      "source": [
        "X_tr,X_te,y_tr,y_te=train_test_split(X, y, test_size=0.20,random_state=100)"
      ],
      "metadata": {
        "id": "_ZXBGIalaMWq"
      },
      "execution_count": 252,
      "outputs": []
    },
    {
      "cell_type": "code",
      "source": [
        "df1 = X_tr[X_tr.eng_score_bracket == '1']\n",
        "df2 = X_tr[X_tr.eng_score_bracket == '2']\n",
        "df3 = X_tr[X_tr.eng_score_bracket == '3']\n",
        "df4 = X_tr[X_tr.eng_score_bracket == '4']\n",
        "df5 = X_tr[X_tr.eng_score_bracket == '5']"
      ],
      "metadata": {
        "id": "DKli_uFwLLtJ"
      },
      "execution_count": 253,
      "outputs": []
    },
    {
      "cell_type": "code",
      "source": [
        "def preprocess(tr,val,test,sample_test,feature):\n",
        "  from sklearn.feature_extraction.text import CountVectorizer\n",
        "  vectorizer = CountVectorizer()\n",
        "  if tr[feature].dtype == 'int64':\n",
        "    #tr[feature] = tr[feature].astype('str')\n",
        "    #val[feature] = val[feature].astype('str')\n",
        "    tr[feature] = tr[feature].astype('str').apply(lambda x: '0'+x if len(x) == 1 else x)\n",
        "    val[feature] = val[feature].astype('str').apply(lambda x: '0'+x if len(x) == 1 else x)\n",
        "    test[feature] = test[feature].astype('str').apply(lambda x: '0'+x if len(x) == 1 else x)\n",
        "    sample_test[feature] = sample_test[feature].astype('str').apply(lambda x: '0'+x if len(x) == 1 else x)\n",
        "\n",
        "  pre_feature_tr = vectorizer.fit_transform(tr[feature].values)\n",
        "  pre_feature_val = vectorizer.transform(val[feature].values)\n",
        "  pre_feature_test = vectorizer.transform(test[feature].values)\n",
        "  pre_feature_sample_test = vectorizer.transform(sample_test[feature].values)\n",
        "\n",
        "  return pre_feature_tr,pre_feature_val,pre_feature_test,pre_feature_sample_test"
      ],
      "metadata": {
        "id": "P7gm10AsMF_S"
      },
      "execution_count": 254,
      "outputs": []
    },
    {
      "cell_type": "code",
      "source": [
        "def data_preprocess(data,X_te,df_test):\n",
        "\n",
        "  data.drop(columns=['eng_score_bracket','user_id','video_id','age'],inplace=True)\n",
        "  y=y_tr[data.index]\n",
        "  X=data\n",
        "  X_tr,X_val,Y_tr,Y_val=train_test_split(X, y, test_size=0.20,random_state=100)\n",
        "\n",
        "  #data Preproces\n",
        "  x_tr_cat_preprocess,x_val_cat_preprocess,x_te_cat_preprocess,x_sample_test_cat_preprocess = \\\n",
        "          preprocess(X_tr,X_val,X_te,df_test,'category_id')\n",
        "  x_tr_gender_preprocess,x_val_gender_preprocess,x_te_gender_preprocess,x_sample_test_gender_preprocess = \\\n",
        "          preprocess(X_tr,X_val,X_te,df_test,'gender')\n",
        "  x_tr_profession_preprocess,x_val_profession_preprocess,x_te_profession_preprocess,x_sample_test_profession_preprocess = \\\n",
        "              preprocess(X_tr,X_val,X_te,df_test,'profession')\n",
        "  x_tr_age_preprocess,x_val_age_preprocess,x_te_age_preprocess,x_sample_test_age_preprocess = \\\n",
        "              preprocess(X_tr,X_val,X_te,df_test,'age_bracket')\n",
        "  x_tr_views_preprocess,x_val_views_preprocess,x_te_views_preprocess,x_sample_test_views_preprocess = \\\n",
        "              preprocess(X_tr,X_val,X_te,df_test,'views')\n",
        "  x_tr_followers_preprocess,x_val_followers_preprocess,x_te_followers_preprocess,x_sample_test_followers_preprocess = \\\n",
        "              preprocess(X_tr,X_val,X_te,df_test,'followers')\n",
        "\n",
        "  x_tr_preprocess = hstack((x_tr_cat_preprocess,x_tr_gender_preprocess,x_tr_profession_preprocess,x_tr_age_preprocess,\\\n",
        "                            #X_tr['followers'].values.reshape(-1,1),X_tr['views'].values.reshape(-1,1),\\\n",
        "                            x_tr_views_preprocess,x_tr_followers_preprocess,\n",
        "                            X_tr['view_followers_ratio'].values.reshape(-1,1))).tocsr()\n",
        "  x_val_preprocess = hstack((x_val_cat_preprocess,x_val_gender_preprocess,x_val_profession_preprocess,x_val_age_preprocess,\\\n",
        "                            #X_val['followers'].values.reshape(-1,1),X_val['views'].values.reshape(-1,1),\\\n",
        "                            x_val_views_preprocess,x_val_followers_preprocess,\n",
        "                            X_val['view_followers_ratio'].values.reshape(-1,1))).tocsr()\n",
        "\n",
        "  x_test_preprocess = hstack((x_te_cat_preprocess,x_te_gender_preprocess,x_te_profession_preprocess,x_te_age_preprocess,\\\n",
        "                            #X_val['followers'].values.reshape(-1,1),X_val['views'].values.reshape(-1,1),\\\n",
        "                            x_te_views_preprocess,x_te_followers_preprocess,\n",
        "                            X_te['view_followers_ratio'].values.reshape(-1,1))).tocsr()\n",
        "\n",
        "  x_sample_test_preprocess = hstack((x_sample_test_cat_preprocess,x_sample_test_gender_preprocess,\\\n",
        "                                      x_sample_test_profession_preprocess,x_sample_test_age_preprocess,\\\n",
        "                            #X_val['followers'].values.reshape(-1,1),X_val['views'].values.reshape(-1,1),\\\n",
        "                            x_sample_test_views_preprocess,x_sample_test_followers_preprocess,\n",
        "                            df_test['view_followers_ratio'].values.reshape(-1,1))).tocsr()\n",
        "\n",
        "  #print(x_tr_preprocess.shape,x_val_preprocess.shape,x_test_preprocess.shape)\n",
        "  return x_tr_preprocess,x_val_preprocess,x_test_preprocess,x_sample_test_preprocess,Y_tr,Y_val\n"
      ],
      "metadata": {
        "id": "vMvghdA2o9iO"
      },
      "execution_count": 255,
      "outputs": []
    },
    {
      "cell_type": "code",
      "source": [
        "x_tr_preprocess_1,x_val_preprocess_1,x_test_preprocess_1,x_sample_test_preprocess_1,Y_tr_1,Y_val_1 = \\\n",
        "          data_preprocess(df1,X_te,df_test)\n",
        "x_tr_preprocess_2,x_val_preprocess_2,x_test_preprocess_2,x_sample_test_preprocess_2,Y_tr_2,Y_val_2 = \\\n",
        "          data_preprocess(df2,X_te,df_test)\n",
        "x_tr_preprocess_3,x_val_preprocess_3,x_test_preprocess_3,x_sample_test_preprocess_3,Y_tr_3,Y_val_3 = \\\n",
        "          data_preprocess(df3,X_te,df_test)\n",
        "x_tr_preprocess_4,x_val_preprocess_4,x_test_preprocess_4,x_sample_test_preprocess_4,Y_tr_4,Y_val_4 = \\\n",
        "          data_preprocess(df4,X_te,df_test)\n",
        "x_tr_preprocess_5,x_val_preprocess_5,x_test_preprocess_5,x_sample_test_preprocess_5,Y_tr_5,Y_val_5 = \\\n",
        "          data_preprocess(df5,X_te,df_test)"
      ],
      "metadata": {
        "id": "q3XffRDjp25o"
      },
      "execution_count": 256,
      "outputs": []
    },
    {
      "cell_type": "code",
      "source": [
        "x_test_preprocess_1.shape,x_test_preprocess_2.shape,x_test_preprocess_3.shape,\\\n",
        "x_test_preprocess_4.shape,x_test_preprocess_5.shape"
      ],
      "metadata": {
        "colab": {
          "base_uri": "https://localhost:8080/"
        },
        "id": "0kZD0mR1PX1c",
        "outputId": "fc502dcc-9eb7-4da6-b22e-3b75230fcc7a"
      },
      "execution_count": 257,
      "outputs": [
        {
          "output_type": "execute_result",
          "data": {
            "text/plain": [
              "((17840, 110), (17840, 116), (17840, 118), (17840, 118), (17840, 118))"
            ]
          },
          "metadata": {},
          "execution_count": 257
        }
      ]
    },
    {
      "cell_type": "code",
      "source": [
        "x_sample_test_preprocess_1.shape,x_sample_test_preprocess_2.shape,\\\n",
        "x_sample_test_preprocess_3.shape,x_sample_test_preprocess_4.shape,x_sample_test_preprocess_5.shape"
      ],
      "metadata": {
        "colab": {
          "base_uri": "https://localhost:8080/"
        },
        "id": "8bY6EaJsYvBI",
        "outputId": "24f73edd-7a3a-4401-9a87-933b18eac7c9"
      },
      "execution_count": 258,
      "outputs": [
        {
          "output_type": "execute_result",
          "data": {
            "text/plain": [
              "((11121, 110), (11121, 116), (11121, 118), (11121, 118), (11121, 118))"
            ]
          },
          "metadata": {},
          "execution_count": 258
        }
      ]
    },
    {
      "cell_type": "markdown",
      "source": [
        "# **Model**"
      ],
      "metadata": {
        "id": "yTON7_D6QL2D"
      }
    },
    {
      "cell_type": "code",
      "source": [
        "def modelprediction(x_tr_preprocess,y_tr,x_val_preprocess,y_val,i):\n",
        "  parameters = {'alpha':[0.001,0.1,1, 10,100],'l1_ratio':[0.001,0.01,.1, 1]}\n",
        "  model = ElasticNet(random_state=10)\n",
        "\n",
        "  elastic_reg= RandomizedSearchCV(model, parameters, scoring='r2',cv=5)\n",
        "\n",
        "  #fit the grid search\n",
        "  elastic_reg.fit(x_tr_preprocess,y_tr)\n",
        "  print(elastic_reg.best_params_)\n",
        "\n",
        "  # best estimator\n",
        "  clf = ElasticNet(alpha=elastic_reg.best_params_['alpha'],l1_ratio=elastic_reg.best_params_['l1_ratio'],random_state=10)\n",
        "  clf.fit(x_tr_preprocess, y_tr)\n",
        "  y_pred = clf.predict(x_val_preprocess)\n",
        "  #print(y_pred.round(2))\n",
        "  #print(y_val.values)\n",
        "  #filename = 'finalized_model_'+str(i)+'.pkl'\n",
        "  #pickle.dump(clf, open(filename, 'wb'))\n",
        "\n",
        "  return pow(mean_squared_error(y_val.values,y_pred.round(2)),.5)"
      ],
      "metadata": {
        "id": "feK53AQfLOfB"
      },
      "execution_count": null,
      "outputs": []
    },
    {
      "cell_type": "code",
      "source": [
        "def modelprediction(x_tr_preprocess,y_tr,x_val_preprocess,y_val,i):\n",
        "  parameters = {'n_neighbors':[i for i in range(1,11)]}\n",
        "  model = KNeighborsRegressor(weights = 'distance')\n",
        "\n",
        "  knn_reg= RandomizedSearchCV(model, parameters, scoring='r2',cv=5)\n",
        "\n",
        "  #fit the grid search\n",
        "  knn_reg.fit(x_tr_preprocess,y_tr)\n",
        "  print(knn_reg.best_params_)\n",
        "\n",
        "  # best estimator\n",
        "  clf = KNeighborsRegressor(n_neighbors=knn_reg.best_params_['n_neighbors'],weights = 'distance')\n",
        "  clf.fit(x_tr_preprocess, y_tr)\n",
        "  y_pred = clf.predict(x_val_preprocess)\n",
        "  #print(y_pred.round(2))\n",
        "  #print(y_val.values)\n",
        "  #filename = 'finalized_model_'+str(i)+'.pkl'\n",
        "  #pickle.dump(clf, open(filename, 'wb'))\n",
        "\n",
        "  return pow(mean_squared_error(y_val.values,y_pred.round(2)),.5)"
      ],
      "metadata": {
        "id": "dhIKCrBcQNzU"
      },
      "execution_count": null,
      "outputs": []
    },
    {
      "cell_type": "code",
      "source": [
        "def modelprediction(x_tr_preprocess,y_tr,x_val_preprocess,y_val,i):\n",
        "  parameters = {\"max_depth\": [i*10 for i in range(1,11)],\n",
        "                \"max_features\": [i for i in range(1,100)],\n",
        "                \"min_samples_leaf\": [i for i in range(1,100)]}\n",
        "  model = DecisionTreeRegressor()\n",
        "\n",
        "  decision_tree = RandomizedSearchCV(model, parameters, scoring='r2',cv=5)\n",
        "\n",
        "  #fit the grid search\n",
        "  decision_tree.fit(x_tr_preprocess,y_tr)\n",
        "  print(decision_tree.best_params_)\n",
        "\n",
        "  # best estimator\n",
        "  clf = DecisionTreeRegressor(max_depth=decision_tree.best_params_['max_depth'],\n",
        "                              max_features=decision_tree.best_params_['max_features'],\n",
        "                              min_samples_leaf=decision_tree.best_params_['min_samples_leaf'])\n",
        "  clf.fit(x_tr_preprocess, y_tr)\n",
        "  y_pred = clf.predict(x_val_preprocess)\n",
        "  y_train_pred = clf.predict(x_tr_preprocess)\n",
        "\n",
        "  #filename = 'finalized_model_'+str(i)+'.pkl'\n",
        "  #pickle.dump(clf, open(filename, 'wb'))\n",
        "\n",
        "  return pow(mean_squared_error(y_val.values,y_pred.round(2)),.5)"
      ],
      "metadata": {
        "id": "Y3gwDop8Qgj5"
      },
      "execution_count": null,
      "outputs": []
    },
    {
      "cell_type": "markdown",
      "source": [
        "# **Final Model**"
      ],
      "metadata": {
        "id": "Chu_QVfG6jE0"
      }
    },
    {
      "cell_type": "code",
      "source": [
        "def modelprediction(x_tr_preprocess,y_tr,x_val_preprocess,y_val,i):\n",
        "  param_test ={'num_leaves': sp_randint(6, 50), \n",
        "              'min_child_samples': sp_randint(100, 500), \n",
        "              'min_child_weight': [1e-5, 1e-3, 1e-2, 1e-1, 1, 1e1, 1e2, 1e3, 1e4],\n",
        "              'subsample': sp_uniform(loc=0.2, scale=0.8), \n",
        "              'colsample_bytree': sp_uniform(loc=0.4, scale=0.6),\n",
        "              'reg_alpha': [0, 1e-1, 1, 2, 5, 7, 10, 50, 100],\n",
        "              'reg_lambda': [0, 1e-1, 1, 5, 10, 20, 50, 100]}\n",
        "  model = lgb.LGBMRegressor(n_jobs =-1,random_state=314)\n",
        "\n",
        "  xgbre = RandomizedSearchCV(model, param_test,scoring='r2',cv=5, refit=True,random_state=314,verbose=True)\n",
        "\n",
        "  #fit the grid search\n",
        "  xgbre.fit(x_tr_preprocess,y_tr)\n",
        "  print(xgbre.best_params_)\n",
        "\n",
        "  # best estimator\n",
        "  clf = lgb.LGBMRegressor(num_leaves=xgbre.best_params_['num_leaves'],\n",
        "                              min_child_samples=xgbre.best_params_['min_child_samples'],\n",
        "                          min_child_weight=xgbre.best_params_['min_child_weight'],\n",
        "                          subsample=xgbre.best_params_['subsample'],\n",
        "                          colsample_bytree=xgbre.best_params_['colsample_bytree'],\n",
        "                          reg_alpha=xgbre.best_params_['reg_alpha'],\n",
        "                              reg_lambda=xgbre.best_params_['reg_lambda'])\n",
        "  clf.fit(x_tr_preprocess, y_tr)\n",
        "  y_pred = clf.predict(x_val_preprocess)\n",
        "  y_train_pred = clf.predict(x_tr_preprocess)\n",
        "\n",
        "  filename = 'finalized_model_'+str(i)+'.pkl'\n",
        "  pickle.dump(clf, open(filename, 'wb'))\n",
        "\n",
        "  return pow(mean_squared_error(y_val.values,y_pred.round(2)),.5)\n"
      ],
      "metadata": {
        "id": "Fue9xW7fXWjS"
      },
      "execution_count": 259,
      "outputs": []
    },
    {
      "cell_type": "code",
      "source": [
        "print('RMSE for df1: {}'.format(modelprediction(x_tr_preprocess_1,Y_tr_1,x_val_preprocess_1,Y_val_1,1)))\n",
        "print('RMSE for df2: {}'.format(modelprediction(x_tr_preprocess_2,Y_tr_2,x_val_preprocess_2,Y_val_2,2)))\n",
        "print('RMSE for df3: {}'.format(modelprediction(x_tr_preprocess_3,Y_tr_3,x_val_preprocess_3,Y_val_3,3)))\n",
        "print('RMSE for df4: {}'.format(modelprediction(x_tr_preprocess_4,Y_tr_4,x_val_preprocess_4,Y_val_4,4)))\n",
        "print('RMSE for df5: {}'.format(modelprediction(x_tr_preprocess_5,Y_tr_5,x_val_preprocess_5,Y_val_5,5)))"
      ],
      "metadata": {
        "colab": {
          "base_uri": "https://localhost:8080/"
        },
        "id": "8v0Sa3gXYrat",
        "outputId": "2f223cdc-3e68-4cc1-8905-994e2b171a90"
      },
      "execution_count": 260,
      "outputs": [
        {
          "output_type": "stream",
          "name": "stdout",
          "text": [
            "Fitting 5 folds for each of 10 candidates, totalling 50 fits\n",
            "{'colsample_bytree': 0.55607546409401, 'min_child_samples': 103, 'min_child_weight': 10.0, 'num_leaves': 22, 'reg_alpha': 2, 'reg_lambda': 1, 'subsample': 0.8939112927620336}\n",
            "RMSE for df1: 0.3031947685385962\n",
            "Fitting 5 folds for each of 10 candidates, totalling 50 fits\n",
            "{'colsample_bytree': 0.8754369812451743, 'min_child_samples': 372, 'min_child_weight': 10.0, 'num_leaves': 44, 'reg_alpha': 1, 'reg_lambda': 0, 'subsample': 0.568664015245299}\n",
            "RMSE for df2: 0.2772699514087281\n",
            "Fitting 5 folds for each of 10 candidates, totalling 50 fits\n",
            "{'colsample_bytree': 0.6879091728281055, 'min_child_samples': 163, 'min_child_weight': 10.0, 'num_leaves': 10, 'reg_alpha': 1, 'reg_lambda': 0.1, 'subsample': 0.6775057521029393}\n",
            "RMSE for df3: 0.25160914983079175\n",
            "Fitting 5 folds for each of 10 candidates, totalling 50 fits\n",
            "{'colsample_bytree': 0.55607546409401, 'min_child_samples': 103, 'min_child_weight': 10.0, 'num_leaves': 22, 'reg_alpha': 2, 'reg_lambda': 1, 'subsample': 0.8939112927620336}\n",
            "RMSE for df4: 0.2420582130457033\n",
            "Fitting 5 folds for each of 10 candidates, totalling 50 fits\n",
            "{'colsample_bytree': 0.55607546409401, 'min_child_samples': 103, 'min_child_weight': 10.0, 'num_leaves': 22, 'reg_alpha': 2, 'reg_lambda': 1, 'subsample': 0.8939112927620336}\n",
            "RMSE for df5: 0.21256106650637827\n"
          ]
        }
      ]
    },
    {
      "cell_type": "markdown",
      "source": [
        "# **Final Model Evaluation**"
      ],
      "metadata": {
        "id": "E09ZjOPJDdD9"
      }
    },
    {
      "cell_type": "code",
      "source": [
        "X_te.drop(columns=['eng_score_bracket','age'],inplace=True)\n",
        "X_te.head()"
      ],
      "metadata": {
        "colab": {
          "base_uri": "https://localhost:8080/",
          "height": 238
        },
        "id": "ws6JlQ5Tkjrg",
        "outputId": "aad86d41-8e24-4e20-a74f-3217bec70747"
      },
      "execution_count": 261,
      "outputs": [
        {
          "output_type": "execute_result",
          "data": {
            "text/html": [
              "\n",
              "  <div id=\"df-b18af1e8-d87a-45c2-bbfb-e289ce3418ef\">\n",
              "    <div class=\"colab-df-container\">\n",
              "      <div>\n",
              "<style scoped>\n",
              "    .dataframe tbody tr th:only-of-type {\n",
              "        vertical-align: middle;\n",
              "    }\n",
              "\n",
              "    .dataframe tbody tr th {\n",
              "        vertical-align: top;\n",
              "    }\n",
              "\n",
              "    .dataframe thead th {\n",
              "        text-align: right;\n",
              "    }\n",
              "</style>\n",
              "<table border=\"1\" class=\"dataframe\">\n",
              "  <thead>\n",
              "    <tr style=\"text-align: right;\">\n",
              "      <th></th>\n",
              "      <th>user_id</th>\n",
              "      <th>category_id</th>\n",
              "      <th>video_id</th>\n",
              "      <th>gender</th>\n",
              "      <th>profession</th>\n",
              "      <th>followers</th>\n",
              "      <th>views</th>\n",
              "      <th>view_followers_ratio</th>\n",
              "      <th>age_bracket</th>\n",
              "    </tr>\n",
              "    <tr>\n",
              "      <th>row_id</th>\n",
              "      <th></th>\n",
              "      <th></th>\n",
              "      <th></th>\n",
              "      <th></th>\n",
              "      <th></th>\n",
              "      <th></th>\n",
              "      <th></th>\n",
              "      <th></th>\n",
              "      <th></th>\n",
              "    </tr>\n",
              "  </thead>\n",
              "  <tbody>\n",
              "    <tr>\n",
              "      <th>64746</th>\n",
              "      <td>21380</td>\n",
              "      <td>12</td>\n",
              "      <td>24</td>\n",
              "      <td>Female</td>\n",
              "      <td>Student</td>\n",
              "      <td>180</td>\n",
              "      <td>138</td>\n",
              "      <td>0.766667</td>\n",
              "      <td>0-18</td>\n",
              "    </tr>\n",
              "    <tr>\n",
              "      <th>79008</th>\n",
              "      <td>1821</td>\n",
              "      <td>05</td>\n",
              "      <td>10</td>\n",
              "      <td>Male</td>\n",
              "      <td>Student</td>\n",
              "      <td>240</td>\n",
              "      <td>229</td>\n",
              "      <td>0.954167</td>\n",
              "      <td>0-18</td>\n",
              "    </tr>\n",
              "    <tr>\n",
              "      <th>2666</th>\n",
              "      <td>14103</td>\n",
              "      <td>19</td>\n",
              "      <td>164</td>\n",
              "      <td>Male</td>\n",
              "      <td>Student</td>\n",
              "      <td>230</td>\n",
              "      <td>369</td>\n",
              "      <td>1.604348</td>\n",
              "      <td>18-28</td>\n",
              "    </tr>\n",
              "    <tr>\n",
              "      <th>79354</th>\n",
              "      <td>7483</td>\n",
              "      <td>12</td>\n",
              "      <td>162</td>\n",
              "      <td>Female</td>\n",
              "      <td>Student</td>\n",
              "      <td>180</td>\n",
              "      <td>138</td>\n",
              "      <td>0.766667</td>\n",
              "      <td>18-28</td>\n",
              "    </tr>\n",
              "    <tr>\n",
              "      <th>13431</th>\n",
              "      <td>18811</td>\n",
              "      <td>15</td>\n",
              "      <td>33</td>\n",
              "      <td>Male</td>\n",
              "      <td>Student</td>\n",
              "      <td>340</td>\n",
              "      <td>662</td>\n",
              "      <td>1.947059</td>\n",
              "      <td>0-18</td>\n",
              "    </tr>\n",
              "  </tbody>\n",
              "</table>\n",
              "</div>\n",
              "      <button class=\"colab-df-convert\" onclick=\"convertToInteractive('df-b18af1e8-d87a-45c2-bbfb-e289ce3418ef')\"\n",
              "              title=\"Convert this dataframe to an interactive table.\"\n",
              "              style=\"display:none;\">\n",
              "        \n",
              "  <svg xmlns=\"http://www.w3.org/2000/svg\" height=\"24px\"viewBox=\"0 0 24 24\"\n",
              "       width=\"24px\">\n",
              "    <path d=\"M0 0h24v24H0V0z\" fill=\"none\"/>\n",
              "    <path d=\"M18.56 5.44l.94 2.06.94-2.06 2.06-.94-2.06-.94-.94-2.06-.94 2.06-2.06.94zm-11 1L8.5 8.5l.94-2.06 2.06-.94-2.06-.94L8.5 2.5l-.94 2.06-2.06.94zm10 10l.94 2.06.94-2.06 2.06-.94-2.06-.94-.94-2.06-.94 2.06-2.06.94z\"/><path d=\"M17.41 7.96l-1.37-1.37c-.4-.4-.92-.59-1.43-.59-.52 0-1.04.2-1.43.59L10.3 9.45l-7.72 7.72c-.78.78-.78 2.05 0 2.83L4 21.41c.39.39.9.59 1.41.59.51 0 1.02-.2 1.41-.59l7.78-7.78 2.81-2.81c.8-.78.8-2.07 0-2.86zM5.41 20L4 18.59l7.72-7.72 1.47 1.35L5.41 20z\"/>\n",
              "  </svg>\n",
              "      </button>\n",
              "      \n",
              "  <style>\n",
              "    .colab-df-container {\n",
              "      display:flex;\n",
              "      flex-wrap:wrap;\n",
              "      gap: 12px;\n",
              "    }\n",
              "\n",
              "    .colab-df-convert {\n",
              "      background-color: #E8F0FE;\n",
              "      border: none;\n",
              "      border-radius: 50%;\n",
              "      cursor: pointer;\n",
              "      display: none;\n",
              "      fill: #1967D2;\n",
              "      height: 32px;\n",
              "      padding: 0 0 0 0;\n",
              "      width: 32px;\n",
              "    }\n",
              "\n",
              "    .colab-df-convert:hover {\n",
              "      background-color: #E2EBFA;\n",
              "      box-shadow: 0px 1px 2px rgba(60, 64, 67, 0.3), 0px 1px 3px 1px rgba(60, 64, 67, 0.15);\n",
              "      fill: #174EA6;\n",
              "    }\n",
              "\n",
              "    [theme=dark] .colab-df-convert {\n",
              "      background-color: #3B4455;\n",
              "      fill: #D2E3FC;\n",
              "    }\n",
              "\n",
              "    [theme=dark] .colab-df-convert:hover {\n",
              "      background-color: #434B5C;\n",
              "      box-shadow: 0px 1px 3px 1px rgba(0, 0, 0, 0.15);\n",
              "      filter: drop-shadow(0px 1px 2px rgba(0, 0, 0, 0.3));\n",
              "      fill: #FFFFFF;\n",
              "    }\n",
              "  </style>\n",
              "\n",
              "      <script>\n",
              "        const buttonEl =\n",
              "          document.querySelector('#df-b18af1e8-d87a-45c2-bbfb-e289ce3418ef button.colab-df-convert');\n",
              "        buttonEl.style.display =\n",
              "          google.colab.kernel.accessAllowed ? 'block' : 'none';\n",
              "\n",
              "        async function convertToInteractive(key) {\n",
              "          const element = document.querySelector('#df-b18af1e8-d87a-45c2-bbfb-e289ce3418ef');\n",
              "          const dataTable =\n",
              "            await google.colab.kernel.invokeFunction('convertToInteractive',\n",
              "                                                     [key], {});\n",
              "          if (!dataTable) return;\n",
              "\n",
              "          const docLinkHtml = 'Like what you see? Visit the ' +\n",
              "            '<a target=\"_blank\" href=https://colab.research.google.com/notebooks/data_table.ipynb>data table notebook</a>'\n",
              "            + ' to learn more about interactive tables.';\n",
              "          element.innerHTML = '';\n",
              "          dataTable['output_type'] = 'display_data';\n",
              "          await google.colab.output.renderOutput(dataTable, element);\n",
              "          const docLink = document.createElement('div');\n",
              "          docLink.innerHTML = docLinkHtml;\n",
              "          element.appendChild(docLink);\n",
              "        }\n",
              "      </script>\n",
              "    </div>\n",
              "  </div>\n",
              "  "
            ],
            "text/plain": [
              "        user_id category_id  video_id  ... views view_followers_ratio age_bracket\n",
              "row_id                                 ...                                       \n",
              "64746     21380          12        24  ...   138             0.766667        0-18\n",
              "79008      1821          05        10  ...   229             0.954167        0-18\n",
              "2666      14103          19       164  ...   369             1.604348       18-28\n",
              "79354      7483          12       162  ...   138             0.766667       18-28\n",
              "13431     18811          15        33  ...   662             1.947059        0-18\n",
              "\n",
              "[5 rows x 9 columns]"
            ]
          },
          "metadata": {},
          "execution_count": 261
        }
      ]
    },
    {
      "cell_type": "code",
      "source": [
        "X_te.head()"
      ],
      "metadata": {
        "colab": {
          "base_uri": "https://localhost:8080/",
          "height": 238
        },
        "id": "4yi1lYRPFZ8q",
        "outputId": "9ce46ef8-6742-4f3a-9c3e-088d4ccad200"
      },
      "execution_count": 262,
      "outputs": [
        {
          "output_type": "execute_result",
          "data": {
            "text/html": [
              "\n",
              "  <div id=\"df-46b5645d-5912-4044-adbd-2e2eac9e3355\">\n",
              "    <div class=\"colab-df-container\">\n",
              "      <div>\n",
              "<style scoped>\n",
              "    .dataframe tbody tr th:only-of-type {\n",
              "        vertical-align: middle;\n",
              "    }\n",
              "\n",
              "    .dataframe tbody tr th {\n",
              "        vertical-align: top;\n",
              "    }\n",
              "\n",
              "    .dataframe thead th {\n",
              "        text-align: right;\n",
              "    }\n",
              "</style>\n",
              "<table border=\"1\" class=\"dataframe\">\n",
              "  <thead>\n",
              "    <tr style=\"text-align: right;\">\n",
              "      <th></th>\n",
              "      <th>user_id</th>\n",
              "      <th>category_id</th>\n",
              "      <th>video_id</th>\n",
              "      <th>gender</th>\n",
              "      <th>profession</th>\n",
              "      <th>followers</th>\n",
              "      <th>views</th>\n",
              "      <th>view_followers_ratio</th>\n",
              "      <th>age_bracket</th>\n",
              "    </tr>\n",
              "    <tr>\n",
              "      <th>row_id</th>\n",
              "      <th></th>\n",
              "      <th></th>\n",
              "      <th></th>\n",
              "      <th></th>\n",
              "      <th></th>\n",
              "      <th></th>\n",
              "      <th></th>\n",
              "      <th></th>\n",
              "      <th></th>\n",
              "    </tr>\n",
              "  </thead>\n",
              "  <tbody>\n",
              "    <tr>\n",
              "      <th>64746</th>\n",
              "      <td>21380</td>\n",
              "      <td>12</td>\n",
              "      <td>24</td>\n",
              "      <td>Female</td>\n",
              "      <td>Student</td>\n",
              "      <td>180</td>\n",
              "      <td>138</td>\n",
              "      <td>0.766667</td>\n",
              "      <td>0-18</td>\n",
              "    </tr>\n",
              "    <tr>\n",
              "      <th>79008</th>\n",
              "      <td>1821</td>\n",
              "      <td>05</td>\n",
              "      <td>10</td>\n",
              "      <td>Male</td>\n",
              "      <td>Student</td>\n",
              "      <td>240</td>\n",
              "      <td>229</td>\n",
              "      <td>0.954167</td>\n",
              "      <td>0-18</td>\n",
              "    </tr>\n",
              "    <tr>\n",
              "      <th>2666</th>\n",
              "      <td>14103</td>\n",
              "      <td>19</td>\n",
              "      <td>164</td>\n",
              "      <td>Male</td>\n",
              "      <td>Student</td>\n",
              "      <td>230</td>\n",
              "      <td>369</td>\n",
              "      <td>1.604348</td>\n",
              "      <td>18-28</td>\n",
              "    </tr>\n",
              "    <tr>\n",
              "      <th>79354</th>\n",
              "      <td>7483</td>\n",
              "      <td>12</td>\n",
              "      <td>162</td>\n",
              "      <td>Female</td>\n",
              "      <td>Student</td>\n",
              "      <td>180</td>\n",
              "      <td>138</td>\n",
              "      <td>0.766667</td>\n",
              "      <td>18-28</td>\n",
              "    </tr>\n",
              "    <tr>\n",
              "      <th>13431</th>\n",
              "      <td>18811</td>\n",
              "      <td>15</td>\n",
              "      <td>33</td>\n",
              "      <td>Male</td>\n",
              "      <td>Student</td>\n",
              "      <td>340</td>\n",
              "      <td>662</td>\n",
              "      <td>1.947059</td>\n",
              "      <td>0-18</td>\n",
              "    </tr>\n",
              "  </tbody>\n",
              "</table>\n",
              "</div>\n",
              "      <button class=\"colab-df-convert\" onclick=\"convertToInteractive('df-46b5645d-5912-4044-adbd-2e2eac9e3355')\"\n",
              "              title=\"Convert this dataframe to an interactive table.\"\n",
              "              style=\"display:none;\">\n",
              "        \n",
              "  <svg xmlns=\"http://www.w3.org/2000/svg\" height=\"24px\"viewBox=\"0 0 24 24\"\n",
              "       width=\"24px\">\n",
              "    <path d=\"M0 0h24v24H0V0z\" fill=\"none\"/>\n",
              "    <path d=\"M18.56 5.44l.94 2.06.94-2.06 2.06-.94-2.06-.94-.94-2.06-.94 2.06-2.06.94zm-11 1L8.5 8.5l.94-2.06 2.06-.94-2.06-.94L8.5 2.5l-.94 2.06-2.06.94zm10 10l.94 2.06.94-2.06 2.06-.94-2.06-.94-.94-2.06-.94 2.06-2.06.94z\"/><path d=\"M17.41 7.96l-1.37-1.37c-.4-.4-.92-.59-1.43-.59-.52 0-1.04.2-1.43.59L10.3 9.45l-7.72 7.72c-.78.78-.78 2.05 0 2.83L4 21.41c.39.39.9.59 1.41.59.51 0 1.02-.2 1.41-.59l7.78-7.78 2.81-2.81c.8-.78.8-2.07 0-2.86zM5.41 20L4 18.59l7.72-7.72 1.47 1.35L5.41 20z\"/>\n",
              "  </svg>\n",
              "      </button>\n",
              "      \n",
              "  <style>\n",
              "    .colab-df-container {\n",
              "      display:flex;\n",
              "      flex-wrap:wrap;\n",
              "      gap: 12px;\n",
              "    }\n",
              "\n",
              "    .colab-df-convert {\n",
              "      background-color: #E8F0FE;\n",
              "      border: none;\n",
              "      border-radius: 50%;\n",
              "      cursor: pointer;\n",
              "      display: none;\n",
              "      fill: #1967D2;\n",
              "      height: 32px;\n",
              "      padding: 0 0 0 0;\n",
              "      width: 32px;\n",
              "    }\n",
              "\n",
              "    .colab-df-convert:hover {\n",
              "      background-color: #E2EBFA;\n",
              "      box-shadow: 0px 1px 2px rgba(60, 64, 67, 0.3), 0px 1px 3px 1px rgba(60, 64, 67, 0.15);\n",
              "      fill: #174EA6;\n",
              "    }\n",
              "\n",
              "    [theme=dark] .colab-df-convert {\n",
              "      background-color: #3B4455;\n",
              "      fill: #D2E3FC;\n",
              "    }\n",
              "\n",
              "    [theme=dark] .colab-df-convert:hover {\n",
              "      background-color: #434B5C;\n",
              "      box-shadow: 0px 1px 3px 1px rgba(0, 0, 0, 0.15);\n",
              "      filter: drop-shadow(0px 1px 2px rgba(0, 0, 0, 0.3));\n",
              "      fill: #FFFFFF;\n",
              "    }\n",
              "  </style>\n",
              "\n",
              "      <script>\n",
              "        const buttonEl =\n",
              "          document.querySelector('#df-46b5645d-5912-4044-adbd-2e2eac9e3355 button.colab-df-convert');\n",
              "        buttonEl.style.display =\n",
              "          google.colab.kernel.accessAllowed ? 'block' : 'none';\n",
              "\n",
              "        async function convertToInteractive(key) {\n",
              "          const element = document.querySelector('#df-46b5645d-5912-4044-adbd-2e2eac9e3355');\n",
              "          const dataTable =\n",
              "            await google.colab.kernel.invokeFunction('convertToInteractive',\n",
              "                                                     [key], {});\n",
              "          if (!dataTable) return;\n",
              "\n",
              "          const docLinkHtml = 'Like what you see? Visit the ' +\n",
              "            '<a target=\"_blank\" href=https://colab.research.google.com/notebooks/data_table.ipynb>data table notebook</a>'\n",
              "            + ' to learn more about interactive tables.';\n",
              "          element.innerHTML = '';\n",
              "          dataTable['output_type'] = 'display_data';\n",
              "          await google.colab.output.renderOutput(dataTable, element);\n",
              "          const docLink = document.createElement('div');\n",
              "          docLink.innerHTML = docLinkHtml;\n",
              "          element.appendChild(docLink);\n",
              "        }\n",
              "      </script>\n",
              "    </div>\n",
              "  </div>\n",
              "  "
            ],
            "text/plain": [
              "        user_id category_id  video_id  ... views view_followers_ratio age_bracket\n",
              "row_id                                 ...                                       \n",
              "64746     21380          12        24  ...   138             0.766667        0-18\n",
              "79008      1821          05        10  ...   229             0.954167        0-18\n",
              "2666      14103          19       164  ...   369             1.604348       18-28\n",
              "79354      7483          12       162  ...   138             0.766667       18-28\n",
              "13431     18811          15        33  ...   662             1.947059        0-18\n",
              "\n",
              "[5 rows x 9 columns]"
            ]
          },
          "metadata": {},
          "execution_count": 262
        }
      ]
    },
    {
      "cell_type": "code",
      "source": [
        "from tqdm import tqdm\n",
        "def Predict(TestData,TestDataPre1,TestDataPre2,TestDataPre3,TestDataPre4,TestDataPre5):\n",
        "  y_pred = list()\n",
        "  for idx,testdata in tqdm(enumerate(TestData.iterrows())):\n",
        "      temp = list()\n",
        "      user_id = testdata[1].user_id\n",
        "      video_id = testdata[1].video_id\n",
        "      category_id = testdata[1].category_id\n",
        "      #print(user_id,video_id,category_id)\n",
        "      pred_model_route = {'1':1,'2':2,'3':3,'4':4,'5':5}\n",
        "      pre_data = {'1':TestDataPre1,'2':TestDataPre2,'3':TestDataPre3,\\\n",
        "      '4':TestDataPre4,'5':TestDataPre5}\n",
        "\n",
        "      if driver[(driver.user_id == int(user_id)) & (driver.video_id == int(video_id))]\\\n",
        "        .eng_score_bracket.values.shape[0] != 0:\n",
        "        drive = driver[((driver.user_id == int(user_id)) & (driver.video_id == int(video_id)))]\\\n",
        "        .eng_score_bracket.item()\n",
        "      elif driver[(driver.user_id == int(user_id)) & (driver.category_id == int(category_id))].\\\n",
        "          eng_score_bracket.values.shape[0] != 0:\n",
        "        data = driver[(driver.user_id == int(user_id)) & (driver.category_id == int(category_id))].\\\n",
        "                engagement_score.max()\n",
        "        drive = Transform(data)\n",
        "      else:\n",
        "        if driver[(driver.user_id == int(user_id))].eng_score_bracket.values.shape[0] != 0:\n",
        "          data = driver[driver.user_id == int(user_id)].engagement_score.max()\n",
        "          drive = Transform(data)\n",
        "        else:\n",
        "          data = driver[(driver.category_id == int(category_id))].engagement_score.max()\n",
        "          drive = Transform(data)\n",
        "      \n",
        "      if pred_model_route.get(drive) != None:\n",
        "        filename = 'finalized_model_'+drive+'.pkl'\n",
        "        model = pickle.load(open(filename, 'rb'))\n",
        "        preprocessfile = pre_data[drive]\n",
        "        temp.append([testdata[0],round(model.predict(preprocessfile[idx])[0],2)])\n",
        "\n",
        "      y_pred.append(temp[0])\n",
        "  return y_pred"
      ],
      "metadata": {
        "id": "i2feu2FCkN2C"
      },
      "execution_count": 263,
      "outputs": []
    },
    {
      "cell_type": "code",
      "source": [
        "print('Predicted Value')\n",
        "print('='*30)\n",
        "y_pred = Predict(X_te,x_test_preprocess_1,x_test_preprocess_2,x_test_preprocess_3,x_test_preprocess_4,\\\n",
        "                 x_test_preprocess_5)\n",
        "pred_value = list()\n",
        "for idx in range(len(y_pred)):\n",
        "  pred_value.append(y_pred[idx][1])\n",
        "print(pred_value)"
      ],
      "metadata": {
        "colab": {
          "base_uri": "https://localhost:8080/"
        },
        "id": "FSCM_Aqu7zc2",
        "outputId": "e2db4561-07d8-4740-8423-a1a428d27715"
      },
      "execution_count": 264,
      "outputs": [
        {
          "output_type": "stream",
          "name": "stdout",
          "text": [
            "Predicted Value\n",
            "==============================\n"
          ]
        },
        {
          "output_type": "stream",
          "name": "stderr",
          "text": [
            "17840it [04:47, 61.95it/s]"
          ]
        },
        {
          "output_type": "stream",
          "name": "stdout",
          "text": [
            "[3.51, 4.48, 4.36, 2.73, 4.36, 2.42, 2.64, 4.37, 2.64, 3.38, 3.78, 2.69, 4.34, 4.39, 2.35, 3.46, 2.67, 3.47, 2.62, 4.26, 3.5, 1.7, 1.48, 3.58, 4.37, 3.78, 3.47, 3.45, 4.24, 3.65, 4.38, 3.77, 3.58, 3.64, 2.72, 2.34, 4.49, 4.25, 0.5, 4.39, 3.46, 4.55, 1.52, 2.54, 1.51, 4.34, 3.64, 2.36, 4.38, 3.68, 4.37, 3.47, 3.64, 1.51, 2.34, 4.36, 4.45, 4.39, 2.36, 3.42, 1.72, 4.59, 2.65, 3.65, 2.66, 1.71, 3.45, 3.75, 1.52, 3.48, 1.48, 3.7, 3.75, 4.39, 3.66, 3.4, 3.61, 3.61, 4.48, 3.57, 3.64, 3.64, 4.39, 3.78, 4.34, 3.58, 3.65, 3.67, 3.65, 4.25, 3.78, 3.67, 4.45, 2.65, 3.45, 3.66, 4.34, 4.39, 4.34, 4.12, 4.38, 3.62, 2.65, 3.66, 3.64, 3.65, 3.73, 4.29, 4.34, 2.72, 2.4, 2.61, 3.62, 3.78, 3.44, 3.77, 1.64, 3.78, 3.46, 3.78, 3.54, 3.62, 4.32, 2.65, 2.58, 3.58, 3.7, 1.73, 2.53, 4.39, 1.54, 2.44, 2.57, 1.64, 2.34, 4.28, 3.65, 2.57, 4.48, 2.3, 3.77, 3.43, 2.62, 3.78, 3.65, 3.63, 4.39, 1.7, 2.7, 3.63, 3.73, 4.24, 3.78, 3.46, 2.65, 3.63, 3.4, 3.5, 3.78, 3.54, 4.43, 4.39, 3.62, 4.34, 2.66, 2.61, 4.55, 2.38, 3.67, 4.41, 4.47, 3.78, 3.62, 3.62, 3.64, 1.46, 2.67, 3.48, 4.24, 3.79, 4.34, 3.78, 3.52, 4.36, 3.65, 3.63, 4.43, 3.78, 2.42, 3.65, 2.47, 4.39, 3.6, 2.54, 3.78, 3.47, 4.14, 3.51, 3.55, 3.75, 1.78, 4.48, 3.71, 4.37, 3.46, 3.64, 2.58, 2.62, 3.67, 4.32, 4.34, 3.65, 2.34, 4.57, 3.43, 4.43, 2.67, 4.36, 3.64, 3.64, 4.41, 3.78, 3.77, 1.75, 4.43, 2.58, 3.55, 2.65, 3.6, 3.76, 3.54, 3.58, 3.65, 3.78, 4.34, 3.65, 2.44, 3.48, 4.48, 3.7, 4.49, 3.65, 3.49, 3.65, 4.24, 4.46, 2.58, 3.78, 4.55, 4.34, 3.67, 3.43, 2.62, 2.63, 2.37, 3.67, 4.32, 3.64, 4.38, 3.78, 4.39, 3.65, 4.29, 4.32, 3.44, 4.3, 2.42, 2.42, 3.77, 4.18, 4.26, 3.65, 4.41, 3.61, 3.52, 3.77, 4.18, 3.5, 3.6, 3.6, 4.55, 4.36, 4.52, 2.64, 3.7, 3.58, 2.68, 4.25, 4.41, 3.64, 3.61, 3.64, 3.72, 1.63, 2.34, 2.34, 4.39, 3.47, 2.39, 3.65, 4.43, 3.78, 3.63, 3.78, 3.61, 2.32, 2.45, 2.34, 3.47, 3.78, 1.74, 4.25, 1.72, 4.14, 3.5, 3.41, 4.43, 2.61, 1.55, 3.65, 3.78, 1.69, 4.48, 3.54, 3.66, 4.38, 4.34, 2.67, 0.37, 3.54, 3.47, 2.42, 4.59, 4.57, 3.54, 3.43, 4.5, 2.7, 4.34, 2.35, 4.25, 3.6, 4.35, 4.48, 4.29, 4.11, 4.35, 3.63, 3.44, 4.33, 2.34, 3.6, 2.67, 2.56, 4.39, 3.66, 4.34, 4.46, 4.36, 2.43, 2.45, 4.34, 4.39, 4.33, 4.27, 2.43, 4.37, 3.7, 2.36, 4.39, 3.67, 1.67, 4.18, 4.39, 3.78, 4.48, 2.54, 4.43, 3.64, 4.41, 4.38, 3.62, 4.36, 2.69, 4.35, 3.59, 4.34, 3.64, 3.75, 2.3, 4.36, 4.27, 3.65, 4.37, 3.78, 3.45, 2.34, 3.65, 3.78, 4.6, 2.36, 2.67, 3.62, 3.81, 3.48, 3.54, 4.29, 4.25, 3.76, 3.65, 3.49, 2.45, 3.41, 3.7, 4.41, 3.78, 3.52, 2.34, 4.35, 4.36, 4.24, 2.48, 1.77, 3.49, 3.75, 4.34, 2.35, 3.65, 1.7, 2.65, 3.75, 3.64, 4.32, 4.24, 4.23, 4.39, 4.37, 3.72, 1.69, 3.52, 3.52, 4.46, 3.49, 4.32, 3.75, 2.64, 1.69, 3.51, 3.65, 4.25, 1.78, 0.41, 2.62, 3.65, 0.37, 4.37, 3.77, 3.7, 4.31, 4.5, 3.55, 2.63, 3.65, 2.36, 3.65, 4.16, 4.13, 4.37, 4.23, 3.54, 3.66, 3.54, 0.41, 2.65, 4.27, 2.43, 3.61, 4.39, 3.43, 3.51, 3.81, 3.65, 3.63, 3.47, 3.71, 3.66, 3.77, 3.77, 3.45, 4.34, 3.48, 3.4, 3.44, 3.49, 4.49, 1.75, 2.46, 3.64, 4.49, 4.36, 4.5, 4.55, 4.35, 3.77, 2.64, 3.44, 3.7, 3.66, 3.6, 4.48, 2.42, 3.72, 3.6, 2.42, 3.64, 0.51, 3.58, 4.27, 2.66, 3.63, 2.6, 3.54, 3.64, 2.62, 3.47, 0.36, 3.42, 3.54, 4.17, 3.43, 2.64, 3.51, 2.54, 3.6, 3.78, 4.48, 3.64, 4.32, 3.51, 4.48, 2.54, 4.39, 1.7, 4.34, 2.44, 2.55, 3.41, 3.78, 4.49, 3.45, 2.64, 1.73, 2.64, 3.67, 2.65, 3.42, 3.45, 3.35, 4.48, 2.44, 2.34, 3.47, 4.12, 2.62, 2.4, 2.65, 3.43, 4.34, 4.34, 4.27, 2.36, 3.64, 2.34, 1.75, 3.64, 4.39, 4.28, 3.58, 2.63, 3.63, 3.46, 0.41, 4.23, 3.64, 4.37, 3.53, 3.78, 3.47, 4.48, 4.59, 3.74, 2.42, 2.38, 3.45, 3.69, 4.39, 4.39, 3.41, 3.78, 3.44, 3.47, 4.32, 3.6, 3.65, 1.46, 2.35, 3.52, 2.64, 0.42, 3.58, 3.64, 4.39, 2.65, 3.81, 4.44, 4.35, 3.78, 4.15, 4.34, 4.44, 4.35, 3.55, 3.63, 4.31, 2.42, 2.57, 4.48, 3.42, 3.33, 4.32, 4.48, 4.49, 4.36, 3.49, 4.25, 3.74, 4.36, 4.36, 3.44, 3.55, 3.64, 2.67, 1.69, 3.76, 4.48, 3.61, 3.51, 3.54, 3.45, 2.43, 4.25, 3.47, 4.36, 4.46, 4.39, 4.34, 4.56, 3.45, 3.47, 1.52, 3.63, 3.71, 3.48, 3.42, 2.36, 2.62, 4.34, 1.73, 3.5, 3.46, 3.53, 4.38, 4.45, 4.55, 4.35, 2.65, 3.72, 2.36, 3.78, 4.46, 4.45, 1.69, 3.7, 4.36, 4.48, 1.64, 3.68, 2.36, 3.66, 4.43, 3.61, 3.62, 4.39, 3.45, 3.78, 3.64, 4.48, 4.44, 4.44, 3.52, 4.57, 4.38, 3.78, 1.72, 3.45, 2.67, 1.69, 4.24, 3.47, 4.32, 1.67, 3.64, 1.51, 2.57, 4.3, 2.59, 3.65, 4.24, 4.35, 1.64, 2.42, 1.74, 4.36, 3.52, 3.5, 3.78, 3.46, 3.63, 2.42, 2.58, 2.46, 2.6, 1.74, 2.65, 2.69, 3.64, 4.5, 4.5, 2.42, 3.77, 1.67, 3.78, 3.78, 3.78, 3.43, 4.48, 1.74, 4.45, 3.65, 2.44, 3.68, 2.58, 4.35, 2.41, 3.5, 2.62, 1.64, 3.67, 3.78, 3.43, 4.43, 2.68, 3.71, 4.36, 2.42, 3.45, 3.52, 4.5, 4.42, 3.63, 4.43, 2.64, 2.42, 2.3, 4.34, 3.36, 4.28, 3.63, 2.64, 2.64, 4.26, 1.64, 3.72, 3.43, 4.44, 3.64, 1.79, 3.69, 3.58, 4.49, 3.79, 3.64, 4.41, 3.44, 4.38, 3.62, 3.55, 4.23, 4.24, 3.41, 4.39, 3.61, 3.64, 4.18, 3.52, 4.32, 3.63, 3.78, 4.31, 3.48, 1.5, 3.46, 4.39, 2.69, 3.78, 4.49, 3.45, 3.71, 3.7, 3.41, 3.44, 3.78, 1.64, 3.45, 2.47, 2.38, 3.76, 2.34, 4.55, 4.39, 3.6, 3.37, 2.38, 3.6, 3.78, 2.71, 2.59, 4.5, 0.38, 2.4, 2.42, 2.39, 2.57, 2.55, 4.25, 3.65, 4.48, 4.24, 4.48, 3.58, 4.34, 3.62, 3.51, 3.58, 4.39, 2.36, 4.33, 3.46, 3.78, 0.41, 1.74, 3.77, 4.48, 4.4, 3.78, 4.46, 3.78, 3.47, 3.5, 4.39, 1.73, 4.26, 3.61, 4.38, 3.41, 0.51, 1.71, 4.39, 3.81, 3.44, 4.32, 3.73, 3.73, 2.69, 2.66, 4.37, 3.58, 3.52, 2.43, 3.66, 3.42, 2.7, 4.48, 1.78, 4.23, 2.44, 2.58, 4.23, 3.78, 4.38, 3.6, 3.66, 2.59, 4.38, 4.39, 4.32, 4.39, 1.74, 3.45, 4.41, 2.37, 2.62, 3.56, 4.46, 3.71, 2.32, 2.47, 2.48, 3.45, 2.59, 3.78, 2.41, 3.64, 4.24, 4.39, 3.62, 3.78, 2.7, 4.27, 3.48, 2.62, 2.61, 3.48, 3.63, 4.26, 2.45, 4.5, 4.46, 3.59, 2.42, 4.55, 4.39, 3.58, 4.17, 4.39, 4.32, 3.78, 3.53, 2.38, 2.66, 4.55, 4.32, 2.67, 3.43, 3.74, 3.61, 4.45, 4.35, 4.48, 4.39, 4.23, 3.43, 2.64, 4.39, 3.51, 4.5, 3.77, 2.62, 4.26, 4.23, 3.78, 2.55, 4.34, 4.43, 4.37, 3.53, 4.34, 4.17, 4.35, 3.78, 3.45, 2.54, 3.51, 2.68, 3.6, 2.65, 4.34, 2.61, 3.51, 2.68, 3.44, 2.62, 4.5, 3.62, 0.41, 4.23, 4.35, 2.45, 3.64, 3.61, 4.59, 2.42, 4.36, 1.69, 2.32, 3.58, 3.65, 4.25, 4.24, 2.66, 3.6, 3.77, 4.37, 3.53, 2.42, 1.65, 3.65, 2.65, 4.34, 3.47, 3.47, 3.48, 2.7, 4.33, 4.34, 2.42, 3.57, 3.48, 2.42, 1.48, 3.78, 3.65, 3.45, 4.26, 4.56, 2.34, 4.44, 4.38, 2.7, 1.78, 4.24, 2.56, 2.72, 1.75, 2.63, 3.65, 3.49, 4.36, 4.32, 4.37, 2.64, 2.46, 3.6, 3.41, 2.55, 3.47, 2.54, 4.46, 1.73, 3.43, 2.42, 3.62, 3.44, 3.45, 4.26, 2.69, 2.42, 2.65, 4.23, 4.38, 4.45, 2.4, 4.48, 3.64, 4.32, 4.32, 4.13, 3.81, 2.38, 3.52, 3.65, 2.44, 3.43, 4.26, 3.66, 3.64, 2.41, 4.29, 3.6, 2.32, 4.48, 3.79, 3.65, 3.67, 4.37, 3.64, 4.38, 4.39, 4.34, 1.73, 4.53, 3.76, 4.3, 2.62, 3.49, 4.59, 2.55, 3.45, 3.48, 2.57, 4.27, 4.48, 3.44, 4.43, 3.64, 3.65, 3.7, 4.33, 3.5, 2.47, 2.65, 3.78, 2.44, 3.78, 3.66, 1.66, 2.36, 3.65, 3.64, 3.77, 2.41, 2.38, 3.65, 3.64, 3.45, 4.48, 2.54, 2.54, 2.67, 1.66, 3.52, 2.32, 3.6, 3.52, 2.61, 4.44, 3.43, 3.77, 3.41, 1.65, 2.37, 3.75, 4.26, 3.78, 3.52, 4.32, 4.35, 3.51, 2.42, 4.38, 2.7, 4.48, 3.41, 4.16, 4.12, 4.45, 3.51, 2.69, 4.39, 2.72, 2.56, 4.38, 2.61, 2.57, 3.46, 3.44, 3.77, 2.69, 3.65, 3.78, 4.43, 4.39, 1.52, 4.39, 2.66, 3.73, 3.78, 4.36, 3.62, 3.64, 3.6, 3.55, 2.42, 4.35, 4.56, 4.41, 2.67, 2.61, 2.4, 3.56, 4.36, 3.64, 0.41, 3.78, 2.64, 4.39, 4.48, 4.39, 1.69, 3.69, 1.72, 4.36, 4.13, 4.35, 3.64, 3.64, 4.12, 4.31, 3.73, 2.67, 4.58, 3.65, 4.49, 4.25, 4.45, 1.69, 4.14, 3.69, 2.72, 3.76, 2.44, 3.65, 4.39, 2.66, 3.59, 4.39, 3.58, 2.57, 2.68, 4.36, 3.64, 3.43, 2.66, 3.44, 4.39, 4.26, 4.52, 4.24, 4.32, 3.46, 3.61, 4.12, 2.45, 3.52, 3.78, 3.41, 3.45, 2.67, 4.38, 2.62, 3.47, 3.64, 2.62, 2.37, 0.42, 3.55, 3.6, 4.45, 3.47, 3.65, 4.5, 3.64, 3.65, 2.63, 3.61, 3.75, 3.63, 3.43, 3.73, 3.54, 3.37, 4.31, 4.48, 3.66, 4.41, 2.62, 4.39, 3.63, 3.64, 4.31, 2.44, 1.73, 2.48, 3.4, 4.43, 4.36, 3.65, 2.48, 3.61, 4.57, 4.49, 3.64, 3.63, 1.68, 3.51, 3.78, 3.78, 3.46, 3.46, 1.74, 2.64, 4.39, 3.52, 3.78, 1.73, 4.44, 3.65, 3.64, 2.7, 4.39, 4.14, 4.14, 3.77, 3.67, 3.75, 1.52, 4.43, 1.54, 4.41, 4.17, 3.47, 3.76, 3.6, 4.53, 4.34, 1.75, 4.38, 4.41, 2.56, 4.14, 3.47, 3.63, 2.34, 4.59, 1.74, 4.43, 2.38, 3.47, 2.58, 4.46, 4.39, 4.38, 4.48, 4.44, 1.73, 4.27, 4.5, 3.46, 3.64, 2.73, 3.78, 2.64, 2.66, 3.75, 3.65, 4.36, 4.46, 1.7, 3.77, 2.33, 3.5, 3.64, 2.61, 2.62, 2.63, 3.57, 4.31, 3.77, 4.39, 3.72, 4.48, 2.61, 4.15, 2.62, 3.59, 2.64, 4.36, 4.39, 4.44, 3.44, 4.36, 4.18, 4.48, 2.34, 4.37, 3.49, 3.41, 3.77, 2.37, 3.66, 4.26, 4.48, 4.36, 3.58, 3.54, 4.26, 3.77, 4.36, 2.72, 3.75, 3.47, 4.16, 2.31, 3.6, 3.78, 3.64, 4.43, 4.25, 2.35, 1.48, 4.46, 3.43, 3.81, 2.45, 3.78, 3.63, 4.39, 3.67, 3.65, 3.64, 3.49, 2.62, 3.78, 2.45, 4.56, 2.62, 1.46, 3.78, 3.78, 4.48, 3.54, 4.24, 3.65, 4.43, 2.68, 3.64, 3.78, 3.42, 4.36, 3.48, 3.45, 3.63, 3.78, 3.67, 2.42, 3.42, 4.34, 3.62, 4.48, 2.57, 3.6, 3.52, 3.58, 4.48, 2.58, 3.6, 2.36, 3.77, 3.55, 3.57, 2.7, 1.75, 3.63, 2.43, 2.65, 4.5, 3.65, 3.78, 0.41, 3.55, 3.52, 3.78, 3.64, 3.55, 4.36, 2.45, 2.42, 2.61, 2.4, 2.39, 3.78, 3.78, 2.3, 3.54, 3.61, 4.35, 3.58, 4.5, 4.23, 3.65, 4.38, 0.52, 3.72, 3.59, 3.58, 2.57, 0.5, 3.78, 4.56, 2.37, 4.55, 2.35, 4.39, 3.44, 3.77, 3.63, 3.71, 3.61, 3.48, 4.36, 2.45, 4.23, 2.42, 4.36, 4.48, 2.7, 3.53, 3.72, 4.5, 2.7, 4.34, 3.65, 3.54, 3.61, 4.34, 4.48, 2.64, 3.78, 4.26, 3.54, 4.32, 4.48, 4.38, 4.55, 3.78, 3.61, 3.62, 2.32, 3.66, 4.48, 3.63, 4.24, 3.62, 3.7, 3.65, 3.68, 3.77, 4.34, 2.63, 2.37, 4.45, 3.58, 4.25, 2.35, 4.31, 2.41, 3.78, 4.52, 3.78, 2.7, 4.36, 3.77, 3.42, 3.62, 4.34, 4.37, 4.34, 3.63, 3.62, 2.36, 3.36, 3.64, 4.36, 4.38, 3.77, 2.35, 3.78, 2.48, 2.32, 2.41, 4.48, 2.61, 3.64, 4.48, 2.7, 1.64, 3.5, 4.34, 3.52, 2.58, 3.47, 3.43, 3.65, 2.36, 4.36, 3.53, 3.45, 3.48, 3.74, 3.36, 3.61, 3.54, 2.31, 3.47, 4.55, 2.62, 2.34, 1.66, 4.37, 3.58, 3.75, 4.45, 3.64, 3.63, 3.59, 3.63, 3.43, 3.64, 3.41, 3.5, 2.54, 2.39, 4.36, 2.45, 4.39, 4.39, 3.75, 4.26, 3.63, 3.62, 4.39, 4.35, 2.7, 2.36, 3.54, 4.34, 2.72, 4.17, 3.64, 4.36, 3.62, 1.68, 3.45, 3.78, 4.24, 1.46, 4.35, 0.36, 1.65, 4.46, 2.66, 4.38, 3.41, 2.63, 2.69, 4.29, 2.34, 4.24, 3.64, 3.63, 3.63, 0.41, 3.48, 3.61, 3.58, 3.6, 2.7, 2.34, 2.67, 2.48, 3.58, 2.59, 1.65, 2.62, 1.65, 3.43, 3.61, 4.23, 3.78, 4.14, 4.39, 3.43, 4.39, 3.47, 2.36, 3.77, 4.14, 3.77, 3.78, 3.58, 4.48, 3.62, 4.41, 2.55, 2.46, 3.78, 4.35, 4.48, 2.29, 3.56, 3.6, 3.65, 3.64, 4.5, 4.34, 3.65, 2.45, 4.38, 3.65, 2.35, 2.38, 3.45, 2.68, 1.67, 3.64, 2.65, 2.62, 2.58, 2.44, 3.62, 1.75, 4.26, 3.72, 4.23, 2.42, 3.78, 4.38, 1.69, 3.78, 4.38, 3.78, 3.64, 0.41, 2.55, 3.61, 3.64, 4.46, 3.78, 2.48, 4.29, 3.44, 2.72, 1.46, 1.68, 3.63, 3.53, 4.24, 4.32, 3.52, 4.39, 3.65, 4.56, 2.64, 2.64, 4.41, 3.48, 4.37, 3.63, 2.48, 4.5, 2.73, 1.74, 3.64, 4.36, 3.44, 4.57, 2.35, 4.39, 3.63, 3.47, 4.48, 4.39, 4.17, 3.48, 3.56, 1.74, 4.38, 3.71, 4.55, 2.63, 3.77, 4.45, 3.64, 4.41, 3.64, 3.55, 3.77, 3.56, 3.78, 3.44, 4.38, 4.33, 3.63, 4.44, 2.65, 4.32, 2.34, 3.46, 1.7, 4.32, 4.29, 4.36, 4.49, 3.45, 4.36, 4.34, 4.34, 4.38, 3.67, 4.39, 2.37, 4.45, 4.39, 4.31, 2.33, 3.51, 3.77, 2.33, 2.55, 2.61, 2.63, 2.72, 4.32, 4.34, 3.55, 4.34, 3.63, 2.59, 3.64, 3.65, 3.71, 3.6, 3.37, 4.48, 3.54, 2.7, 4.36, 3.61, 2.44, 2.67, 3.7, 3.43, 3.45, 3.63, 2.32, 3.4, 4.37, 3.78, 3.47, 3.78, 3.58, 3.62, 3.48, 3.48, 4.34, 3.59, 4.48, 3.46, 2.36, 3.54, 2.67, 3.58, 1.46, 4.3, 3.78, 4.36, 4.36, 1.69, 3.49, 3.65, 2.54, 2.56, 3.66, 3.58, 3.75, 3.77, 3.5, 2.71, 2.68, 1.48, 2.31, 2.54, 2.35, 4.34, 4.36, 3.65, 2.42, 4.45, 4.55, 3.67, 4.56, 2.6, 4.31, 1.64, 4.34, 2.43, 4.14, 4.31, 2.63, 2.56, 4.48, 3.54, 3.44, 3.58, 3.54, 3.71, 3.66, 4.36, 2.42, 4.34, 3.61, 4.38, 3.47, 4.39, 2.34, 2.54, 2.41, 2.53, 3.41, 4.39, 2.7, 3.81, 3.56, 3.44, 2.36, 2.4, 3.57, 3.79, 2.42, 4.12, 2.49, 3.7, 4.39, 4.39, 3.77, 4.42, 3.6, 2.61, 3.45, 4.23, 3.49, 4.39, 2.64, 2.34, 3.78, 3.78, 4.36, 3.66, 4.39, 3.78, 3.63, 3.43, 3.62, 4.41, 4.15, 1.51, 4.38, 4.36, 3.54, 3.69, 2.47, 4.5, 4.39, 3.78, 4.34, 3.65, 4.25, 0.37, 3.55, 3.64, 3.52, 2.64, 3.67, 2.64, 3.64, 2.34, 3.77, 4.17, 3.45, 2.34, 3.64, 2.42, 3.78, 3.77, 3.68, 4.36, 4.14, 2.72, 4.36, 3.63, 4.55, 3.64, 3.46, 3.64, 4.57, 3.5, 3.65, 3.63, 4.46, 2.32, 3.58, 3.66, 2.35, 1.7, 4.14, 2.47, 4.34, 4.36, 2.41, 3.78, 3.78, 4.36, 3.64, 2.34, 2.33, 2.56, 3.78, 3.78, 3.47, 2.43, 3.68, 3.66, 3.63, 4.31, 4.37, 3.47, 1.75, 2.37, 4.48, 3.58, 4.36, 4.32, 2.64, 3.51, 3.66, 4.43, 3.7, 2.61, 4.36, 2.44, 2.62, 4.35, 1.72, 4.34, 4.56, 4.49, 4.34, 3.44, 2.37, 4.39, 3.46, 2.67, 3.64, 1.47, 3.65, 3.76, 4.14, 4.32, 3.67, 2.58, 4.36, 3.7, 3.45, 2.59, 4.39, 2.34, 0.41, 4.48, 4.59, 4.38, 4.55, 3.71, 4.39, 4.35, 4.25, 4.24, 4.35, 3.45, 4.13, 3.65, 3.47, 3.65, 2.53, 3.48, 3.65, 4.36, 4.26, 3.55, 3.63, 3.53, 2.73, 2.63, 4.39, 2.34, 2.34, 2.39, 3.77, 2.61, 4.37, 3.7, 3.78, 2.33, 3.66, 4.46, 4.34, 3.75, 4.49, 3.58, 2.65, 2.47, 4.27, 4.36, 1.67, 3.48, 3.7, 4.25, 2.65, 3.6, 3.61, 3.64, 1.7, 3.71, 1.74, 4.44, 3.45, 3.67, 4.44, 4.36, 2.59, 3.67, 4.35, 3.65, 4.35, 3.65, 4.57, 2.63, 3.77, 4.36, 4.36, 3.65, 4.37, 3.78, 4.25, 3.47, 2.72, 4.34, 2.62, 0.4, 4.4, 2.42, 4.24, 2.32, 3.62, 4.48, 2.68, 2.43, 3.55, 3.63, 3.42, 4.46, 3.66, 3.54, 3.38, 2.7, 3.77, 4.39, 4.31, 4.36, 3.54, 1.73, 4.36, 4.13, 4.24, 3.72, 4.17, 3.78, 1.73, 4.43, 3.58, 3.67, 4.32, 3.74, 2.65, 2.63, 3.63, 3.63, 3.64, 3.65, 4.28, 4.38, 4.46, 4.24, 3.49, 3.53, 4.38, 3.66, 3.65, 3.77, 3.77, 2.61, 3.61, 2.66, 4.39, 3.76, 2.32, 4.37, 2.69, 2.32, 3.6, 3.54, 1.63, 3.65, 3.41, 4.45, 3.65, 3.64, 3.62, 2.4, 3.58, 3.48, 1.64, 4.3, 3.47, 1.72, 3.58, 2.46, 2.69, 3.41, 2.54, 3.63, 2.62, 3.37, 4.24, 3.75, 3.78, 4.38, 4.43, 3.65, 3.47, 3.7, 3.72, 2.43, 3.44, 3.58, 4.34, 3.52, 4.23, 4.37, 1.48, 2.35, 4.33, 4.25, 4.39, 3.44, 4.34, 4.25, 3.66, 3.58, 4.45, 0.42, 4.48, 3.45, 1.52, 4.43, 3.48, 3.43, 3.64, 2.45, 1.69, 2.62, 3.75, 2.43, 3.52, 4.45, 4.35, 3.55, 4.41, 2.64, 3.66, 4.34, 3.66, 2.62, 4.46, 2.65, 3.44, 1.77, 4.43, 3.33, 3.45, 4.36, 3.73, 3.64, 4.32, 3.42, 3.44, 3.65, 3.56, 2.67, 3.65, 3.46, 4.39, 3.62, 3.48, 2.46, 4.43, 2.35, 2.48, 1.52, 3.77, 4.39, 3.81, 3.48, 4.41, 3.64, 3.64, 2.46, 3.64, 3.65, 3.77, 3.64, 4.39, 4.37, 4.35, 2.42, 3.51, 3.64, 3.51, 3.47, 3.47, 3.57, 3.59, 3.64, 3.6, 2.44, 2.65, 3.72, 4.34, 3.48, 4.45, 4.56, 2.64, 3.6, 3.66, 4.36, 3.55, 3.64, 3.61, 2.72, 4.36, 3.55, 2.44, 3.66, 4.38, 3.74, 4.49, 3.7, 3.45, 2.43, 3.45, 3.7, 3.77, 4.43, 1.48, 4.25, 3.78, 3.79, 4.48, 4.39, 4.48, 4.48, 4.34, 4.37, 3.7, 2.42, 3.46, 2.4, 2.44, 4.36, 3.77, 2.48, 2.34, 2.37, 3.46, 4.35, 3.78, 3.73, 3.62, 3.43, 3.64, 2.7, 2.63, 3.79, 4.46, 3.55, 3.47, 4.17, 4.48, 4.14, 4.43, 3.73, 4.27, 2.7, 2.66, 3.65, 4.36, 4.43, 4.24, 4.31, 3.62, 3.63, 3.65, 1.5, 3.43, 4.34, 2.69, 2.32, 3.63, 2.38, 3.59, 3.78, 3.62, 4.45, 3.78, 3.65, 2.4, 2.44, 2.37, 2.58, 2.61, 3.57, 3.63, 3.44, 3.77, 3.43, 4.3, 4.36, 3.78, 4.48, 3.62, 1.69, 4.23, 1.75, 2.45, 3.7, 3.41, 2.61, 3.56, 4.45, 3.69, 3.78, 2.64, 2.37, 4.24, 3.49, 2.42, 4.39, 1.71, 3.47, 4.13, 4.37, 3.42, 4.43, 2.37, 4.45, 4.37, 2.48, 2.48, 1.75, 4.35, 4.12, 4.36, 3.65, 3.78, 3.49, 3.52, 2.65, 3.67, 3.78, 4.37, 4.24, 4.37, 2.46, 2.59, 3.48, 3.65, 3.71, 3.42, 3.47, 1.64, 4.34, 4.48, 3.78, 4.45, 3.64, 3.55, 2.35, 3.63, 2.46, 2.59, 2.56, 4.29, 2.64, 3.75, 3.46, 2.35, 3.55, 1.52, 3.64, 4.48, 3.61, 2.59, 4.45, 4.34, 4.34, 3.46, 2.48, 2.41, 3.75, 2.64, 4.39, 4.43, 4.43, 4.38, 3.69, 3.78, 3.76, 3.78, 3.77, 3.43, 2.57, 4.3, 4.38, 2.61, 3.78, 2.61, 3.78, 4.49, 4.44, 3.42, 3.48, 1.74, 3.63, 3.64, 3.46, 3.49, 4.43, 3.46, 4.47, 2.63, 4.38, 1.74, 1.64, 3.42, 4.35, 3.64, 3.61, 3.55, 1.69, 3.71, 3.48, 4.38, 4.34, 3.63, 3.6, 3.41, 3.65, 4.24, 3.42, 3.63, 4.37, 4.45, 3.54, 2.42, 4.11, 4.34, 3.43, 3.78, 1.69, 1.76, 3.65, 2.44, 3.49, 3.66, 4.44, 3.7, 4.25, 4.59, 2.4, 3.78, 2.69, 2.57, 4.45, 3.65, 1.78, 2.38, 4.44, 2.45, 4.32, 4.12, 4.37, 3.4, 3.78, 2.43, 4.55, 3.71, 1.65, 3.53, 2.41, 3.45, 3.58, 3.66, 4.59, 4.27, 4.38, 2.57, 4.5, 2.64, 3.76, 4.39, 3.78, 3.41, 4.5, 3.78, 3.65, 3.78, 3.7, 4.12, 3.77, 3.65, 4.34, 3.71, 4.59, 4.43, 4.28, 3.36, 4.39, 2.4, 3.49, 2.54, 4.36, 3.41, 3.78, 3.42, 3.6, 3.78, 2.42, 4.38, 3.78, 3.43, 3.62, 3.64, 4.59, 3.63, 4.35, 3.7, 3.64, 3.43, 3.44, 3.44, 4.36, 2.67, 4.34, 4.55, 4.39, 4.39, 3.5, 4.12, 3.78, 2.37, 2.67, 2.34, 4.39, 4.37, 2.35, 3.63, 4.13, 3.63, 3.48, 3.5, 4.36, 3.64, 3.7, 4.34, 4.39, 3.63, 4.36, 2.45, 3.36, 4.45, 4.35, 2.35, 4.36, 4.48, 2.41, 2.69, 3.44, 2.71, 3.63, 3.54, 2.62, 4.37, 2.34, 3.52, 2.67, 4.38, 3.56, 4.35, 3.64, 2.34, 3.5, 3.78, 3.54, 3.47, 4.12, 4.48, 3.65, 3.77, 3.63, 2.27, 3.52, 3.78, 4.34, 4.26, 4.39, 4.39, 2.41, 4.39, 2.7, 4.39, 4.36, 3.6, 3.71, 4.38, 3.78, 3.58, 3.64, 4.34, 3.69, 2.45, 3.78, 3.44, 4.46, 2.45, 3.79, 3.77, 3.78, 3.65, 3.64, 3.81, 3.77, 2.66, 3.61, 2.69, 3.77, 3.5, 2.42, 4.17, 2.61, 3.45, 3.6, 3.47, 3.71, 4.31, 4.36, 3.44, 3.48, 3.78, 1.5, 3.61, 2.34, 4.39, 4.18, 4.34, 3.5, 4.27, 3.49, 4.39, 3.67, 4.39, 4.31, 4.49, 4.24, 4.23, 2.61, 4.2, 3.78, 3.77, 1.78, 3.78, 2.36, 2.34, 3.78, 3.49, 3.58, 3.58, 3.78, 2.66, 4.39, 3.47, 4.44, 3.5, 3.79, 4.55, 4.37, 3.47, 3.45, 3.64, 3.55, 2.47, 4.45, 3.64, 3.65, 2.64, 3.47, 4.45, 1.69, 2.32, 3.68, 3.78, 3.71, 2.67, 2.67, 4.39, 3.65, 4.33, 4.43, 2.61, 3.65, 3.6, 2.7, 3.61, 4.11, 4.3, 3.55, 4.43, 4.13, 4.26, 2.68, 3.35, 3.58, 3.76, 2.63, 2.77, 4.17, 3.65, 3.66, 4.14, 4.36, 4.11, 2.62, 4.49, 4.5, 3.52, 3.45, 3.64, 3.45, 3.77, 3.64, 2.64, 3.65, 3.77, 3.62, 4.34, 3.63, 3.5, 3.43, 3.77, 2.44, 4.23, 2.65, 3.69, 4.38, 3.64, 4.24, 3.65, 3.78, 3.43, 0.42, 4.56, 4.32, 1.69, 2.65, 4.24, 3.77, 3.7, 4.38, 3.78, 3.7, 3.58, 2.54, 3.77, 4.23, 3.78, 3.5, 3.75, 4.48, 3.62, 1.69, 3.62, 4.31, 3.41, 3.78, 3.78, 2.77, 4.46, 2.3, 3.45, 4.34, 4.49, 3.46, 3.54, 3.61, 2.36, 3.65, 4.45, 3.78, 2.62, 4.36, 4.13, 3.65, 1.46, 3.55, 2.37, 3.63, 3.75, 2.45, 3.63, 4.43, 3.71, 2.54, 4.25, 2.65, 3.41, 3.71, 4.51, 2.57, 3.78, 4.56, 3.78, 4.55, 2.45, 4.35, 4.14, 2.64, 1.75, 3.64, 3.53, 1.74, 2.49, 4.41, 3.75, 2.67, 3.7, 3.66, 3.64, 4.2, 3.71, 3.7, 3.59, 3.48, 2.67, 4.55, 3.6, 4.32, 1.52, 3.41, 3.53, 3.5, 4.29, 4.13, 3.62, 4.14, 4.55, 2.62, 3.65, 3.77, 3.7, 1.72, 2.42, 0.41, 4.37, 3.51, 3.76, 4.48, 3.79, 1.7, 3.49, 3.44, 4.32, 3.45, 4.16, 3.63, 4.25, 4.53, 2.61, 4.4, 2.56, 4.36, 4.17, 3.65, 2.7, 4.49, 4.37, 4.38, 3.64, 2.44, 2.35, 3.77, 3.63, 1.67, 4.39, 3.53, 4.13, 4.39, 3.46, 3.78, 4.27, 2.4, 2.42, 3.6, 2.7, 2.29, 3.45, 3.46, 3.73, 2.63, 3.45, 3.72, 2.63, 2.72, 4.41, 4.12, 3.72, 3.75, 3.76, 2.42, 3.7, 3.81, 4.38, 4.34, 3.72, 4.32, 4.43, 3.54, 1.75, 3.55, 2.64, 4.48, 1.68, 3.56, 4.49, 4.24, 3.76, 3.37, 3.55, 3.45, 3.43, 3.65, 3.63, 2.5, 4.39, 3.63, 2.54, 3.43, 2.7, 3.45, 2.62, 3.75, 3.68, 3.61, 3.78, 3.65, 4.46, 3.6, 3.58, 3.62, 2.34, 2.44, 4.32, 3.77, 3.61, 2.65, 3.62, 3.49, 3.59, 3.29, 4.34, 2.42, 3.6, 2.59, 2.66, 3.64, 3.75, 3.75, 4.48, 3.64, 4.39, 3.47, 4.46, 3.52, 3.74, 2.65, 3.64, 2.41, 4.49, 2.42, 3.41, 3.65, 1.78, 4.48, 3.65, 4.5, 4.48, 4.41, 3.48, 3.47, 3.64, 4.13, 3.78, 2.44, 2.43, 1.74, 3.64, 4.45, 3.63, 3.77, 1.79, 3.65, 3.65, 3.61, 4.45, 1.67, 3.67, 3.47, 2.35, 2.45, 4.56, 2.54, 3.78, 3.64, 3.58, 2.46, 2.42, 4.34, 3.78, 3.44, 3.44, 3.78, 3.43, 4.39, 2.45, 3.58, 3.43, 3.41, 4.36, 2.59, 3.61, 2.64, 3.58, 4.57, 3.6, 0.4, 3.55, 4.43, 4.48, 4.48, 3.48, 2.65, 4.36, 3.53, 4.37, 4.48, 2.39, 2.35, 3.56, 4.39, 3.71, 1.7, 4.34, 3.63, 4.5, 2.43, 2.68, 3.78, 4.38, 3.71, 3.64, 3.68, 3.65, 1.7, 4.43, 3.63, 3.44, 2.65, 3.64, 3.53, 4.34, 3.5, 4.24, 3.42, 4.43, 4.32, 3.78, 4.36, 4.32, 3.7, 4.39, 4.24, 3.73, 3.42, 4.35, 3.77, 3.49, 3.47, 3.48, 3.64, 4.38, 2.45, 2.36, 3.59, 2.47, 4.48, 2.42, 3.44, 4.35, 4.29, 4.32, 4.25, 3.73, 2.41, 4.26, 4.44, 4.31, 4.5, 2.54, 4.48, 4.37, 4.45, 4.31, 0.37, 4.32, 2.7, 4.56, 2.54, 3.52, 4.5, 3.59, 4.38, 4.51, 3.43, 3.61, 4.34, 3.78, 3.63, 3.54, 2.7, 3.64, 3.43, 2.66, 4.32, 3.75, 2.29, 4.34, 2.67, 3.81, 3.39, 3.64, 4.43, 2.46, 3.55, 3.64, 3.59, 3.54, 3.61, 3.52, 2.73, 2.48, 2.29, 3.63, 1.54, 4.5, 2.62, 3.48, 3.6, 3.68, 3.49, 2.44, 3.55, 3.53, 2.45, 3.62, 2.7, 2.36, 3.77, 2.47, 4.23, 2.64, 3.47, 2.34, 3.56, 4.29, 4.38, 3.73, 3.78, 2.7, 4.43, 4.34, 3.38, 3.65, 2.65, 4.36, 2.61, 2.36, 3.48, 3.55, 4.37, 3.43, 3.62, 3.78, 2.73, 3.62, 4.38, 4.36, 4.56, 3.48, 3.78, 3.43, 2.67, 4.37, 3.64, 3.56, 1.64, 3.64, 3.52, 3.67, 2.7, 4.34, 3.71, 4.44, 3.49, 4.49, 3.77, 2.56, 4.34, 3.6, 3.65, 3.49, 2.56, 2.36, 4.39, 1.64, 3.78, 3.77, 2.69, 3.58, 4.14, 3.52, 3.74, 4.38, 4.38, 3.6, 4.36, 4.42, 2.57, 3.48, 3.51, 4.34, 3.64, 3.45, 3.57, 3.46, 3.78, 4.57, 3.78, 4.41, 3.46, 3.78, 3.78, 3.72, 1.52, 3.75, 3.55, 3.51, 3.4, 3.49, 4.59, 4.39, 4.45, 4.35, 4.36, 2.34, 3.41, 4.41, 3.53, 3.78, 4.34, 3.43, 4.46, 4.36, 3.45, 3.65, 4.48, 4.5, 3.78, 3.54, 2.63, 2.7, 3.64, 3.78, 2.69, 2.62, 4.24, 4.55, 4.24, 3.46, 4.48, 4.41, 3.47, 4.51, 4.39, 4.43, 0.41, 3.48, 3.62, 3.61, 3.78, 3.55, 3.61, 4.43, 4.37, 2.67, 3.72, 2.54, 3.46, 3.65, 2.7, 4.23, 2.5, 2.54, 4.41, 3.54, 3.45, 4.45, 2.64, 3.65, 3.55, 3.65, 4.36, 3.71, 4.46, 4.39, 4.43, 2.34, 3.7, 3.43, 2.65, 3.6, 3.58, 0.4, 4.39, 4.36, 3.64, 3.78, 4.38, 3.65, 4.34, 4.34, 4.41, 4.55, 2.63, 4.45, 3.64, 4.45, 4.35, 3.75, 3.6, 2.34, 3.49, 3.78, 2.61, 2.67, 3.64, 4.59, 4.49, 3.78, 4.31, 4.35, 3.63, 3.48, 3.7, 4.38, 2.45, 3.63, 2.66, 3.46, 3.65, 4.37, 2.41, 3.49, 1.52, 4.23, 3.44, 3.78, 3.41, 3.48, 4.32, 1.73, 2.61, 2.44, 2.62, 3.64, 4.24, 3.43, 3.78, 4.12, 3.48, 4.32, 3.46, 1.78, 4.5, 1.74, 4.27, 4.34, 2.71, 3.75, 4.49, 3.62, 3.42, 3.47, 3.77, 3.78, 3.65, 4.57, 1.74, 3.77, 2.34, 2.63, 3.43, 2.66, 3.65, 4.32, 3.61, 4.31, 3.61, 3.48, 4.5, 3.55, 4.45, 2.72, 3.64, 3.77, 3.41, 3.7, 3.61, 3.69, 4.37, 2.36, 4.36, 2.34, 3.54, 4.35, 4.39, 1.76, 3.41, 4.36, 3.58, 4.36, 3.64, 3.63, 3.64, 3.4, 2.42, 3.78, 3.7, 4.55, 4.38, 3.42, 3.6, 4.43, 3.49, 4.26, 2.65, 4.34, 3.44, 3.64, 4.35, 3.7, 2.66, 2.33, 3.44, 3.48, 3.64, 3.51, 3.64, 3.47, 2.69, 3.53, 3.6, 3.47, 4.27, 4.39, 4.41, 3.43, 3.5, 3.78, 4.39, 3.78, 2.29, 1.51, 3.62, 2.61, 3.6, 2.7, 3.78, 3.46, 4.23, 3.47, 2.3, 3.51, 2.47, 0.41, 4.45, 3.78, 1.7, 2.34, 3.78, 3.77, 4.49, 4.34, 3.62, 4.39, 1.51, 3.67, 2.46, 2.65, 3.77, 4.29, 3.78, 4.24, 3.78, 2.29, 4.26, 3.58, 3.63, 1.52, 4.57, 3.78, 4.29, 4.55, 3.64, 4.37, 3.78, 3.77, 2.46, 1.49, 1.78, 3.65, 4.37, 3.52, 3.44, 3.78, 3.78, 3.64, 1.72, 4.46, 2.59, 3.77, 3.54, 2.4, 3.56, 4.55, 4.39, 3.55, 3.78, 2.67, 4.49, 2.44, 4.48, 3.45, 2.42, 2.37, 4.57, 4.24, 3.64, 2.63, 3.37, 4.5, 3.77, 2.71, 3.4, 3.5, 2.41, 2.5, 4.31, 3.42, 3.62, 2.67, 3.71, 3.74, 3.64, 3.65, 3.64, 3.79, 2.38, 4.55, 2.34, 4.36, 1.78, 3.65, 1.76, 1.65, 1.68, 3.73, 4.39, 3.44, 3.64, 4.45, 3.64, 4.41, 0.4, 3.65, 4.48, 1.64, 3.65, 4.34, 3.44, 4.37, 4.35, 2.34, 2.67, 1.71, 3.61, 3.64, 3.63, 3.47, 4.49, 2.35, 3.78, 4.57, 3.77, 4.24, 4.6, 3.54, 4.35, 4.5, 3.33, 3.7, 4.39, 3.78, 3.58, 3.78, 3.63, 4.34, 3.74, 2.43, 3.64, 4.43, 4.55, 2.71, 3.47, 3.77, 3.55, 3.64, 2.69, 2.4, 4.17, 2.66, 3.54, 3.71, 1.47, 2.64, 3.78, 4.48, 3.45, 1.73, 2.64, 2.67, 3.69, 1.69, 4.15, 4.34, 4.49, 4.48, 4.51, 3.44, 3.79, 3.43, 2.42, 3.6, 4.52, 1.74, 3.78, 4.41, 4.36, 3.54, 2.66, 3.64, 1.64, 3.45, 3.5, 2.71, 2.37, 3.37, 3.46, 4.39, 4.49, 2.4, 4.39, 4.25, 3.65, 2.45, 3.65, 4.35, 2.44, 4.34, 3.73, 3.59, 4.12, 2.44, 1.65, 3.58, 3.45, 3.69, 3.61, 4.37, 3.78, 3.52, 1.68, 4.41, 3.77, 3.65, 2.65, 2.72, 4.36, 4.48, 3.44, 3.4, 3.47, 3.78, 2.39, 3.5, 4.34, 3.4, 4.36, 4.37, 3.64, 3.78, 1.78, 3.47, 3.44, 4.15, 3.79, 3.45, 4.25, 2.42, 2.61, 3.79, 4.36, 3.65, 4.39, 3.78, 3.71, 4.32, 2.34, 3.65, 3.6, 3.77, 4.48, 2.66, 3.46, 4.49, 4.32, 2.57, 4.37, 3.65, 3.45, 4.39, 2.58, 1.67, 3.43, 2.45, 3.63, 4.34, 1.7, 3.45, 3.6, 4.6, 4.53, 3.44, 4.36, 3.5, 3.54, 3.63, 3.63, 2.44, 4.33, 4.14, 4.43, 3.55, 4.37, 4.39, 3.62, 4.37, 4.26, 3.42, 4.24, 4.44, 3.68, 3.46, 4.34, 2.62, 4.49, 2.44, 3.49, 3.57, 3.51, 3.53, 3.78, 3.37, 2.37, 3.42, 3.63, 4.36, 2.34, 4.48, 2.43, 3.78, 4.34, 3.7, 4.55, 1.75, 4.45, 4.46, 4.33, 4.16, 1.68, 1.51, 2.67, 3.64, 3.48, 4.11, 3.78, 4.48, 4.13, 4.39, 4.43, 2.41, 3.78, 3.63, 2.46, 4.48, 3.58, 3.61, 3.52, 4.48, 3.65, 4.45, 4.36, 4.33, 3.64, 3.66, 4.34, 2.36, 4.51, 4.15, 1.7, 3.47, 3.64, 4.23, 4.34, 3.64, 4.55, 4.56, 2.38, 3.61, 3.41, 4.23, 3.63, 2.42, 4.35, 4.24, 2.61, 3.79, 2.63, 1.71, 2.44, 4.55, 2.35, 3.55, 4.34, 2.35, 3.44, 4.38, 3.72, 3.44, 4.48, 4.45, 3.76, 4.23, 3.55, 3.47, 4.36, 3.59, 3.48, 3.45, 2.38, 2.66, 3.64, 3.78, 2.67, 3.65, 2.57, 4.35, 3.65, 4.39, 3.7, 3.77, 4.35, 1.71, 2.45, 3.77, 1.72, 4.48, 3.64, 3.43, 3.62, 3.47, 4.36, 3.65, 3.54, 3.5, 3.64, 2.65, 4.38, 3.55, 1.72, 3.78, 2.64, 4.49, 3.61, 3.43, 4.39, 4.34, 4.32, 2.69, 4.37, 1.64, 4.31, 3.44, 3.72, 0.4, 2.67, 2.45, 4.34, 3.78, 4.43, 3.65, 3.78, 4.46, 4.23, 3.78, 3.48, 3.55, 3.62, 4.45, 3.78, 4.48, 3.65, 3.48, 2.64, 4.55, 3.47, 3.47, 2.69, 2.33, 0.45, 3.78, 2.64, 4.38, 3.81, 3.63, 4.51, 2.42, 4.46, 4.39, 3.51, 2.62, 4.45, 2.34, 3.64, 2.65, 2.62, 2.36, 3.62, 3.68, 4.48, 3.78, 4.48, 1.68, 4.4, 2.62, 2.64, 2.4, 3.65, 2.7, 3.61, 3.51, 3.45, 4.46, 2.67, 2.73, 3.58, 2.64, 4.36, 3.63, 2.46, 2.35, 3.67, 2.45, 3.65, 4.35, 4.36, 3.72, 4.31, 3.44, 4.43, 2.61, 2.38, 4.34, 2.42, 2.4, 4.37, 4.31, 4.22, 4.34, 2.46, 2.69, 3.43, 4.36, 4.55, 3.45, 4.42, 4.46, 3.65, 3.69, 4.31, 4.43, 4.37, 2.43, 4.41, 2.66, 3.78, 0.42, 3.46, 3.65, 4.32, 3.46, 1.74, 2.45, 3.43, 3.64, 4.13, 3.44, 4.36, 4.41, 3.5, 1.5, 3.64, 4.45, 4.12, 4.36, 2.62, 4.51, 3.64, 3.56, 3.67, 4.38, 3.78, 3.78, 1.7, 4.28, 4.5, 4.36, 4.36, 2.63, 4.48, 2.7, 2.67, 4.45, 3.55, 3.5, 4.35, 4.55, 4.36, 3.5, 1.74, 4.34, 3.66, 3.65, 3.66, 3.7, 3.64, 4.48, 2.34, 4.36, 2.65, 3.78, 3.47, 3.5, 3.58, 4.48, 3.78, 3.76, 4.46, 4.41, 2.66, 4.43, 4.43, 1.74, 2.42, 2.64, 2.65, 4.37, 2.42, 3.75, 4.39, 3.78, 3.63, 3.47, 2.34, 3.66, 3.64, 4.48, 3.68, 3.43, 4.48, 2.62, 3.58, 3.66, 2.46, 2.65, 3.62, 2.68, 4.39, 3.64, 3.77, 3.53, 3.41, 1.69, 2.41, 1.51, 3.59, 4.56, 2.48, 3.52, 3.76, 4.34, 3.42, 4.39, 3.43, 4.39, 2.38, 2.48, 3.67, 3.64, 2.44, 2.44, 4.39, 3.5, 1.48, 2.36, 4.34, 4.24, 4.34, 3.56, 3.53, 3.63, 3.64, 3.78, 4.32, 2.43, 2.45, 3.63, 4.39, 3.64, 4.4, 2.44, 3.77, 3.51, 4.39, 3.37, 4.41, 3.65, 3.37, 3.66, 4.29, 3.62, 4.36, 3.64, 4.43, 4.25, 3.63, 1.74, 3.43, 3.78, 1.72, 2.37, 4.55, 4.36, 4.53, 2.63, 3.58, 3.7, 4.44, 4.14, 4.46, 2.64, 2.62, 3.65, 4.38, 3.73, 3.64, 0.5, 4.23, 4.53, 3.54, 4.39, 2.57, 3.72, 3.45, 4.24, 3.47, 3.72, 4.45, 3.78, 4.49, 3.48, 3.63, 3.65, 4.46, 4.36, 3.78, 4.39, 3.66, 3.64, 4.36, 4.38, 1.78, 4.46, 4.59, 3.7, 3.49, 4.35, 4.45, 4.39, 4.36, 4.41, 0.5, 4.33, 2.62, 2.69, 4.36, 3.58, 4.56, 1.5, 4.23, 4.45, 2.57, 3.61, 3.7, 1.71, 1.52, 4.28, 3.45, 4.44, 2.32, 3.43, 4.24, 3.44, 3.65, 4.39, 4.32, 3.46, 2.42, 3.66, 1.65, 3.43, 2.59, 2.47, 4.26, 2.4, 2.69, 3.78, 4.31, 4.48, 3.66, 4.48, 4.25, 4.42, 3.78, 3.58, 2.42, 3.65, 3.68, 3.65, 4.45, 4.38, 3.47, 2.4, 4.36, 3.5, 4.59, 3.46, 2.43, 3.53, 2.33, 3.78, 3.48, 4.48, 3.61, 3.52, 2.29, 4.45, 3.61, 4.34, 2.41, 1.75, 2.34, 3.79, 4.37, 4.36, 3.56, 2.36, 3.66, 2.64, 4.35, 3.78, 2.34, 2.73, 3.63, 4.36, 2.7, 4.38, 4.36, 3.66, 2.43, 4.34, 4.36, 3.5, 3.71, 3.62, 4.25, 3.6, 1.7, 2.61, 4.48, 1.64, 3.59, 4.32, 0.5, 3.45, 3.51, 2.36, 3.72, 3.61, 2.55, 4.44, 2.46, 3.78, 4.55, 4.14, 3.43, 3.63, 4.38, 3.45, 3.6, 3.45, 4.55, 4.25, 3.7, 3.78, 2.63, 4.5, 3.65, 3.58, 4.26, 3.45, 4.48, 4.37, 3.72, 4.34, 2.62, 3.78, 3.71, 2.44, 1.64, 2.35, 2.62, 3.43, 3.54, 3.51, 3.47, 3.63, 3.63, 4.52, 2.72, 3.48, 4.37, 3.53, 3.78, 4.44, 3.61, 3.78, 1.64, 4.5, 4.26, 3.58, 4.34, 3.71, 3.65, 4.23, 3.43, 4.34, 4.35, 3.64, 4.36, 3.78, 4.39, 3.58, 4.36, 3.65, 3.61, 3.78, 4.43, 2.67, 2.57, 3.55, 3.77, 3.6, 3.47, 3.65, 4.55, 4.45, 4.53, 3.78, 3.62, 3.63, 2.61, 1.73, 3.75, 0.41, 3.78, 3.47, 3.76, 4.13, 4.32, 3.55, 4.56, 2.39, 2.65, 4.23, 4.39, 3.68, 2.69, 4.37, 3.49, 2.68, 4.38, 1.74, 2.36, 3.43, 2.54, 4.44, 3.45, 3.44, 4.35, 4.44, 4.26, 3.78, 4.39, 3.61, 3.41, 3.47, 3.61, 3.63, 2.62, 3.4, 4.48, 2.58, 4.45, 4.26, 3.54, 3.55, 3.65, 3.63, 2.4, 2.63, 4.33, 3.5, 4.56, 4.34, 2.37, 3.45, 3.49, 4.12, 2.66, 4.34, 3.78, 3.45, 2.62, 0.45, 2.72, 2.58, 3.77, 3.6, 3.61, 2.43, 3.65, 3.44, 4.36, 4.14, 4.43, 3.5, 3.63, 1.74, 4.43, 4.38, 3.46, 4.49, 2.48, 4.39, 3.6, 4.11, 3.65, 4.36, 3.6, 3.44, 4.57, 3.65, 3.58, 3.78, 0.5, 3.45, 3.6, 3.78, 4.6, 3.65, 2.65, 4.41, 3.62, 3.64, 3.58, 3.58, 3.61, 3.49, 4.39, 3.44, 2.34, 1.52, 4.49, 4.35, 3.78, 4.37, 3.48, 1.73, 2.44, 1.48, 2.34, 3.61, 2.7, 4.36, 2.65, 3.74, 3.78, 3.78, 3.75, 4.57, 2.31, 4.39, 3.45, 4.43, 2.63, 2.44, 2.35, 4.48, 3.64, 3.57, 2.34, 2.62, 4.59, 3.4, 2.32, 3.5, 3.51, 2.45, 3.6, 2.39, 3.65, 2.36, 2.4, 3.65, 3.67, 4.23, 3.51, 2.61, 4.37, 4.38, 3.47, 2.63, 4.22, 2.37, 3.55, 3.6, 3.77, 4.38, 2.54, 3.44, 3.5, 4.56, 3.77, 3.74, 3.77, 2.34, 2.32, 3.78, 3.77, 2.63, 3.58, 3.56, 4.48, 3.71, 3.78, 3.75, 4.13, 4.32, 3.72, 4.48, 4.36, 4.46, 4.45, 3.63, 4.35, 4.43, 3.41, 3.38, 3.45, 2.65, 1.76, 3.53, 3.43, 4.39, 3.45, 4.38, 2.56, 2.37, 2.66, 3.53, 3.63, 3.75, 3.46, 3.4, 2.36, 4.55, 2.67, 4.45, 2.42, 3.76, 2.67, 3.44, 3.78, 4.5, 4.44, 2.61, 3.7, 3.62, 2.46, 4.36, 3.65, 3.62, 3.61, 1.72, 4.58, 0.41, 4.39, 2.62, 4.34, 4.27, 3.43, 3.65, 2.5, 4.34, 2.41, 4.29, 4.18, 1.73, 1.67, 4.39, 3.51, 3.62, 3.78, 3.78, 2.65, 3.44, 2.34, 3.58, 3.63, 3.78, 3.69, 2.34, 4.48, 4.45, 3.65, 4.38, 2.62, 4.48, 3.58, 3.47, 3.77, 4.46, 2.64, 2.69, 3.69, 3.78, 2.36, 4.55, 3.48, 3.59, 3.41, 3.76, 3.69, 2.44, 4.44, 2.34, 1.73, 3.48, 1.72, 3.64, 4.27, 3.44, 2.63, 2.47, 2.73, 2.5, 2.41, 4.34, 3.78, 2.54, 3.77, 3.65, 4.36, 3.78, 2.63, 3.46, 2.61, 3.54, 3.55, 3.76, 4.12, 2.63, 4.34, 4.26, 4.44, 1.54, 2.36, 3.63, 3.54, 3.62, 4.36, 2.4, 3.63, 3.64, 2.44, 3.46, 4.34, 4.48, 4.57, 4.43, 3.65, 3.64, 3.56, 4.32, 3.61, 1.65, 3.45, 3.49, 2.62, 3.78, 4.36, 3.47, 4.38, 3.44, 3.7, 0.5, 3.78, 4.5, 3.78, 2.28, 3.65, 3.64, 3.61, 4.25, 3.7, 3.51, 3.65, 3.54, 4.57, 3.56, 2.38, 3.66, 3.72, 3.75, 2.57, 3.45, 3.53, 2.44, 3.47, 4.49, 3.57, 4.36, 3.47, 4.36, 1.64, 2.37, 4.5, 3.56, 4.37, 2.55, 3.51, 1.48, 2.42, 3.63, 3.67, 2.57, 3.65, 3.58, 2.54, 4.34, 4.6, 4.5, 4.51, 3.43, 2.57, 3.41, 1.68, 4.14, 2.62, 4.41, 4.32, 3.56, 4.34, 3.63, 2.65, 2.68, 1.64, 3.45, 3.63, 3.75, 3.65, 2.62, 3.59, 2.42, 2.72, 3.4, 3.77, 4.44, 4.38, 3.7, 2.42, 4.57, 3.64, 1.68, 0.51, 4.46, 4.23, 1.52, 2.65, 4.38, 3.64, 3.65, 3.46, 1.69, 3.65, 2.35, 4.12, 3.76, 4.49, 4.31, 4.56, 3.49, 3.6, 2.36, 2.62, 2.33, 4.36, 3.64, 2.44, 3.52, 2.67, 2.64, 4.24, 4.49, 3.77, 3.61, 4.34, 3.44, 2.58, 1.67, 4.37, 3.54, 3.51, 3.5, 4.48, 2.45, 3.46, 3.54, 3.77, 3.45, 2.45, 3.7, 4.31, 3.77, 3.65, 3.57, 1.72, 2.45, 4.32, 3.38, 3.4, 1.7, 3.58, 2.62, 3.62, 3.61, 4.43, 4.39, 4.56, 4.47, 2.35, 2.41, 4.36, 2.36, 3.63, 3.54, 4.45, 4.29, 4.12, 3.46, 2.48, 2.67, 4.38, 3.47, 4.35, 4.24, 3.78, 4.35, 4.48, 4.55, 2.46, 4.57, 1.51, 4.24, 1.74, 4.36, 4.39, 4.24, 4.25, 1.64, 4.36, 3.65, 4.34, 2.64, 1.75, 3.6, 3.64, 4.27, 3.78, 3.45, 4.39, 2.43, 4.34, 4.39, 4.35, 3.78, 2.62, 3.65, 4.34, 3.67, 2.29, 4.35, 4.48, 4.22, 2.42, 3.78, 4.39, 3.64, 2.37, 3.48, 3.54, 4.44, 3.62, 4.36, 3.56, 4.43, 2.33, 2.43, 3.72, 4.23, 1.74, 3.77, 3.55, 4.53, 3.46, 3.47, 2.63, 3.75, 1.65, 3.42, 4.23, 2.67, 3.59, 2.41, 3.5, 3.58, 4.5, 3.49, 2.44, 2.55, 4.42, 2.34, 3.44, 3.42, 3.64, 4.16, 3.74, 2.37, 4.34, 2.36, 4.36, 3.77, 4.15, 2.7, 3.55, 2.61, 3.65, 3.42, 3.77, 3.62, 2.43, 3.46, 3.65, 3.64, 2.69, 4.55, 4.32, 3.66, 3.45, 4.44, 2.64, 3.55, 4.32, 4.36, 3.78, 4.36, 3.4, 2.66, 2.55, 2.46, 2.62, 3.64, 3.61, 2.62, 2.42, 4.28, 4.36, 3.54, 3.41, 2.44, 3.65, 1.52, 1.66, 3.74, 3.78, 3.64, 2.63, 2.62, 3.62, 3.45, 4.48, 3.48, 1.73, 3.75, 2.4, 2.45, 2.36, 2.42, 2.63, 0.41, 2.67, 4.38, 4.23, 3.77, 3.78, 4.36, 3.78, 3.64, 2.36, 2.55, 2.36, 4.48, 3.43, 4.48, 4.43, 3.76, 2.45, 3.63, 3.78, 3.5, 3.56, 4.32, 4.35, 3.46, 4.5, 2.62, 3.4, 3.76, 3.61, 3.7, 4.39, 3.45, 4.57, 2.59, 3.47, 3.51, 3.63, 3.67, 2.49, 4.39, 4.37, 3.47, 3.63, 3.56, 3.64, 3.64, 3.65, 4.55, 1.52, 3.54, 4.36, 2.45, 4.37, 3.5, 3.78, 3.78, 3.46, 4.36, 3.78, 4.36, 3.44, 3.64, 1.72, 4.24, 3.47, 4.36, 3.59, 2.34, 3.63, 4.57, 2.62, 4.31, 3.38, 4.34, 2.58, 2.53, 3.67, 3.7, 3.77, 3.65, 2.41, 2.62, 1.77, 2.5, 2.54, 3.75, 3.64, 4.24, 3.73, 4.13, 1.72, 4.44, 3.71, 4.36, 4.49, 4.45, 3.64, 4.5, 1.48, 3.76, 4.49, 2.66, 2.42, 3.48, 4.37, 2.41, 3.58, 3.6, 4.44, 3.42, 2.35, 3.5, 4.25, 3.65, 2.7, 4.24, 2.43, 2.58, 4.34, 4.44, 4.34, 3.78, 3.58, 3.76, 3.7, 3.78, 3.51, 3.52, 4.47, 3.64, 3.58, 2.37, 2.58, 3.49, 3.53, 3.51, 4.38, 4.59, 3.55, 4.25, 4.5, 3.63, 3.47, 3.77, 3.78, 2.32, 1.52, 4.4, 2.37, 4.36, 3.78, 3.64, 4.33, 3.51, 2.62, 4.5, 3.75, 4.48, 3.78, 2.38, 3.51, 3.71, 3.71, 3.79, 4.46, 3.42, 2.62, 4.43, 3.65, 2.62, 3.39, 2.31, 2.45, 3.53, 4.4, 2.44, 4.39, 2.55, 1.64, 2.4, 2.43, 3.76, 4.38, 4.43, 2.42, 4.59, 4.48, 3.69, 1.71, 4.44, 3.64, 3.64, 2.64, 3.62, 4.36, 4.37, 4.29, 2.65, 3.45, 2.7, 4.56, 1.7, 3.58, 4.39, 4.39, 3.78, 3.55, 2.54, 3.58, 3.44, 3.64, 3.62, 1.68, 4.36, 3.58, 2.48, 3.5, 3.78, 3.63, 3.64, 1.67, 0.52, 3.44, 4.55, 3.6, 2.41, 3.5, 3.65, 4.48, 3.66, 3.77, 4.39, 3.54, 3.78, 3.66, 4.23, 4.39, 3.4, 3.64, 2.42, 3.42, 3.65, 3.33, 4.13, 3.58, 4.38, 3.55, 2.66, 4.34, 3.44, 3.65, 3.56, 3.5, 4.36, 2.42, 3.65, 4.34, 2.37, 4.48, 3.64, 2.55, 2.62, 3.59, 2.71, 1.71, 2.7, 4.22, 3.57, 1.74, 3.58, 1.65, 3.78, 2.31, 3.43, 3.59, 3.46, 2.62, 3.78, 4.31, 1.7, 2.33, 4.36, 4.48, 4.16, 3.64, 3.77, 3.48, 4.27, 2.66, 4.36, 1.48, 4.34, 4.36, 3.47, 2.36, 4.4, 3.45, 4.26, 2.44, 4.39, 3.38, 3.63, 4.45, 3.56, 4.57, 4.38, 3.54, 3.5, 4.39, 4.39, 3.58, 2.67, 4.32, 2.35, 3.41, 3.45, 2.32, 3.65, 2.43, 2.5, 3.54, 2.48, 3.67, 3.72, 4.34, 3.61, 3.63, 3.76, 2.34, 3.65, 4.34, 2.68, 2.34, 2.57, 2.69, 3.65, 3.6, 3.58, 1.68, 4.49, 4.4, 2.64, 4.12, 3.44, 4.51, 4.23, 3.66, 2.42, 4.24, 4.33, 4.16, 2.62, 4.58, 3.54, 4.36, 2.67, 3.81, 4.36, 1.5, 4.25, 3.56, 3.48, 2.38, 4.38, 3.76, 1.68, 3.76, 4.34, 3.78, 4.26, 3.45, 4.36, 3.58, 3.64, 3.77, 0.4, 2.36, 3.64, 4.3, 3.78, 4.25, 3.65, 4.39, 4.36, 3.78, 3.64, 4.41, 1.75, 4.49, 4.32, 1.74, 4.55, 3.78, 3.63, 4.46, 1.51, 4.36, 2.68, 3.63, 2.57, 4.11, 3.61, 3.79, 3.64, 2.43, 3.61, 2.69, 2.64, 3.78, 1.74, 3.6, 3.76, 2.47, 2.59, 0.5, 2.44, 4.32, 3.48, 2.58, 3.77, 3.61, 4.46, 0.4, 2.69, 2.63, 3.55, 3.4, 4.55, 2.69, 4.5, 2.45, 3.78, 3.63, 3.65, 4.34, 1.72, 4.56, 3.68, 3.65, 3.61, 3.78, 2.58, 3.49, 3.64, 2.47, 2.57, 2.34, 2.54, 4.48, 3.4, 4.38, 2.61, 3.55, 2.42, 3.64, 3.61, 3.66, 4.36, 4.36, 4.32, 2.67, 1.67, 2.72, 2.7, 4.39, 4.39, 3.56, 3.63, 4.48, 3.59, 2.43, 2.73, 1.46, 4.43, 4.25, 4.43, 3.58, 3.66, 4.27, 3.54, 3.5, 4.24, 3.47, 4.23, 2.72, 3.44, 3.64, 3.64, 3.41, 2.57, 2.42, 3.47, 3.52, 3.48, 3.44, 4.39, 3.6, 4.39, 2.4, 3.46, 2.67, 3.45, 3.44, 4.39, 2.65, 0.41, 3.78, 4.55, 3.78, 3.77, 3.65, 2.72, 3.78, 3.58, 3.41, 3.64, 3.5, 4.34, 3.58, 2.54, 3.5, 3.65, 4.36, 3.55, 1.5, 3.64, 2.69, 3.78, 2.36, 4.31, 3.5, 1.63, 2.38, 3.61, 1.72, 2.54, 2.54, 3.73, 3.52, 3.64, 3.78, 2.34, 3.61, 4.49, 3.75, 3.61, 3.65, 2.64, 2.32, 3.6, 3.54, 2.66, 4.44, 2.42, 4.29, 2.64, 3.65, 3.63, 2.57, 4.35, 3.72, 4.36, 3.61, 4.17, 4.48, 2.42, 2.73, 4.46, 1.71, 3.64, 3.78, 2.44, 3.67, 3.77, 4.34, 3.64, 4.34, 1.69, 3.64, 2.33, 3.46, 3.76, 2.65, 3.51, 4.48, 4.52, 2.6, 4.37, 3.64, 2.7, 2.65, 3.7, 4.46, 3.72, 2.69, 2.27, 3.78, 3.78, 3.58, 1.77, 3.44, 3.51, 2.58, 2.36, 4.51, 4.49, 3.51, 3.44, 4.39, 3.65, 4.38, 3.64, 3.64, 3.41, 2.57, 3.78, 4.39, 2.64, 4.44, 3.77, 2.64, 2.41, 4.55, 4.34, 2.46, 3.73, 3.78, 1.74, 3.78, 3.48, 3.76, 3.45, 2.65, 2.67, 3.72, 4.27, 3.7, 4.48, 3.47, 2.36, 4.34, 1.72, 3.65, 4.39, 1.69, 3.77, 2.63, 3.5, 1.64, 3.78, 2.43, 3.75, 3.78, 3.65, 3.49, 4.34, 3.4, 4.36, 4.48, 4.37, 4.24, 2.42, 2.64, 4.5, 4.39, 4.34, 3.64, 4.34, 3.78, 2.38, 3.49, 4.36, 3.63, 2.42, 2.66, 4.38, 3.78, 3.77, 3.44, 4.43, 2.42, 2.34, 4.5, 2.64, 2.72, 4.25, 3.79, 3.77, 3.63, 4.24, 4.48, 3.47, 2.54, 2.63, 4.38, 3.42, 0.39, 2.63, 4.43, 3.65, 2.57, 4.17, 2.69, 4.38, 1.52, 3.52, 2.69, 2.55, 4.57, 2.42, 4.36, 3.74, 4.45, 4.38, 2.34, 4.36, 3.47, 2.64, 3.55, 3.48, 2.36, 4.34, 3.47, 3.44, 2.33, 3.47, 4.41, 3.7, 4.39, 4.39, 4.23, 3.49, 4.48, 4.49, 2.61, 3.7, 4.37, 3.61, 3.65, 3.71, 4.34, 3.52, 3.59, 3.42, 3.5, 4.38, 3.7, 3.7, 3.65, 4.3, 4.55, 3.63, 3.46, 4.45, 3.44, 4.39, 3.49, 2.67, 2.37, 2.57, 4.43, 2.54, 3.62, 3.48, 3.64, 3.4, 3.48, 2.54, 4.38, 4.36, 4.32, 3.67, 3.65, 2.3, 3.5, 2.35, 4.36, 3.78, 3.65, 4.34, 3.71, 4.12, 4.36, 3.65, 4.44, 3.65, 2.65, 3.78, 4.37, 4.23, 2.39, 3.77, 3.77, 4.25, 2.46, 3.6, 3.71, 3.64, 2.36, 2.49, 2.41, 3.53, 4.31, 4.33, 3.47, 3.52, 4.23, 4.13, 4.5, 3.64, 3.45, 2.65, 3.81, 4.55, 2.69, 3.48, 3.77, 4.34, 2.32, 3.72, 2.65, 2.67, 3.45, 4.57, 0.51, 3.72, 2.64, 2.57, 3.78, 4.55, 3.75, 2.65, 3.61, 2.64, 2.55, 4.39, 4.36, 4.28, 3.76, 4.37, 2.66, 3.44, 4.33, 3.48, 2.4, 4.39, 4.37, 4.44, 3.65, 3.54, 3.64, 2.61, 3.47, 4.48, 3.63, 1.65, 3.76, 3.78, 2.4, 2.67, 1.66, 1.72, 4.34, 3.61, 3.58, 3.6, 3.51, 2.71, 3.55, 2.43, 1.46, 4.37, 3.62, 3.48, 3.6, 3.77, 2.42, 2.58, 3.34, 4.34, 3.53, 2.53, 4.39, 3.55, 2.66, 3.44, 2.67, 4.34, 3.54, 4.32, 4.39, 1.64, 3.47, 4.32, 3.78, 2.66, 4.51, 2.29, 3.5, 3.61, 4.14, 1.71, 3.41, 3.45, 3.58, 2.35, 0.41, 2.67, 2.42, 4.34, 2.7, 3.44, 2.34, 2.62, 4.39, 2.61, 4.31, 4.48, 4.38, 3.68, 2.54, 3.77, 2.65, 1.63, 3.65, 3.75, 3.6, 2.39, 3.61, 3.78, 1.52, 4.31, 4.32, 4.34, 2.64, 3.65, 2.37, 4.34, 3.41, 0.41, 3.63, 2.41, 4.24, 2.49, 2.37, 3.47, 3.55, 3.63, 3.55, 3.65, 4.39, 4.31, 2.46, 3.78, 2.45, 4.46, 2.36, 3.63, 4.59, 3.79, 3.75, 2.45, 4.36, 3.6, 3.77, 3.77, 3.47, 3.78, 3.54, 3.66, 4.15, 3.71, 3.47, 4.34, 2.37, 4.38, 3.47, 3.65, 2.38, 3.66, 3.5, 4.48, 3.6, 4.27, 2.63, 3.35, 4.48, 3.64, 2.62, 3.55, 3.42, 3.73, 2.57, 2.64, 3.65, 2.64, 2.64, 4.26, 4.45, 4.26, 3.63, 2.36, 3.77, 3.78, 4.41, 3.77, 3.75, 3.7, 4.56, 2.36, 3.49, 3.58, 3.52, 3.44, 3.51, 4.23, 3.59, 3.68, 4.37, 4.39, 3.48, 4.41, 4.38, 4.36, 4.36, 2.41, 3.78, 3.48, 3.49, 3.77, 3.77, 1.64, 1.66, 2.41, 1.64, 1.67, 4.39, 3.73, 3.64, 3.65, 3.48, 2.45, 4.34, 4.56, 2.44, 4.35, 3.54, 2.39, 4.44, 3.73, 4.55, 3.51, 2.45, 3.47, 2.73, 2.62, 1.75, 4.38, 4.18, 3.64, 4.26, 3.64, 3.65, 2.58, 3.54, 4.35, 2.41, 2.67, 3.51, 3.65, 3.77, 3.78, 4.33, 3.46, 4.55, 3.71, 3.49, 2.67, 0.5, 3.66, 3.42, 3.42, 3.46, 4.23, 4.5, 3.65, 2.63, 2.54, 4.12, 3.62, 4.33, 4.36, 4.32, 3.76, 2.67, 3.47, 3.64, 4.32, 2.43, 3.77, 3.78, 3.78, 2.63, 3.78, 3.63, 3.47, 3.78, 4.39, 3.5, 2.42, 3.61, 3.46, 3.45, 2.61, 1.77, 2.36, 2.63, 4.24, 2.65, 3.48, 4.55, 3.51, 4.27, 4.35, 2.32, 3.77, 4.55, 2.62, 2.3, 3.55, 3.69, 3.51, 4.25, 3.69, 2.5, 3.58, 3.71, 3.77, 4.38, 3.42, 4.39, 4.39, 3.54, 3.45, 2.67, 3.33, 2.62, 3.65, 3.48, 3.66, 4.48, 3.47, 4.28, 4.17, 2.68, 2.63, 2.7, 3.51, 3.45, 2.32, 4.56, 2.67, 3.45, 2.58, 4.39, 2.44, 3.78, 2.45, 4.38, 2.44, 3.49, 4.34, 3.57, 3.55, 2.55, 4.33, 2.42, 2.41, 2.45, 2.54, 3.61, 4.34, 4.38, 2.63, 4.41, 3.46, 4.13, 2.69, 1.64, 3.43, 2.45, 4.34, 3.61, 4.23, 3.54, 4.31, 3.58, 4.39, 3.75, 3.63, 4.36, 2.32, 3.53, 4.45, 3.43, 3.66, 3.46, 3.43, 4.49, 3.51, 3.78, 3.78, 3.78, 4.34, 3.64, 3.62, 2.69, 4.34, 3.6, 1.46, 3.48, 4.36, 1.67, 2.36, 4.29, 4.36, 2.63, 1.72, 2.42, 4.33, 3.62, 4.55, 0.41, 2.36, 4.36, 3.43, 2.44, 4.25, 2.67, 3.44, 3.75, 3.43, 4.24, 3.43, 4.39, 4.25, 2.66, 4.33, 3.46, 3.5, 2.44, 4.2, 3.63, 3.6, 2.34, 3.66, 3.75, 2.41, 2.36, 1.65, 4.49, 3.61, 4.38, 4.48, 4.49, 4.34, 4.34, 4.43, 2.46, 3.51, 4.37, 2.6, 3.48, 2.68, 3.78, 3.77, 2.47, 3.58, 3.75, 3.49, 3.64, 4.55, 4.36, 3.58, 2.63, 2.64, 3.78, 2.4, 3.51, 2.41, 2.37, 2.67, 3.57, 4.37, 3.41, 3.58, 3.77, 3.67, 3.45, 2.68, 4.32, 4.56, 2.73, 2.37, 4.3, 4.34, 3.6, 2.64, 2.5, 4.23, 3.64, 2.35, 3.47, 2.48, 4.36, 3.48, 2.64, 2.42, 3.61, 3.63, 3.69, 3.77, 3.7, 3.78, 2.7, 3.44, 3.64, 4.34, 4.36, 3.43, 4.51, 3.45, 3.52, 3.65, 1.74, 3.63, 3.76, 3.49, 2.62, 4.45, 3.65, 2.69, 3.65, 3.58, 3.75, 3.63, 4.56, 2.62, 3.78, 4.59, 3.64, 2.69, 3.78, 4.48, 1.5, 3.65, 3.46, 4.41, 1.46, 4.22, 3.64, 2.7, 3.64, 2.73, 3.78, 3.64, 4.24, 3.7, 2.38, 4.38, 4.35, 2.44, 3.43, 3.7, 4.48, 4.31, 3.54, 2.68, 4.26, 3.49, 2.48, 3.51, 4.28, 4.24, 4.43, 3.65, 3.62, 2.46, 4.55, 3.52, 4.38, 3.78, 4.38, 3.77, 2.54, 3.78, 2.7, 3.47, 2.69, 4.38, 3.79, 3.42, 4.43, 3.4, 2.56, 1.46, 3.58, 3.66, 2.63, 2.43, 3.78, 4.36, 3.48, 3.72, 2.34, 4.37, 3.45, 3.68, 3.63, 3.5, 1.7, 2.66, 4.38, 3.61, 2.36, 4.45, 1.73, 2.45, 3.56, 3.45, 3.44, 4.49, 4.29, 3.64, 3.61, 3.43, 4.36, 4.48, 2.66, 4.35, 4.24, 3.75, 4.33, 2.43, 4.3, 4.48, 4.39, 1.54, 3.55, 2.45, 3.63, 4.37, 4.32, 4.34, 3.48, 0.5, 2.4, 4.39, 4.48, 2.62, 2.66, 4.34, 2.43, 2.55, 2.67, 3.77, 4.39, 2.29, 4.36, 2.34, 4.43, 2.62, 4.34, 4.36, 4.12, 3.7, 4.33, 3.77, 4.39, 3.58, 3.57, 3.47, 4.39, 4.34, 3.5, 1.74, 4.23, 3.35, 2.36, 3.4, 2.63, 3.63, 1.74, 1.72, 2.62, 4.38, 2.69, 2.62, 3.44, 4.37, 2.63, 3.75, 3.46, 3.64, 4.56, 4.38, 4.18, 4.38, 2.37, 3.61, 3.58, 2.7, 3.5, 2.46, 4.38, 2.62, 3.69, 2.57, 3.78, 3.54, 2.48, 1.74, 3.47, 4.39, 3.65, 4.37, 2.55, 4.39, 3.64, 3.54, 3.65, 4.37, 2.5, 3.65, 3.42, 0.41, 4.53, 4.38, 3.78, 4.26, 2.72, 2.56, 3.66, 3.54, 2.35, 4.45, 2.5, 2.65, 3.52, 2.36, 3.51, 3.67, 3.64, 3.78, 3.65, 3.42, 2.61, 3.77, 3.46, 3.65, 4.55, 2.63, 4.43, 4.36, 4.38, 2.69, 3.55, 4.36, 3.55, 4.39, 2.34, 3.65, 3.78, 3.47, 4.29, 2.42, 2.65, 2.43, 3.77, 3.52, 3.78, 3.37, 4.25, 4.44, 3.76, 2.58, 3.5, 4.23, 4.57, 3.78, 3.81, 3.51, 4.39, 4.39, 2.69, 4.34, 1.68, 4.39, 3.66, 3.55, 3.6, 4.36, 4.36, 3.54, 3.78, 1.52, 2.69, 4.23, 3.61, 3.53, 3.76, 2.41, 2.7, 2.32, 3.45, 4.37, 2.72, 3.54, 4.13, 3.78, 3.33, 2.43, 4.29, 4.38, 3.5, 2.7, 3.44, 1.5, 4.32, 2.64, 2.4, 3.78, 4.46, 3.7, 2.64, 4.46, 4.23, 0.42, 3.59, 2.47, 4.48, 3.64, 3.64, 4.26, 4.59, 4.36, 3.64, 3.4, 4.39, 4.23, 2.73, 2.7, 3.52, 2.65, 4.44, 3.78, 3.63, 2.39, 3.61, 3.64, 4.36, 1.79, 4.37, 4.34, 4.44, 3.6, 4.39, 4.36, 2.34, 4.36, 4.39, 1.74, 2.51, 3.78, 3.69, 3.64, 3.55, 3.64, 2.62, 4.16, 3.7, 2.45, 3.78, 2.31, 4.14, 3.48, 4.37, 4.17, 2.65, 4.55, 2.69, 0.41, 4.36, 3.78, 3.78, 3.61, 3.63, 3.64, 3.64, 3.62, 4.37, 1.75, 4.43, 3.48, 2.65, 3.45, 3.67, 2.45, 3.6, 4.35, 4.46, 3.59, 2.37, 3.56, 3.47, 3.4, 3.58, 4.36, 4.36, 4.36, 2.35, 3.64, 4.36, 3.55, 4.39, 4.4, 2.42, 3.65, 2.42, 4.36, 2.65, 3.61, 2.62, 4.38, 3.65, 1.65, 3.64, 2.64, 3.55, 2.46, 3.59, 3.74, 3.46, 2.55, 3.5, 4.32, 4.36, 4.36, 3.66, 3.65, 4.34, 4.48, 3.65, 3.44, 2.36, 2.63, 4.36, 3.65, 2.46, 4.55, 1.68, 2.69, 3.73, 3.44, 3.44, 4.56, 3.81, 3.44, 3.74, 3.63, 3.73, 3.78, 3.78, 4.43, 4.39, 3.63, 4.24, 3.64, 1.69, 4.32, 2.47, 2.38, 4.38, 2.56, 4.13, 4.34, 3.44, 3.78, 1.64, 4.48, 1.73, 3.78, 3.63, 4.11, 4.15, 2.61, 3.53, 4.38, 3.65, 4.32, 4.44, 4.57, 4.34, 1.72, 3.65, 3.48, 2.62, 3.43, 2.65, 4.48, 3.42, 4.41, 3.46, 3.63, 4.34, 3.5, 2.72, 3.64, 3.64, 3.76, 4.32, 4.34, 3.46, 3.41, 3.66, 2.42, 3.44, 3.53, 2.58, 4.39, 3.56, 3.65, 3.78, 4.56, 3.76, 3.65, 2.65, 4.39, 4.43, 3.43, 4.35, 3.52, 2.34, 4.36, 3.47, 2.62, 3.44, 4.24, 3.61, 2.62, 1.65, 3.65, 3.78, 4.38, 4.48, 3.73, 3.48, 3.77, 3.46, 4.37, 4.39, 2.34, 2.63, 4.42, 3.55, 2.62, 3.62, 3.67, 4.36, 3.63, 3.61, 2.46, 2.4, 4.36, 3.75, 3.65, 4.24, 3.47, 3.7, 3.52, 3.78, 4.36, 4.36, 2.42, 4.27, 4.36, 3.44, 3.64, 3.78, 2.34, 4.43, 3.54, 3.65, 3.75, 3.65, 4.39, 2.4, 3.49, 3.58, 2.49, 3.53, 3.77, 4.13, 3.41, 4.14, 3.78, 3.78, 2.66, 4.17, 4.17, 3.67, 4.38, 4.29, 2.45, 3.61, 3.78, 4.57, 3.62, 4.57, 2.47, 1.68, 4.46, 2.43, 2.34, 4.22, 2.32, 3.44, 3.65, 4.22, 4.45, 3.48, 3.63, 3.54, 3.61, 3.78, 3.49, 3.54, 3.64, 2.59, 4.42, 2.7, 4.48, 3.47, 1.7, 4.5, 4.38, 3.76, 3.71, 3.77, 3.78, 2.56, 3.78, 3.61, 4.48, 3.67, 3.47, 3.65, 1.74, 4.56, 3.77, 2.73, 3.66, 2.55, 3.78, 4.17, 3.62, 3.77, 3.65, 3.71, 3.45, 2.45, 3.62, 3.5, 3.65, 3.56, 3.7, 3.65, 4.44, 2.41, 3.78, 3.36, 1.77, 4.48, 3.41, 2.67, 3.55, 3.78, 3.6, 0.42, 4.36, 0.37, 2.43, 4.41, 4.5, 4.51, 4.38, 3.65, 3.75, 3.78, 3.48, 3.63, 4.48, 3.64, 3.5, 2.44, 3.75, 3.4, 4.12, 3.81, 2.46, 4.24, 4.28, 3.46, 2.63, 4.4, 4.27, 4.24, 3.77, 4.45, 4.41, 3.62, 2.56, 3.51, 2.69, 2.58, 3.44, 3.77, 2.43, 3.54, 2.66, 3.58, 4.48, 3.65, 3.63, 2.67, 2.48, 0.38, 2.69, 3.64, 2.38, 3.44, 3.78, 3.44, 4.35, 2.32, 3.65, 4.56, 3.64, 4.48, 3.78, 3.64, 3.61, 2.49, 2.4, 4.36, 3.77, 4.5, 3.7, 2.7, 4.38, 3.63, 3.42, 4.39, 2.44, 3.41, 4.33, 3.71, 3.5, 3.78, 0.42, 4.39, 4.5, 4.34, 2.47, 2.44, 4.14, 2.3, 3.57, 3.5, 1.51, 4.37, 4.34, 2.65, 2.44, 4.36, 3.52, 4.37, 4.26, 3.79, 4.48, 2.3, 2.62, 4.37, 2.64, 3.78, 4.48, 3.61, 3.76, 3.65, 4.48, 4.3, 3.65, 4.36, 3.67, 3.76, 3.65, 3.65, 3.64, 3.65, 2.44, 4.36, 3.59, 1.77, 2.69, 4.55, 1.72, 4.23, 2.35, 4.23, 4.31, 3.61, 2.34, 3.78, 2.41, 4.57, 3.53, 3.64, 3.62, 3.41, 4.38, 2.6, 2.62, 4.37, 3.78, 2.57, 4.41, 0.37, 3.58, 3.75, 4.23, 2.35, 4.34, 2.34, 4.35, 4.32, 3.62, 3.37, 3.69, 4.56, 3.78, 4.5, 3.56, 4.46, 3.48, 3.7, 3.62, 4.5, 3.5, 0.42, 3.65, 3.63, 2.61, 3.77, 4.25, 3.64, 2.45, 1.74, 2.45, 4.45, 3.62, 2.44, 4.37, 2.34, 3.59, 3.55, 3.65, 2.43, 2.34, 2.34, 2.62, 4.23, 4.46, 4.39, 2.58, 3.64, 2.43, 3.55, 2.47, 2.57, 4.35, 3.41, 2.37, 1.71, 4.35, 3.65, 3.52, 3.43, 3.65, 3.78, 2.34, 4.25, 3.45, 4.37, 3.75, 2.58, 2.58, 3.58, 3.78, 4.43, 3.45, 2.66, 4.33, 4.43, 4.53, 4.24, 3.65, 4.48, 4.34, 3.58, 3.6, 2.67, 4.45, 3.68, 3.64, 3.59, 1.72, 4.34, 4.35, 2.34, 4.42, 3.64, 3.57, 3.61, 2.66, 1.64, 4.36, 3.4, 3.65, 4.36, 4.35, 3.45, 2.57, 3.78, 2.45, 3.65, 4.27, 2.34, 2.52, 3.45, 3.71, 4.41, 4.43, 2.44, 3.45, 4.46, 3.78, 4.17, 3.78, 4.36, 3.42, 3.64, 3.52, 3.46, 2.7, 3.44, 3.6, 3.58, 2.36, 4.26, 3.78, 4.48, 3.65, 2.34, 3.42, 2.62, 3.77, 3.47, 3.63, 4.41, 2.37, 3.52, 4.48, 2.72, 3.76, 2.57, 2.35, 3.74, 2.64, 3.7, 3.66, 3.78, 2.57, 3.45, 2.68, 3.51, 3.65, 2.61, 4.48, 3.6, 2.6, 2.68, 2.66, 4.33, 3.43, 3.48, 4.36, 3.44, 3.73, 2.6, 3.64, 1.7, 3.58, 4.44, 2.61, 2.34, 1.65, 1.52, 4.48, 3.78, 1.7, 2.44, 3.65, 3.67, 4.44, 2.4, 3.6, 4.36, 3.48, 3.47, 4.39, 3.64, 2.42, 4.48, 4.34, 3.78, 3.76, 2.64, 2.55, 2.73, 3.44, 4.39, 3.78, 3.78, 2.67, 2.38, 2.63, 3.65, 3.53, 3.78, 3.65, 4.48, 3.53, 4.39, 2.65, 2.48, 4.37, 4.45, 4.5, 3.76, 4.34, 2.4, 4.25, 1.48, 3.78, 4.48, 3.63, 2.34, 4.48, 2.36, 3.56, 3.55, 3.65, 4.51, 3.5, 3.52, 3.77, 2.62, 2.34, 4.39, 3.58, 4.34, 4.34, 4.36, 3.77, 4.31, 4.36, 3.61, 2.62, 2.55, 2.37, 4.23, 3.38, 3.63, 3.48, 4.46, 2.39, 4.55, 2.55, 2.63, 3.47, 2.3, 4.48, 4.36, 4.41, 4.35, 4.36, 4.52, 3.65, 2.62, 2.41, 3.71, 3.63, 2.45, 4.22, 4.39, 2.31, 3.45, 3.54, 1.49, 3.77, 4.31, 2.37, 3.48, 2.45, 4.11, 4.36, 2.62, 2.66, 3.64, 3.78, 2.62, 3.61, 3.77, 2.73, 4.48, 2.44, 2.41, 2.69, 3.76, 2.65, 4.44, 3.65, 3.68, 2.45, 3.59, 3.45, 4.44, 4.12, 2.44, 2.28, 2.7, 4.36, 3.47, 3.78, 4.15, 1.7, 3.62, 3.63, 2.43, 4.36, 3.78, 3.5, 3.65, 3.64, 1.65, 3.66, 3.46, 4.39, 4.24, 2.37, 2.43, 4.39, 4.41, 3.63, 4.31, 2.72, 2.42, 4.41, 4.36, 3.78, 2.34, 3.48, 4.43, 4.46, 3.66, 2.41, 2.63, 2.42, 3.65, 1.72, 3.63, 3.55, 2.63, 3.78, 2.68, 4.48, 4.49, 2.45, 4.36, 2.41, 4.37, 4.24, 4.36, 3.56, 3.61, 3.75, 2.44, 4.36, 4.24, 3.47, 3.78, 4.36, 4.49, 4.38, 3.63, 3.65, 3.63, 4.34, 4.39, 4.43, 2.42, 4.38, 3.5, 4.45, 3.48, 0.5, 1.72, 3.51, 3.47, 4.32, 4.35, 4.39, 4.17, 4.24, 2.48, 3.78, 3.46, 2.58, 2.64, 2.34, 2.64, 3.66, 4.38, 2.37, 2.46, 3.78, 4.12, 3.78, 4.13, 4.26, 4.29, 2.55, 4.36, 2.34, 4.34, 4.5, 3.78, 4.39, 4.43, 4.39, 2.35, 2.67, 3.64, 4.34, 3.75, 3.56, 3.64, 2.62, 3.77, 2.72, 4.32, 4.14, 4.38, 4.14, 2.46, 2.65, 4.48, 2.64, 4.33, 3.61, 3.74, 4.34, 3.59, 4.23, 2.35, 4.39, 2.59, 3.44, 3.6, 4.39, 4.49, 2.72, 4.39, 3.46, 4.37, 3.46, 4.13, 4.36, 3.67, 2.43, 3.78, 2.55, 2.58, 4.32, 3.73, 3.76, 3.78, 2.41, 3.57, 3.78, 3.47, 4.23, 4.55, 3.78, 4.59, 4.34, 4.23, 3.58, 3.78, 4.39, 3.63, 2.69, 4.57, 4.23, 1.54, 3.44, 4.24, 3.43, 4.12, 3.63, 3.61, 4.36, 2.38, 3.61, 4.26, 2.62, 4.34, 4.36, 1.65, 3.65, 3.43, 3.65, 4.25, 3.54, 4.39, 3.78, 3.62, 3.43, 4.44, 3.55, 3.55, 3.55, 3.61, 3.75, 3.44, 2.58, 3.58, 3.4, 4.34, 3.63, 3.44, 3.56, 4.32, 3.46, 4.41, 3.42, 4.37, 4.32, 4.48, 4.43, 4.4, 3.65, 3.65, 4.48, 3.79, 3.64, 2.41, 2.63, 3.78, 1.66, 2.66, 3.51, 2.36, 3.7, 4.55, 1.75, 3.54, 3.44, 3.54, 4.39, 4.36, 3.65, 3.58, 4.24, 2.34, 3.62, 2.46, 4.32, 1.74, 3.64, 3.56, 4.14, 3.36, 3.64, 3.45, 4.33, 1.72, 1.74, 3.62, 3.49, 3.44, 4.37, 4.55, 4.45, 3.46, 3.47, 2.36, 3.78, 3.78, 3.63, 3.67, 2.39, 3.44, 3.78, 2.63, 4.36, 2.67, 3.65, 3.38, 3.49, 2.58, 4.36, 2.66, 3.47, 4.36, 3.54, 2.47, 3.64, 3.47, 4.25, 2.61, 2.42, 1.48, 2.63, 3.43, 2.48, 2.67, 3.64, 3.59, 2.35, 2.66, 4.34, 3.64, 3.66, 2.4, 2.5, 2.45, 4.23, 4.36, 4.59, 4.35, 4.14, 4.56, 4.57, 3.48, 3.63, 1.52, 3.69, 4.43, 2.65, 3.45, 3.61, 2.54, 3.63, 4.32, 3.66, 3.42, 3.64, 3.58, 4.34, 3.51, 4.49, 3.45, 2.68, 2.45, 0.5, 2.67, 1.65, 4.35, 3.48, 4.36, 3.76, 4.24, 3.77, 2.65, 4.44, 1.78, 2.32, 3.64, 2.67, 3.56, 4.35, 3.65, 4.34, 2.63, 4.36, 4.39, 4.36, 1.68, 3.68, 4.34, 3.7, 4.39, 2.35, 3.45, 3.45, 3.45, 4.36, 4.39, 4.38, 4.35, 4.54, 2.62, 3.45, 3.5, 2.68, 3.74, 2.41, 2.42, 2.65, 2.4, 2.43, 2.35, 3.63, 3.74, 4.23, 3.76, 3.51, 3.6, 3.48, 2.45, 2.6, 4.48, 1.49, 3.47, 2.48, 3.81, 3.48, 4.33, 3.71, 3.47, 2.45, 3.77, 3.58, 2.62, 3.66, 3.81, 4.34, 4.43, 3.64, 4.26, 3.54, 2.42, 3.6, 3.58, 4.46, 3.65, 3.78, 0.41, 4.39, 3.54, 3.62, 2.4, 1.52, 2.56, 3.62, 1.74, 3.78, 3.78, 3.64, 4.37, 2.7, 4.39, 3.65, 3.46, 3.48, 4.13, 3.64, 3.45, 4.39, 3.58, 3.41, 3.46, 4.11, 4.45, 3.78, 3.77, 2.44, 4.39, 4.38, 3.45, 4.39, 4.37, 3.78, 2.44, 3.63, 4.11, 2.47, 4.55, 3.45, 4.34, 3.56, 4.56, 4.36, 4.37, 3.78, 3.44, 2.64, 3.55, 2.42, 4.36, 3.5, 3.64, 4.39, 3.66, 4.45, 2.4, 2.34, 2.35, 2.63, 3.48, 4.37, 2.41, 4.55, 3.48, 4.39, 4.48, 4.48, 2.68, 3.52, 2.47, 1.63, 2.67, 2.59, 2.37, 1.65, 3.78, 3.61, 4.23, 4.46, 3.46, 4.36, 4.36, 3.65, 3.7, 4.36, 3.78, 2.62, 3.78, 3.74, 2.63, 4.48, 2.47, 3.7, 4.37, 4.58, 4.44, 3.65, 3.64, 3.65, 2.44, 3.59, 3.77, 2.3, 3.63, 4.54, 4.56, 4.49, 4.36, 2.39, 2.55, 1.69, 4.27, 4.23, 4.36, 2.44, 4.34, 3.76, 3.68, 3.78, 4.32, 4.36, 3.77, 4.38, 3.77, 3.77, 3.4, 3.45, 1.74, 4.44, 4.38, 4.24, 2.67, 3.54, 3.62, 2.36, 3.48, 4.48, 4.26, 4.33, 4.5, 2.65, 3.7, 3.76, 4.34, 1.72, 2.43, 2.65, 2.4, 1.74, 3.6, 4.29, 4.39, 4.13, 3.64, 3.78, 3.62, 2.34, 2.46, 2.29, 2.7, 2.62, 4.31, 3.64, 1.75, 4.25, 3.42, 4.49, 4.48, 3.44, 1.71, 0.41, 4.55, 3.44, 3.78, 3.61, 2.69, 3.44, 4.34, 4.25, 2.45, 3.6, 4.23, 1.64, 3.73, 4.57, 4.38, 2.34, 4.34, 3.48, 2.49, 4.24, 4.38, 3.44, 4.14, 3.59, 3.73, 4.34, 3.42, 1.48, 3.78, 2.36, 0.4, 4.36, 1.63, 3.78, 3.38, 3.63, 3.65, 2.43, 4.34, 3.45, 3.58, 4.33, 3.47, 0.41, 1.7, 4.32, 3.47, 3.78, 2.42, 4.34, 3.78, 3.64, 2.47, 3.77, 3.63, 2.49, 3.63, 3.53, 3.64, 2.5, 3.52, 3.63, 4.37, 2.47, 3.64, 3.65, 3.57, 2.69, 3.64, 3.68, 2.32, 2.48, 2.64, 4.46, 2.56, 3.72, 2.64, 4.39, 4.41, 4.39, 4.38, 3.63, 3.44, 3.65, 1.7, 2.67, 4.39, 3.56, 3.65, 4.28, 3.51, 3.65, 4.26, 4.36, 4.46, 4.12, 2.43, 4.36, 3.78, 2.66, 4.39, 3.66, 0.4, 3.5, 1.64, 4.45, 3.65, 4.57, 2.59, 3.45, 3.72, 4.45, 4.49, 2.37, 3.78, 3.77, 3.66, 3.78, 3.47, 1.69, 2.36, 3.58, 3.64, 3.64, 3.5, 3.42, 4.43, 3.77, 3.78, 4.41, 3.55, 4.57, 3.58, 3.73, 3.7, 4.24, 4.58, 4.44, 2.34, 3.5, 3.61, 3.45, 4.13, 2.43, 4.36, 4.43, 4.36, 1.73, 3.54, 2.56, 3.63, 3.5, 3.44, 2.46, 3.47, 3.43, 2.41, 3.37, 3.57, 4.32, 3.42, 3.44, 3.51, 4.17, 3.43, 3.64, 3.75, 2.58, 0.41, 2.42, 3.7, 4.34, 2.43, 2.7, 3.62, 3.78, 4.55, 3.55, 2.65, 3.43, 2.34, 4.12, 3.43, 4.38, 3.44, 4.49, 2.44, 4.41, 2.33, 4.48, 4.34, 3.5, 1.51, 3.46, 0.41, 4.34, 4.43, 4.39, 2.58, 3.47, 4.39, 4.41, 4.36, 4.24, 3.43, 4.38, 4.35, 3.43, 1.67, 4.44, 2.36, 1.68, 2.47, 3.76, 4.39, 3.62, 3.63, 2.63, 2.36, 4.37, 3.54, 2.42, 4.34, 2.69, 3.78, 4.36, 2.64, 4.12, 3.55, 3.4, 3.74, 3.54, 3.45, 3.55, 4.37, 1.75, 2.48, 3.76, 3.47, 3.63, 2.43, 3.77, 4.36, 3.78, 3.78, 2.55, 3.58, 3.48, 3.62, 2.64, 3.47, 4.34, 4.48, 3.57, 2.6, 3.58, 4.36, 4.24, 2.42, 4.56, 3.64, 1.74, 2.66, 0.4, 1.73, 4.24, 3.75, 4.58, 3.47, 4.17, 2.62, 3.7, 3.47, 4.25, 2.45, 3.6, 4.48, 2.45, 4.36, 2.48, 3.62, 4.48, 4.39, 3.47, 4.45, 4.48, 3.64, 2.42, 3.81, 2.42, 4.36, 3.56, 2.3, 3.78, 2.65, 2.44, 3.64, 4.48, 3.78, 3.5, 4.37, 1.51, 2.4, 2.48, 3.61, 3.55, 3.63, 3.45, 4.24, 4.29, 2.58, 1.7, 4.55, 4.59, 3.78, 4.46, 2.43, 2.34, 4.37, 4.46, 4.55, 4.39, 3.75, 2.48, 4.48, 2.45, 3.63, 3.77, 4.39, 3.62, 1.64, 2.42, 3.45, 3.65, 4.36, 3.59, 3.65, 2.41, 3.65, 4.39, 4.43, 3.67, 2.34, 1.73, 2.64, 3.58, 4.24, 2.41, 3.65, 4.57, 2.44, 0.5, 3.49, 3.55, 4.36, 2.62, 3.63, 2.45, 3.6, 2.44, 3.51, 3.6, 2.64, 1.7, 3.52, 3.58, 2.61, 4.34, 1.76, 1.73, 3.48, 4.36, 3.78, 3.43, 4.48, 3.44, 2.57, 3.64, 3.65, 3.48, 3.76, 3.62, 2.66, 0.41, 4.25, 0.5, 4.57, 3.65, 4.48, 3.78, 3.54, 3.47, 4.23, 4.34, 2.35, 2.4, 4.32, 3.61, 0.5, 2.34, 3.62, 3.45, 3.6, 4.39, 4.55, 1.77, 1.78, 4.29, 3.43, 2.72, 3.54, 1.72, 4.46, 2.45, 3.64, 3.65, 4.39, 1.72, 2.63, 3.6, 2.45, 4.37, 4.41, 3.58, 4.36, 2.38, 3.76, 3.73, 3.74, 1.49, 4.43, 3.54, 4.45, 4.36, 3.78, 3.77, 3.48, 2.63, 4.46, 3.57, 4.38, 4.44, 3.43, 1.75, 4.25, 2.55, 2.43, 1.69, 1.69, 3.65, 3.78, 2.47, 3.64, 3.78, 3.6, 3.77, 3.64, 4.23, 3.66, 3.71, 3.47, 3.75, 3.62, 3.58, 3.63, 3.63, 3.64, 4.36, 2.42, 3.64, 1.64, 3.6, 2.42, 3.67, 4.57, 4.48, 1.65, 3.45, 3.61, 2.32, 2.62, 4.34, 3.63, 3.45, 3.53, 3.4, 2.44, 4.12, 3.76, 3.63, 4.48, 4.39, 2.54, 2.56, 3.6, 2.7, 3.5, 3.78, 2.62, 3.62, 1.64, 2.69, 2.62, 2.7, 3.65, 3.64, 3.6, 2.7, 4.39, 1.71, 4.41, 3.48, 2.66, 3.81, 4.36, 4.25, 4.36, 3.78, 1.52, 3.77, 4.34, 4.13, 4.36, 4.39, 4.39, 4.48, 1.65, 2.73, 3.65, 2.48, 4.57, 4.43, 4.14, 4.27, 4.36, 3.64, 2.71, 2.45, 4.13, 2.73, 1.67, 3.46, 3.77, 2.42, 3.62, 3.42, 2.59, 3.41, 3.61, 4.36, 4.36, 4.46, 3.64, 2.54, 3.49, 3.52, 4.31, 3.7, 3.45, 3.54, 3.65, 4.41, 4.55, 2.61, 3.63, 3.46, 1.64, 3.4, 1.52, 4.43, 4.5, 4.23, 3.77, 3.77, 4.24, 3.62, 3.66, 3.64, 3.71, 3.78, 2.35, 3.65, 1.76, 4.36, 3.47, 4.48, 3.65, 4.49, 3.75, 4.31, 3.44, 3.61, 3.64, 2.36, 3.64, 1.73, 4.59, 4.53, 2.34, 4.37, 2.69, 0.41, 3.65, 2.7, 1.65, 3.4, 4.36, 2.55, 2.62, 4.34, 4.12, 3.71, 4.55, 3.64, 2.73, 2.44, 3.67, 2.69, 3.62, 1.75, 3.55, 3.77, 3.58, 4.11, 3.54, 3.55, 4.37, 3.49, 2.44, 4.36, 4.59, 3.45, 2.44, 2.62, 2.4, 4.36, 4.39, 3.45, 4.31, 3.67, 3.44, 4.35, 4.57, 3.61, 1.69, 3.58, 3.7, 1.66, 3.78, 3.44, 3.78, 4.34, 3.78, 3.6, 3.78, 4.44, 3.58, 3.64, 3.78, 4.27, 3.64, 4.33, 3.47, 4.32, 2.48, 3.78, 4.34, 3.62, 3.78, 3.75, 2.67, 2.69, 4.34, 1.5, 2.65, 4.26, 3.58, 3.64, 4.43, 4.37, 2.61, 2.44, 1.46, 3.62, 3.78, 3.58, 3.64, 2.37, 3.65, 4.46, 4.38, 4.48, 1.74, 4.38, 2.72, 1.73, 3.74, 3.5, 4.41, 4.34, 3.48, 3.62, 1.5, 4.39, 4.32, 2.66, 0.5, 4.29, 3.81, 3.46, 3.56, 3.5, 3.57, 3.57, 3.51, 2.55, 3.45, 4.36, 1.49, 3.62, 3.62, 1.67, 4.23, 4.36, 4.14, 3.6, 1.65, 2.3, 3.65, 3.78, 3.74, 3.65, 2.5, 1.64, 2.42, 4.34, 3.6, 2.32, 2.44, 0.37, 3.45, 3.64, 4.38, 4.35, 3.62, 3.64, 3.64, 2.42, 2.42, 3.45, 2.45, 3.63, 2.59, 2.64, 3.78, 3.65, 3.64, 3.78, 2.49, 4.39, 3.47, 3.78, 3.67, 3.76, 3.54, 4.34, 3.46, 3.78, 3.54, 4.31, 3.64, 4.36, 2.54, 4.56, 4.55, 3.77, 3.7, 1.46, 3.52, 3.78, 3.44, 2.56, 4.37, 4.46, 4.44, 3.45, 3.54, 3.78, 4.48, 2.64, 2.62, 2.42, 2.42, 2.48, 2.67, 4.46, 3.6, 3.66, 3.43, 3.51, 4.45, 3.52, 2.69, 3.6, 2.66, 1.64, 4.32, 3.45, 4.33, 3.77, 3.78, 2.54, 3.6, 2.45, 4.12, 4.44, 3.65, 3.65, 3.5, 3.63, 2.63, 4.34, 3.65, 3.77, 3.48, 4.36, 3.46, 2.43, 3.64, 4.45, 4.32, 2.73, 2.62, 3.5, 4.46, 2.72, 3.46, 3.64, 2.29, 3.58, 2.6, 4.39, 4.29, 2.42, 4.41, 4.45, 3.5, 4.34, 2.68, 4.48, 2.34, 3.58, 3.6, 4.24, 3.65, 2.67, 3.63, 3.7, 3.78, 4.36, 3.6, 1.64, 4.49, 3.65, 3.44, 3.62, 3.42, 2.41, 4.39, 2.62, 3.78, 3.62, 3.77, 3.54, 4.49, 4.53, 3.66, 1.67, 4.56, 3.61, 4.36, 4.35, 3.65, 3.75, 4.37, 4.34, 3.65, 3.53, 4.45, 3.76, 2.56, 3.46, 3.65, 4.43, 2.35, 1.69, 3.7, 4.39, 3.7, 3.43, 2.36, 4.34, 2.53, 2.4, 4.34, 3.6, 4.36, 4.59, 4.3, 4.34, 2.62, 3.61, 2.32, 3.67, 4.34, 2.63, 3.67, 4.34, 3.47, 2.38, 3.76, 3.78, 4.5, 3.47, 4.36, 4.25, 2.57, 4.35, 2.62, 3.44, 2.63, 4.55, 3.63, 2.35, 2.72, 4.43, 3.77, 3.52, 3.81, 3.64, 3.63, 3.39, 3.77, 4.45, 2.42, 3.65, 3.66, 4.41, 2.62, 3.64, 3.63, 2.68, 4.35, 4.34, 2.5, 4.34, 4.45, 2.43, 3.47, 3.69, 4.38, 4.37, 2.33, 3.43, 2.45, 3.44, 4.37, 2.64, 3.64, 2.31, 3.54, 3.48, 3.45, 3.65, 4.39, 2.44, 1.69, 0.38, 2.69, 2.68, 2.57, 3.49, 1.73, 3.65, 4.39, 1.69, 4.27, 2.58, 2.62, 4.28, 3.61, 4.34, 1.75, 4.37, 3.71, 3.78, 1.63, 4.44, 4.45, 4.31, 2.57, 4.39, 4.36, 3.66, 3.47, 2.68, 2.33, 3.65, 2.34, 3.63, 3.77, 4.46, 4.45, 3.63, 3.45, 3.54, 2.37, 2.62, 4.34, 1.75, 3.47, 2.68, 3.64, 3.49, 2.44, 2.62, 3.72, 2.62, 4.23, 3.71, 4.45, 0.41, 2.65, 1.51, 3.78, 3.65, 4.29, 3.63, 3.58, 4.25, 3.77, 3.65, 4.24, 4.48, 1.5, 4.36, 2.35, 2.32, 4.43, 2.39, 2.69, 4.5, 3.45, 2.62, 3.65, 4.43, 3.66, 0.37, 4.23, 1.72, 3.45, 4.45, 3.46, 2.69, 4.23, 3.49, 3.71, 4.39, 4.39, 3.54, 3.64, 1.73, 1.69, 3.72, 1.78, 4.32, 4.12, 1.51, 2.73, 3.38, 2.44, 3.63, 3.47, 4.36, 3.78, 3.6, 2.34, 2.54, 3.78, 4.34, 0.41, 4.51, 3.49, 3.64, 4.39, 2.67, 3.4, 3.63, 3.5, 3.44, 2.42, 3.54, 4.12, 2.64, 3.78, 3.7, 4.35, 2.69, 4.34, 3.61, 4.43, 3.43, 3.64, 3.56, 2.69, 3.55, 3.78, 3.78, 3.78, 3.44, 1.7, 4.39, 3.6, 3.5, 3.7, 3.62, 1.72, 4.23, 2.44, 3.4, 2.7, 1.71, 3.56, 2.44, 2.45, 4.46, 1.64, 3.46, 4.36, 3.42, 2.41, 4.39, 4.34, 3.73, 2.37, 4.55, 4.41, 2.45, 1.46, 3.68, 3.77, 3.59, 4.51, 3.55, 3.55, 3.61, 4.34, 2.64, 2.69, 3.64, 4.33, 3.76, 1.65, 4.36, 3.39, 2.29, 4.44, 4.32, 4.35, 3.78, 3.41, 3.74, 4.16, 2.42, 3.62, 4.25, 3.48, 2.42, 3.64, 2.42, 3.52, 1.64, 4.39, 2.46, 4.25, 4.48, 3.55, 2.64, 3.55, 3.76, 3.55, 3.44, 2.38, 3.59, 3.48, 4.34, 2.7, 3.45, 4.24, 2.43, 4.56, 2.61, 3.46, 4.41, 3.77, 3.75, 1.66, 3.61, 3.7, 2.62, 2.62, 2.43, 4.27, 2.64, 1.78, 4.47, 2.62, 3.76, 4.28, 2.59, 3.78, 4.23, 2.35, 4.23, 4.43, 2.45, 2.42, 4.29, 2.44, 3.44, 3.64, 2.58, 4.18, 4.37, 1.76, 0.5, 3.68, 4.48, 4.37, 3.63, 3.65, 4.48, 4.45, 4.39, 4.35, 3.65, 3.44, 4.24, 3.77, 2.41, 2.63, 2.45, 3.49, 3.64, 2.67, 2.39, 4.34, 2.61, 4.34, 3.48, 4.5, 3.63, 4.36, 3.43, 3.71, 4.36, 2.45, 2.42, 3.41, 4.5, 4.23, 3.62, 3.58, 4.34, 4.43, 3.43, 3.46, 4.36, 4.43, 3.65, 2.34, 3.78, 3.65, 3.7, 3.46, 3.77, 2.7, 4.34, 3.58, 4.24, 3.55, 3.78, 4.36, 3.64, 4.36, 4.36, 3.64, 4.43, 2.42, 2.61, 4.41, 3.43, 2.68, 2.42, 3.78, 2.42, 3.53, 4.14, 3.61, 4.34, 4.48, 3.65, 2.67, 4.14, 4.42, 2.68, 4.24, 3.61, 4.26, 2.62, 4.45, 3.75, 4.25, 3.64, 2.65, 4.39, 4.27, 4.39, 4.48, 2.6, 4.39, 4.48, 2.46, 3.55, 3.71, 3.66, 3.58, 3.6, 2.66, 4.32, 2.33, 4.55, 1.74, 2.63, 4.36, 3.78, 3.72, 3.55, 3.47, 3.55, 2.45, 3.48, 4.32, 4.38, 2.7, 2.4, 2.64, 3.43, 3.63, 4.45, 3.75, 4.42, 4.34, 3.63, 3.64, 2.43, 2.42, 2.58, 2.33, 3.6, 2.37, 3.66, 3.47, 4.24, 4.57, 4.38, 4.55, 3.78, 4.24, 3.77, 3.79, 3.66, 1.74, 4.36, 3.71, 2.62, 2.66, 3.59, 4.38, 4.34, 3.49, 2.43, 4.56, 2.35, 4.34, 4.14, 3.62, 1.76, 3.67, 3.51, 3.64, 3.64, 4.59, 4.48, 2.67, 4.39, 3.47, 4.31, 4.39, 4.25, 3.45, 2.59, 2.64, 3.5, 2.62, 3.64, 4.33, 3.43, 4.46, 3.78, 3.64, 3.58, 4.34, 3.65, 2.63, 4.35, 4.56, 2.41, 4.25, 3.75, 4.42, 0.37, 3.45, 2.61, 3.77, 4.39, 3.65, 3.49, 4.37, 2.7, 2.41, 3.78, 3.45, 2.47, 3.53, 4.37, 4.49, 4.44, 4.39, 3.41, 3.57, 4.25, 3.71, 4.5, 3.44, 3.66, 3.65, 2.64, 3.64, 4.36, 2.64, 2.62, 1.75, 3.65, 3.48, 4.26, 3.7, 4.48, 3.77, 4.53, 2.63, 4.24, 2.67, 3.63, 3.46, 2.59, 3.52, 3.62, 3.75, 3.76, 2.34, 4.46, 4.25, 2.41, 4.36, 3.45, 2.43, 4.39, 4.32, 4.46, 3.44, 3.63, 3.44, 2.65, 3.53, 4.48, 4.27, 3.65, 3.49, 3.5, 3.44, 4.36, 0.41, 3.4, 4.34, 3.48, 3.62, 3.51, 4.53, 3.63, 3.67, 4.38, 3.71, 1.7, 2.43, 4.43, 3.65, 3.77, 3.62, 3.5, 4.25, 3.78, 2.59, 3.46, 3.77, 3.64, 3.54, 3.78, 4.31, 4.33, 1.72, 4.39, 1.75, 3.64, 4.38, 2.38, 3.65, 4.18, 4.39, 3.42, 3.45, 4.48, 4.55, 3.42, 4.11, 4.41, 4.45, 1.7, 4.46, 3.76, 2.67, 4.34, 3.76, 4.34, 3.65, 4.12, 4.29, 4.39, 4.39, 4.38, 3.77, 4.39, 3.62, 3.38, 4.39, 4.34, 2.34, 4.41, 4.13, 4.34, 2.62, 1.76, 2.35, 3.55, 3.75, 2.59, 0.37, 3.55, 4.11, 4.43, 3.63, 3.78, 4.56, 3.5, 2.63, 4.59, 3.42, 4.36, 3.76, 3.66, 3.56, 3.78, 3.5, 3.42, 3.53, 3.43, 4.49, 3.63, 2.63, 1.65, 3.68, 1.67, 2.64, 4.34, 3.65, 4.36, 3.65, 3.63, 4.36, 3.65, 3.66, 1.63, 4.44, 3.63, 4.38, 3.6, 2.64, 4.34, 3.56, 4.36, 1.74, 3.78, 3.46, 3.46, 3.45, 3.77, 2.33, 3.77, 3.78, 4.48, 3.54, 2.34, 3.78, 3.67, 4.24, 4.34, 4.24, 2.63, 1.52, 4.48, 4.39, 2.73, 4.32, 4.37, 3.68, 2.43, 4.39, 4.27, 4.32, 4.36, 3.58, 4.43, 3.76, 3.63, 3.62, 4.35, 3.5, 3.55, 3.64, 1.69, 4.59, 3.56, 2.35, 3.49, 2.57, 4.49, 4.36, 3.69, 2.42, 0.41, 3.48, 2.69, 4.44, 3.62, 3.56, 3.81, 4.37, 3.61, 3.66, 3.76, 4.38, 3.62, 3.64, 4.35, 2.59, 3.64, 3.64, 3.78, 2.48, 3.78, 3.79, 3.58, 3.67, 3.64, 3.78, 4.45, 4.38, 4.55, 3.56, 3.77, 2.42, 2.34, 3.65, 3.52, 2.54, 3.52, 3.36, 3.65, 4.36, 3.64, 4.48, 3.35, 2.35, 2.45, 2.45, 4.34, 4.48, 1.69, 3.78, 3.59, 3.77, 3.56, 3.65, 2.42, 4.58, 3.61, 1.51, 2.42, 4.29, 3.45, 2.64, 4.34, 3.61, 2.66, 4.45, 2.64, 3.61, 3.64, 3.63, 2.64, 4.26, 4.32, 3.58, 4.39, 3.78, 2.69, 3.46, 3.58, 4.45, 2.43, 4.36, 3.56, 3.67, 3.67, 4.13, 3.78, 4.35, 4.39, 3.63, 4.39, 3.47, 1.71, 3.46, 4.32, 4.24, 3.63, 3.64, 3.45, 3.55, 1.72, 3.61, 3.48, 2.36, 2.54, 4.38, 3.65, 3.64, 4.44, 4.24, 3.65, 2.47, 2.42, 2.37, 4.23, 4.56, 4.14, 3.78, 4.41, 3.53, 3.78, 4.25, 3.45, 3.39, 3.47, 3.75, 4.44, 3.45, 3.66, 2.38, 3.67, 2.68, 3.59, 4.35, 4.4, 4.44, 4.45, 3.29, 4.23, 2.62, 2.58, 2.63, 4.25, 4.36, 2.62, 4.23, 4.35, 4.48, 3.64, 2.45, 2.34, 3.62, 3.5, 3.6, 3.78, 4.39, 2.45, 3.65, 4.34, 4.31, 4.37, 4.38, 2.41, 2.42, 2.66, 3.64, 4.48, 3.78, 4.57, 4.46, 4.39, 3.71, 3.5, 3.65, 2.7, 4.55, 3.63, 4.23, 2.67, 4.38, 3.45, 2.61, 3.64, 2.6, 4.23, 4.36, 4.34, 4.43, 4.17, 1.7, 4.57, 2.61, 2.63, 2.63, 0.52, 4.16, 2.6, 3.69, 3.45, 2.42, 3.63, 4.37, 4.38, 3.65, 4.57, 4.32, 2.7, 3.65, 3.45, 3.55, 2.38, 2.47, 4.39, 3.51, 4.35, 4.55, 1.7, 4.49, 2.43, 2.36, 2.46, 3.64, 3.61, 2.57, 4.48, 4.39, 4.39, 4.48, 3.53, 4.36, 4.55, 3.62, 4.13, 1.73, 3.77, 3.75, 2.42, 3.65, 2.44, 3.47, 3.78, 3.46, 3.78, 3.59, 2.37, 4.39, 3.65, 3.49, 3.48, 4.42, 3.58, 2.29, 4.33, 3.63, 2.34, 4.39, 4.38, 3.47, 4.13, 4.39, 3.71, 2.72, 3.73, 1.73, 3.45, 3.56, 2.69, 1.74, 2.35, 4.58, 3.5, 3.64, 4.4, 4.17, 4.13, 4.12, 4.43, 2.64, 2.57, 3.41, 3.47, 4.56, 4.38, 3.64, 3.47, 4.39, 3.65, 2.63, 4.33, 3.41, 3.45, 4.48, 4.48, 3.72, 3.62, 3.4, 3.77, 2.44, 3.37, 4.48, 3.47, 4.39, 4.37, 3.63, 4.41, 1.72, 2.68, 2.54, 4.34, 2.63, 4.44, 4.36, 3.63, 4.49, 3.7, 4.26, 2.34, 3.78, 4.59, 2.44, 3.43, 3.65, 2.37, 4.39, 2.45, 3.78, 3.44, 3.65, 3.69, 3.54, 2.36, 1.72, 2.67, 2.63, 4.55, 3.58, 4.34, 2.67, 2.42, 3.54, 4.41, 3.78, 2.33, 4.39, 4.39, 2.73, 1.74, 2.7, 4.39, 4.25, 4.41, 4.45, 4.39, 3.49, 4.39, 3.46, 4.38, 1.74, 4.55, 3.47, 4.36, 3.64, 4.35, 3.63, 1.73, 3.78, 2.36, 3.63, 4.46, 1.76, 4.37, 3.65, 3.65, 3.59, 3.49, 3.7, 2.54, 3.65, 3.5, 4.39, 4.18, 2.39, 3.63, 3.44, 2.57, 3.44, 3.44, 3.5, 1.72, 3.55, 2.41, 4.17, 4.53, 2.32, 3.81, 2.45, 3.61, 3.41, 3.78, 3.65, 3.65, 4.37, 2.32, 3.47, 1.74, 2.42, 4.47, 3.46, 4.35, 3.63, 3.63, 2.61, 3.6, 3.78, 3.54, 2.34, 2.46, 4.39, 3.78, 3.58, 3.77, 3.79, 2.72, 3.64, 3.46, 4.39, 4.36, 1.46, 3.61, 4.36, 3.71, 3.33, 3.78, 4.37, 3.65, 4.18, 3.52, 2.7, 3.64, 4.39, 3.6, 3.65, 4.34, 3.63, 4.41, 3.65, 2.44, 4.41, 3.49, 4.37, 2.45, 3.72, 3.67, 3.66, 3.77, 3.71, 2.65, 3.78, 4.23, 3.61, 3.51, 2.59, 4.35, 3.78, 4.44, 3.78, 4.26, 3.65, 3.39, 4.45, 3.78, 3.64, 4.59, 3.69, 3.37, 3.64, 3.61, 3.74, 3.71, 2.57, 2.48, 4.35, 3.65, 2.63, 3.55, 3.64, 3.65, 1.73, 4.22, 3.66, 4.39, 4.46, 3.74, 1.49, 3.41, 3.77, 2.36, 3.65, 4.32, 2.62, 2.63, 3.71, 3.63, 3.65, 4.25, 3.58, 2.38, 3.64, 4.38, 3.44, 2.62, 4.48, 4.5, 2.34, 4.38, 4.41, 3.77, 4.37, 4.49, 3.65, 3.77, 2.36, 3.62, 3.48, 3.77, 3.44, 3.45, 4.26, 3.65, 3.78, 3.61, 3.47, 2.43, 3.78, 3.42, 4.35, 3.64, 4.12, 4.28, 3.61, 4.25, 4.27, 3.78, 4.3, 3.78, 4.43, 3.63, 3.54, 3.75, 4.46, 4.12, 3.81, 3.65, 3.78, 4.55, 3.75, 4.45, 3.71, 3.77, 2.65, 3.51, 2.62, 3.51, 4.45, 3.46, 4.32, 1.64, 3.61, 4.36, 2.43, 3.46, 3.47, 4.36, 4.26, 2.66, 4.38, 2.35, 3.64, 1.76, 3.6, 4.23, 4.43, 3.65, 3.69, 3.78, 2.7, 4.38, 4.34, 2.61, 4.15, 3.65, 4.39, 4.35, 3.47, 3.64, 3.7, 3.46, 4.46, 1.49, 3.44, 3.47, 1.64, 3.65, 3.78, 4.39, 2.54, 3.5, 4.37, 4.37, 4.39, 3.78, 2.64, 4.41, 4.33, 3.65, 3.46, 4.35, 2.62, 4.46, 3.78, 3.48, 2.58, 4.41, 4.41, 2.62, 4.49, 2.43, 3.63, 3.6, 2.64, 2.45, 4.43, 4.24, 4.33, 4.35, 4.48, 4.36, 3.64, 3.41, 2.62, 2.44, 3.44, 3.52, 3.64, 3.76, 3.73, 3.64, 3.71, 4.59, 3.78, 2.64, 3.61, 3.63, 4.24, 2.7, 2.77, 3.81, 2.62, 3.58, 0.5, 2.36, 3.65, 2.68, 3.44, 3.78, 4.36, 3.55, 3.52, 2.63, 3.6, 3.77, 3.44, 1.5, 4.55, 1.69, 3.47, 1.78, 1.49, 3.48, 3.65, 4.43, 4.41, 3.42, 3.64, 2.62, 2.48, 3.64, 3.44, 4.39, 4.44, 1.64, 2.69, 2.41, 2.29, 3.71, 2.33, 2.36, 2.42, 1.51, 4.41, 3.4, 2.35, 3.78, 3.47, 3.48, 3.52, 3.45, 2.36, 3.61, 4.39, 4.5, 4.36, 4.14, 4.36, 3.43, 2.42, 3.51, 3.47, 2.44, 4.41, 4.15, 2.57, 4.37, 4.31, 1.73, 4.55, 3.41, 4.36, 3.58, 2.41, 2.45, 3.72, 2.47, 4.44, 3.65, 2.44, 3.64, 3.48, 4.24, 3.62, 3.43, 2.36, 3.65, 4.35, 4.39, 3.44, 4.14, 3.54, 4.26, 3.75, 4.32, 3.78, 3.64, 2.65, 2.67, 4.45, 2.57, 3.78, 3.48, 3.65, 4.33, 3.65, 3.78, 2.65, 3.66, 3.57, 2.69, 3.64, 4.41, 3.45, 3.48, 3.64, 4.25, 3.65, 4.49, 4.24, 3.46, 3.65, 4.36, 3.45, 3.64, 3.78, 2.32, 3.48, 2.7, 4.36, 4.43, 2.45, 4.58, 3.42, 4.45, 4.33, 4.46, 3.41, 4.48, 2.46, 4.24, 4.36, 3.75, 4.44, 4.55, 3.45, 3.78, 3.78, 3.63, 4.53, 3.43, 0.41, 2.42, 2.61, 2.42, 4.48, 4.57, 3.78, 4.26, 1.67, 2.44, 4.36, 1.46, 4.41, 4.34, 3.76, 3.59, 4.39, 3.58, 1.48, 3.63, 4.14, 4.48, 1.65, 3.62, 3.53, 3.64, 3.78, 3.68, 3.48, 2.36, 3.51, 4.39, 4.34, 4.29, 4.43, 4.48, 4.36, 2.59, 3.77, 3.78, 2.45, 3.5, 2.45, 2.45, 3.45, 2.32, 3.55, 4.38, 4.45, 4.39, 3.77, 2.66, 2.73, 4.34, 3.6, 4.12, 4.34, 3.6, 4.5, 1.7, 2.63, 3.59, 3.58, 3.65, 3.65, 4.34, 2.53, 3.78, 4.14, 4.36, 2.46, 3.65, 1.46, 1.46, 4.43, 2.71, 3.62, 1.72, 4.36, 2.4, 2.64, 3.78, 2.65, 3.55, 2.41, 2.56, 3.62, 2.46, 2.62, 4.41, 4.38, 3.37, 2.34, 4.36, 3.42, 3.45, 4.39, 2.58, 4.38, 3.64, 4.23, 4.25, 4.4, 3.78, 3.44, 2.46, 3.65, 2.43, 3.51, 4.48, 3.54, 4.32, 2.44, 3.51, 4.25, 2.44, 3.77, 3.54, 4.37, 3.78, 4.48, 3.62, 4.39, 2.66, 4.38, 3.41, 3.64, 4.36, 2.55, 3.52, 2.44, 4.28, 4.38, 4.37, 3.75, 4.36, 1.7, 2.46, 3.7, 4.24, 2.42, 4.24, 3.6, 4.32, 3.44, 4.39, 2.54, 4.39, 2.42, 3.58, 2.64, 3.78, 4.24, 3.77, 3.55, 3.47, 2.45, 2.64, 4.39, 3.48, 4.12, 3.46, 3.43, 3.77, 4.41, 2.37, 4.34, 2.37, 3.71, 3.45, 3.75, 3.62, 4.36, 4.36, 4.39, 3.62, 2.7, 3.44, 4.12, 2.36, 3.63, 2.68, 3.75, 3.75, 3.75, 4.36, 3.71, 3.49, 3.77, 4.24, 4.28, 3.64, 4.36, 4.34, 3.48, 4.5, 3.51, 4.59, 2.33, 3.49, 4.15, 3.59, 2.4, 4.59, 3.64, 3.45, 3.42, 2.44, 2.62, 3.55, 2.64, 3.64, 4.12, 1.73, 2.58, 3.52, 2.42, 3.5, 2.71, 4.35, 4.23, 3.64, 4.35, 2.34, 2.42, 3.63, 3.55, 2.63, 3.54, 3.5, 2.4, 3.45, 0.52, 2.44, 2.57, 3.45, 3.52, 2.44, 4.41, 4.41, 2.71, 3.78, 4.35, 3.61, 4.38, 3.63, 3.55, 2.69, 3.45, 3.58, 3.44, 3.65, 3.4, 1.72, 1.67, 4.36, 3.77, 4.37, 4.5, 3.58, 2.63, 3.5, 4.38, 3.62, 4.43, 3.44, 3.7, 2.58, 4.14, 2.32, 1.65, 3.59, 4.45, 3.71, 3.76, 3.77, 4.59, 2.54, 2.72, 2.62, 3.63, 2.46, 3.6, 3.54, 3.7, 4.24, 2.62, 3.44, 4.25, 2.57, 2.64, 3.66, 3.76, 4.36, 4.29, 2.61, 3.43, 3.65, 3.47, 2.44, 2.38, 2.56, 3.74, 2.34, 3.69, 3.48, 4.3, 2.61, 1.75, 3.65, 3.78, 3.67, 3.45, 1.78, 3.41, 2.41, 4.48, 3.77, 3.46, 4.39, 2.38, 1.75, 3.63, 2.4, 3.47, 3.46, 4.36, 2.41, 3.58, 3.61, 3.56, 3.73, 4.28, 3.64, 4.5, 4.39, 3.77, 3.46, 4.37, 3.65, 3.75, 4.55, 3.78, 3.62, 3.65, 2.5, 4.14, 4.39, 2.72, 4.36, 2.55, 3.64, 3.54, 0.41, 2.44, 3.62, 4.5, 2.64, 4.26, 3.78, 4.41, 4.36, 3.59, 4.41, 4.43, 3.58, 3.42, 3.64, 3.78, 4.41, 3.56, 4.48, 4.45, 4.31, 1.48, 3.75, 3.46, 2.63, 3.63, 4.36, 3.64, 4.34, 4.32, 3.61, 3.44, 3.66, 4.44, 2.69, 1.52, 3.56, 3.46, 3.53, 3.64, 2.64, 4.14, 4.57, 2.42, 4.32, 3.78, 4.55, 4.45, 3.65, 2.69, 4.15, 4.44, 2.4, 3.73, 3.78, 1.68, 3.7, 0.5, 4.37, 2.61, 3.63, 4.53, 1.51, 1.75, 2.64, 3.52, 3.76, 3.51, 4.38, 3.5, 4.39, 2.44, 2.57, 3.52, 3.77, 4.48, 1.49, 3.78, 2.33, 3.7, 3.55, 2.49, 3.45, 3.46, 3.64, 2.35, 3.48, 3.64, 2.35, 3.6, 4.55, 3.78, 3.78, 3.44, 3.62, 3.62, 3.56, 3.78, 2.34, 4.39, 3.61, 3.6, 3.58, 3.62, 3.5, 4.39, 3.61, 3.78, 4.59, 4.36, 0.5, 3.61, 3.6, 3.64, 3.65, 3.78, 4.12, 4.49, 3.64, 4.34, 2.65, 4.38, 3.77, 4.12, 2.63, 2.65, 4.56, 4.36, 3.48, 4.49, 2.56, 3.63, 4.37, 2.63, 3.59, 4.43, 3.65, 2.57, 3.55, 4.41, 3.48, 3.44, 2.63, 2.55, 4.48, 3.48, 3.46, 2.47, 3.64, 3.65, 3.63, 3.65, 3.77, 4.35, 3.78, 3.57, 3.7, 3.37, 3.64, 2.41, 3.78, 3.78, 3.77, 3.61, 2.64, 4.55, 3.46, 4.38, 4.39, 0.41, 4.43, 4.36, 4.32, 2.4, 3.47, 3.44, 3.55, 3.65, 4.49, 3.47, 3.6, 4.14, 1.74, 3.65, 3.51, 3.45, 2.48, 4.38, 4.32, 3.5, 2.3, 2.55, 3.38, 4.35, 4.26, 2.61, 3.78, 4.26, 4.35, 3.78, 4.26, 4.41, 3.58, 4.29, 2.39, 4.23, 2.43, 4.15, 4.39, 3.78, 2.34, 3.78, 3.7, 4.37, 3.7, 3.61, 3.6, 2.67, 3.6, 4.48, 3.64, 4.36, 1.7, 2.44, 3.47, 4.41, 2.39, 2.54, 3.71, 2.43, 3.65, 4.34, 4.36, 4.39, 3.61, 1.51, 3.7, 4.29, 3.47, 3.63, 3.61, 4.57, 4.57, 3.62, 4.49, 1.63, 3.74, 4.35, 1.69, 1.67, 3.65, 3.45, 3.68, 2.41, 3.61, 3.77, 4.48, 2.29, 4.5, 3.58, 2.62, 4.53, 4.5, 3.55, 3.63, 4.44, 3.77, 3.68, 2.62, 3.77, 2.66, 3.56, 3.75, 3.6, 3.68, 3.69, 4.51, 1.65, 3.63, 2.58, 2.68, 3.65, 4.36, 2.68, 3.54, 4.24, 4.39, 2.42, 2.44, 4.44, 3.62, 2.48, 4.43, 2.67, 3.75, 3.63, 2.67, 3.65, 1.72, 4.43, 2.37, 2.45, 3.67, 3.47, 2.41, 3.78, 3.44, 2.3, 3.61, 2.62, 3.41, 4.39, 2.56, 3.73, 3.41, 3.58, 3.63, 4.56, 2.37, 3.64, 3.64, 4.26, 4.36, 3.74, 3.65, 2.42, 4.36, 4.37, 2.68, 4.27, 3.63, 4.15, 4.37, 2.63, 4.5, 4.46, 2.54, 2.35, 3.77, 3.5, 3.78, 3.77, 2.48, 4.29, 4.35, 3.46, 3.63, 1.75, 3.65, 2.49, 3.46, 2.67, 1.76, 4.24, 1.74, 1.48, 3.47, 2.46, 3.63, 3.7, 3.49, 3.78, 3.66, 3.77, 4.26, 4.59, 3.48, 4.39, 2.65, 3.56, 3.64, 1.71, 4.23, 3.66, 3.77, 2.52, 4.38, 2.62, 4.23, 3.65, 3.65, 3.55, 1.74, 3.58, 2.44, 2.7, 3.67, 2.48, 3.54, 2.7, 1.64, 3.73, 4.34, 3.44, 2.63, 3.49, 4.38, 3.69, 3.49, 3.49, 4.36, 4.55, 2.55, 4.37, 4.13, 1.74, 3.48, 4.37, 3.43, 3.54, 3.36, 4.56, 4.38, 3.47, 4.31, 4.36, 2.42, 2.55, 3.64, 3.46, 4.34, 3.5, 4.35, 4.42, 3.46, 4.32, 4.45, 2.41, 4.32, 2.65, 0.41, 4.28, 3.61, 4.55, 3.81, 2.7, 3.46, 4.37, 3.78, 4.37, 3.63, 3.58, 3.47, 3.6, 3.4, 2.72, 4.39, 3.79, 2.69, 2.4, 3.77, 4.44, 4.24, 2.68, 3.49, 3.78, 3.42, 1.71, 4.39, 2.37, 3.77, 3.64, 1.74, 4.44, 4.38, 2.63, 4.36, 3.48, 3.7, 2.7, 4.33, 3.63, 4.23, 4.12, 2.29, 2.43, 4.42, 3.76, 3.77, 4.24, 3.78, 4.18, 3.44, 3.4, 2.33, 4.56, 3.5, 2.61, 3.49, 3.48, 4.45, 2.35, 3.7, 4.43, 4.39, 4.34, 4.14, 2.68, 1.74, 4.34, 4.34, 4.12, 3.6, 2.63, 3.63, 3.71, 4.37, 2.65, 4.45, 2.34, 4.36, 3.65, 4.43, 1.75, 2.43, 3.43, 3.77, 3.6, 3.6, 4.37, 3.64, 1.7, 3.47, 0.42, 2.36, 4.23, 4.43, 3.58, 2.45, 4.35, 4.58, 3.57, 2.72, 3.75, 4.34, 4.14, 3.78, 4.45, 3.46, 3.77, 4.34, 4.34, 3.65, 2.66, 4.38, 2.48, 4.34, 0.5, 3.64, 3.6, 4.13, 3.77, 4.45, 4.38, 0.37, 4.39, 4.38, 3.64, 4.43, 4.34, 3.44, 4.39, 2.64, 3.54, 2.62, 4.41, 4.35, 4.34, 4.56, 2.34, 3.78, 4.48, 0.36, 4.48, 4.57, 1.69, 3.59, 2.68, 3.7, 2.65, 4.25, 1.78, 3.64, 3.74, 2.62, 4.45, 4.34, 4.5, 3.76, 3.49, 4.39, 2.43, 3.58, 2.57, 3.76, 3.45, 2.43, 3.77, 3.64, 3.51, 3.63, 4.5, 2.56, 2.34, 2.32, 3.78, 4.36, 2.64, 4.48, 2.47, 3.79, 3.42, 4.34, 3.77, 4.27, 2.64, 3.64, 3.65, 2.69, 2.44, 3.44, 2.34, 2.66, 4.55, 3.65, 2.51, 3.78, 3.63, 3.45, 3.58, 4.36, 4.26, 2.53, 2.42, 2.35, 4.35, 4.27, 3.75, 3.65, 3.37, 3.65, 3.78, 4.25, 3.66, 4.39, 3.64, 2.54, 4.36, 3.54, 2.34, 3.61, 0.37, 3.54, 3.61, 4.55, 4.34, 4.5, 4.31, 3.55, 3.78, 3.69, 2.49, 3.77, 3.78, 2.45, 3.7, 3.46, 4.31, 3.77, 4.55, 3.61, 4.17, 4.48, 4.39, 3.44, 3.64, 3.59, 3.81, 2.36, 3.7, 3.49, 2.61, 3.51, 4.34, 3.7, 3.41, 4.34, 2.62, 3.7, 4.25, 4.48, 4.48, 3.66, 4.42, 3.54, 2.61, 3.58, 1.63, 3.62, 3.51, 2.63, 3.64, 3.47, 4.39, 3.58, 3.77, 3.78, 3.77, 3.65, 3.7, 3.78, 1.71, 4.25, 2.69, 3.64, 1.76, 2.42, 2.72, 3.49, 2.34, 3.67, 4.44, 3.64, 4.59, 4.48, 4.13, 2.73, 4.34, 4.39, 3.63, 4.36, 2.36, 1.69, 4.35, 3.58, 3.65, 2.45, 2.48, 3.65, 3.4, 3.62, 2.47, 3.46, 1.47, 3.65, 3.79, 4.34, 3.6, 4.46, 3.75, 3.65, 3.45, 2.42, 2.34, 4.36, 1.7, 1.72, 3.65, 4.55, 3.62, 4.5, 2.65, 3.62, 2.67, 3.44, 4.29, 2.69, 3.58, 3.36, 1.51, 4.36, 2.43, 4.48, 3.64, 3.63, 4.39, 3.78, 3.64, 1.69, 4.5, 3.69, 3.77, 2.42, 3.58, 3.73, 3.75, 4.49, 3.76, 3.64, 2.66, 3.52, 3.66, 3.58, 4.39, 2.44, 3.63, 3.47, 4.53, 3.48, 3.78, 3.52, 2.62, 3.65, 3.5, 4.14, 3.47, 3.56, 3.61, 3.46, 1.67, 2.37, 3.64, 4.35, 3.77, 2.33, 2.32, 3.65, 3.47, 3.64, 3.62, 3.71, 4.36, 2.43, 4.37, 3.67, 2.41, 4.14, 4.45, 4.25, 3.41, 3.52, 3.4, 3.61, 3.43, 4.48, 4.35, 2.36, 3.45, 3.47, 3.54, 2.66, 3.6, 3.65, 3.48, 4.23, 4.23, 4.36, 3.58, 3.66, 3.58, 2.65, 4.25, 2.65, 2.4, 3.41, 4.57, 3.78, 2.63, 3.65, 4.43, 2.36, 2.45, 1.51, 4.39, 4.59, 3.64, 3.48, 2.54, 2.36, 4.38, 4.32, 4.35, 3.46, 3.78, 3.64, 2.43, 2.44, 3.65, 2.35, 3.44, 2.4, 3.65, 3.78, 4.39, 2.45, 2.63, 4.36, 4.26, 3.44, 3.35, 2.45, 3.63, 0.41, 2.65, 3.71, 4.36, 2.45, 1.68, 4.43, 2.68, 3.78, 2.59, 3.43, 3.46, 4.34, 2.61, 3.77, 3.42, 3.47, 3.55, 3.55, 3.64, 3.73, 3.69, 3.45, 4.44, 2.58, 2.27, 4.55, 3.49, 3.65, 3.65, 2.7, 3.64, 2.61, 4.34, 3.78, 2.63, 3.44, 3.47, 4.36, 2.34, 3.77, 3.71, 2.5, 3.7, 4.35, 1.69, 2.42, 3.64, 3.64, 3.76, 3.47, 2.41, 4.48, 3.58, 4.48, 3.45, 4.41, 4.39, 4.33, 3.78, 4.36, 3.67, 4.51, 4.37, 1.54, 2.47, 4.46, 4.46, 2.55, 2.62, 4.36, 4.39, 4.39, 1.46, 3.5, 4.35, 2.55, 4.36, 3.78, 3.67, 2.42, 2.62, 3.78, 2.67, 3.48, 4.15, 3.47, 4.34, 4.39, 3.6, 4.24, 4.39, 3.45, 4.39, 3.61, 2.62, 3.61, 1.67, 3.64, 3.81, 3.78, 3.74, 3.65, 4.48, 4.32, 4.36, 4.24, 2.32, 4.33, 3.44, 2.67, 3.58, 4.38, 3.64, 4.48, 4.49, 3.77, 2.54, 4.37, 4.49, 3.44, 3.64, 1.49, 4.59, 3.46, 2.68, 2.42, 3.4, 3.45, 3.55, 3.53, 3.78, 4.48, 3.44, 2.37, 3.61, 4.48, 3.41, 3.63, 3.4, 2.62, 4.49, 4.24, 4.34, 4.36, 1.74, 3.47, 2.41, 4.48, 4.36, 3.44, 2.55, 4.34, 3.6, 3.43, 4.24, 1.67, 4.37, 4.41, 4.36, 4.48, 4.48, 3.76, 1.64, 2.61, 2.34, 3.58, 0.37, 3.66, 2.62, 4.33, 3.45, 3.77, 2.67, 3.59, 3.41, 3.79, 3.49, 2.34, 4.23, 3.41, 2.65, 2.45, 3.58, 2.47, 4.48, 4.34, 3.78, 3.51, 4.13, 2.43, 4.16, 3.78, 4.56, 3.6, 2.35, 3.64, 2.5, 2.34, 2.35, 2.62, 4.34, 3.43, 4.26, 4.27, 3.53, 3.7, 3.48, 3.62, 3.78, 4.55, 4.44, 2.44, 3.45, 3.38, 3.58, 3.54, 2.45, 3.65, 2.48, 3.55, 4.34, 4.25, 1.51, 1.69, 2.68, 2.47, 4.57, 3.47, 3.53, 4.4, 4.39, 3.41, 3.55, 4.23, 2.42, 3.78, 3.78, 4.49, 3.64, 3.47, 4.24, 3.76, 3.65, 3.5, 4.24, 4.27, 3.7, 3.78, 3.76, 3.77, 3.63, 3.55, 2.38, 2.54, 4.38, 3.41, 4.35, 2.45, 3.72, 3.44, 4.49, 3.61, 3.78, 2.61, 2.37, 2.67, 2.68, 3.54, 3.59, 3.64, 4.55, 4.43, 4.24, 4.26, 3.5, 4.46, 4.36, 4.5, 1.68, 2.64, 2.63, 3.42, 3.45, 3.5, 3.65, 3.64, 3.78, 3.63, 3.76, 2.42, 4.39, 3.42, 4.32, 3.61, 4.34, 4.34, 4.37, 3.81, 3.62, 4.56, 4.38, 3.77, 2.43, 3.78, 1.46, 3.63, 2.65, 2.42, 3.64, 2.42, 4.45, 4.45, 3.76, 4.38, 3.65, 4.39, 4.38, 3.71, 4.35, 4.37, 3.51, 3.5, 3.46, 3.43, 3.78, 3.5, 4.43, 4.35, 4.39, 4.35, 4.43, 4.35, 3.61, 3.55, 4.39, 3.55, 4.51, 2.62, 3.69, 1.74, 3.64, 3.76, 3.37, 2.45, 3.55, 3.46, 4.48, 1.7, 3.48, 3.7, 3.74, 4.38, 3.49, 3.6, 3.64, 3.46, 4.39, 4.26, 3.78, 3.64, 2.65, 3.45, 3.46, 4.32, 4.45, 3.45, 4.15, 2.66, 2.61, 3.61, 3.52, 4.48, 2.41, 3.65, 3.38, 4.57, 1.64, 2.42, 3.64, 4.5, 4.11, 2.34, 2.34, 3.64, 2.66, 3.46, 1.77, 4.34, 3.63, 1.78, 2.41, 4.44, 3.78, 1.74, 4.34, 4.53, 0.41, 3.62, 2.7, 3.55, 2.45, 4.36, 1.7, 4.5, 4.38, 3.64, 4.46, 3.64, 2.44, 3.78, 1.78, 3.78, 2.65, 3.78, 4.34, 4.23, 3.63, 2.55, 3.77, 3.69, 2.64, 3.5, 4.44, 4.39, 2.34, 3.48, 0.42, 4.34, 4.33, 2.43, 3.75, 4.41, 3.77, 2.77, 4.24, 4.32, 4.38, 2.62, 4.45, 4.26, 3.77, 3.46, 2.51, 3.53, 4.44, 3.63, 3.43, 3.61, 2.62, 4.23, 3.64, 3.64, 4.43, 3.72, 4.38, 1.78, 3.44, 2.7, 3.78, 4.41, 3.78, 4.38, 4.43, 4.5, 1.51, 4.35, 3.78, 2.69, 1.75, 3.81, 2.38, 3.44, 2.61, 4.38, 3.53, 3.65, 3.78, 2.43, 4.48, 4.23, 4.24, 2.7, 2.34, 0.42, 4.24, 1.65, 3.78, 3.6, 3.6, 2.4, 4.31, 4.36, 3.5, 4.13, 3.54, 4.48, 3.67, 3.78, 2.7, 3.46, 4.39, 3.61, 3.77, 3.64, 2.68, 4.45, 3.64, 2.5, 3.52, 3.42, 4.32, 3.78, 3.64, 3.44, 4.39, 2.44, 3.65, 3.64, 3.56, 3.63, 3.65, 2.42, 4.39, 3.43, 2.71, 3.48, 2.61, 4.34, 3.44, 3.78, 2.44, 4.38, 2.66, 4.36, 2.54, 3.77, 4.43, 4.48, 0.42, 2.69, 3.78, 2.44, 3.42, 3.62, 3.4, 2.36, 2.64, 2.35, 3.65, 3.64, 3.62, 2.44, 3.54, 3.65, 4.36, 3.43, 3.57, 4.38, 4.39, 2.37, 3.63, 3.71, 4.48, 4.17, 3.65, 4.49, 3.74, 2.48, 4.14, 2.59, 3.6, 3.72, 4.48, 4.38, 4.44, 3.71, 3.48, 2.57, 3.81, 4.23, 3.54, 4.39, 2.37, 4.36, 4.48, 2.4, 2.65, 3.43, 3.42, 2.67, 2.42, 3.44, 2.52, 3.44, 3.54, 1.75, 3.63, 2.66, 3.64, 3.79, 2.67, 3.44, 2.45, 3.48, 2.68, 2.37, 3.44, 4.43, 2.65, 2.45, 1.64, 2.35, 3.48, 2.44, 2.4, 4.16, 2.44, 2.45, 3.74, 1.69, 4.27, 3.45, 2.36, 4.43, 3.45, 3.75, 4.33, 3.71, 4.39, 3.65, 4.36, 4.39, 4.32, 3.65, 3.65, 4.59, 2.54, 4.43, 2.45, 4.39, 3.38, 2.7, 4.23, 4.37, 3.58, 4.46, 4.39, 3.75, 3.58, 4.39, 4.39, 2.45, 1.72, 3.49, 4.52, 3.63, 4.34, 4.35, 2.51, 3.48, 4.36, 4.33, 3.68, 4.59, 3.64, 2.4, 3.77, 3.67, 3.78, 3.45, 4.38, 4.39, 2.41, 4.46, 2.47, 3.76, 2.45, 2.61, 2.61, 3.79, 3.78, 4.46, 3.46, 3.41, 3.48, 3.62, 3.5, 2.42, 3.65, 3.69, 4.25, 3.61, 3.45, 3.55, 2.47, 3.4, 3.44, 3.64, 2.7, 4.36, 4.41, 3.78, 4.39, 2.44, 3.61, 3.78, 3.66, 2.62, 4.24, 3.52, 4.33, 4.39, 4.39, 3.47, 2.54, 3.66, 2.57, 2.66, 2.41, 2.43, 2.48, 4.25, 4.44, 3.78, 3.77, 3.78, 2.46, 1.48, 4.27, 3.61, 2.69, 3.65, 4.26, 1.64, 4.39, 3.68, 3.42, 3.75, 2.58, 2.42, 3.78, 2.41, 4.49, 3.74, 2.7, 4.48, 3.66, 0.42, 3.61, 1.48, 3.63, 4.41, 4.36, 3.6, 3.4, 3.77, 3.65, 4.38, 1.66, 3.43, 3.61, 3.64, 3.78, 3.46, 2.44, 3.67, 2.65, 3.64, 4.36, 4.34, 2.29, 3.5, 2.62, 3.55, 3.44, 2.42, 3.52, 2.66, 3.76, 4.48, 4.35, 4.56, 1.67, 4.36, 3.49, 3.64, 2.69, 3.69, 3.6, 3.64, 3.43, 3.71, 3.77, 3.5, 3.38, 3.6, 3.65, 3.71, 3.48, 1.52, 4.48, 3.43, 4.35, 3.7, 2.62, 2.7, 2.63, 2.34, 2.65, 4.38, 3.63, 4.48, 2.65, 0.41, 4.26, 2.45, 3.46, 4.38, 4.25, 4.36, 4.48, 4.34, 2.46, 3.78, 2.57, 4.38, 4.36, 2.45, 3.65, 3.46, 2.39, 4.45, 3.68, 2.66, 1.65, 4.35, 4.32, 4.36, 2.69, 3.65, 2.62, 2.68, 3.65, 3.44, 1.74, 4.39, 2.42, 2.45, 3.58, 3.78, 4.38, 4.32, 4.57, 4.39, 2.7, 4.46, 3.44, 3.76, 4.32, 4.52, 4.24, 4.45, 3.48, 4.18, 3.44, 3.55, 2.64, 4.23, 3.72, 3.49, 3.66, 2.36, 2.6, 4.34, 3.61, 3.6, 3.78, 3.67, 2.66, 1.78, 2.39, 4.47, 3.44, 4.36, 4.56, 4.48, 3.51, 2.45, 0.46, 3.66, 4.53, 4.55, 4.39, 2.67, 4.42, 3.68, 3.43, 3.65, 2.4, 3.45, 3.43, 3.6, 3.63, 2.34, 4.43, 1.48, 3.43, 3.53, 4.24, 2.63, 4.24, 3.46, 2.43, 4.34, 3.41, 3.65, 4.39, 2.48, 3.41, 4.32, 2.63, 2.41, 3.44, 3.46, 1.72, 3.59, 2.64, 2.66, 3.41, 3.41, 4.39, 2.36, 4.37, 4.5, 4.48, 3.66, 3.7, 3.68, 4.45, 3.78, 3.59, 3.48, 2.66, 3.47, 4.27, 4.39, 3.61, 3.71, 2.66, 3.44, 3.49, 3.65, 4.56, 2.61, 3.55, 3.75, 3.53, 4.36, 4.39, 3.42, 4.39, 3.64, 2.69, 2.44, 2.36, 3.56, 4.29, 3.52, 4.26, 3.44, 3.78, 3.77, 4.5, 3.64, 3.6, 4.45, 4.46, 4.59, 4.39, 3.59, 4.25, 3.61, 2.64, 3.45, 3.6, 2.63, 3.65, 3.48, 2.68, 2.67, 3.78, 3.58, 4.32, 3.48, 4.37, 2.44, 3.77, 2.41, 2.58, 3.46, 3.63, 3.64, 3.61, 4.55, 4.32, 3.64, 2.43, 3.61, 4.35, 4.48, 3.64, 3.48, 3.46, 4.34, 3.78, 4.37, 4.25, 3.62, 4.39, 4.4, 2.36, 2.54, 3.54, 2.65, 4.39, 4.38, 3.65, 4.12, 4.48, 3.53, 3.44, 2.45, 1.52, 3.44, 4.48, 3.72, 3.45, 3.78, 4.36, 3.78, 4.26, 3.46, 1.52, 4.39, 4.25, 2.34, 4.55, 4.39, 2.61, 3.61, 4.43, 2.35, 3.65, 4.4, 3.67, 3.67, 3.73, 3.51, 4.32, 4.3, 0.4, 2.63, 4.25, 3.7, 1.74, 3.78, 1.69, 1.64, 3.52, 2.39, 4.32, 4.48, 3.65, 2.65, 3.49, 3.71, 4.36, 3.42, 4.34, 4.44, 0.4, 2.35, 3.48, 4.48, 1.47, 3.79, 3.7, 4.48, 4.32, 3.71, 4.14, 3.49, 4.43, 4.41, 2.36, 4.12, 4.37, 3.64, 3.63, 3.64, 3.47, 2.42, 3.78, 2.41, 3.44, 1.74, 3.45, 2.32, 3.76, 3.78, 3.77, 4.48, 3.6, 3.61, 0.51, 4.23, 2.41, 4.37, 4.38, 4.34, 4.24, 4.45, 3.66, 2.62, 2.43, 3.78, 4.34, 3.63, 2.65, 3.75, 3.6, 2.37, 2.42, 3.41, 4.36, 3.69, 3.65, 3.64, 3.56, 3.6, 4.34, 3.55, 3.64, 3.66, 2.66, 3.55, 4.59, 4.43, 3.66, 3.6, 3.47, 2.68, 2.43, 4.37, 2.39, 3.64, 3.78, 4.37, 3.64, 3.56, 3.63, 2.54, 3.59, 4.38, 4.18, 4.37, 4.53, 3.47, 3.65, 3.77, 3.63, 2.64, 3.58, 4.41, 3.62, 3.49, 2.3, 2.34, 3.58, 4.37, 2.45, 4.5, 3.66, 3.55, 3.44, 1.69, 2.42, 3.71, 4.15, 3.78, 3.53, 4.45, 3.53, 4.36, 4.49, 4.34, 3.64, 2.54, 3.57, 3.75, 3.4, 4.34, 2.64, 3.64, 4.48, 4.34, 3.6, 3.53, 2.44, 2.69, 3.78, 3.6, 4.48, 4.36, 3.47, 3.71, 4.34, 3.78, 3.64, 3.43, 4.27, 2.47, 4.25, 2.65, 2.69, 4.36, 3.58, 1.73, 3.78, 1.68, 3.6, 4.34, 3.43, 3.5, 3.78, 3.75, 3.44, 4.34, 3.76, 4.5, 3.67, 3.7, 2.43, 3.65, 3.77, 2.42, 4.19, 3.64, 4.36, 1.66, 3.61, 3.78, 3.66, 3.63, 4.55, 4.55, 3.63, 4.39, 3.46, 3.6, 3.61, 2.67, 3.72, 4.55, 3.65, 2.39, 4.53, 3.43, 1.72, 3.45, 3.47, 2.72, 3.48, 4.25, 1.65, 4.38, 3.73, 4.24, 3.43, 4.39, 3.65, 3.78, 2.41, 3.78, 4.5, 2.35, 4.23, 3.78, 3.46, 3.78, 2.73, 2.66, 4.32, 2.71, 3.64, 3.61, 2.35, 2.43, 4.38, 2.63, 4.5, 3.56, 2.55, 2.44, 2.45, 3.64, 2.34, 3.65, 3.76, 3.48, 3.55, 4.48, 4.48, 1.69, 2.47, 1.65, 3.52, 3.64, 3.52, 3.61, 4.48, 3.64, 4.32, 3.59, 4.55, 4.41, 3.65, 3.7, 2.77, 3.46, 4.44, 3.49, 4.48, 3.62, 4.34, 4.43, 2.42, 1.72, 4.34, 3.64, 2.63, 1.64, 2.68, 2.6, 2.44, 4.24, 4.36, 2.69, 0.4, 2.34, 3.78, 4.36, 3.78, 4.34, 4.41, 4.23, 3.58, 3.5, 4.48, 3.47, 2.62, 3.81, 4.18, 4.45, 3.63, 1.68, 3.64, 2.41, 4.39, 3.45, 3.43, 3.64, 3.67, 2.58, 3.78, 2.64, 2.46, 4.42, 3.64, 3.53, 2.67, 3.48, 3.71, 3.78, 3.49, 4.39, 3.45, 3.45, 4.59, 3.75, 3.63, 4.22, 2.49, 4.48, 4.43, 4.54, 3.7, 3.5, 3.49, 2.32, 3.78, 3.65, 3.59, 2.67, 3.64, 3.76, 3.54, 2.34, 3.64, 4.48, 4.48, 2.62, 2.29, 3.78, 2.7, 4.29, 3.78, 1.52, 4.36, 4.34, 3.64, 4.38, 1.67, 4.46, 2.34, 4.49, 4.39, 1.67, 3.44, 4.56, 2.34, 3.41, 4.34, 4.39, 4.38, 2.45, 3.58, 1.48, 3.63, 2.44, 4.39, 3.6, 3.56, 3.54, 3.51, 3.77, 3.77, 1.51, 3.64, 3.47, 2.42, 3.54, 3.79, 3.78, 4.34, 3.65, 3.58, 3.63, 2.48, 3.65, 4.36, 4.43, 3.78, 3.78, 3.55, 3.5, 3.79, 4.48, 4.37, 3.62, 3.44, 3.54, 0.45, 4.48, 4.36, 3.72, 3.44, 3.7, 2.58, 2.43, 3.5, 3.73, 3.46, 4.24, 2.36, 3.52, 2.44, 3.57, 3.47, 3.61, 2.69, 3.78, 3.69, 3.33, 4.38, 3.58, 3.41, 3.77, 4.25, 3.63, 4.34, 4.37, 3.78, 4.46, 3.78, 3.65, 2.45, 3.55, 3.64, 2.47, 4.39, 4.34, 3.44, 3.74, 3.41, 3.55, 3.63, 4.34, 3.53, 4.17, 3.76, 3.59, 3.59, 4.39, 4.48, 3.44, 3.55, 2.58, 2.7, 3.45, 4.18, 3.78, 4.43, 0.4, 4.35, 3.61, 3.44, 3.47, 3.77, 2.64, 3.61, 3.71, 4.57, 3.65, 1.48, 4.36, 4.34, 2.48, 3.77, 4.44, 3.54, 3.7, 3.63, 2.32, 2.61, 2.73, 3.46, 4.34, 3.45, 4.34, 2.69, 3.63, 3.69, 2.56, 3.5, 3.59, 4.48, 3.73, 2.63, 3.64, 3.54, 3.51, 2.62, 1.52, 3.6, 3.49, 3.54, 4.45, 4.39, 3.65, 2.32, 3.78, 2.56, 4.23, 4.32, 2.37, 3.64, 4.34, 2.34, 3.58, 2.33, 4.34, 1.72, 4.52, 2.69, 3.65, 3.76, 3.78, 3.65, 3.78, 2.4, 3.64, 3.6, 3.76, 3.64, 2.7, 3.78, 3.65, 3.78, 4.38, 3.58, 3.47, 4.46, 0.37, 3.64, 3.77, 3.48, 3.78, 4.36, 1.74, 3.78, 4.39, 1.74, 3.64, 3.44, 2.67, 3.78, 3.52, 4.41, 2.42, 3.76, 3.65, 4.43, 3.56, 3.63, 3.65, 3.48, 2.7, 3.63, 3.65, 3.74, 3.43, 4.55, 4.37, 1.7, 2.62, 4.19, 4.34, 4.16, 2.45, 2.34, 3.78, 3.78, 4.38, 3.61, 3.45, 2.62, 2.34, 4.39, 2.71, 2.42, 3.65, 4.26, 4.36, 3.64, 2.37, 4.25, 1.69, 3.64, 3.56, 4.36, 4.36, 3.65, 2.7, 2.69, 4.31, 4.2, 3.64, 4.55, 2.42, 4.48, 3.65, 2.34, 4.36, 0.39, 3.44, 3.6, 3.56, 4.53, 1.64, 2.67, 3.64, 3.78, 4.23, 3.77, 1.75, 2.65, 3.47, 2.37, 2.41, 4.34, 4.34, 4.17, 4.17, 3.62, 3.65, 3.78, 4.11, 2.43, 4.14, 3.64, 2.66, 2.42, 2.57, 4.48, 4.48, 0.5, 4.26, 3.61, 2.63, 2.62, 4.37, 2.61, 3.49, 3.64, 3.78, 2.69, 2.36, 3.64, 3.45, 4.34, 4.37, 3.77, 4.54, 2.62, 3.78, 3.6, 2.54, 2.66, 4.34, 0.5, 4.34, 4.27, 4.36, 4.45, 4.37, 3.46, 2.49, 3.51, 4.41, 3.61, 3.77, 2.35, 4.11, 3.52, 4.32, 3.71, 2.63, 4.28, 3.54, 4.57, 3.78, 3.49, 2.56, 4.38, 4.37, 2.63, 3.77, 2.43, 3.76, 2.57, 4.41, 3.74, 4.57, 2.65, 3.43, 2.34, 3.43, 3.6, 3.44, 4.34, 2.41, 3.69, 1.72, 3.81, 4.38, 3.77, 2.67, 2.62, 4.43, 4.34, 4.41, 4.37, 2.34, 3.78, 3.43, 2.4, 4.48, 4.36, 4.37, 2.66, 4.25, 3.48, 2.34, 3.78, 4.38, 3.64, 2.62, 2.3, 3.69, 1.73, 2.69, 4.32, 2.72, 3.65, 2.68, 2.45, 4.39, 4.39, 3.65, 1.76, 3.46, 4.55, 3.4, 3.61, 3.6, 3.64, 2.34, 3.33, 3.6, 3.4, 4.36, 4.38, 1.66, 3.73, 4.48, 2.7, 1.68, 2.44, 2.33, 2.46, 4.38, 1.71, 3.45, 3.56, 4.32, 2.48, 3.7, 2.55, 4.34, 4.48, 2.48, 2.69, 3.45, 3.78, 3.65, 2.57, 4.24, 3.71, 4.45, 3.55, 2.62, 2.7, 2.63, 2.62, 3.65, 2.63, 4.36, 1.52, 4.38, 3.71, 4.29, 3.46, 2.68, 4.36, 1.73, 4.24, 4.48, 2.42, 3.77, 4.39, 3.78, 2.42, 3.64, 2.45, 1.77, 2.66, 3.6, 3.65, 3.63, 4.55, 3.47, 3.7, 2.45, 4.48, 3.76, 3.65, 4.38, 2.64, 3.5, 3.43, 3.78, 2.73, 4.41, 4.23, 2.52, 3.45, 3.37, 3.77, 4.39, 4.59, 4.45, 3.45, 3.67, 2.37, 4.39, 4.36, 3.77, 2.56, 3.61, 2.48, 3.71, 4.39, 4.38, 2.69, 1.47, 3.4, 4.32, 0.42, 3.78, 3.62, 4.35, 4.12, 3.58, 4.24, 4.59, 3.73, 3.65, 3.58, 4.34, 4.36, 2.44, 3.64, 3.78, 3.5, 2.62, 1.46, 4.34, 3.65, 4.38, 4.59, 3.64, 2.61, 3.62, 1.67, 2.36, 3.64, 3.54, 4.13, 2.44, 4.48, 2.41, 4.5, 3.63, 3.61, 1.7, 3.77, 4.38, 2.47, 3.65, 4.34, 3.47, 3.62, 3.63, 3.5, 3.78, 1.68, 4.32, 2.65, 4.38, 4.49, 4.57, 1.7, 1.75, 3.5, 3.66, 2.5, 1.5, 2.65, 4.13, 3.4, 4.39, 3.78, 2.46, 3.54, 4.3, 2.46, 3.53, 4.37, 2.65, 3.63, 4.37, 3.78, 4.38, 3.4, 4.38, 3.65, 4.43, 4.32, 4.34, 3.61, 2.69, 1.72, 2.65, 1.66, 4.48, 3.77, 2.72, 4.51, 2.32, 4.36, 3.45, 1.78, 4.56, 4.34, 4.17, 3.61, 3.44, 2.34, 2.42, 2.7, 3.47, 4.36, 3.49, 3.45, 2.56, 4.49, 3.44, 4.41, 4.36, 3.64, 3.65, 2.7, 4.11, 4.36, 4.37, 2.42, 3.48, 4.36, 3.78, 3.53, 4.37, 3.71, 4.32, 4.18, 3.58, 3.44, 3.62, 3.77, 4.49, 4.36, 3.78, 4.25, 3.48, 2.69, 3.6, 4.36, 1.7, 3.62, 3.77, 2.41, 2.34, 3.65, 4.55, 4.39, 2.66, 2.63, 4.57, 4.33, 3.58, 4.36, 3.78, 2.29, 2.66, 3.33, 3.64, 4.46, 3.77, 3.76, 4.39, 2.34, 3.79, 4.29, 3.53, 2.61, 3.43, 3.65, 3.6, 1.74, 3.73, 3.41, 3.78, 2.42, 4.23, 4.29, 2.42, 3.71, 2.35, 3.49, 4.32, 4.43, 3.63, 3.66, 3.77, 4.31, 4.49, 4.49, 3.49, 4.19, 3.53, 3.51, 3.48, 4.36, 2.7, 3.63, 2.65, 4.48, 3.61, 3.58, 2.57, 4.48, 1.48, 3.65, 2.65, 4.58, 4.28, 3.63, 4.35, 3.5, 4.41, 3.41, 4.57, 2.44, 3.62, 3.5, 3.65, 3.76, 3.62, 4.48, 3.4, 4.43, 3.76, 2.62, 3.44, 4.25, 3.64, 3.7, 3.78, 3.52, 4.58, 3.49, 4.38, 2.36, 2.65, 4.32, 3.47, 4.34, 3.37, 2.65, 2.42, 2.42, 3.69, 2.69, 1.52, 2.42, 3.71, 3.61, 4.48, 3.6, 2.66, 3.69, 3.61, 4.46, 2.61, 1.74, 4.25, 4.55, 4.43, 3.64, 4.32, 3.55, 1.51, 3.78, 3.73, 2.36, 3.75, 3.61, 3.65, 4.43, 4.37, 2.65, 4.35, 2.36, 2.36, 4.59, 3.63, 2.69, 2.58, 3.58, 3.63, 0.41, 4.36, 3.76, 3.41, 4.34, 2.45, 2.63, 3.71, 3.45, 4.36, 2.68, 3.68, 4.41, 3.75, 4.34, 2.41, 1.67, 4.32, 3.44, 4.43, 3.65, 1.7, 4.36, 3.54, 3.45, 2.63, 2.34, 4.35, 2.4, 3.78, 3.65, 1.78, 3.43, 1.77, 3.7, 3.63, 3.5, 3.78, 3.58, 2.67, 3.55, 3.51, 2.4, 2.63, 4.48, 4.12, 3.64, 2.72, 3.51, 2.73, 3.76, 2.64, 3.62, 3.65, 4.45, 2.62, 3.46, 4.37, 2.63, 4.46, 4.42, 3.54, 4.37, 3.44, 2.36, 3.81, 4.39, 3.63, 3.73, 4.41, 4.48, 3.62, 4.32, 4.39, 4.48, 4.43, 2.61, 4.12, 3.44, 3.64, 2.69, 3.37, 2.68, 3.63, 3.64, 3.65, 3.81, 2.69, 4.46, 3.5, 2.7, 2.63, 3.56, 4.36, 4.43, 3.64, 3.64, 3.43, 3.57, 4.17, 4.11, 4.39, 3.61, 4.36, 3.64, 4.34, 4.43, 2.63, 3.45, 4.12, 3.78, 3.58, 3.63, 3.62, 3.62, 3.5, 3.56, 4.29, 3.43, 4.36, 4.41, 3.73, 3.63, 3.52, 3.7, 3.51, 3.65, 2.66, 3.5, 4.39, 0.5, 3.78, 3.77, 4.5, 3.47, 3.41, 4.36, 3.64, 3.51, 3.49, 2.41, 3.64, 4.31, 4.44, 4.32, 1.74, 3.64, 3.63, 2.47, 3.65, 2.45, 4.39, 3.64, 2.7, 4.41, 1.46, 3.78, 3.54, 2.42, 2.53, 4.34, 3.44, 2.42, 1.7, 3.41, 4.58, 3.58, 3.57, 3.6, 4.33, 4.31, 3.6, 3.61, 2.65, 4.38, 2.55, 4.13, 3.77, 2.34, 3.66, 3.55, 2.37, 3.63, 2.42, 4.34, 3.78, 3.45, 1.52, 3.77, 2.67, 3.55, 4.37, 2.55, 3.78, 3.45, 3.58, 3.78, 2.41, 3.78, 2.67, 3.48, 2.55, 2.68, 3.58, 1.64, 1.5, 4.39, 2.41, 3.77, 4.37, 3.65, 2.5, 4.34, 3.65, 3.6, 4.5, 3.45, 2.42, 3.64, 4.38, 2.69, 3.64, 3.41, 4.37, 3.46, 3.41, 3.75, 2.63, 3.51, 3.78, 3.64, 4.34, 2.36, 3.5, 2.44, 4.34, 3.54, 3.52, 2.38, 3.65, 2.71, 4.48, 3.71, 3.47, 4.55, 3.7, 4.24, 4.39, 4.32, 3.77, 3.62, 3.77, 3.46, 4.13, 2.63, 4.35, 1.65, 4.45, 3.78, 1.68, 3.72, 4.18, 4.32, 4.35, 4.46, 3.66, 2.58, 3.61, 3.65, 3.78, 3.64, 2.42, 2.43, 3.71, 3.51, 3.36, 4.24, 3.43, 3.44, 3.46, 4.31, 2.65, 1.69, 4.26, 3.78, 4.18, 4.37, 4.44, 3.73, 3.65, 3.64, 4.35, 4.37, 3.77, 3.78, 3.76, 3.6, 1.48, 3.78, 3.61, 2.68, 1.77, 2.45, 4.23, 3.75, 3.64, 3.48, 2.42, 2.62, 4.39, 4.34, 4.39, 2.34, 2.49, 3.51, 2.56, 1.75, 4.48, 2.43, 4.24, 3.61, 2.42, 4.23, 3.49, 3.78, 4.34, 3.48, 2.62, 4.19, 3.49, 3.5, 3.61, 2.44, 4.48, 4.36, 4.34, 3.65, 2.35, 2.39, 3.77, 3.53, 4.45, 4.48, 2.63, 3.47, 4.45, 4.34, 2.44, 3.64, 1.78, 4.41, 3.4, 4.48, 4.11, 3.63, 2.58, 4.39, 3.66, 2.3, 4.45, 4.46, 3.78, 3.45, 3.49, 3.55, 3.47, 2.63, 3.65, 3.64, 2.42, 3.59, 3.47, 4.48, 2.36, 2.36, 4.39, 3.59, 3.44, 3.78, 2.73, 3.78, 3.63, 3.64, 3.48, 4.41, 3.5, 4.36, 4.34, 2.65, 1.66, 3.65, 3.66, 3.65, 3.53, 4.38, 2.45, 3.78, 4.41, 3.49, 3.81, 1.71, 2.61, 3.73, 2.48, 2.62, 2.7, 0.41, 3.78, 3.78, 4.38, 3.61, 3.78, 4.33, 3.5, 4.39, 2.62, 3.55, 3.46, 3.5, 3.78, 4.39, 3.58, 3.61, 4.56, 3.76, 0.36, 3.65, 3.78, 3.78, 4.17, 3.78, 4.34, 4.28, 4.34, 4.56, 3.37, 3.63, 4.48, 2.45, 4.39, 3.58, 3.49, 3.78, 3.7, 2.56, 4.17, 3.42, 3.37, 4.43, 1.68, 2.71, 3.47, 4.18, 3.48, 3.75, 3.65, 4.34, 3.7, 3.44, 4.5, 4.34, 4.49, 3.45, 3.59, 3.71, 3.4, 3.61, 2.67, 4.23, 4.38, 2.33, 2.56, 4.48, 3.65, 1.52, 4.39, 3.51, 4.32, 4.41, 3.61, 4.36, 2.64, 3.62, 4.26, 3.75, 4.43, 1.73, 4.24, 4.37, 4.36, 4.14, 3.53, 4.46, 3.78, 2.64, 3.43, 4.34, 2.7, 3.78, 3.46, 3.65, 2.66, 1.72, 4.48, 4.39, 3.61, 2.43, 4.27, 4.16, 3.54, 2.61, 3.64, 4.36, 3.41, 4.44, 3.63, 2.38, 3.66, 4.49, 3.6, 3.65, 2.62, 3.62, 3.75, 2.46, 3.51, 2.62, 4.36, 3.73, 1.74, 2.45, 4.44, 4.36, 4.25, 4.56, 3.7, 4.34, 2.44, 4.31, 3.58, 3.6, 2.59, 4.32, 2.37, 2.62, 2.67, 3.44, 3.4, 1.7, 2.62, 4.35, 3.61, 4.35, 2.34, 3.58, 3.55, 4.39, 4.19, 4.56, 3.63, 4.38, 3.67, 3.7, 3.7, 3.48, 3.48, 4.48, 4.23, 4.36, 3.55, 4.33, 4.34, 4.48, 3.71, 4.45, 4.36, 3.65, 3.59, 3.56, 4.34, 2.64, 4.27, 4.25, 0.45, 2.7, 3.58, 4.41, 4.36, 4.34, 2.62, 4.34, 4.39, 3.44, 2.55, 2.45, 3.6, 3.47, 2.36, 4.26, 2.44, 3.62, 4.14, 4.39, 3.52, 3.44, 4.43, 3.59, 3.65, 3.66, 4.39, 1.73, 2.7, 4.27, 3.63, 3.44, 2.36, 4.45, 3.63, 3.71, 3.45, 2.36, 2.36, 2.5, 4.45, 4.11, 3.63, 3.77, 3.54, 3.65, 4.38, 3.78, 4.44, 1.55, 3.72, 3.5, 2.69, 4.32, 4.34, 3.44, 3.64, 3.64, 2.67, 4.35, 3.74, 2.46, 2.45, 3.63, 2.46, 3.49, 2.34, 1.5, 4.3, 3.65, 4.39, 4.48, 4.13, 3.46, 3.6, 4.33, 3.43, 3.63, 4.58, 1.48, 4.46, 2.64, 3.49, 3.77, 3.64, 3.5, 3.48, 3.58, 3.78, 4.34, 2.72, 2.45, 3.61, 3.47, 4.44, 2.37, 2.59, 4.48, 4.38, 3.7, 3.44, 3.78, 3.64, 4.49, 3.78, 3.65, 3.64, 3.46, 4.38, 3.5, 3.7, 3.44, 3.42, 2.63, 3.73, 3.75, 3.45, 4.26, 3.46, 3.5, 3.49, 3.7, 2.69, 3.79, 4.37, 4.23, 2.4, 4.38, 3.45, 4.37, 4.36, 4.41, 4.55, 2.48, 3.65, 4.2, 3.49, 4.24, 4.38, 4.23, 3.64, 4.48, 2.54, 4.49, 2.43, 1.76, 3.6, 4.45, 3.78, 4.56, 3.75, 4.33, 3.44, 3.66, 4.57, 3.71, 2.62, 4.46, 3.78, 3.42, 1.66, 3.49, 3.63, 4.34, 4.39, 3.46, 3.58, 3.71, 3.72, 2.64, 3.77, 4.24, 3.78, 3.44, 3.77, 2.48, 3.58, 3.63, 3.78, 4.38, 4.12, 4.56, 2.61, 3.53, 4.45, 3.54, 3.51, 3.43, 3.65, 3.44, 4.55, 2.41, 2.57, 1.69, 2.35, 2.57, 2.65, 4.32, 2.47, 3.66, 3.63, 3.64, 3.48, 2.45, 4.41, 3.61, 4.44, 3.65, 2.72, 1.66, 4.32, 2.37, 4.41, 2.68, 3.65, 3.78, 2.62, 4.35, 3.78, 2.43, 4.38, 3.66, 3.45, 3.53, 4.41, 2.43, 1.7, 2.57, 3.46, 4.36, 3.43, 2.29, 2.35, 4.33, 4.34, 3.78, 2.42, 3.44, 4.48, 3.74, 4.5, 4.34, 4.43, 3.7, 3.66, 2.58, 4.24, 4.13, 4.34, 4.32, 3.5, 3.71, 2.64, 3.78, 4.43, 3.78, 4.32, 3.46, 3.64, 2.44, 3.47, 3.62, 3.64, 3.71, 3.65, 3.78, 3.65, 2.72, 3.48, 4.37, 4.48, 4.23, 2.43, 2.61, 3.78, 4.34, 2.34, 4.34, 2.64, 2.58, 3.65, 3.57, 3.57, 2.64, 2.66, 2.69, 2.67, 2.63, 3.63, 3.54, 3.49, 3.58, 4.16, 3.64, 3.45, 4.43, 4.5, 4.32, 3.76, 2.45, 2.4, 3.64, 2.63, 3.64, 3.5, 3.63, 4.3, 3.65, 3.72, 4.34, 3.65, 0.5, 3.78, 3.47, 2.37, 1.7, 2.42, 2.43, 4.53, 3.77, 2.66, 4.34, 4.32, 3.41, 4.38, 4.39, 2.57, 3.78, 2.59, 3.64, 4.39, 3.73, 3.78, 2.45, 2.36, 3.42, 3.56, 3.66, 3.78, 3.6, 3.64, 2.7, 2.64, 1.76, 4.39, 2.63, 2.36, 3.47, 4.34, 3.65, 3.78, 3.66, 4.34, 2.54, 3.77, 3.78, 4.39, 4.26, 2.7, 3.73, 4.36, 4.32, 4.5, 3.6, 3.64, 4.39, 3.78, 3.67, 3.41, 4.39, 2.62, 3.46, 2.41, 4.48, 3.56, 3.63, 2.71, 3.64, 2.65, 3.78, 4.36, 2.44, 3.46, 2.34, 2.55, 1.76, 2.7, 2.34, 4.24, 3.65, 2.46, 3.64, 3.44, 3.55, 3.48, 2.64, 3.47, 4.13, 2.61, 3.65, 4.13, 2.69, 3.73, 3.55, 4.23, 2.64, 4.36, 4.48, 2.29, 4.56, 4.36, 4.39, 3.66, 3.53, 3.78, 2.41, 3.78, 2.45, 4.45, 3.64, 3.65, 3.57, 4.36, 4.24, 0.41, 4.45, 3.74, 3.64, 4.34, 3.44, 2.61, 3.64, 3.6, 2.36, 2.65, 3.76, 3.64, 4.46, 2.35, 3.42, 3.7, 2.37, 4.48, 3.62, 3.75, 4.33, 0.5, 2.42, 3.61, 2.42, 2.31, 4.27, 2.42, 4.39, 3.78, 3.44, 4.35, 4.36, 4.44, 2.62, 4.31, 4.37, 4.34, 4.36, 3.51, 3.6, 3.76, 2.56, 2.45, 4.39, 3.42, 3.64, 3.65, 3.51, 4.25, 3.52, 2.69, 2.36, 3.65, 3.65, 3.78, 3.78, 1.51, 2.45, 4.24, 3.43, 3.55, 3.78, 3.78, 4.36, 2.62, 4.5, 3.78, 2.65, 4.39, 3.67, 4.56, 4.35, 4.37, 4.46, 1.77, 4.38, 4.46, 3.65, 4.23, 4.37, 1.74, 4.43, 4.36, 3.56, 4.57, 2.42, 3.46, 4.32, 4.34, 2.34, 3.75, 4.39, 4.36, 3.63, 3.48, 4.31, 0.45, 2.41, 4.25, 2.34, 3.64, 3.53, 4.48, 3.76, 4.47, 4.34, 2.44, 4.39, 4.39, 4.47, 3.58, 4.41, 3.79, 4.34, 3.78, 2.57, 3.41, 4.36, 3.77, 3.79, 3.57, 4.39, 4.34, 2.42, 4.38, 2.39, 3.65, 1.71, 4.17, 4.43, 4.4, 2.34, 3.77, 4.43, 4.5, 4.36, 2.4, 4.45, 1.47, 3.63, 4.16, 2.42, 4.45, 4.36, 2.64, 2.58, 3.67, 1.69, 3.55, 3.54, 2.34, 2.62, 3.41, 3.78, 3.77, 3.51, 3.78, 2.42, 4.43, 2.3, 3.78, 3.62, 1.72, 4.12, 3.62, 4.36, 4.56, 3.62, 4.55, 3.67, 3.64, 4.37, 2.61, 4.48, 3.49, 2.37, 3.67, 2.67, 3.53, 4.32, 1.79, 2.36, 3.61, 4.39, 2.56, 1.78, 3.77, 3.58, 4.32, 3.45, 4.34, 4.43, 2.65, 3.6, 3.51, 4.41, 4.56, 2.66, 3.62, 3.6, 3.46, 2.64, 2.54, 4.53, 3.78, 3.73, 3.47, 3.76, 3.58, 2.65, 4.33, 4.35, 4.36, 3.66, 3.56, 3.4, 1.67, 4.23, 2.7, 2.43, 2.61, 2.56, 2.47, 3.58, 2.34, 4.34, 2.62, 3.71, 3.59, 3.46, 4.41, 1.69, 3.58, 4.59, 2.4, 0.41, 1.72, 3.64, 3.78, 3.63, 3.52, 2.42, 3.37, 3.65, 3.35, 2.61, 3.52, 4.26, 3.71, 3.62, 3.44, 3.44, 4.41, 4.24, 4.36, 2.72, 3.65, 2.44, 4.45, 2.54, 3.44, 4.39, 3.78, 3.77, 4.31, 1.75, 2.3, 2.38, 4.24, 3.45, 3.78, 4.32, 3.62, 2.62, 4.51, 2.54, 4.36, 3.65, 3.81, 1.69, 4.44, 3.52, 2.44, 3.49, 4.41, 4.32, 4.44, 4.46, 2.33, 2.68, 3.6, 4.37, 2.48, 4.5, 3.58, 2.42, 4.23, 2.62, 3.42, 4.34, 2.32, 4.46, 4.34, 2.36, 3.64, 2.44, 3.78, 3.64, 1.69, 2.63, 3.45, 4.39, 4.35, 3.37, 1.69, 4.49, 1.47, 4.25, 1.74, 3.49, 3.47, 3.64, 4.38, 3.64, 3.63, 3.65, 3.46, 4.44, 2.7, 3.65, 4.16, 4.41, 1.76, 3.6, 3.58, 3.73, 3.6, 4.35, 0.42, 3.78, 3.43, 3.58, 3.65, 3.58, 3.45, 3.65, 4.14, 2.58, 3.78, 2.37, 3.42, 3.65, 4.36, 4.39, 3.45, 4.37, 4.31, 4.55, 3.78, 3.51, 2.66, 3.51, 3.49, 4.28, 3.52, 3.6, 3.54, 3.75, 3.38, 4.39, 3.49, 3.65, 3.62, 4.38, 4.34, 4.12, 4.28, 3.73, 2.48, 2.43, 3.55, 3.53, 2.46, 3.52, 3.5, 2.4, 3.65, 2.71, 3.54, 2.7, 3.6, 3.45, 3.78, 3.75, 4.55, 2.62, 3.5, 4.36, 2.43, 3.65, 3.69, 3.67, 2.34, 3.78, 3.58, 3.77, 2.46, 4.15, 3.5, 4.43, 4.43, 2.42, 2.44, 4.35, 3.58, 3.46, 2.58, 3.78, 3.64, 2.65, 3.6, 3.5, 4.5, 4.43, 2.42, 2.46, 3.64, 3.46, 4.55, 2.69, 3.63, 3.78, 2.36, 3.59, 3.58, 4.37, 3.45, 3.76, 4.49, 3.57, 1.72, 2.65, 3.75, 4.55, 4.38, 1.7, 4.13, 4.56, 3.46, 3.55, 3.64, 2.61, 3.47, 4.57, 3.65, 4.26, 0.42, 2.68, 4.36, 3.65, 2.62, 3.78, 3.58, 3.7, 4.5, 3.44, 4.17, 3.78, 3.64, 4.33, 4.45, 4.49, 3.65, 3.64, 2.43, 4.55, 4.37, 4.35, 4.57, 1.73, 4.34, 4.48, 4.17, 3.65, 2.41, 2.35, 4.36, 3.64, 2.29, 4.55, 4.23, 3.64, 2.63, 3.48, 3.75, 2.68, 3.61, 2.29, 3.7, 4.35, 3.43, 1.68, 2.46, 4.36, 4.32, 2.7, 3.66, 0.41, 3.78, 2.66, 2.54, 3.78, 3.56, 3.65, 2.55, 3.78, 4.56, 3.44, 4.38, 4.29, 3.64, 4.35, 2.44, 1.68, 4.37, 3.63, 2.36, 3.48, 3.5, 3.57, 2.45, 3.77, 4.41, 3.4, 3.46, 3.61, 4.49, 3.56, 2.73, 4.18, 3.65, 3.54, 4.34, 4.57, 3.64, 2.7, 4.24, 4.48, 4.48, 3.56, 3.49, 4.34, 3.6, 2.41, 4.36, 3.78, 3.64, 3.63, 3.37, 2.3, 3.44, 4.55, 2.61, 3.75, 2.44, 4.46, 4.35, 4.48, 2.32, 4.26, 3.46, 3.63, 4.45, 3.71, 4.36, 3.47, 3.43, 1.72, 3.37, 2.44, 4.23, 2.69, 2.65, 2.41, 2.69, 4.36, 3.65, 4.46, 3.55, 2.67, 4.25, 3.45, 3.62, 3.63, 3.62, 3.78, 1.72, 4.33, 3.42, 3.47, 3.78, 3.48, 4.37, 4.41, 3.55, 3.6, 3.49, 2.49, 4.57, 3.78, 3.48, 3.64, 3.63, 4.36, 3.78, 2.55, 3.43, 1.48, 3.75, 3.42, 1.69, 4.36, 4.31, 4.43, 3.6, 3.64, 3.64, 3.4, 3.55, 4.55, 4.32, 3.5, 4.48, 3.81, 4.33, 3.54, 3.67, 3.65, 3.78, 3.58, 2.62, 3.61, 3.71, 4.36, 2.46, 2.7, 4.35, 3.51, 1.63, 3.63, 3.61, 4.39, 3.35, 2.65, 0.42, 2.29, 2.35, 4.59, 1.64, 3.81, 2.61, 3.37, 2.44, 4.11, 4.29, 3.61, 4.34, 2.39, 4.39, 2.57, 3.6, 2.59, 3.67, 3.54, 4.43, 4.53, 3.5, 3.52, 4.39, 4.39, 2.57, 3.49, 4.28, 4.32, 4.34, 4.23, 3.63, 4.14, 4.36, 3.63, 2.3, 3.74, 3.54, 2.67, 4.45, 3.78, 2.66, 3.79, 4.38, 4.39, 3.65, 4.38, 2.68, 3.61, 2.46, 3.66, 3.42, 2.56, 2.42, 2.62, 3.59, 1.76, 2.62, 2.63, 3.7, 2.54, 1.72, 1.74, 3.42, 2.44, 3.75, 4.4, 3.71, 3.63, 2.59, 3.46, 3.77, 3.55, 3.71, 2.42, 2.69, 2.62, 3.65, 2.64, 1.51, 3.5, 2.48, 3.71, 3.55, 2.35, 3.5, 3.63, 1.66, 3.65, 3.61, 4.38, 3.64, 3.61, 4.36, 3.55, 3.53, 4.32, 4.34, 3.7, 2.41, 1.79, 4.12, 4.23, 2.32, 3.48, 2.69, 4.41, 3.5, 1.72, 3.54, 3.78, 2.62, 3.58, 4.43, 3.64, 3.61, 3.63, 3.76, 3.43, 1.71, 3.47, 3.61, 4.35, 3.47, 3.58, 3.7, 2.64, 3.51, 3.55, 1.7, 2.43, 3.64, 1.74, 4.41, 3.64, 3.53, 2.63, 2.62, 3.64, 2.69, 2.29, 4.23, 3.47, 3.65, 3.41, 2.42, 3.78, 4.43, 2.42, 4.38, 3.44, 3.5, 4.39, 3.57, 3.46, 1.75, 3.65, 3.78, 4.33, 2.66, 3.55, 2.39, 4.38, 1.7, 2.42, 3.63, 3.61, 4.39, 3.65, 3.78, 4.39, 2.38, 3.43, 2.67, 3.58, 2.31, 3.77, 3.65, 3.52, 4.52, 3.43, 3.79, 3.46, 3.64, 4.37, 3.6, 3.78, 3.64, 4.34, 2.65, 4.34, 2.42, 3.78, 3.62, 3.42, 3.45, 3.78, 4.36, 4.55, 4.48, 3.51, 2.34, 4.32, 3.47, 3.61, 2.38, 4.39, 2.57, 1.67, 2.39, 3.52, 4.41, 4.39, 3.43, 3.45, 4.36, 4.39, 3.65, 4.24, 4.32, 4.48, 4.34, 4.26, 3.43, 0.5, 4.34, 3.6, 3.65, 2.37, 3.5, 3.44, 2.69, 3.52, 4.24, 4.48, 4.45, 4.44, 2.44, 3.43, 2.43, 3.65, 3.64, 3.78, 2.34, 4.37, 2.66, 2.44, 4.45, 1.64, 2.35, 3.51, 3.64, 3.78, 4.37, 4.36, 3.65, 2.43, 4.48, 3.55, 3.76, 3.6, 3.61, 4.34, 2.55, 4.42, 3.78, 3.58, 2.64, 4.37, 3.45, 3.6, 4.31, 3.43, 3.42, 2.47, 4.31, 4.56, 3.73, 2.57, 4.55, 3.63, 4.43, 3.63, 3.76, 3.64, 2.66, 3.54, 4.55, 4.25, 2.48, 4.18, 2.57, 4.25, 2.62, 2.36, 4.26, 4.51, 4.55, 2.35, 3.75, 3.77, 3.44, 3.64, 3.65, 4.34, 4.41, 3.49, 2.61, 4.39, 4.25, 2.67, 3.51, 3.77, 4.39, 3.45, 3.75, 3.74, 2.34, 3.77, 4.26, 4.44, 3.65, 2.58, 1.48, 3.76, 2.7, 3.6, 4.39, 4.35, 3.54, 3.78, 2.64, 2.73, 1.73, 4.34, 3.5, 2.4, 4.24, 3.61, 2.64, 4.26, 4.37, 3.58, 2.36, 4.24, 3.76, 4.37, 2.55, 2.42, 3.79, 3.58, 3.49, 4.39, 2.37, 2.61, 2.7, 3.62, 1.7, 2.63, 3.78, 4.57, 2.44, 3.5, 3.52, 3.51, 2.48, 3.78, 3.65, 2.62, 4.39, 3.46, 3.64, 3.61, 2.34, 4.39, 4.5, 2.62, 3.61, 2.55, 3.65, 3.63, 2.62, 4.35, 4.36, 3.62, 3.49, 2.68, 3.77, 2.64, 4.49, 4.12, 3.78, 3.76, 3.47, 2.63, 3.76, 3.63, 4.41, 3.74, 3.76, 4.36, 3.46, 2.6, 3.78, 3.52, 3.77, 2.7, 2.61, 4.35, 3.7, 2.61, 4.57, 4.48, 2.45, 3.78, 3.78, 4.36, 3.47, 3.66, 4.45, 3.59, 4.55, 4.36, 3.78, 2.45, 3.77, 2.34, 3.7, 3.79, 4.43, 3.52, 4.41, 1.48, 3.7, 3.78, 4.39, 4.39, 3.78, 2.43, 3.71, 2.64, 3.46, 3.52, 3.62, 2.62, 3.44, 4.35, 3.48, 4.49, 3.42, 3.76, 3.63, 3.4, 4.55, 4.43, 3.64, 2.41, 4.16, 3.77, 3.65, 2.35, 2.47, 4.56, 3.44, 2.71, 3.65, 2.35, 2.43, 3.65, 4.31, 3.55, 3.78, 4.35, 3.63, 3.63, 3.47, 3.39, 2.32, 3.6, 3.44, 2.46, 3.65, 4.55, 3.34, 3.37, 4.45, 4.35, 3.46, 3.44, 2.62, 2.34, 4.48, 3.44, 2.62, 4.48, 3.43, 4.25, 4.56, 4.46, 2.56, 3.55, 3.63, 4.39, 1.47, 3.71, 2.62, 4.46, 4.39, 3.78, 2.72, 3.71, 3.62, 4.48, 3.42, 3.45, 2.64, 4.39, 3.63, 3.46, 3.65, 4.45, 4.37, 2.33, 3.74, 3.57, 4.36, 2.42, 3.77, 2.34, 4.34, 4.57, 4.26, 4.35, 2.45, 3.55, 3.65, 4.34, 4.39, 1.71, 4.22, 4.37, 3.42, 2.43, 3.64, 3.75, 3.78, 2.29, 4.48, 4.36, 3.5, 3.66, 4.36, 3.7, 3.56, 3.57, 2.36, 3.64, 3.43, 3.57, 2.34, 2.44, 4.32, 4.48, 3.55, 4.14, 2.41, 2.42, 3.76, 3.64, 3.6, 4.28, 4.36, 4.48, 3.5, 3.54, 3.44, 3.47, 3.75, 2.43, 3.74, 1.68, 3.46, 4.18, 2.7, 3.45, 4.39, 4.35, 3.78, 4.28, 4.59, 2.3, 2.72, 2.56, 3.35, 4.33, 3.64, 3.55, 3.71, 3.81, 2.32, 2.31, 2.37, 2.32, 2.44, 4.27, 4.45, 2.43, 4.38, 3.47, 3.63, 4.37, 3.77, 4.26, 4.36, 3.44, 3.65, 3.75, 3.78, 4.13, 3.61, 3.75, 4.39, 3.71, 3.73, 3.43, 4.57, 3.62, 4.36, 3.44, 2.68, 2.65, 4.34, 4.37, 3.64, 4.37, 4.38, 3.64, 3.6, 4.26, 0.5, 4.31, 3.64, 3.48, 4.35, 4.38, 4.32, 4.56, 3.53, 3.61, 4.34, 3.42, 4.39, 1.65, 3.64, 2.34, 3.46, 2.58, 3.68, 2.58, 2.59, 3.78, 3.55, 4.34, 2.32, 2.7, 4.41, 4.5, 3.65, 2.62, 2.34, 4.43, 3.61, 4.38, 3.71, 3.46, 4.33, 3.61, 4.57, 4.34, 4.39, 3.78, 3.45, 4.32, 3.44, 4.38, 4.44, 3.42, 4.13, 4.12, 3.53, 3.49, 1.69, 2.42, 3.44, 4.23, 4.14, 3.78, 4.49, 3.65, 3.4, 3.76, 4.34, 3.7, 4.23, 4.53, 2.66, 3.5, 3.78, 3.54, 4.35, 3.43, 4.45, 3.65, 1.64, 1.63, 3.48, 4.55, 4.5, 4.34, 3.44, 3.63, 3.65, 3.62, 2.48, 2.67, 4.43, 1.65, 4.57, 4.36, 3.64, 4.56, 4.39, 3.77, 1.7, 3.47, 4.37, 4.34, 4.45, 4.16, 3.66, 3.48, 2.63, 4.24, 4.26, 2.45, 3.59, 3.56, 4.34, 4.34, 3.47, 4.28, 3.64, 3.78, 1.76, 3.64, 3.78, 4.37, 3.78, 2.42, 4.46, 4.37, 3.48, 3.64, 1.72, 2.57, 3.52, 3.77, 3.44, 3.71, 3.65, 1.72, 2.69, 3.63, 1.67, 4.39, 2.64, 3.74, 3.63, 2.49, 3.44, 2.41, 2.42, 2.59, 4.24, 4.4, 3.52, 2.55, 3.79, 3.44, 2.42, 3.42, 3.4, 4.27, 2.44, 4.38, 3.53, 4.23, 4.55, 4.32, 4.38, 3.45, 4.33, 1.78, 3.65, 4.17, 2.66, 4.55, 2.42, 2.54, 4.26, 3.52, 3.78, 2.45, 3.64, 3.66, 3.66, 3.55, 4.56, 3.47, 3.63, 3.64, 2.63, 3.61, 2.34, 2.44, 4.36, 4.24, 2.69, 2.64, 2.44, 3.67, 3.64, 3.78, 3.77, 3.6, 4.55, 3.61, 4.32, 3.59, 3.72, 3.51, 4.48, 3.7, 2.66, 4.45, 4.48, 4.39, 4.23, 2.32, 3.36, 3.56, 4.36, 3.64, 3.49, 4.5, 4.37, 3.77, 3.43, 4.39, 4.48, 3.41, 3.43, 2.55, 4.56, 3.78, 4.38, 1.46, 4.35, 4.34, 3.52, 3.78, 1.74, 1.69, 4.24, 3.78, 4.45, 3.64, 3.45, 4.34, 3.46, 4.48, 3.64, 3.5, 4.37, 3.72, 4.36, 4.43, 4.34, 3.7, 2.37, 2.7, 4.31, 2.34, 3.64, 4.37, 4.41, 3.64, 1.55, 3.43, 1.5, 3.47, 2.54, 3.44, 3.48, 2.63, 4.39, 1.68, 2.58, 3.41, 2.65, 4.38, 3.44, 3.64, 4.32, 3.51, 3.4, 4.51, 2.58, 3.71, 3.47, 3.66, 3.46, 3.65, 4.39, 2.64, 3.77, 2.42, 3.46, 1.68, 3.64, 2.62, 3.66, 3.65, 2.44, 4.39, 4.57, 3.62, 3.51, 2.72, 4.46, 3.74, 1.69, 3.58, 3.54, 3.57, 3.65, 3.78, 4.14, 4.24, 3.63, 2.54, 3.77, 3.46, 3.44, 2.62, 1.64, 3.6, 3.45, 3.77, 4.41, 4.48, 3.56, 1.72, 3.54, 3.76, 4.36, 3.64, 2.64, 4.13, 3.7, 2.34, 3.74, 2.41, 3.49, 2.37, 4.39, 3.7, 3.62, 3.46, 4.32, 0.5, 4.49, 4.34, 2.62, 4.48, 2.48, 1.46, 3.79, 0.41, 3.69, 2.59, 4.49, 3.67, 3.44, 2.44, 3.77, 3.65, 3.63, 2.62, 3.37, 3.62, 3.78, 3.45, 4.39, 3.5, 2.69, 4.32, 0.42, 3.51, 3.7, 3.63, 4.34, 3.78, 3.73, 3.64, 4.39, 3.43, 4.36, 4.32, 4.37, 4.36, 4.38, 2.68, 2.65, 3.55, 4.25, 4.38, 1.73, 3.6, 3.48, 3.63, 4.39, 3.53, 3.77, 2.65, 3.63, 3.77, 3.79, 4.38, 3.71, 3.48, 2.67, 4.13, 3.46, 4.36, 3.48, 2.46, 4.48, 2.64, 2.62, 4.48, 3.41, 1.69, 3.78, 3.56, 3.45, 3.78, 3.47, 2.41, 2.41, 4.18, 2.62, 2.42, 2.65, 3.47, 2.65, 4.47, 3.55, 3.53, 3.57, 3.56, 3.78, 3.64, 2.69, 4.59, 4.45, 4.49, 2.5, 3.45, 2.57, 3.72, 4.55, 3.64, 3.77, 3.79, 1.48, 3.77, 2.71, 3.77, 2.72, 2.42, 3.6, 3.77, 3.43, 4.25, 4.23, 3.4, 4.38, 4.48, 2.7, 2.45, 3.67, 3.78, 2.42, 3.65, 2.3, 2.62, 1.64, 3.64, 4.5, 3.44, 3.46, 3.43, 3.48, 3.6, 3.56, 2.42, 3.63, 1.79, 3.44, 2.43, 4.24, 3.64, 3.43, 3.42, 2.41, 3.42, 3.64, 1.74, 4.49, 3.49, 3.54, 3.57, 4.49, 4.35, 2.61, 2.46, 4.34, 3.63, 2.41, 2.42, 3.77, 4.31, 3.41, 3.36, 4.34, 3.77, 2.71, 2.43, 3.61, 3.78, 2.57, 2.7, 3.77, 3.61, 2.36, 3.7, 4.17, 4.35, 4.39, 4.37, 2.42, 3.49, 3.63, 3.63, 3.57, 2.64, 3.43, 3.62, 3.78, 3.78, 2.69, 2.61, 4.49, 3.79, 3.43, 2.48, 3.54, 4.34, 3.5, 2.64, 3.54, 3.48, 2.3, 2.54, 4.24, 3.64, 4.17, 3.45, 2.34, 4.48, 2.36, 4.39, 4.23, 3.44, 3.56, 3.66, 3.38, 2.66, 4.31, 3.67, 4.36, 2.4, 3.41, 3.62, 4.43, 3.48, 4.39, 3.47, 3.48, 3.43, 3.6, 2.45, 3.48, 3.61, 3.78, 2.66, 3.45, 3.55, 2.33, 4.24, 3.44, 3.65, 2.49, 4.31, 1.48, 4.55, 4.35, 3.78, 3.43, 3.63, 4.26, 2.45, 2.37, 2.67, 1.48, 3.66, 2.62, 3.48, 2.45, 3.62, 3.54, 4.55, 2.44, 1.65, 3.47, 2.55, 2.34, 4.34, 3.6, 3.75, 4.36, 2.29, 4.37, 4.57, 2.44, 2.3, 3.44, 0.41, 3.6, 4.46, 3.44, 3.44, 2.61, 2.62, 4.35, 4.28, 3.76, 3.65, 3.7, 3.48, 2.42, 3.42, 3.51, 4.43, 3.45, 0.41, 4.38, 4.39, 3.51, 3.64, 2.41, 3.62, 4.45, 3.52, 4.36, 4.13, 4.12, 2.42, 2.39, 4.33, 3.45, 3.62, 1.72, 3.45, 2.7, 3.45, 2.67, 3.5, 3.45, 3.78, 3.61, 4.24, 3.7, 4.34, 3.61, 3.62, 4.39, 4.48, 3.61, 3.46, 3.44, 3.52, 4.23, 4.46, 4.34, 1.7, 3.75, 3.64, 1.69, 4.55, 3.77, 3.54, 3.65, 2.4, 2.59, 3.6, 3.4, 3.77, 3.54, 3.76, 2.63, 3.55, 2.59, 3.46, 3.75, 3.63, 1.67, 3.64, 3.78, 4.38, 4.36, 3.62, 2.41, 3.65, 3.78, 3.46, 2.35, 1.49, 3.63, 3.54, 4.56, 4.26, 2.68, 4.55, 4.45, 2.61, 4.29, 2.57, 3.66, 3.78, 4.41, 4.45, 4.27, 4.15, 4.25, 2.58, 3.73, 2.42, 3.52, 2.67, 4.44, 3.65, 2.58, 4.48, 3.54, 4.12, 3.63, 4.48, 3.51, 2.56, 4.25, 3.51, 4.34, 3.64, 3.78, 2.65, 2.62, 4.23, 3.49, 3.62, 4.5, 2.36, 2.69, 4.36, 4.36, 4.36, 2.64, 3.44, 2.64, 3.63, 2.38, 2.65, 2.64, 2.58, 2.34, 2.64, 2.42, 3.75, 3.77, 3.46, 4.36, 2.62, 4.48, 2.57, 3.54, 4.35, 4.48, 3.71, 3.56, 4.45, 3.48, 3.65, 3.42, 3.58, 3.7, 2.69, 3.5, 4.38, 2.44, 1.73, 3.65, 2.42, 2.43, 2.67, 4.36, 4.44, 3.5, 4.37, 4.13, 4.32, 2.36, 4.48, 4.23, 2.72, 4.34, 2.44, 3.54, 2.67, 4.41, 3.54, 4.43, 1.67, 2.68, 3.53, 0.5, 2.42, 3.64, 4.48, 0.5, 4.37, 4.39, 4.24, 3.36, 2.36, 3.35, 3.66, 2.42, 4.27, 2.63, 4.39, 3.47, 4.36, 1.63, 3.45, 3.43, 3.71, 3.77, 0.42, 3.54, 3.7, 2.7, 3.72, 3.78, 2.41, 2.62, 3.67, 1.74, 3.75, 3.64, 2.33, 4.48, 2.68, 4.36, 3.78, 3.65, 4.38, 4.36, 2.37, 4.39, 4.36, 4.55, 3.65, 4.17, 4.37, 4.44, 2.46, 3.64, 2.62, 4.43, 4.37, 3.78, 3.56, 3.52, 2.34, 3.64, 4.48, 3.7, 3.65, 4.25, 4.17, 3.65, 4.38, 3.7, 4.24, 3.69, 2.44, 2.44, 2.61, 4.36, 1.72, 2.62, 3.61, 3.54, 2.59, 3.49, 4.23, 4.17, 3.63, 3.64, 4.35, 2.62, 3.63, 2.34, 4.49, 3.45, 3.64, 3.78, 3.58, 4.24, 3.46, 3.78, 3.57, 1.65, 4.39, 1.65, 4.43, 3.77, 3.61, 3.62, 3.71, 4.32, 2.42, 4.45, 2.63, 3.43, 4.23, 4.3, 1.69, 3.45, 4.36, 4.39, 2.43, 3.6, 4.34, 3.66, 3.57, 3.46, 2.38, 3.77, 4.17, 4.39, 4.33, 2.65, 3.53, 3.77, 4.56, 4.5, 3.56, 3.71, 3.78, 3.65, 3.45, 4.49, 4.25, 3.78, 4.45, 4.44, 4.29, 3.47, 3.51, 3.7, 4.43, 3.64, 3.76, 4.35, 3.78, 3.67, 3.64, 1.75, 3.42, 3.76, 4.29, 3.65, 3.63, 3.54, 3.65, 2.44, 3.47, 3.64, 4.34, 3.43, 4.34, 4.26, 2.46, 1.75, 3.61, 2.45, 2.32, 3.76, 3.78, 3.75, 2.69, 2.38, 4.43, 3.64, 3.6, 4.4, 3.63, 1.46, 1.64, 4.39, 3.78, 2.63, 3.72, 3.47, 3.67, 4.48, 3.43, 3.51, 3.77, 3.63, 1.47, 3.63, 3.6, 2.56, 3.68, 2.29, 4.36, 3.45, 3.65, 2.34, 4.36, 1.67, 4.48, 2.42, 4.43, 3.75, 3.78, 1.52, 2.61, 3.49, 2.34, 3.65, 4.36, 4.45, 2.69, 3.64, 2.55, 3.64, 3.5, 3.77, 3.53, 3.77, 3.7, 2.62, 4.36, 3.78, 4.41, 3.63, 3.64, 4.24, 3.62, 3.49, 4.59, 3.56, 3.64, 3.74, 2.64, 4.26, 2.35, 2.65, 3.44, 3.56, 2.41, 3.35, 3.78, 3.49, 3.76, 3.78, 4.34, 3.47, 3.64, 4.34, 4.57, 3.78, 4.55, 2.61, 4.24, 3.78, 2.57, 2.58, 4.24, 3.64, 2.7, 4.39, 4.35, 3.45, 2.36, 3.58, 2.65, 4.28, 4.39, 4.25, 3.65, 3.41, 4.22, 2.37, 3.77, 3.42, 3.65, 3.67, 2.62, 3.65, 2.46, 2.42, 4.12, 3.65, 3.71, 3.44, 3.75, 3.63, 4.36, 1.64, 2.34, 4.39, 4.39, 4.36, 3.76, 3.65, 3.64, 3.67, 3.43, 3.5, 3.52, 1.79, 3.46, 3.61, 3.53, 2.44, 4.33, 3.69, 3.64, 3.54, 3.7, 3.43, 3.45, 2.45, 2.63, 3.48, 3.65, 3.7, 3.47, 4.24, 3.43, 2.73, 2.64, 4.5, 4.38, 3.58, 4.22, 3.78, 3.43, 2.42, 4.32, 1.7, 3.63, 2.44, 2.73, 4.56, 2.42, 3.46, 4.11, 4.34, 1.65, 4.39, 4.48, 1.48, 2.43, 3.56, 3.52, 1.72, 3.46, 4.48, 3.44, 3.49, 4.42, 3.7, 3.65, 4.32, 3.57, 4.41, 3.44, 3.63, 3.42, 4.36, 3.43, 3.62, 3.47, 3.44, 4.36, 4.43, 2.67, 2.62, 3.76, 3.65, 0.36, 3.64, 4.49, 2.63, 3.54, 3.6, 4.24, 4.39, 2.68, 2.62, 2.67, 4.25, 4.37, 4.41, 1.69, 3.46, 3.61, 3.64, 2.46, 4.23, 4.38, 3.48, 4.34, 2.62, 3.6, 1.65, 2.41, 3.69, 4.37, 3.79, 3.62, 3.63, 2.36, 4.56, 4.36, 1.66, 3.64, 3.6, 3.45, 4.39, 1.75, 2.67, 4.31, 3.47, 4.43, 2.69, 2.45, 3.44, 3.68, 4.23, 0.51, 4.21, 3.65, 3.43, 3.65, 3.64, 2.63, 4.48, 3.64, 2.38, 3.64, 2.7, 3.63, 4.43, 4.38, 4.37, 3.44, 4.48, 4.28, 4.36, 3.63, 4.41, 4.48, 3.78, 2.5, 3.51, 2.42, 2.32, 3.64, 2.38, 4.36, 3.61, 3.78, 2.44, 3.64, 4.5, 3.78, 3.59, 4.39, 4.13, 3.7, 2.55, 4.34, 4.41, 2.36, 3.44, 3.56, 4.43, 3.65, 4.34, 3.61, 3.6, 4.55, 2.69, 4.48, 2.47, 3.53, 1.72, 4.44, 3.65, 3.62, 3.67, 3.78, 4.36, 1.51, 4.34, 3.78, 4.36, 4.43, 3.78, 4.55, 3.47, 3.64, 4.36, 3.63, 4.36, 3.76, 2.48, 3.78, 4.23, 3.44, 0.36, 4.32, 3.78, 3.61, 4.29, 3.68, 4.45, 3.35, 2.4, 3.78, 3.65, 3.78, 2.7, 3.63, 4.57, 4.35, 4.36, 2.64, 3.6, 3.57, 1.66, 2.65, 2.55, 0.41, 3.43, 3.66, 4.36, 2.71]\n"
          ]
        },
        {
          "output_type": "stream",
          "name": "stderr",
          "text": [
            "\n"
          ]
        }
      ]
    },
    {
      "cell_type": "code",
      "source": [
        "error = y_te.values - pred_value\n",
        "sns.distplot(error)\n",
        "plt.show()"
      ],
      "metadata": {
        "colab": {
          "base_uri": "https://localhost:8080/",
          "height": 265
        },
        "id": "2Pp11hxIxEbQ",
        "outputId": "79abfbca-353a-4bf2-9fec-a12e07583e87"
      },
      "execution_count": 265,
      "outputs": [
        {
          "output_type": "display_data",
          "data": {
            "image/png": "[encoded data removed]",
            "text/plain": [
              "<Figure size 432x288 with 1 Axes>"
            ]
          },
          "metadata": {
            "needs_background": "light"
          }
        }
      ]
    },
    {
      "cell_type": "code",
      "source": [
        "from sklearn.metrics import r2_score\n",
        "print(r2_score(y_te.values,pred_value,multioutput='variance_weighted'))"
      ],
      "metadata": {
        "colab": {
          "base_uri": "https://localhost:8080/"
        },
        "id": "mvvA3tNhuryY",
        "outputId": "6e339285-46be-42ad-d726-e29ce21362df"
      },
      "execution_count": 266,
      "outputs": [
        {
          "output_type": "stream",
          "name": "stdout",
          "text": [
            "0.9228010976264103\n"
          ]
        }
      ]
    },
    {
      "cell_type": "markdown",
      "source": [
        "**Sample Test Submission**"
      ],
      "metadata": {
        "id": "LBhCNnTWY8Wc"
      }
    },
    {
      "cell_type": "code",
      "source": [
        "df_test.head()"
      ],
      "metadata": {
        "colab": {
          "base_uri": "https://localhost:8080/",
          "height": 282
        },
        "id": "EbxMEUM74yT_",
        "outputId": "d7de1141-5978-4483-8a66-6d8aa10a6c53"
      },
      "execution_count": 267,
      "outputs": [
        {
          "output_type": "execute_result",
          "data": {
            "text/html": [
              "\n",
              "  <div id=\"df-895130df-a4cc-4b61-b726-f5d538f577c8\">\n",
              "    <div class=\"colab-df-container\">\n",
              "      <div>\n",
              "<style scoped>\n",
              "    .dataframe tbody tr th:only-of-type {\n",
              "        vertical-align: middle;\n",
              "    }\n",
              "\n",
              "    .dataframe tbody tr th {\n",
              "        vertical-align: top;\n",
              "    }\n",
              "\n",
              "    .dataframe thead th {\n",
              "        text-align: right;\n",
              "    }\n",
              "</style>\n",
              "<table border=\"1\" class=\"dataframe\">\n",
              "  <thead>\n",
              "    <tr style=\"text-align: right;\">\n",
              "      <th></th>\n",
              "      <th>user_id</th>\n",
              "      <th>category_id</th>\n",
              "      <th>video_id</th>\n",
              "      <th>gender</th>\n",
              "      <th>profession</th>\n",
              "      <th>followers</th>\n",
              "      <th>views</th>\n",
              "      <th>age_bracket</th>\n",
              "      <th>view_followers_ratio</th>\n",
              "    </tr>\n",
              "    <tr>\n",
              "      <th>row_id</th>\n",
              "      <th></th>\n",
              "      <th></th>\n",
              "      <th></th>\n",
              "      <th></th>\n",
              "      <th></th>\n",
              "      <th></th>\n",
              "      <th></th>\n",
              "      <th></th>\n",
              "      <th></th>\n",
              "    </tr>\n",
              "  </thead>\n",
              "  <tbody>\n",
              "    <tr>\n",
              "      <th>89198</th>\n",
              "      <td>7986</td>\n",
              "      <td>12</td>\n",
              "      <td>42</td>\n",
              "      <td>Male</td>\n",
              "      <td>Student</td>\n",
              "      <td>180</td>\n",
              "      <td>138</td>\n",
              "      <td>0-18</td>\n",
              "      <td>0.766667</td>\n",
              "    </tr>\n",
              "    <tr>\n",
              "      <th>89199</th>\n",
              "      <td>11278</td>\n",
              "      <td>34</td>\n",
              "      <td>115</td>\n",
              "      <td>Male</td>\n",
              "      <td>Student</td>\n",
              "      <td>230</td>\n",
              "      <td>840</td>\n",
              "      <td>0-18</td>\n",
              "      <td>3.652174</td>\n",
              "    </tr>\n",
              "    <tr>\n",
              "      <th>89200</th>\n",
              "      <td>17245</td>\n",
              "      <td>08</td>\n",
              "      <td>110</td>\n",
              "      <td>Female</td>\n",
              "      <td>Working Professional</td>\n",
              "      <td>280</td>\n",
              "      <td>628</td>\n",
              "      <td>38-48</td>\n",
              "      <td>2.242857</td>\n",
              "    </tr>\n",
              "    <tr>\n",
              "      <th>89201</th>\n",
              "      <td>9851</td>\n",
              "      <td>16</td>\n",
              "      <td>137</td>\n",
              "      <td>Male</td>\n",
              "      <td>Student</td>\n",
              "      <td>270</td>\n",
              "      <td>462</td>\n",
              "      <td>0-18</td>\n",
              "      <td>1.711111</td>\n",
              "    </tr>\n",
              "    <tr>\n",
              "      <th>89202</th>\n",
              "      <td>16008</td>\n",
              "      <td>34</td>\n",
              "      <td>96</td>\n",
              "      <td>Female</td>\n",
              "      <td>Other</td>\n",
              "      <td>230</td>\n",
              "      <td>840</td>\n",
              "      <td>38-48</td>\n",
              "      <td>3.652174</td>\n",
              "    </tr>\n",
              "  </tbody>\n",
              "</table>\n",
              "</div>\n",
              "      <button class=\"colab-df-convert\" onclick=\"convertToInteractive('df-895130df-a4cc-4b61-b726-f5d538f577c8')\"\n",
              "              title=\"Convert this dataframe to an interactive table.\"\n",
              "              style=\"display:none;\">\n",
              "        \n",
              "  <svg xmlns=\"http://www.w3.org/2000/svg\" height=\"24px\"viewBox=\"0 0 24 24\"\n",
              "       width=\"24px\">\n",
              "    <path d=\"M0 0h24v24H0V0z\" fill=\"none\"/>\n",
              "    <path d=\"M18.56 5.44l.94 2.06.94-2.06 2.06-.94-2.06-.94-.94-2.06-.94 2.06-2.06.94zm-11 1L8.5 8.5l.94-2.06 2.06-.94-2.06-.94L8.5 2.5l-.94 2.06-2.06.94zm10 10l.94 2.06.94-2.06 2.06-.94-2.06-.94-.94-2.06-.94 2.06-2.06.94z\"/><path d=\"M17.41 7.96l-1.37-1.37c-.4-.4-.92-.59-1.43-.59-.52 0-1.04.2-1.43.59L10.3 9.45l-7.72 7.72c-.78.78-.78 2.05 0 2.83L4 21.41c.39.39.9.59 1.41.59.51 0 1.02-.2 1.41-.59l7.78-7.78 2.81-2.81c.8-.78.8-2.07 0-2.86zM5.41 20L4 18.59l7.72-7.72 1.47 1.35L5.41 20z\"/>\n",
              "  </svg>\n",
              "      </button>\n",
              "      \n",
              "  <style>\n",
              "    .colab-df-container {\n",
              "      display:flex;\n",
              "      flex-wrap:wrap;\n",
              "      gap: 12px;\n",
              "    }\n",
              "\n",
              "    .colab-df-convert {\n",
              "      background-color: #E8F0FE;\n",
              "      border: none;\n",
              "      border-radius: 50%;\n",
              "      cursor: pointer;\n",
              "      display: none;\n",
              "      fill: #1967D2;\n",
              "      height: 32px;\n",
              "      padding: 0 0 0 0;\n",
              "      width: 32px;\n",
              "    }\n",
              "\n",
              "    .colab-df-convert:hover {\n",
              "      background-color: #E2EBFA;\n",
              "      box-shadow: 0px 1px 2px rgba(60, 64, 67, 0.3), 0px 1px 3px 1px rgba(60, 64, 67, 0.15);\n",
              "      fill: #174EA6;\n",
              "    }\n",
              "\n",
              "    [theme=dark] .colab-df-convert {\n",
              "      background-color: #3B4455;\n",
              "      fill: #D2E3FC;\n",
              "    }\n",
              "\n",
              "    [theme=dark] .colab-df-convert:hover {\n",
              "      background-color: #434B5C;\n",
              "      box-shadow: 0px 1px 3px 1px rgba(0, 0, 0, 0.15);\n",
              "      filter: drop-shadow(0px 1px 2px rgba(0, 0, 0, 0.3));\n",
              "      fill: #FFFFFF;\n",
              "    }\n",
              "  </style>\n",
              "\n",
              "      <script>\n",
              "        const buttonEl =\n",
              "          document.querySelector('#df-895130df-a4cc-4b61-b726-f5d538f577c8 button.colab-df-convert');\n",
              "        buttonEl.style.display =\n",
              "          google.colab.kernel.accessAllowed ? 'block' : 'none';\n",
              "\n",
              "        async function convertToInteractive(key) {\n",
              "          const element = document.querySelector('#df-895130df-a4cc-4b61-b726-f5d538f577c8');\n",
              "          const dataTable =\n",
              "            await google.colab.kernel.invokeFunction('convertToInteractive',\n",
              "                                                     [key], {});\n",
              "          if (!dataTable) return;\n",
              "\n",
              "          const docLinkHtml = 'Like what you see? Visit the ' +\n",
              "            '<a target=\"_blank\" href=https://colab.research.google.com/notebooks/data_table.ipynb>data table notebook</a>'\n",
              "            + ' to learn more about interactive tables.';\n",
              "          element.innerHTML = '';\n",
              "          dataTable['output_type'] = 'display_data';\n",
              "          await google.colab.output.renderOutput(dataTable, element);\n",
              "          const docLink = document.createElement('div');\n",
              "          docLink.innerHTML = docLinkHtml;\n",
              "          element.appendChild(docLink);\n",
              "        }\n",
              "      </script>\n",
              "    </div>\n",
              "  </div>\n",
              "  "
            ],
            "text/plain": [
              "        user_id category_id  video_id  ... views age_bracket view_followers_ratio\n",
              "row_id                                 ...                                       \n",
              "89198      7986          12        42  ...   138        0-18             0.766667\n",
              "89199     11278          34       115  ...   840        0-18             3.652174\n",
              "89200     17245          08       110  ...   628       38-48             2.242857\n",
              "89201      9851          16       137  ...   462        0-18             1.711111\n",
              "89202     16008          34        96  ...   840       38-48             3.652174\n",
              "\n",
              "[5 rows x 9 columns]"
            ]
          },
          "metadata": {},
          "execution_count": 267
        }
      ]
    },
    {
      "cell_type": "code",
      "source": [
        "print('Samaple Test Predicted Value')\n",
        "print('='*30)\n",
        "y_pred = Predict(df_test,x_sample_test_preprocess_1,x_sample_test_preprocess_2,x_sample_test_preprocess_3,\\\n",
        "                 x_sample_test_preprocess_4,x_sample_test_preprocess_5)\n",
        "print(y_pred)"
      ],
      "metadata": {
        "colab": {
          "base_uri": "https://localhost:8080/"
        },
        "id": "yzo6S9h79OSJ",
        "outputId": "fa680a71-2133-4123-edbb-117c1b0f53e7"
      },
      "execution_count": 268,
      "outputs": [
        {
          "output_type": "stream",
          "name": "stdout",
          "text": [
            "Samaple Test Predicted Value\n",
            "==============================\n"
          ]
        },
        {
          "output_type": "stream",
          "name": "stderr",
          "text": [
            "11121it [02:15, 82.31it/s] "
          ]
        },
        {
          "output_type": "stream",
          "name": "stdout",
          "text": [
            "[[89198, 4.34], [89199, 4.34], [89200, 2.33], [89201, 3.75], [89202, 2.35], [89203, 3.75], [89204, 3.65], [89205, 4.37], [89206, 3.48], [89207, 4.36], [89208, 3.77], [89209, 4.39], [89210, 3.65], [89211, 4.48], [89212, 3.43], [89213, 3.58], [89214, 2.36], [89215, 3.78], [89216, 4.36], [89217, 2.68], [89218, 4.34], [89219, 2.63], [89220, 2.47], [89221, 3.56], [89222, 3.64], [89223, 4.36], [89224, 2.68], [89225, 4.25], [89226, 4.45], [89227, 3.46], [89228, 3.64], [89229, 2.54], [89230, 3.55], [89231, 3.47], [89232, 3.67], [89233, 3.47], [89234, 3.58], [89235, 4.25], [89236, 2.65], [89237, 4.39], [89238, 4.35], [89239, 3.64], [89240, 3.65], [89241, 4.45], [89242, 3.78], [89243, 4.34], [89244, 4.55], [89245, 4.17], [89246, 3.62], [89247, 3.46], [89248, 4.36], [89249, 2.36], [89250, 4.39], [89251, 2.42], [89252, 4.24], [89253, 2.47], [89254, 3.65], [89255, 3.66], [89256, 3.44], [89257, 4.17], [89258, 4.53], [89259, 3.43], [89260, 3.47], [89261, 1.75], [89262, 4.36], [89263, 4.24], [89264, 4.53], [89265, 2.36], [89266, 4.43], [89267, 4.24], [89268, 4.23], [89269, 4.45], [89270, 4.23], [89271, 4.29], [89272, 4.23], [89273, 4.39], [89274, 4.41], [89275, 3.53], [89276, 3.47], [89277, 2.41], [89278, 4.36], [89279, 2.37], [89280, 3.6], [89281, 4.23], [89282, 3.56], [89283, 4.36], [89284, 4.36], [89285, 3.47], [89286, 3.66], [89287, 3.42], [89288, 3.64], [89289, 3.73], [89290, 4.17], [89291, 3.53], [89292, 4.48], [89293, 4.46], [89294, 3.65], [89295, 3.45], [89296, 2.69], [89297, 3.78], [89298, 3.67], [89299, 4.5], [89300, 4.35], [89301, 4.48], [89302, 3.52], [89303, 3.6], [89304, 3.78], [89305, 3.78], [89306, 4.24], [89307, 3.64], [89308, 3.48], [89309, 3.78], [89310, 3.65], [89311, 2.37], [89312, 3.64], [89313, 4.43], [89314, 3.78], [89315, 3.47], [89316, 2.42], [89317, 2.34], [89318, 2.67], [89319, 4.38], [89320, 4.36], [89321, 4.24], [89322, 3.47], [89323, 4.48], [89324, 3.56], [89325, 4.24], [89326, 4.36], [89327, 4.39], [89328, 3.52], [89329, 3.64], [89330, 2.4], [89331, 4.39], [89332, 3.64], [89333, 4.39], [89334, 4.34], [89335, 4.5], [89336, 3.6], [89337, 3.65], [89338, 3.78], [89339, 2.55], [89340, 3.55], [89341, 3.55], [89342, 3.65], [89343, 2.42], [89344, 3.46], [89345, 3.61], [89346, 4.32], [89347, 2.64], [89348, 3.53], [89349, 3.64], [89350, 4.39], [89351, 2.72], [89352, 3.65], [89353, 4.5], [89354, 2.39], [89355, 4.39], [89356, 4.5], [89357, 4.46], [89358, 3.53], [89359, 3.46], [89360, 3.51], [89361, 4.46], [89362, 3.78], [89363, 2.66], [89364, 4.36], [89365, 3.58], [89366, 3.63], [89367, 3.65], [89368, 4.46], [89369, 4.13], [89370, 3.64], [89371, 4.36], [89372, 4.31], [89373, 3.47], [89374, 3.55], [89375, 3.78], [89376, 4.48], [89377, 4.36], [89378, 4.39], [89379, 4.37], [89380, 4.36], [89381, 3.65], [89382, 4.34], [89383, 3.52], [89384, 4.34], [89385, 4.48], [89386, 3.47], [89387, 4.28], [89388, 4.35], [89389, 4.25], [89390, 4.36], [89391, 4.24], [89392, 4.39], [89393, 3.41], [89394, 4.43], [89395, 2.69], [89396, 3.63], [89397, 3.64], [89398, 3.64], [89399, 2.47], [89400, 2.48], [89401, 3.64], [89402, 3.55], [89403, 4.36], [89404, 4.24], [89405, 2.63], [89406, 2.66], [89407, 4.43], [89408, 3.45], [89409, 4.38], [89410, 1.76], [89411, 4.25], [89412, 3.64], [89413, 4.43], [89414, 4.32], [89415, 2.38], [89416, 2.45], [89417, 3.65], [89418, 4.48], [89419, 4.39], [89420, 2.34], [89421, 2.63], [89422, 3.54], [89423, 3.55], [89424, 4.39], [89425, 4.39], [89426, 3.78], [89427, 2.42], [89428, 4.5], [89429, 4.39], [89430, 3.46], [89431, 3.62], [89432, 4.15], [89433, 3.78], [89434, 4.48], [89435, 2.33], [89436, 2.34], [89437, 2.34], [89438, 4.25], [89439, 2.44], [89440, 4.38], [89441, 3.42], [89442, 4.32], [89443, 3.52], [89444, 3.55], [89445, 4.48], [89446, 3.65], [89447, 2.44], [89448, 4.41], [89449, 2.64], [89450, 3.5], [89451, 4.48], [89452, 4.35], [89453, 3.47], [89454, 3.5], [89455, 3.68], [89456, 2.63], [89457, 4.32], [89458, 4.39], [89459, 2.54], [89460, 3.51], [89461, 3.61], [89462, 4.34], [89463, 3.4], [89464, 3.75], [89465, 4.39], [89466, 4.36], [89467, 3.56], [89468, 3.58], [89469, 2.34], [89470, 1.69], [89471, 4.36], [89472, 4.38], [89473, 2.58], [89474, 3.56], [89475, 4.23], [89476, 3.66], [89477, 2.48], [89478, 3.41], [89479, 3.52], [89480, 3.66], [89481, 3.62], [89482, 3.63], [89483, 3.65], [89484, 4.45], [89485, 4.17], [89486, 3.78], [89487, 4.34], [89488, 2.5], [89489, 3.75], [89490, 3.54], [89491, 2.62], [89492, 3.61], [89493, 4.36], [89494, 4.49], [89495, 2.7], [89496, 3.49], [89497, 3.52], [89498, 3.64], [89499, 4.24], [89500, 3.47], [89501, 4.17], [89502, 2.62], [89503, 4.37], [89504, 2.42], [89505, 4.39], [89506, 2.44], [89507, 4.32], [89508, 3.65], [89509, 3.62], [89510, 4.36], [89511, 4.36], [89512, 4.36], [89513, 4.36], [89514, 3.63], [89515, 3.63], [89516, 2.31], [89517, 2.64], [89518, 4.37], [89519, 4.43], [89520, 3.78], [89521, 4.39], [89522, 3.65], [89523, 4.39], [89524, 4.23], [89525, 3.7], [89526, 3.78], [89527, 3.45], [89528, 3.65], [89529, 3.54], [89530, 4.53], [89531, 2.55], [89532, 3.78], [89533, 2.44], [89534, 3.5], [89535, 3.65], [89536, 3.55], [89537, 3.64], [89538, 3.63], [89539, 2.34], [89540, 3.52], [89541, 4.36], [89542, 3.65], [89543, 2.5], [89544, 3.78], [89545, 4.31], [89546, 4.39], [89547, 4.55], [89548, 3.47], [89549, 3.5], [89550, 4.48], [89551, 4.17], [89552, 3.52], [89553, 4.32], [89554, 3.78], [89555, 3.55], [89556, 2.64], [89557, 4.48], [89558, 2.62], [89559, 3.44], [89560, 2.45], [89561, 4.55], [89562, 4.35], [89563, 3.64], [89564, 4.24], [89565, 4.32], [89566, 2.41], [89567, 2.69], [89568, 2.3], [89569, 4.31], [89570, 3.48], [89571, 4.35], [89572, 4.39], [89573, 4.23], [89574, 3.65], [89575, 3.37], [89576, 4.36], [89577, 3.6], [89578, 4.38], [89579, 4.38], [89580, 4.34], [89581, 4.48], [89582, 2.4], [89583, 4.24], [89584, 2.29], [89585, 4.43], [89586, 4.24], [89587, 4.39], [89588, 4.23], [89589, 4.36], [89590, 4.38], [89591, 2.32], [89592, 3.44], [89593, 4.12], [89594, 3.47], [89595, 4.39], [89596, 4.25], [89597, 4.39], [89598, 3.64], [89599, 3.56], [89600, 2.36], [89601, 4.5], [89602, 4.36], [89603, 4.24], [89604, 2.64], [89605, 3.38], [89606, 3.6], [89607, 1.74], [89608, 4.48], [89609, 4.36], [89610, 2.36], [89611, 3.65], [89612, 4.38], [89613, 3.68], [89614, 3.64], [89615, 4.39], [89616, 4.31], [89617, 2.6], [89618, 4.37], [89619, 3.56], [89620, 3.53], [89621, 2.39], [89622, 4.24], [89623, 4.43], [89624, 4.36], [89625, 4.32], [89626, 3.73], [89627, 3.44], [89628, 3.65], [89629, 3.65], [89630, 4.39], [89631, 3.5], [89632, 1.46], [89633, 3.73], [89634, 4.36], [89635, 3.52], [89636, 3.49], [89637, 4.53], [89638, 4.45], [89639, 4.24], [89640, 3.73], [89641, 2.62], [89642, 3.64], [89643, 3.7], [89644, 4.41], [89645, 3.58], [89646, 1.52], [89647, 4.34], [89648, 4.16], [89649, 3.47], [89650, 4.39], [89651, 2.62], [89652, 4.39], [89653, 4.24], [89654, 4.26], [89655, 4.48], [89656, 4.24], [89657, 3.6], [89658, 3.78], [89659, 4.37], [89660, 4.39], [89661, 3.46], [89662, 2.72], [89663, 4.38], [89664, 4.25], [89665, 3.65], [89666, 4.23], [89667, 2.39], [89668, 4.5], [89669, 3.64], [89670, 3.78], [89671, 2.46], [89672, 3.64], [89673, 4.48], [89674, 1.75], [89675, 4.31], [89676, 4.3], [89677, 4.48], [89678, 3.75], [89679, 4.32], [89680, 3.64], [89681, 4.36], [89682, 3.77], [89683, 3.65], [89684, 4.5], [89685, 3.61], [89686, 4.35], [89687, 3.45], [89688, 4.14], [89689, 4.34], [89690, 2.48], [89691, 3.63], [89692, 2.36], [89693, 4.39], [89694, 4.39], [89695, 4.48], [89696, 3.65], [89697, 3.43], [89698, 4.31], [89699, 3.64], [89700, 3.46], [89701, 4.36], [89702, 3.56], [89703, 4.23], [89704, 3.78], [89705, 3.47], [89706, 1.64], [89707, 4.36], [89708, 3.64], [89709, 2.42], [89710, 2.69], [89711, 3.46], [89712, 4.53], [89713, 3.48], [89714, 4.37], [89715, 1.47], [89716, 4.13], [89717, 1.48], [89718, 4.39], [89719, 4.43], [89720, 4.26], [89721, 3.45], [89722, 3.7], [89723, 3.52], [89724, 2.35], [89725, 3.66], [89726, 3.47], [89727, 3.52], [89728, 3.64], [89729, 4.41], [89730, 2.44], [89731, 4.38], [89732, 3.4], [89733, 3.48], [89734, 3.78], [89735, 4.36], [89736, 3.58], [89737, 3.42], [89738, 4.48], [89739, 3.75], [89740, 4.32], [89741, 3.46], [89742, 3.64], [89743, 3.6], [89744, 3.53], [89745, 3.78], [89746, 3.56], [89747, 3.42], [89748, 1.73], [89749, 3.41], [89750, 4.45], [89751, 3.65], [89752, 3.77], [89753, 4.36], [89754, 3.65], [89755, 3.75], [89756, 4.36], [89757, 4.38], [89758, 4.48], [89759, 3.66], [89760, 3.57], [89761, 3.65], [89762, 3.46], [89763, 3.6], [89764, 3.5], [89765, 3.63], [89766, 3.4], [89767, 3.61], [89768, 3.44], [89769, 4.36], [89770, 2.34], [89771, 4.36], [89772, 3.58], [89773, 4.39], [89774, 4.48], [89775, 4.24], [89776, 2.54], [89777, 4.36], [89778, 2.54], [89779, 3.67], [89780, 3.64], [89781, 3.52], [89782, 4.5], [89783, 3.77], [89784, 2.66], [89785, 3.77], [89786, 4.39], [89787, 3.64], [89788, 4.38], [89789, 4.34], [89790, 3.47], [89791, 4.36], [89792, 3.53], [89793, 4.31], [89794, 3.41], [89795, 3.55], [89796, 2.34], [89797, 2.69], [89798, 3.64], [89799, 2.42], [89800, 2.67], [89801, 3.49], [89802, 2.37], [89803, 4.53], [89804, 2.54], [89805, 3.58], [89806, 4.55], [89807, 4.41], [89808, 4.45], [89809, 3.42], [89810, 4.11], [89811, 3.45], [89812, 3.64], [89813, 4.34], [89814, 4.37], [89815, 2.35], [89816, 2.34], [89817, 4.23], [89818, 3.49], [89819, 3.47], [89820, 3.66], [89821, 4.25], [89822, 3.6], [89823, 3.48], [89824, 3.63], [89825, 4.48], [89826, 4.39], [89827, 4.39], [89828, 3.52], [89829, 2.58], [89830, 3.65], [89831, 4.34], [89832, 4.39], [89833, 4.36], [89834, 3.75], [89835, 3.46], [89836, 3.43], [89837, 3.45], [89838, 3.64], [89839, 4.45], [89840, 3.44], [89841, 4.39], [89842, 3.61], [89843, 3.65], [89844, 3.65], [89845, 4.37], [89846, 4.43], [89847, 2.32], [89848, 4.44], [89849, 3.46], [89850, 2.7], [89851, 4.24], [89852, 3.48], [89853, 4.39], [89854, 3.64], [89855, 2.54], [89856, 4.12], [89857, 4.35], [89858, 4.39], [89859, 3.61], [89860, 3.65], [89861, 3.78], [89862, 4.39], [89863, 4.36], [89864, 2.32], [89865, 4.36], [89866, 4.43], [89867, 4.46], [89868, 4.39], [89869, 2.54], [89870, 4.24], [89871, 4.39], [89872, 4.36], [89873, 3.61], [89874, 2.69], [89875, 3.51], [89876, 4.32], [89877, 4.48], [89878, 4.37], [89879, 4.39], [89880, 3.66], [89881, 3.6], [89882, 3.65], [89883, 3.45], [89884, 3.65], [89885, 4.39], [89886, 4.37], [89887, 2.7], [89888, 3.63], [89889, 4.25], [89890, 4.37], [89891, 4.32], [89892, 3.65], [89893, 3.64], [89894, 4.34], [89895, 3.44], [89896, 3.52], [89897, 3.48], [89898, 3.61], [89899, 4.35], [89900, 3.71], [89901, 4.36], [89902, 4.31], [89903, 4.55], [89904, 4.43], [89905, 2.65], [89906, 4.48], [89907, 3.49], [89908, 3.6], [89909, 3.46], [89910, 3.44], [89911, 3.45], [89912, 4.39], [89913, 3.63], [89914, 3.78], [89915, 4.48], [89916, 3.65], [89917, 2.38], [89918, 3.56], [89919, 3.44], [89920, 3.78], [89921, 4.5], [89922, 3.48], [89923, 3.46], [89924, 2.64], [89925, 3.46], [89926, 3.66], [89927, 4.31], [89928, 3.48], [89929, 3.78], [89930, 4.17], [89931, 3.78], [89932, 3.61], [89933, 4.49], [89934, 3.45], [89935, 2.39], [89936, 3.43], [89937, 3.61], [89938, 2.65], [89939, 4.36], [89940, 4.39], [89941, 4.25], [89942, 4.39], [89943, 2.36], [89944, 4.5], [89945, 3.64], [89946, 4.45], [89947, 3.48], [89948, 3.47], [89949, 4.39], [89950, 3.65], [89951, 4.36], [89952, 4.24], [89953, 4.24], [89954, 4.55], [89955, 3.64], [89956, 2.64], [89957, 2.41], [89958, 3.64], [89959, 3.63], [89960, 3.47], [89961, 4.37], [89962, 3.44], [89963, 3.65], [89964, 3.4], [89965, 2.69], [89966, 4.48], [89967, 4.29], [89968, 3.65], [89969, 4.24], [89970, 3.54], [89971, 3.5], [89972, 3.48], [89973, 4.34], [89974, 4.37], [89975, 3.63], [89976, 3.42], [89977, 4.48], [89978, 3.53], [89979, 3.43], [89980, 4.23], [89981, 4.36], [89982, 4.52], [89983, 3.45], [89984, 4.38], [89985, 3.78], [89986, 3.56], [89987, 4.5], [89988, 4.24], [89989, 4.48], [89990, 4.37], [89991, 3.65], [89992, 4.36], [89993, 4.34], [89994, 4.38], [89995, 3.45], [89996, 4.36], [89997, 4.36], [89998, 3.64], [89999, 3.54], [90000, 4.34], [90001, 4.43], [90002, 4.5], [90003, 3.65], [90004, 2.48], [90005, 4.36], [90006, 4.35], [90007, 3.78], [90008, 2.35], [90009, 3.65], [90010, 3.58], [90011, 2.67], [90012, 4.39], [90013, 2.63], [90014, 2.4], [90015, 3.44], [90016, 4.36], [90017, 4.17], [90018, 3.51], [90019, 3.65], [90020, 4.53], [90021, 4.24], [90022, 3.43], [90023, 4.48], [90024, 2.35], [90025, 4.39], [90026, 4.45], [90027, 3.65], [90028, 3.54], [90029, 4.36], [90030, 4.26], [90031, 4.39], [90032, 1.73], [90033, 3.48], [90034, 4.43], [90035, 4.38], [90036, 3.64], [90037, 4.38], [90038, 4.25], [90039, 4.44], [90040, 3.47], [90041, 3.78], [90042, 2.55], [90043, 4.12], [90044, 3.58], [90045, 3.61], [90046, 3.54], [90047, 4.36], [90048, 3.7], [90049, 4.34], [90050, 4.32], [90051, 3.5], [90052, 4.34], [90053, 4.39], [90054, 4.37], [90055, 2.66], [90056, 3.54], [90057, 2.64], [90058, 3.43], [90059, 4.23], [90060, 3.64], [90061, 2.43], [90062, 3.65], [90063, 3.56], [90064, 4.39], [90065, 3.63], [90066, 4.5], [90067, 4.39], [90068, 4.43], [90069, 2.63], [90070, 4.45], [90071, 2.43], [90072, 2.44], [90073, 3.77], [90074, 4.12], [90075, 3.48], [90076, 4.39], [90077, 4.36], [90078, 3.75], [90079, 4.5], [90080, 2.42], [90081, 4.39], [90082, 4.36], [90083, 3.71], [90084, 3.77], [90085, 4.36], [90086, 3.63], [90087, 4.5], [90088, 4.5], [90089, 3.54], [90090, 4.48], [90091, 3.55], [90092, 4.48], [90093, 4.48], [90094, 3.65], [90095, 3.65], [90096, 2.69], [90097, 3.55], [90098, 3.74], [90099, 4.36], [90100, 2.44], [90101, 3.45], [90102, 2.5], [90103, 3.65], [90104, 3.65], [90105, 3.45], [90106, 3.78], [90107, 3.6], [90108, 4.36], [90109, 3.44], [90110, 3.65], [90111, 3.64], [90112, 3.35], [90113, 3.44], [90114, 3.42], [90115, 2.3], [90116, 3.75], [90117, 3.64], [90118, 3.41], [90119, 3.63], [90120, 2.67], [90121, 4.39], [90122, 3.55], [90123, 3.65], [90124, 3.48], [90125, 3.76], [90126, 3.64], [90127, 4.18], [90128, 3.42], [90129, 3.75], [90130, 3.78], [90131, 3.6], [90132, 3.58], [90133, 4.43], [90134, 2.45], [90135, 3.78], [90136, 1.52], [90137, 4.5], [90138, 3.52], [90139, 4.48], [90140, 4.36], [90141, 4.28], [90142, 3.44], [90143, 3.37], [90144, 4.36], [90145, 2.5], [90146, 4.45], [90147, 3.64], [90148, 4.36], [90149, 2.42], [90150, 3.76], [90151, 4.48], [90152, 4.48], [90153, 4.36], [90154, 2.64], [90155, 3.65], [90156, 4.37], [90157, 2.34], [90158, 4.25], [90159, 3.65], [90160, 4.39], [90161, 2.34], [90162, 4.23], [90163, 2.48], [90164, 3.64], [90165, 3.49], [90166, 3.55], [90167, 4.32], [90168, 3.6], [90169, 4.48], [90170, 4.36], [90171, 4.38], [90172, 2.61], [90173, 3.63], [90174, 3.47], [90175, 4.39], [90176, 2.54], [90177, 2.34], [90178, 3.51], [90179, 2.36], [90180, 4.5], [90181, 3.53], [90182, 4.36], [90183, 4.23], [90184, 3.61], [90185, 2.67], [90186, 2.41], [90187, 4.43], [90188, 3.46], [90189, 2.62], [90190, 3.65], [90191, 4.5], [90192, 4.25], [90193, 4.11], [90194, 4.34], [90195, 2.42], [90196, 4.36], [90197, 3.65], [90198, 3.43], [90199, 3.62], [90200, 3.51], [90201, 4.36], [90202, 2.59], [90203, 4.31], [90204, 2.67], [90205, 4.34], [90206, 3.55], [90207, 3.48], [90208, 3.7], [90209, 3.49], [90210, 3.65], [90211, 4.36], [90212, 4.37], [90213, 3.73], [90214, 3.58], [90215, 4.38], [90216, 2.45], [90217, 3.53], [90218, 4.37], [90219, 4.48], [90220, 2.64], [90221, 3.78], [90222, 3.56], [90223, 4.38], [90224, 4.17], [90225, 4.38], [90226, 3.46], [90227, 3.46], [90228, 3.47], [90229, 4.17], [90230, 1.47], [90231, 3.44], [90232, 4.45], [90233, 3.46], [90234, 3.78], [90235, 4.43], [90236, 4.36], [90237, 3.5], [90238, 4.43], [90239, 4.48], [90240, 3.64], [90241, 3.65], [90242, 3.61], [90243, 4.37], [90244, 4.39], [90245, 4.39], [90246, 4.43], [90247, 3.49], [90248, 3.63], [90249, 3.67], [90250, 2.36], [90251, 4.36], [90252, 2.34], [90253, 4.48], [90254, 3.6], [90255, 3.65], [90256, 2.44], [90257, 1.69], [90258, 3.44], [90259, 1.65], [90260, 3.61], [90261, 3.78], [90262, 3.47], [90263, 3.61], [90264, 3.5], [90265, 3.68], [90266, 4.36], [90267, 4.36], [90268, 4.35], [90269, 2.36], [90270, 3.51], [90271, 3.5], [90272, 4.36], [90273, 2.41], [90274, 4.39], [90275, 4.34], [90276, 4.45], [90277, 4.48], [90278, 2.36], [90279, 3.75], [90280, 2.44], [90281, 4.49], [90282, 4.43], [90283, 3.46], [90284, 3.44], [90285, 3.53], [90286, 2.35], [90287, 1.52], [90288, 2.36], [90289, 3.45], [90290, 4.45], [90291, 3.58], [90292, 2.61], [90293, 2.57], [90294, 3.48], [90295, 3.64], [90296, 4.39], [90297, 3.48], [90298, 4.36], [90299, 4.45], [90300, 3.41], [90301, 3.6], [90302, 4.44], [90303, 4.36], [90304, 3.42], [90305, 3.65], [90306, 4.24], [90307, 4.36], [90308, 3.79], [90309, 4.38], [90310, 4.23], [90311, 2.67], [90312, 3.63], [90313, 3.78], [90314, 3.47], [90315, 2.45], [90316, 1.73], [90317, 4.39], [90318, 4.38], [90319, 3.44], [90320, 2.7], [90321, 4.34], [90322, 4.43], [90323, 3.5], [90324, 3.5], [90325, 3.65], [90326, 3.78], [90327, 3.62], [90328, 3.66], [90329, 4.25], [90330, 4.15], [90331, 3.64], [90332, 4.39], [90333, 2.34], [90334, 4.36], [90335, 3.78], [90336, 4.24], [90337, 3.48], [90338, 4.24], [90339, 4.43], [90340, 3.64], [90341, 4.35], [90342, 3.49], [90343, 3.5], [90344, 4.34], [90345, 3.46], [90346, 3.51], [90347, 3.6], [90348, 3.47], [90349, 2.55], [90350, 4.27], [90351, 4.36], [90352, 2.67], [90353, 3.47], [90354, 4.36], [90355, 3.54], [90356, 3.52], [90357, 4.34], [90358, 4.48], [90359, 3.47], [90360, 3.78], [90361, 3.64], [90362, 4.33], [90363, 3.52], [90364, 2.44], [90365, 3.48], [90366, 3.35], [90367, 4.55], [90368, 4.3], [90369, 3.78], [90370, 3.52], [90371, 2.66], [90372, 3.61], [90373, 4.12], [90374, 4.53], [90375, 4.41], [90376, 3.61], [90377, 3.47], [90378, 3.78], [90379, 3.62], [90380, 3.65], [90381, 3.59], [90382, 3.6], [90383, 4.48], [90384, 2.44], [90385, 4.25], [90386, 4.32], [90387, 3.55], [90388, 4.34], [90389, 3.64], [90390, 3.71], [90391, 4.34], [90392, 3.4], [90393, 4.43], [90394, 2.44], [90395, 3.44], [90396, 4.39], [90397, 3.7], [90398, 4.34], [90399, 4.35], [90400, 4.24], [90401, 3.6], [90402, 4.48], [90403, 2.35], [90404, 3.64], [90405, 3.55], [90406, 1.46], [90407, 4.23], [90408, 4.48], [90409, 4.34], [90410, 2.63], [90411, 3.52], [90412, 3.66], [90413, 4.39], [90414, 3.78], [90415, 4.38], [90416, 3.33], [90417, 4.39], [90418, 2.54], [90419, 2.66], [90420, 2.68], [90421, 4.48], [90422, 3.54], [90423, 3.64], [90424, 3.61], [90425, 3.61], [90426, 3.53], [90427, 4.5], [90428, 4.5], [90429, 4.13], [90430, 3.78], [90431, 2.62], [90432, 4.38], [90433, 4.18], [90434, 4.48], [90435, 3.65], [90436, 2.69], [90437, 3.41], [90438, 4.38], [90439, 2.45], [90440, 3.45], [90441, 3.46], [90442, 3.78], [90443, 3.78], [90444, 3.44], [90445, 2.42], [90446, 4.36], [90447, 3.54], [90448, 4.34], [90449, 4.43], [90450, 3.35], [90451, 2.56], [90452, 4.25], [90453, 3.46], [90454, 3.65], [90455, 2.36], [90456, 3.73], [90457, 3.65], [90458, 3.46], [90459, 4.25], [90460, 4.23], [90461, 4.43], [90462, 4.36], [90463, 3.5], [90464, 3.44], [90465, 4.36], [90466, 1.73], [90467, 3.75], [90468, 3.61], [90469, 2.67], [90470, 3.63], [90471, 3.64], [90472, 3.65], [90473, 4.39], [90474, 4.34], [90475, 3.52], [90476, 4.39], [90477, 2.62], [90478, 2.58], [90479, 4.45], [90480, 4.45], [90481, 4.13], [90482, 4.11], [90483, 4.39], [90484, 3.56], [90485, 3.65], [90486, 3.65], [90487, 3.68], [90488, 3.64], [90489, 4.24], [90490, 4.34], [90491, 3.35], [90492, 3.78], [90493, 4.48], [90494, 3.65], [90495, 3.64], [90496, 3.66], [90497, 3.44], [90498, 3.45], [90499, 4.39], [90500, 3.4], [90501, 3.65], [90502, 4.24], [90503, 4.37], [90504, 3.44], [90505, 3.49], [90506, 4.25], [90507, 3.48], [90508, 4.45], [90509, 4.32], [90510, 3.64], [90511, 3.6], [90512, 4.25], [90513, 3.38], [90514, 4.24], [90515, 4.23], [90516, 2.29], [90517, 2.41], [90518, 1.46], [90519, 2.59], [90520, 4.36], [90521, 3.61], [90522, 3.77], [90523, 2.38], [90524, 4.48], [90525, 3.52], [90526, 4.39], [90527, 4.48], [90528, 3.35], [90529, 4.24], [90530, 4.45], [90531, 3.47], [90532, 4.34], [90533, 4.23], [90534, 2.44], [90535, 4.39], [90536, 4.45], [90537, 2.61], [90538, 3.65], [90539, 2.66], [90540, 3.78], [90541, 3.64], [90542, 4.36], [90543, 4.39], [90544, 3.65], [90545, 3.65], [90546, 4.39], [90547, 3.44], [90548, 1.67], [90549, 2.71], [90550, 4.11], [90551, 4.48], [90552, 4.15], [90553, 4.36], [90554, 3.52], [90555, 4.38], [90556, 2.33], [90557, 4.36], [90558, 4.34], [90559, 3.58], [90560, 4.36], [90561, 2.69], [90562, 3.65], [90563, 4.43], [90564, 4.24], [90565, 1.77], [90566, 4.34], [90567, 4.43], [90568, 3.78], [90569, 4.48], [90570, 4.36], [90571, 3.67], [90572, 4.43], [90573, 3.55], [90574, 2.36], [90575, 4.36], [90576, 4.39], [90577, 3.61], [90578, 4.39], [90579, 4.34], [90580, 3.48], [90581, 2.39], [90582, 3.65], [90583, 3.48], [90584, 2.34], [90585, 3.55], [90586, 4.39], [90587, 3.65], [90588, 4.34], [90589, 4.45], [90590, 4.39], [90591, 3.51], [90592, 3.77], [90593, 3.56], [90594, 4.24], [90595, 3.47], [90596, 4.48], [90597, 4.38], [90598, 4.45], [90599, 3.49], [90600, 4.36], [90601, 3.64], [90602, 4.43], [90603, 4.11], [90604, 3.65], [90605, 3.42], [90606, 3.78], [90607, 4.39], [90608, 4.34], [90609, 3.6], [90610, 3.78], [90611, 4.24], [90612, 3.54], [90613, 2.7], [90614, 3.37], [90615, 1.64], [90616, 3.44], [90617, 3.45], [90618, 2.54], [90619, 3.4], [90620, 4.34], [90621, 4.36], [90622, 4.23], [90623, 4.17], [90624, 2.34], [90625, 3.41], [90626, 4.48], [90627, 3.61], [90628, 4.24], [90629, 4.45], [90630, 2.37], [90631, 4.13], [90632, 3.64], [90633, 3.63], [90634, 3.65], [90635, 3.4], [90636, 3.78], [90637, 4.34], [90638, 2.62], [90639, 3.46], [90640, 3.58], [90641, 4.36], [90642, 3.39], [90643, 3.52], [90644, 4.48], [90645, 3.65], [90646, 4.39], [90647, 3.45], [90648, 3.63], [90649, 2.45], [90650, 3.49], [90651, 3.44], [90652, 4.48], [90653, 4.48], [90654, 4.45], [90655, 4.34], [90656, 2.34], [90657, 3.47], [90658, 2.55], [90659, 4.39], [90660, 3.78], [90661, 3.75], [90662, 4.37], [90663, 4.25], [90664, 4.36], [90665, 4.26], [90666, 4.39], [90667, 4.34], [90668, 4.39], [90669, 3.43], [90670, 4.43], [90671, 4.32], [90672, 4.32], [90673, 4.39], [90674, 3.74], [90675, 3.47], [90676, 3.63], [90677, 0.41], [90678, 4.23], [90679, 4.36], [90680, 3.52], [90681, 4.34], [90682, 3.6], [90683, 4.36], [90684, 3.46], [90685, 3.44], [90686, 4.39], [90687, 4.45], [90688, 2.62], [90689, 3.65], [90690, 4.45], [90691, 4.14], [90692, 4.24], [90693, 3.65], [90694, 4.36], [90695, 4.23], [90696, 4.45], [90697, 3.55], [90698, 3.48], [90699, 3.78], [90700, 4.44], [90701, 4.41], [90702, 2.54], [90703, 3.78], [90704, 3.65], [90705, 3.48], [90706, 3.52], [90707, 3.65], [90708, 4.32], [90709, 3.44], [90710, 3.53], [90711, 3.37], [90712, 4.36], [90713, 3.47], [90714, 2.42], [90715, 2.57], [90716, 3.48], [90717, 2.59], [90718, 3.53], [90719, 3.75], [90720, 4.5], [90721, 4.36], [90722, 4.38], [90723, 3.44], [90724, 4.25], [90725, 3.66], [90726, 3.45], [90727, 3.78], [90728, 3.64], [90729, 3.45], [90730, 2.66], [90731, 4.38], [90732, 3.48], [90733, 2.56], [90734, 3.48], [90735, 4.5], [90736, 4.41], [90737, 3.46], [90738, 2.55], [90739, 3.78], [90740, 3.47], [90741, 4.55], [90742, 3.48], [90743, 4.41], [90744, 4.39], [90745, 4.5], [90746, 3.52], [90747, 2.67], [90748, 4.49], [90749, 3.46], [90750, 3.63], [90751, 4.24], [90752, 4.14], [90753, 3.7], [90754, 2.48], [90755, 1.73], [90756, 3.54], [90757, 4.12], [90758, 3.76], [90759, 3.45], [90760, 4.45], [90761, 3.53], [90762, 3.47], [90763, 4.48], [90764, 3.61], [90765, 4.32], [90766, 3.64], [90767, 4.26], [90768, 4.38], [90769, 3.44], [90770, 3.53], [90771, 2.44], [90772, 4.39], [90773, 3.51], [90774, 4.38], [90775, 2.54], [90776, 3.65], [90777, 4.34], [90778, 3.46], [90779, 3.64], [90780, 3.48], [90781, 3.5], [90782, 3.47], [90783, 4.34], [90784, 3.58], [90785, 3.48], [90786, 3.64], [90787, 4.39], [90788, 3.65], [90789, 4.18], [90790, 3.6], [90791, 4.36], [90792, 3.49], [90793, 4.11], [90794, 2.55], [90795, 4.39], [90796, 1.52], [90797, 3.67], [90798, 2.37], [90799, 3.63], [90800, 4.37], [90801, 3.4], [90802, 3.78], [90803, 3.52], [90804, 4.23], [90805, 3.65], [90806, 3.78], [90807, 2.63], [90808, 3.44], [90809, 3.53], [90810, 4.36], [90811, 3.65], [90812, 4.38], [90813, 4.45], [90814, 3.62], [90815, 3.56], [90816, 3.78], [90817, 4.23], [90818, 4.41], [90819, 2.44], [90820, 4.36], [90821, 2.7], [90822, 3.47], [90823, 3.46], [90824, 4.39], [90825, 2.55], [90826, 3.78], [90827, 3.41], [90828, 4.39], [90829, 3.44], [90830, 3.39], [90831, 3.5], [90832, 3.64], [90833, 4.17], [90834, 4.48], [90835, 3.66], [90836, 4.36], [90837, 3.48], [90838, 4.43], [90839, 4.39], [90840, 4.39], [90841, 3.43], [90842, 3.62], [90843, 3.61], [90844, 4.36], [90845, 3.47], [90846, 3.65], [90847, 4.43], [90848, 4.36], [90849, 3.45], [90850, 2.55], [90851, 4.36], [90852, 3.76], [90853, 2.34], [90854, 3.55], [90855, 4.45], [90856, 4.36], [90857, 3.66], [90858, 4.45], [90859, 3.64], [90860, 4.34], [90861, 4.34], [90862, 2.54], [90863, 4.43], [90864, 2.37], [90865, 3.74], [90866, 3.65], [90867, 4.36], [90868, 4.24], [90869, 3.53], [90870, 2.73], [90871, 2.59], [90872, 4.48], [90873, 4.48], [90874, 2.63], [90875, 4.32], [90876, 3.47], [90877, 2.72], [90878, 4.31], [90879, 3.65], [90880, 4.37], [90881, 3.54], [90882, 4.48], [90883, 4.24], [90884, 3.63], [90885, 3.61], [90886, 3.47], [90887, 4.24], [90888, 4.38], [90889, 3.46], [90890, 4.36], [90891, 4.32], [90892, 3.51], [90893, 3.65], [90894, 4.34], [90895, 4.39], [90896, 3.42], [90897, 3.45], [90898, 3.61], [90899, 3.47], [90900, 3.65], [90901, 2.67], [90902, 4.12], [90903, 3.61], [90904, 3.57], [90905, 1.76], [90906, 3.55], [90907, 3.78], [90908, 3.5], [90909, 3.62], [90910, 3.61], [90911, 3.64], [90912, 2.34], [90913, 3.53], [90914, 4.23], [90915, 3.48], [90916, 2.64], [90917, 3.47], [90918, 3.65], [90919, 3.65], [90920, 3.42], [90921, 3.6], [90922, 4.39], [90923, 3.75], [90924, 3.52], [90925, 3.55], [90926, 3.63], [90927, 4.26], [90928, 4.37], [90929, 4.13], [90930, 4.24], [90931, 3.49], [90932, 4.39], [90933, 4.48], [90934, 4.39], [90935, 4.17], [90936, 3.55], [90937, 3.45], [90938, 2.64], [90939, 3.41], [90940, 3.46], [90941, 4.5], [90942, 4.37], [90943, 4.39], [90944, 4.43], [90945, 3.52], [90946, 4.37], [90947, 4.13], [90948, 4.39], [90949, 1.74], [90950, 4.5], [90951, 3.65], [90952, 2.64], [90953, 3.55], [90954, 3.44], [90955, 2.3], [90956, 4.23], [90957, 3.44], [90958, 4.5], [90959, 4.35], [90960, 3.75], [90961, 2.35], [90962, 3.78], [90963, 3.61], [90964, 2.7], [90965, 4.36], [90966, 4.31], [90967, 3.45], [90968, 2.57], [90969, 3.71], [90970, 3.65], [90971, 3.65], [90972, 3.75], [90973, 3.64], [90974, 3.61], [90975, 3.58], [90976, 3.62], [90977, 2.42], [90978, 3.46], [90979, 3.78], [90980, 3.53], [90981, 3.41], [90982, 3.62], [90983, 3.79], [90984, 3.45], [90985, 4.41], [90986, 4.24], [90987, 4.45], [90988, 3.37], [90989, 4.43], [90990, 3.46], [90991, 4.39], [90992, 4.39], [90993, 4.29], [90994, 3.54], [90995, 2.29], [90996, 2.62], [90997, 3.44], [90998, 3.45], [90999, 4.37], [91000, 3.65], [91001, 2.7], [91002, 3.64], [91003, 4.38], [91004, 2.61], [91005, 2.49], [91006, 3.47], [91007, 4.24], [91008, 4.37], [91009, 3.7], [91010, 3.35], [91011, 3.45], [91012, 4.43], [91013, 3.78], [91014, 4.39], [91015, 3.46], [91016, 3.65], [91017, 4.25], [91018, 4.39], [91019, 3.65], [91020, 2.54], [91021, 3.64], [91022, 3.39], [91023, 3.48], [91024, 3.47], [91025, 2.65], [91026, 3.78], [91027, 2.37], [91028, 4.41], [91029, 2.63], [91030, 4.39], [91031, 4.37], [91032, 4.12], [91033, 4.53], [91034, 3.52], [91035, 4.39], [91036, 2.42], [91037, 4.36], [91038, 3.43], [91039, 2.44], [91040, 3.52], [91041, 4.35], [91042, 4.36], [91043, 4.45], [91044, 2.69], [91045, 2.4], [91046, 4.23], [91047, 4.32], [91048, 3.49], [91049, 3.43], [91050, 4.36], [91051, 4.38], [91052, 2.37], [91053, 4.24], [91054, 2.73], [91055, 2.62], [91056, 3.46], [91057, 3.48], [91058, 1.74], [91059, 3.65], [91060, 2.64], [91061, 3.52], [91062, 3.78], [91063, 3.48], [91064, 4.39], [91065, 4.5], [91066, 3.47], [91067, 3.38], [91068, 4.36], [91069, 3.44], [91070, 3.73], [91071, 3.78], [91072, 2.7], [91073, 3.54], [91074, 2.55], [91075, 3.44], [91076, 2.55], [91077, 0.4], [91078, 4.39], [91079, 3.52], [91080, 2.37], [91081, 3.64], [91082, 4.36], [91083, 3.48], [91084, 2.64], [91085, 4.5], [91086, 4.34], [91087, 1.71], [91088, 4.38], [91089, 4.25], [91090, 4.45], [91091, 2.6], [91092, 4.36], [91093, 3.5], [91094, 3.43], [91095, 3.63], [91096, 4.43], [91097, 4.39], [91098, 4.34], [91099, 4.26], [91100, 2.59], [91101, 4.37], [91102, 4.39], [91103, 4.39], [91104, 3.63], [91105, 4.43], [91106, 4.36], [91107, 3.47], [91108, 4.45], [91109, 3.61], [91110, 2.67], [91111, 3.65], [91112, 4.38], [91113, 4.32], [91114, 4.39], [91115, 3.6], [91116, 3.47], [91117, 2.63], [91118, 3.52], [91119, 4.23], [91120, 3.52], [91121, 4.23], [91122, 4.24], [91123, 3.78], [91124, 3.64], [91125, 4.44], [91126, 3.74], [91127, 4.23], [91128, 3.47], [91129, 3.47], [91130, 3.47], [91131, 2.68], [91132, 4.39], [91133, 4.34], [91134, 3.55], [91135, 3.48], [91136, 3.41], [91137, 2.34], [91138, 2.7], [91139, 3.45], [91140, 3.48], [91141, 3.78], [91142, 4.48], [91143, 3.64], [91144, 2.34], [91145, 3.63], [91146, 2.67], [91147, 4.48], [91148, 4.39], [91149, 3.59], [91150, 4.5], [91151, 2.37], [91152, 3.49], [91153, 2.45], [91154, 4.5], [91155, 1.69], [91156, 2.7], [91157, 4.44], [91158, 3.52], [91159, 3.77], [91160, 3.78], [91161, 3.6], [91162, 4.48], [91163, 4.39], [91164, 2.41], [91165, 3.69], [91166, 4.32], [91167, 3.77], [91168, 2.36], [91169, 3.65], [91170, 3.65], [91171, 3.41], [91172, 4.36], [91173, 4.48], [91174, 3.56], [91175, 3.64], [91176, 4.43], [91177, 3.64], [91178, 3.65], [91179, 3.47], [91180, 3.54], [91181, 4.35], [91182, 3.5], [91183, 4.32], [91184, 3.67], [91185, 3.4], [91186, 4.23], [91187, 4.36], [91188, 3.7], [91189, 4.43], [91190, 3.64], [91191, 3.66], [91192, 3.37], [91193, 3.65], [91194, 3.46], [91195, 3.64], [91196, 4.3], [91197, 4.48], [91198, 4.24], [91199, 2.62], [91200, 4.36], [91201, 4.43], [91202, 2.5], [91203, 4.35], [91204, 4.37], [91205, 4.39], [91206, 3.6], [91207, 2.73], [91208, 3.44], [91209, 3.61], [91210, 4.36], [91211, 4.38], [91212, 3.62], [91213, 3.77], [91214, 4.52], [91215, 4.23], [91216, 3.64], [91217, 2.64], [91218, 4.32], [91219, 2.59], [91220, 2.42], [91221, 4.18], [91222, 3.52], [91223, 3.63], [91224, 4.38], [91225, 3.64], [91226, 3.65], [91227, 3.47], [91228, 3.56], [91229, 2.65], [91230, 3.44], [91231, 4.25], [91232, 3.64], [91233, 4.36], [91234, 3.78], [91235, 2.46], [91236, 4.24], [91237, 3.48], [91238, 3.52], [91239, 4.45], [91240, 3.54], [91241, 4.31], [91242, 4.35], [91243, 3.61], [91244, 4.38], [91245, 3.55], [91246, 2.34], [91247, 4.36], [91248, 4.5], [91249, 3.41], [91250, 3.47], [91251, 3.47], [91252, 4.27], [91253, 4.46], [91254, 4.37], [91255, 3.73], [91256, 4.18], [91257, 4.24], [91258, 3.44], [91259, 3.45], [91260, 2.37], [91261, 3.65], [91262, 3.39], [91263, 3.77], [91264, 4.17], [91265, 2.65], [91266, 3.65], [91267, 2.42], [91268, 4.36], [91269, 4.5], [91270, 2.4], [91271, 4.43], [91272, 3.77], [91273, 4.35], [91274, 4.39], [91275, 3.64], [91276, 4.13], [91277, 3.78], [91278, 3.61], [91279, 2.5], [91280, 4.36], [91281, 3.78], [91282, 4.38], [91283, 4.18], [91284, 3.47], [91285, 2.65], [91286, 2.34], [91287, 4.36], [91288, 3.6], [91289, 3.65], [91290, 3.44], [91291, 3.53], [91292, 3.4], [91293, 4.44], [91294, 3.65], [91295, 4.36], [91296, 4.23], [91297, 3.65], [91298, 3.63], [91299, 3.65], [91300, 3.64], [91301, 4.36], [91302, 2.7], [91303, 3.42], [91304, 3.78], [91305, 3.41], [91306, 3.44], [91307, 4.39], [91308, 4.39], [91309, 3.55], [91310, 3.6], [91311, 3.58], [91312, 4.27], [91313, 3.41], [91314, 3.45], [91315, 4.38], [91316, 4.39], [91317, 4.36], [91318, 3.65], [91319, 2.47], [91320, 4.38], [91321, 4.38], [91322, 4.13], [91323, 4.41], [91324, 3.46], [91325, 3.66], [91326, 4.23], [91327, 3.6], [91328, 4.38], [91329, 4.36], [91330, 3.4], [91331, 4.34], [91332, 4.37], [91333, 4.17], [91334, 3.37], [91335, 3.42], [91336, 3.64], [91337, 4.34], [91338, 2.34], [91339, 4.26], [91340, 3.63], [91341, 3.44], [91342, 4.46], [91343, 3.73], [91344, 3.45], [91345, 3.45], [91346, 4.48], [91347, 3.64], [91348, 4.43], [91349, 4.37], [91350, 1.71], [91351, 2.63], [91352, 3.55], [91353, 3.43], [91354, 4.38], [91355, 4.48], [91356, 2.64], [91357, 3.41], [91358, 4.43], [91359, 3.78], [91360, 4.25], [91361, 4.36], [91362, 4.14], [91363, 2.45], [91364, 2.34], [91365, 4.34], [91366, 4.55], [91367, 4.5], [91368, 4.24], [91369, 2.46], [91370, 4.36], [91371, 4.45], [91372, 2.48], [91373, 4.39], [91374, 3.65], [91375, 4.39], [91376, 4.26], [91377, 4.28], [91378, 4.37], [91379, 4.25], [91380, 3.7], [91381, 1.71], [91382, 4.39], [91383, 3.56], [91384, 4.52], [91385, 4.44], [91386, 4.37], [91387, 3.44], [91388, 4.48], [91389, 4.37], [91390, 3.52], [91391, 4.27], [91392, 4.34], [91393, 2.62], [91394, 3.55], [91395, 2.65], [91396, 2.65], [91397, 3.64], [91398, 3.77], [91399, 4.38], [91400, 3.56], [91401, 2.34], [91402, 4.23], [91403, 3.78], [91404, 4.24], [91405, 4.12], [91406, 3.44], [91407, 4.3], [91408, 3.75], [91409, 4.32], [91410, 2.62], [91411, 4.5], [91412, 1.69], [91413, 3.79], [91414, 2.5], [91415, 4.5], [91416, 3.65], [91417, 3.77], [91418, 3.43], [91419, 4.36], [91420, 3.64], [91421, 2.72], [91422, 3.49], [91423, 2.42], [91424, 4.18], [91425, 4.39], [91426, 2.29], [91427, 3.53], [91428, 3.63], [91429, 3.47], [91430, 4.34], [91431, 2.63], [91432, 4.38], [91433, 4.25], [91434, 4.39], [91435, 3.45], [91436, 3.65], [91437, 4.39], [91438, 3.48], [91439, 3.47], [91440, 3.78], [91441, 3.45], [91442, 3.65], [91443, 3.52], [91444, 3.67], [91445, 2.42], [91446, 4.38], [91447, 2.67], [91448, 4.24], [91449, 3.44], [91450, 3.54], [91451, 2.43], [91452, 4.36], [91453, 3.78], [91454, 4.34], [91455, 4.38], [91456, 3.47], [91457, 2.44], [91458, 4.11], [91459, 3.65], [91460, 4.25], [91461, 3.52], [91462, 4.36], [91463, 2.64], [91464, 3.64], [91465, 3.45], [91466, 3.45], [91467, 2.3], [91468, 3.43], [91469, 4.48], [91470, 4.34], [91471, 4.25], [91472, 2.42], [91473, 3.61], [91474, 3.78], [91475, 4.34], [91476, 2.56], [91477, 3.47], [91478, 3.61], [91479, 4.48], [91480, 4.46], [91481, 3.49], [91482, 2.4], [91483, 4.17], [91484, 4.17], [91485, 3.63], [91486, 3.6], [91487, 3.6], [91488, 2.54], [91489, 2.46], [91490, 4.55], [91491, 4.36], [91492, 2.44], [91493, 1.67], [91494, 3.62], [91495, 4.48], [91496, 2.72], [91497, 3.4], [91498, 3.53], [91499, 4.37], [91500, 4.17], [91501, 4.36], [91502, 2.67], [91503, 2.7], [91504, 4.39], [91505, 3.47], [91506, 4.43], [91507, 4.13], [91508, 4.34], [91509, 3.65], [91510, 3.45], [91511, 3.78], [91512, 3.43], [91513, 4.36], [91514, 3.64], [91515, 3.61], [91516, 4.37], [91517, 4.48], [91518, 4.36], [91519, 2.7], [91520, 2.36], [91521, 3.76], [91522, 4.5], [91523, 3.78], [91524, 3.47], [91525, 2.62], [91526, 4.37], [91527, 3.5], [91528, 3.65], [91529, 3.65], [91530, 3.68], [91531, 3.47], [91532, 4.38], [91533, 3.55], [91534, 4.23], [91535, 4.25], [91536, 4.13], [91537, 3.42], [91538, 3.73], [91539, 4.39], [91540, 2.32], [91541, 3.56], [91542, 3.78], [91543, 3.65], [91544, 2.34], [91545, 4.43], [91546, 4.24], [91547, 2.35], [91548, 3.65], [91549, 3.54], [91550, 3.45], [91551, 4.37], [91552, 3.45], [91553, 2.7], [91554, 1.69], [91555, 3.56], [91556, 3.64], [91557, 3.55], [91558, 4.45], [91559, 3.64], [91560, 4.25], [91561, 2.41], [91562, 3.65], [91563, 3.49], [91564, 4.13], [91565, 3.5], [91566, 3.42], [91567, 4.43], [91568, 4.39], [91569, 2.62], [91570, 2.43], [91571, 4.36], [91572, 4.18], [91573, 4.34], [91574, 2.64], [91575, 3.65], [91576, 3.62], [91577, 3.65], [91578, 3.6], [91579, 2.73], [91580, 3.67], [91581, 3.66], [91582, 3.55], [91583, 3.66], [91584, 4.38], [91585, 4.39], [91586, 3.55], [91587, 2.3], [91588, 3.78], [91589, 4.24], [91590, 2.54], [91591, 4.24], [91592, 3.4], [91593, 4.34], [91594, 3.61], [91595, 3.52], [91596, 3.64], [91597, 2.62], [91598, 4.45], [91599, 3.75], [91600, 3.46], [91601, 3.63], [91602, 2.67], [91603, 3.65], [91604, 2.43], [91605, 3.45], [91606, 1.68], [91607, 4.5], [91608, 2.61], [91609, 3.67], [91610, 3.62], [91611, 4.36], [91612, 3.65], [91613, 4.48], [91614, 2.55], [91615, 3.68], [91616, 2.57], [91617, 4.45], [91618, 4.43], [91619, 4.24], [91620, 3.65], [91621, 2.42], [91622, 3.48], [91623, 1.65], [91624, 4.43], [91625, 4.48], [91626, 4.43], [91627, 3.64], [91628, 4.39], [91629, 3.46], [91630, 3.78], [91631, 1.69], [91632, 2.35], [91633, 4.36], [91634, 4.43], [91635, 4.34], [91636, 3.47], [91637, 4.43], [91638, 3.71], [91639, 3.78], [91640, 1.52], [91641, 3.45], [91642, 4.43], [91643, 2.44], [91644, 2.65], [91645, 3.43], [91646, 3.5], [91647, 4.13], [91648, 2.59], [91649, 2.32], [91650, 4.35], [91651, 3.65], [91652, 3.66], [91653, 3.44], [91654, 4.5], [91655, 3.47], [91656, 2.36], [91657, 3.67], [91658, 3.42], [91659, 4.53], [91660, 4.39], [91661, 4.36], [91662, 4.5], [91663, 3.46], [91664, 2.62], [91665, 3.55], [91666, 3.6], [91667, 4.41], [91668, 3.46], [91669, 4.45], [91670, 2.42], [91671, 3.45], [91672, 4.38], [91673, 3.45], [91674, 3.71], [91675, 3.61], [91676, 4.45], [91677, 3.68], [91678, 4.24], [91679, 4.39], [91680, 4.37], [91681, 4.41], [91682, 3.62], [91683, 1.74], [91684, 4.39], [91685, 3.65], [91686, 3.65], [91687, 4.48], [91688, 2.3], [91689, 4.48], [91690, 4.39], [91691, 3.6], [91692, 3.46], [91693, 3.61], [91694, 3.61], [91695, 4.13], [91696, 4.32], [91697, 2.61], [91698, 2.42], [91699, 2.36], [91700, 4.43], [91701, 3.64], [91702, 4.32], [91703, 4.44], [91704, 4.39], [91705, 4.39], [91706, 4.28], [91707, 4.48], [91708, 2.62], [91709, 3.51], [91710, 4.39], [91711, 3.46], [91712, 3.52], [91713, 4.25], [91714, 4.14], [91715, 3.64], [91716, 2.43], [91717, 4.48], [91718, 2.48], [91719, 3.47], [91720, 4.34], [91721, 2.62], [91722, 4.48], [91723, 3.55], [91724, 2.54], [91725, 2.36], [91726, 4.45], [91727, 4.24], [91728, 3.41], [91729, 4.45], [91730, 4.48], [91731, 3.65], [91732, 3.66], [91733, 4.34], [91734, 4.36], [91735, 3.52], [91736, 4.24], [91737, 4.46], [91738, 4.48], [91739, 3.64], [91740, 3.55], [91741, 3.53], [91742, 2.69], [91743, 3.78], [91744, 3.65], [91745, 4.23], [91746, 2.63], [91747, 4.35], [91748, 4.39], [91749, 3.65], [91750, 4.32], [91751, 4.5], [91752, 3.65], [91753, 4.36], [91754, 3.67], [91755, 4.34], [91756, 2.7], [91757, 3.45], [91758, 3.5], [91759, 2.29], [91760, 3.54], [91761, 3.51], [91762, 4.36], [91763, 2.63], [91764, 3.65], [91765, 3.65], [91766, 4.32], [91767, 4.36], [91768, 2.72], [91769, 3.45], [91770, 2.3], [91771, 3.44], [91772, 4.23], [91773, 4.23], [91774, 4.39], [91775, 4.25], [91776, 3.72], [91777, 4.34], [91778, 3.65], [91779, 4.34], [91780, 4.43], [91781, 3.59], [91782, 4.23], [91783, 4.34], [91784, 3.66], [91785, 2.35], [91786, 3.58], [91787, 2.34], [91788, 4.37], [91789, 3.48], [91790, 4.35], [91791, 3.5], [91792, 4.36], [91793, 4.38], [91794, 4.39], [91795, 4.36], [91796, 4.36], [91797, 3.64], [91798, 4.17], [91799, 2.58], [91800, 3.51], [91801, 3.5], [91802, 2.43], [91803, 4.32], [91804, 4.27], [91805, 3.76], [91806, 4.39], [91807, 3.54], [91808, 3.44], [91809, 3.78], [91810, 3.63], [91811, 4.48], [91812, 2.42], [91813, 4.45], [91814, 3.49], [91815, 4.46], [91816, 4.31], [91817, 4.11], [91818, 4.32], [91819, 4.38], [91820, 2.44], [91821, 3.72], [91822, 4.25], [91823, 3.54], [91824, 4.34], [91825, 4.32], [91826, 4.36], [91827, 2.29], [91828, 3.61], [91829, 3.65], [91830, 4.32], [91831, 4.12], [91832, 2.62], [91833, 3.47], [91834, 4.48], [91835, 2.39], [91836, 2.33], [91837, 4.39], [91838, 3.64], [91839, 3.47], [91840, 3.58], [91841, 3.56], [91842, 4.28], [91843, 3.45], [91844, 4.38], [91845, 3.56], [91846, 3.65], [91847, 3.6], [91848, 3.65], [91849, 3.61], [91850, 2.32], [91851, 3.78], [91852, 4.39], [91853, 3.65], [91854, 4.39], [91855, 3.43], [91856, 4.32], [91857, 4.18], [91858, 3.44], [91859, 3.47], [91860, 3.63], [91861, 3.46], [91862, 3.45], [91863, 3.75], [91864, 3.43], [91865, 2.35], [91866, 3.63], [91867, 3.63], [91868, 4.39], [91869, 4.33], [91870, 4.48], [91871, 4.34], [91872, 3.55], [91873, 2.36], [91874, 4.36], [91875, 3.45], [91876, 4.38], [91877, 3.47], [91878, 3.77], [91879, 4.36], [91880, 1.74], [91881, 3.6], [91882, 4.34], [91883, 3.67], [91884, 3.78], [91885, 4.37], [91886, 3.78], [91887, 4.25], [91888, 3.56], [91889, 3.65], [91890, 3.64], [91891, 4.32], [91892, 2.34], [91893, 3.44], [91894, 3.64], [91895, 4.11], [91896, 4.43], [91897, 1.63], [91898, 3.43], [91899, 2.6], [91900, 4.37], [91901, 2.58], [91902, 4.36], [91903, 3.46], [91904, 4.39], [91905, 2.57], [91906, 4.43], [91907, 3.75], [91908, 4.23], [91909, 4.34], [91910, 2.41], [91911, 3.58], [91912, 3.42], [91913, 3.75], [91914, 3.41], [91915, 3.49], [91916, 4.31], [91917, 4.36], [91918, 3.52], [91919, 3.73], [91920, 3.64], [91921, 4.24], [91922, 3.64], [91923, 3.65], [91924, 4.36], [91925, 3.75], [91926, 3.54], [91927, 3.46], [91928, 4.38], [91929, 4.35], [91930, 4.48], [91931, 4.37], [91932, 3.64], [91933, 2.45], [91934, 4.34], [91935, 4.44], [91936, 4.5], [91937, 4.37], [91938, 3.45], [91939, 4.32], [91940, 3.44], [91941, 3.66], [91942, 3.64], [91943, 3.63], [91944, 3.44], [91945, 3.51], [91946, 4.36], [91947, 3.6], [91948, 2.29], [91949, 3.53], [91950, 3.49], [91951, 3.65], [91952, 4.17], [91953, 3.66], [91954, 2.69], [91955, 2.54], [91956, 3.61], [91957, 2.41], [91958, 4.24], [91959, 3.51], [91960, 3.55], [91961, 3.65], [91962, 1.63], [91963, 4.35], [91964, 4.25], [91965, 3.61], [91966, 2.34], [91967, 2.42], [91968, 4.36], [91969, 4.36], [91970, 4.24], [91971, 4.24], [91972, 4.34], [91973, 3.56], [91974, 4.23], [91975, 3.6], [91976, 3.62], [91977, 2.69], [91978, 3.45], [91979, 3.57], [91980, 4.36], [91981, 3.41], [91982, 3.5], [91983, 2.42], [91984, 4.43], [91985, 3.62], [91986, 3.55], [91987, 3.76], [91988, 4.35], [91989, 4.53], [91990, 1.72], [91991, 3.46], [91992, 3.78], [91993, 4.38], [91994, 4.45], [91995, 3.78], [91996, 4.12], [91997, 2.69], [91998, 3.64], [91999, 2.62], [92000, 3.64], [92001, 3.44], [92002, 3.55], [92003, 4.39], [92004, 3.64], [92005, 3.6], [92006, 2.66], [92007, 4.5], [92008, 4.24], [92009, 4.37], [92010, 2.7], [92011, 3.34], [92012, 4.32], [92013, 4.48], [92014, 3.65], [92015, 4.38], [92016, 3.54], [92017, 3.72], [92018, 2.34], [92019, 2.58], [92020, 3.64], [92021, 4.26], [92022, 2.48], [92023, 3.52], [92024, 2.3], [92025, 4.39], [92026, 3.63], [92027, 2.42], [92028, 3.54], [92029, 4.39], [92030, 2.3], [92031, 3.63], [92032, 2.7], [92033, 3.77], [92034, 2.55], [92035, 4.38], [92036, 4.39], [92037, 3.44], [92038, 4.36], [92039, 4.43], [92040, 4.43], [92041, 3.67], [92042, 2.44], [92043, 4.43], [92044, 4.28], [92045, 2.66], [92046, 3.47], [92047, 4.39], [92048, 3.52], [92049, 4.23], [92050, 2.48], [92051, 2.65], [92052, 3.78], [92053, 4.39], [92054, 3.64], [92055, 3.43], [92056, 2.42], [92057, 3.48], [92058, 2.62], [92059, 3.47], [92060, 4.39], [92061, 4.36], [92062, 4.45], [92063, 4.34], [92064, 4.48], [92065, 3.78], [92066, 4.13], [92067, 3.46], [92068, 4.38], [92069, 4.48], [92070, 3.73], [92071, 4.38], [92072, 3.42], [92073, 3.54], [92074, 4.39], [92075, 3.47], [92076, 3.5], [92077, 4.38], [92078, 3.7], [92079, 3.65], [92080, 3.52], [92081, 4.24], [92082, 4.37], [92083, 3.75], [92084, 4.32], [92085, 2.61], [92086, 3.47], [92087, 3.72], [92088, 2.4], [92089, 3.44], [92090, 3.7], [92091, 3.64], [92092, 4.13], [92093, 4.36], [92094, 4.36], [92095, 3.45], [92096, 3.56], [92097, 3.63], [92098, 3.78], [92099, 3.47], [92100, 4.43], [92101, 2.62], [92102, 3.55], [92103, 4.37], [92104, 3.44], [92105, 2.65], [92106, 3.6], [92107, 2.54], [92108, 2.42], [92109, 4.36], [92110, 3.61], [92111, 2.42], [92112, 3.77], [92113, 3.41], [92114, 2.62], [92115, 3.41], [92116, 3.44], [92117, 4.29], [92118, 2.45], [92119, 3.65], [92120, 4.36], [92121, 3.78], [92122, 3.61], [92123, 3.63], [92124, 4.23], [92125, 4.17], [92126, 3.51], [92127, 4.26], [92128, 1.65], [92129, 4.39], [92130, 3.65], [92131, 3.43], [92132, 4.43], [92133, 3.64], [92134, 3.48], [92135, 3.54], [92136, 3.45], [92137, 2.69], [92138, 3.54], [92139, 3.48], [92140, 3.44], [92141, 3.42], [92142, 4.48], [92143, 2.33], [92144, 3.4], [92145, 3.65], [92146, 4.34], [92147, 3.78], [92148, 4.34], [92149, 4.39], [92150, 4.37], [92151, 3.64], [92152, 4.17], [92153, 2.44], [92154, 4.39], [92155, 4.25], [92156, 2.36], [92157, 4.36], [92158, 3.78], [92159, 4.43], [92160, 4.38], [92161, 2.37], [92162, 4.31], [92163, 3.5], [92164, 3.65], [92165, 3.64], [92166, 4.36], [92167, 2.44], [92168, 3.71], [92169, 1.7], [92170, 3.6], [92171, 2.29], [92172, 2.45], [92173, 3.61], [92174, 3.64], [92175, 3.47], [92176, 3.61], [92177, 2.42], [92178, 2.58], [92179, 3.47], [92180, 4.24], [92181, 2.55], [92182, 4.37], [92183, 3.5], [92184, 4.44], [92185, 2.35], [92186, 2.34], [92187, 3.66], [92188, 4.23], [92189, 3.78], [92190, 2.54], [92191, 3.61], [92192, 4.45], [92193, 3.64], [92194, 2.61], [92195, 3.53], [92196, 4.24], [92197, 3.51], [92198, 2.36], [92199, 3.61], [92200, 4.36], [92201, 4.13], [92202, 3.65], [92203, 4.37], [92204, 2.55], [92205, 3.43], [92206, 3.5], [92207, 4.36], [92208, 3.5], [92209, 4.26], [92210, 2.44], [92211, 4.17], [92212, 4.39], [92213, 4.23], [92214, 2.44], [92215, 4.23], [92216, 4.39], [92217, 4.39], [92218, 2.43], [92219, 4.45], [92220, 3.75], [92221, 4.37], [92222, 3.61], [92223, 4.5], [92224, 3.47], [92225, 2.7], [92226, 3.61], [92227, 4.31], [92228, 3.64], [92229, 3.63], [92230, 3.35], [92231, 2.5], [92232, 3.44], [92233, 3.46], [92234, 4.46], [92235, 4.39], [92236, 4.45], [92237, 4.45], [92238, 3.6], [92239, 4.13], [92240, 4.12], [92241, 4.37], [92242, 4.48], [92243, 4.43], [92244, 3.78], [92245, 4.25], [92246, 4.34], [92247, 3.65], [92248, 4.38], [92249, 4.36], [92250, 2.7], [92251, 2.47], [92252, 4.39], [92253, 2.58], [92254, 3.42], [92255, 3.54], [92256, 3.47], [92257, 3.75], [92258, 4.12], [92259, 3.5], [92260, 3.54], [92261, 3.61], [92262, 3.78], [92263, 2.45], [92264, 4.39], [92265, 2.34], [92266, 4.32], [92267, 3.43], [92268, 2.32], [92269, 3.64], [92270, 4.36], [92271, 2.67], [92272, 3.78], [92273, 4.36], [92274, 3.48], [92275, 2.61], [92276, 3.45], [92277, 4.35], [92278, 4.46], [92279, 3.44], [92280, 4.38], [92281, 4.39], [92282, 3.59], [92283, 4.48], [92284, 3.49], [92285, 4.37], [92286, 4.18], [92287, 3.55], [92288, 1.52], [92289, 2.7], [92290, 4.34], [92291, 3.5], [92292, 4.5], [92293, 3.65], [92294, 4.39], [92295, 4.43], [92296, 4.34], [92297, 4.5], [92298, 4.45], [92299, 3.4], [92300, 3.65], [92301, 4.25], [92302, 3.64], [92303, 3.77], [92304, 4.48], [92305, 2.66], [92306, 4.36], [92307, 4.5], [92308, 2.34], [92309, 3.65], [92310, 3.63], [92311, 4.48], [92312, 3.63], [92313, 4.34], [92314, 2.34], [92315, 3.75], [92316, 3.51], [92317, 3.64], [92318, 1.55], [92319, 3.64], [92320, 3.64], [92321, 3.45], [92322, 4.43], [92323, 3.41], [92324, 3.65], [92325, 1.73], [92326, 4.48], [92327, 3.77], [92328, 4.39], [92329, 4.39], [92330, 3.57], [92331, 4.24], [92332, 4.24], [92333, 3.64], [92334, 4.32], [92335, 3.64], [92336, 4.39], [92337, 4.38], [92338, 3.56], [92339, 2.56], [92340, 1.68], [92341, 4.38], [92342, 3.63], [92343, 3.65], [92344, 4.35], [92345, 3.65], [92346, 2.43], [92347, 3.42], [92348, 3.64], [92349, 4.36], [92350, 3.56], [92351, 3.79], [92352, 3.58], [92353, 4.48], [92354, 2.34], [92355, 3.48], [92356, 3.78], [92357, 4.24], [92358, 3.5], [92359, 3.44], [92360, 4.48], [92361, 3.64], [92362, 4.24], [92363, 2.45], [92364, 4.37], [92365, 2.64], [92366, 2.37], [92367, 3.48], [92368, 4.5], [92369, 3.78], [92370, 4.36], [92371, 4.39], [92372, 2.34], [92373, 4.48], [92374, 3.78], [92375, 4.36], [92376, 2.42], [92377, 3.67], [92378, 4.36], [92379, 4.38], [92380, 3.64], [92381, 4.36], [92382, 3.43], [92383, 4.36], [92384, 3.61], [92385, 3.52], [92386, 3.36], [92387, 4.32], [92388, 3.44], [92389, 3.45], [92390, 4.39], [92391, 3.64], [92392, 4.31], [92393, 3.75], [92394, 2.64], [92395, 4.25], [92396, 3.46], [92397, 3.64], [92398, 3.47], [92399, 4.39], [92400, 3.41], [92401, 3.55], [92402, 2.36], [92403, 3.64], [92404, 3.75], [92405, 3.78], [92406, 3.62], [92407, 3.64], [92408, 4.37], [92409, 3.43], [92410, 3.65], [92411, 3.61], [92412, 4.38], [92413, 2.34], [92414, 3.65], [92415, 3.65], [92416, 2.67], [92417, 3.64], [92418, 2.34], [92419, 3.42], [92420, 4.31], [92421, 4.35], [92422, 3.53], [92423, 4.34], [92424, 3.46], [92425, 4.32], [92426, 4.48], [92427, 3.44], [92428, 3.46], [92429, 3.53], [92430, 3.78], [92431, 4.39], [92432, 3.55], [92433, 3.52], [92434, 4.37], [92435, 3.43], [92436, 3.78], [92437, 4.48], [92438, 4.38], [92439, 4.53], [92440, 4.39], [92441, 3.74], [92442, 3.78], [92443, 2.54], [92444, 4.39], [92445, 3.49], [92446, 2.41], [92447, 4.39], [92448, 3.52], [92449, 2.42], [92450, 4.23], [92451, 4.23], [92452, 2.47], [92453, 3.46], [92454, 4.13], [92455, 3.47], [92456, 4.41], [92457, 4.32], [92458, 4.45], [92459, 3.78], [92460, 4.15], [92461, 2.45], [92462, 3.63], [92463, 4.36], [92464, 4.53], [92465, 4.39], [92466, 2.64], [92467, 4.38], [92468, 3.5], [92469, 3.64], [92470, 3.55], [92471, 4.39], [92472, 3.44], [92473, 3.47], [92474, 4.36], [92475, 3.65], [92476, 4.17], [92477, 2.33], [92478, 2.34], [92479, 4.35], [92480, 4.45], [92481, 4.38], [92482, 4.34], [92483, 4.36], [92484, 3.59], [92485, 4.36], [92486, 3.46], [92487, 3.61], [92488, 4.23], [92489, 3.43], [92490, 3.58], [92491, 4.23], [92492, 3.76], [92493, 4.48], [92494, 4.12], [92495, 3.78], [92496, 3.64], [92497, 4.35], [92498, 2.36], [92499, 4.39], [92500, 3.77], [92501, 3.63], [92502, 2.7], [92503, 2.43], [92504, 2.42], [92505, 3.64], [92506, 2.39], [92507, 3.65], [92508, 4.55], [92509, 3.47], [92510, 4.36], [92511, 3.46], [92512, 3.78], [92513, 3.44], [92514, 3.55], [92515, 4.35], [92516, 3.44], [92517, 3.67], [92518, 4.36], [92519, 3.63], [92520, 3.77], [92521, 2.64], [92522, 4.36], [92523, 3.45], [92524, 3.47], [92525, 3.47], [92526, 4.39], [92527, 4.48], [92528, 3.65], [92529, 3.49], [92530, 3.45], [92531, 3.73], [92532, 3.65], [92533, 4.36], [92534, 4.36], [92535, 3.75], [92536, 3.78], [92537, 2.42], [92538, 4.45], [92539, 4.25], [92540, 2.43], [92541, 3.6], [92542, 3.64], [92543, 2.64], [92544, 4.45], [92545, 3.78], [92546, 4.45], [92547, 3.49], [92548, 4.45], [92549, 3.41], [92550, 2.61], [92551, 2.45], [92552, 4.39], [92553, 4.36], [92554, 3.48], [92555, 3.65], [92556, 1.75], [92557, 4.39], [92558, 4.39], [92559, 3.69], [92560, 2.32], [92561, 1.46], [92562, 4.36], [92563, 3.61], [92564, 4.46], [92565, 3.44], [92566, 4.38], [92567, 3.61], [92568, 2.72], [92569, 3.61], [92570, 3.46], [92571, 3.78], [92572, 2.34], [92573, 4.36], [92574, 3.65], [92575, 4.55], [92576, 3.63], [92577, 3.49], [92578, 4.43], [92579, 4.39], [92580, 2.59], [92581, 3.62], [92582, 3.43], [92583, 3.61], [92584, 2.35], [92585, 2.59], [92586, 3.46], [92587, 3.47], [92588, 2.63], [92589, 4.48], [92590, 4.43], [92591, 3.5], [92592, 4.23], [92593, 2.72], [92594, 4.36], [92595, 2.58], [92596, 2.44], [92597, 4.37], [92598, 3.65], [92599, 1.64], [92600, 4.45], [92601, 3.65], [92602, 3.67], [92603, 3.44], [92604, 4.32], [92605, 3.47], [92606, 4.34], [92607, 3.53], [92608, 2.64], [92609, 4.39], [92610, 3.44], [92611, 4.23], [92612, 3.53], [92613, 4.31], [92614, 4.36], [92615, 3.46], [92616, 3.63], [92617, 4.36], [92618, 3.73], [92619, 3.65], [92620, 2.42], [92621, 4.37], [92622, 2.46], [92623, 3.65], [92624, 3.77], [92625, 4.45], [92626, 4.38], [92627, 3.47], [92628, 3.56], [92629, 4.39], [92630, 2.62], [92631, 4.45], [92632, 4.39], [92633, 4.36], [92634, 3.64], [92635, 4.35], [92636, 1.7], [92637, 4.39], [92638, 3.64], [92639, 4.12], [92640, 3.63], [92641, 3.63], [92642, 4.5], [92643, 4.13], [92644, 4.49], [92645, 4.38], [92646, 1.69], [92647, 3.53], [92648, 2.7], [92649, 3.65], [92650, 3.52], [92651, 2.42], [92652, 3.51], [92653, 4.5], [92654, 2.44], [92655, 4.37], [92656, 4.23], [92657, 4.24], [92658, 4.48], [92659, 3.45], [92660, 4.34], [92661, 3.53], [92662, 4.48], [92663, 4.17], [92664, 3.44], [92665, 4.39], [92666, 3.46], [92667, 3.78], [92668, 3.46], [92669, 3.43], [92670, 3.43], [92671, 4.43], [92672, 4.48], [92673, 3.45], [92674, 4.14], [92675, 4.17], [92676, 4.38], [92677, 2.72], [92678, 3.55], [92679, 3.63], [92680, 4.48], [92681, 2.69], [92682, 3.65], [92683, 2.69], [92684, 3.5], [92685, 3.6], [92686, 4.36], [92687, 3.65], [92688, 3.44], [92689, 3.65], [92690, 3.48], [92691, 3.56], [92692, 4.36], [92693, 4.48], [92694, 4.27], [92695, 4.45], [92696, 3.64], [92697, 3.42], [92698, 4.48], [92699, 3.6], [92700, 3.78], [92701, 4.37], [92702, 3.63], [92703, 3.46], [92704, 3.46], [92705, 3.64], [92706, 4.48], [92707, 3.64], [92708, 3.48], [92709, 3.47], [92710, 4.25], [92711, 4.36], [92712, 4.44], [92713, 3.55], [92714, 3.61], [92715, 2.34], [92716, 2.63], [92717, 2.31], [92718, 4.36], [92719, 4.43], [92720, 3.78], [92721, 4.38], [92722, 4.35], [92723, 3.78], [92724, 4.45], [92725, 4.36], [92726, 4.39], [92727, 2.45], [92728, 4.24], [92729, 4.39], [92730, 2.4], [92731, 2.67], [92732, 3.44], [92733, 4.26], [92734, 4.39], [92735, 3.65], [92736, 4.35], [92737, 4.43], [92738, 3.6], [92739, 1.71], [92740, 3.37], [92741, 4.25], [92742, 2.48], [92743, 3.65], [92744, 4.34], [92745, 3.44], [92746, 3.73], [92747, 4.39], [92748, 3.48], [92749, 4.34], [92750, 3.48], [92751, 2.29], [92752, 3.44], [92753, 3.39], [92754, 3.65], [92755, 2.64], [92756, 4.32], [92757, 4.34], [92758, 2.63], [92759, 4.38], [92760, 3.54], [92761, 4.32], [92762, 3.49], [92763, 3.46], [92764, 4.36], [92765, 4.24], [92766, 4.37], [92767, 3.64], [92768, 4.48], [92769, 4.34], [92770, 3.78], [92771, 3.5], [92772, 3.51], [92773, 2.69], [92774, 3.78], [92775, 4.13], [92776, 4.39], [92777, 3.45], [92778, 4.43], [92779, 4.31], [92780, 4.37], [92781, 4.52], [92782, 4.48], [92783, 2.58], [92784, 4.43], [92785, 3.78], [92786, 3.5], [92787, 3.6], [92788, 3.55], [92789, 3.47], [92790, 4.37], [92791, 3.47], [92792, 3.64], [92793, 3.61], [92794, 4.48], [92795, 4.43], [92796, 3.55], [92797, 2.58], [92798, 3.65], [92799, 3.51], [92800, 3.61], [92801, 4.23], [92802, 4.39], [92803, 3.65], [92804, 3.78], [92805, 3.78], [92806, 2.68], [92807, 4.43], [92808, 3.62], [92809, 3.66], [92810, 4.36], [92811, 4.32], [92812, 3.64], [92813, 3.48], [92814, 3.63], [92815, 2.67], [92816, 3.74], [92817, 3.65], [92818, 2.33], [92819, 3.43], [92820, 4.39], [92821, 3.62], [92822, 3.73], [92823, 3.65], [92824, 4.24], [92825, 3.45], [92826, 3.65], [92827, 4.36], [92828, 2.67], [92829, 4.12], [92830, 3.64], [92831, 4.24], [92832, 2.41], [92833, 3.44], [92834, 4.48], [92835, 3.4], [92836, 3.65], [92837, 3.61], [92838, 3.46], [92839, 4.39], [92840, 2.63], [92841, 3.44], [92842, 2.45], [92843, 3.4], [92844, 2.64], [92845, 4.39], [92846, 4.23], [92847, 3.48], [92848, 4.36], [92849, 2.66], [92850, 2.36], [92851, 3.41], [92852, 3.47], [92853, 3.78], [92854, 3.78], [92855, 4.34], [92856, 3.47], [92857, 4.24], [92858, 4.48], [92859, 3.65], [92860, 3.48], [92861, 2.62], [92862, 3.48], [92863, 2.34], [92864, 3.53], [92865, 4.39], [92866, 3.54], [92867, 4.23], [92868, 4.39], [92869, 4.37], [92870, 4.39], [92871, 3.6], [92872, 3.42], [92873, 3.41], [92874, 4.48], [92875, 3.53], [92876, 2.63], [92877, 2.34], [92878, 3.57], [92879, 4.36], [92880, 3.37], [92881, 3.64], [92882, 4.23], [92883, 3.78], [92884, 3.64], [92885, 3.64], [92886, 3.49], [92887, 3.41], [92888, 4.48], [92889, 3.68], [92890, 4.48], [92891, 4.36], [92892, 3.78], [92893, 2.57], [92894, 4.37], [92895, 2.44], [92896, 4.37], [92897, 4.37], [92898, 4.39], [92899, 3.6], [92900, 2.45], [92901, 3.52], [92902, 3.78], [92903, 4.45], [92904, 3.52], [92905, 4.38], [92906, 3.49], [92907, 3.65], [92908, 2.61], [92909, 3.78], [92910, 4.5], [92911, 2.63], [92912, 3.62], [92913, 3.53], [92914, 3.43], [92915, 2.55], [92916, 2.29], [92917, 4.43], [92918, 4.36], [92919, 3.43], [92920, 3.74], [92921, 3.6], [92922, 2.55], [92923, 3.51], [92924, 2.64], [92925, 3.52], [92926, 3.63], [92927, 3.74], [92928, 3.6], [92929, 3.46], [92930, 4.37], [92931, 3.49], [92932, 3.78], [92933, 4.39], [92934, 3.78], [92935, 2.4], [92936, 3.78], [92937, 4.31], [92938, 3.67], [92939, 2.65], [92940, 2.66], [92941, 2.58], [92942, 2.42], [92943, 4.39], [92944, 4.39], [92945, 3.49], [92946, 4.17], [92947, 4.24], [92948, 4.43], [92949, 4.39], [92950, 3.65], [92951, 4.36], [92952, 4.53], [92953, 2.64], [92954, 3.78], [92955, 4.34], [92956, 4.55], [92957, 4.28], [92958, 4.29], [92959, 3.51], [92960, 4.39], [92961, 3.55], [92962, 4.16], [92963, 3.64], [92964, 3.46], [92965, 2.7], [92966, 4.17], [92967, 4.5], [92968, 4.39], [92969, 3.64], [92970, 2.64], [92971, 4.35], [92972, 4.45], [92973, 3.66], [92974, 4.23], [92975, 3.48], [92976, 3.65], [92977, 3.43], [92978, 2.45], [92979, 3.44], [92980, 4.39], [92981, 3.65], [92982, 4.36], [92983, 4.35], [92984, 4.17], [92985, 4.43], [92986, 4.43], [92987, 3.45], [92988, 4.43], [92989, 3.45], [92990, 2.34], [92991, 3.42], [92992, 2.66], [92993, 3.77], [92994, 2.34], [92995, 3.47], [92996, 3.61], [92997, 2.55], [92998, 3.41], [92999, 4.5], [93000, 3.65], [93001, 4.37], [93002, 4.48], [93003, 4.43], [93004, 4.43], [93005, 3.78], [93006, 4.43], [93007, 3.65], [93008, 3.64], [93009, 2.42], [93010, 4.38], [93011, 2.36], [93012, 4.48], [93013, 2.73], [93014, 4.35], [93015, 4.36], [93016, 2.4], [93017, 4.24], [93018, 4.13], [93019, 3.78], [93020, 4.36], [93021, 4.17], [93022, 3.78], [93023, 3.64], [93024, 2.45], [93025, 3.6], [93026, 3.75], [93027, 2.72], [93028, 4.34], [93029, 4.48], [93030, 3.75], [93031, 3.51], [93032, 4.39], [93033, 2.41], [93034, 3.44], [93035, 3.61], [93036, 3.51], [93037, 4.48], [93038, 3.4], [93039, 3.58], [93040, 3.65], [93041, 3.54], [93042, 1.74], [93043, 4.25], [93044, 4.36], [93045, 3.65], [93046, 2.63], [93047, 4.48], [93048, 4.34], [93049, 4.24], [93050, 2.37], [93051, 3.65], [93052, 3.47], [93053, 3.64], [93054, 3.63], [93055, 3.55], [93056, 3.64], [93057, 3.56], [93058, 4.45], [93059, 2.29], [93060, 4.5], [93061, 3.63], [93062, 4.39], [93063, 4.24], [93064, 3.61], [93065, 4.45], [93066, 3.78], [93067, 3.65], [93068, 4.32], [93069, 2.55], [93070, 3.78], [93071, 2.61], [93072, 4.34], [93073, 4.36], [93074, 2.63], [93075, 4.34], [93076, 3.78], [93077, 2.42], [93078, 4.38], [93079, 3.78], [93080, 4.39], [93081, 3.78], [93082, 4.37], [93083, 3.44], [93084, 3.46], [93085, 3.61], [93086, 3.6], [93087, 4.38], [93088, 2.54], [93089, 4.39], [93090, 2.69], [93091, 3.45], [93092, 3.53], [93093, 2.34], [93094, 3.46], [93095, 4.36], [93096, 3.67], [93097, 4.5], [93098, 4.39], [93099, 2.55], [93100, 3.6], [93101, 4.36], [93102, 3.44], [93103, 2.48], [93104, 3.7], [93105, 4.12], [93106, 2.29], [93107, 3.52], [93108, 4.35], [93109, 3.78], [93110, 2.55], [93111, 4.39], [93112, 4.36], [93113, 3.63], [93114, 3.51], [93115, 4.38], [93116, 1.51], [93117, 4.55], [93118, 2.36], [93119, 3.47], [93120, 0.4], [93121, 4.34], [93122, 2.69], [93123, 2.37], [93124, 2.44], [93125, 3.44], [93126, 4.5], [93127, 1.69], [93128, 4.41], [93129, 3.45], [93130, 4.48], [93131, 3.46], [93132, 3.64], [93133, 3.65], [93134, 4.39], [93135, 3.69], [93136, 3.6], [93137, 4.25], [93138, 3.65], [93139, 4.37], [93140, 2.45], [93141, 3.63], [93142, 2.44], [93143, 3.46], [93144, 2.44], [93145, 4.39], [93146, 3.6], [93147, 3.53], [93148, 2.62], [93149, 2.43], [93150, 4.39], [93151, 2.45], [93152, 4.38], [93153, 4.25], [93154, 2.38], [93155, 4.38], [93156, 4.13], [93157, 3.42], [93158, 4.39], [93159, 3.61], [93160, 3.7], [93161, 3.37], [93162, 2.45], [93163, 4.35], [93164, 3.63], [93165, 3.49], [93166, 4.36], [93167, 4.37], [93168, 3.44], [93169, 3.47], [93170, 4.23], [93171, 3.48], [93172, 2.35], [93173, 2.45], [93174, 4.24], [93175, 4.43], [93176, 4.45], [93177, 3.78], [93178, 3.63], [93179, 3.58], [93180, 3.44], [93181, 3.45], [93182, 3.45], [93183, 4.34], [93184, 3.47], [93185, 3.62], [93186, 2.42], [93187, 3.64], [93188, 4.18], [93189, 3.5], [93190, 4.46], [93191, 3.67], [93192, 4.14], [93193, 3.47], [93194, 3.42], [93195, 4.48], [93196, 4.36], [93197, 4.23], [93198, 4.36], [93199, 2.58], [93200, 4.46], [93201, 2.34], [93202, 4.36], [93203, 3.77], [93204, 3.49], [93205, 3.5], [93206, 4.36], [93207, 3.46], [93208, 3.65], [93209, 3.44], [93210, 3.42], [93211, 3.46], [93212, 3.55], [93213, 3.76], [93214, 2.42], [93215, 4.36], [93216, 4.32], [93217, 4.39], [93218, 2.44], [93219, 3.43], [93220, 3.55], [93221, 3.77], [93222, 3.44], [93223, 4.32], [93224, 2.62], [93225, 3.64], [93226, 4.12], [93227, 3.61], [93228, 4.36], [93229, 4.48], [93230, 3.64], [93231, 4.36], [93232, 3.78], [93233, 3.49], [93234, 3.47], [93235, 4.24], [93236, 3.49], [93237, 4.24], [93238, 3.46], [93239, 2.34], [93240, 3.45], [93241, 4.38], [93242, 1.74], [93243, 3.7], [93244, 3.64], [93245, 3.64], [93246, 2.49], [93247, 3.46], [93248, 4.45], [93249, 4.39], [93250, 3.47], [93251, 4.12], [93252, 3.43], [93253, 4.38], [93254, 4.13], [93255, 4.23], [93256, 4.35], [93257, 3.47], [93258, 4.39], [93259, 3.7], [93260, 4.48], [93261, 3.78], [93262, 4.31], [93263, 3.44], [93264, 3.45], [93265, 2.63], [93266, 3.65], [93267, 3.54], [93268, 3.39], [93269, 4.24], [93270, 3.55], [93271, 4.48], [93272, 4.23], [93273, 4.36], [93274, 4.39], [93275, 4.23], [93276, 4.45], [93277, 3.78], [93278, 4.45], [93279, 2.63], [93280, 3.6], [93281, 4.36], [93282, 3.42], [93283, 3.78], [93284, 3.47], [93285, 4.48], [93286, 3.45], [93287, 3.47], [93288, 1.68], [93289, 4.48], [93290, 4.36], [93291, 4.37], [93292, 3.58], [93293, 2.34], [93294, 4.43], [93295, 3.65], [93296, 4.34], [93297, 3.61], [93298, 4.39], [93299, 3.43], [93300, 3.46], [93301, 2.64], [93302, 3.64], [93303, 2.35], [93304, 4.24], [93305, 3.53], [93306, 4.11], [93307, 3.48], [93308, 3.55], [93309, 3.49], [93310, 3.55], [93311, 3.67], [93312, 3.78], [93313, 4.23], [93314, 4.37], [93315, 3.61], [93316, 2.58], [93317, 3.44], [93318, 4.48], [93319, 3.46], [93320, 1.67], [93321, 4.36], [93322, 3.78], [93323, 3.36], [93324, 4.34], [93325, 4.23], [93326, 3.65], [93327, 4.52], [93328, 4.43], [93329, 3.65], [93330, 4.25], [93331, 4.27], [93332, 4.39], [93333, 3.65], [93334, 3.63], [93335, 4.36], [93336, 4.39], [93337, 2.56], [93338, 3.78], [93339, 4.43], [93340, 3.45], [93341, 2.48], [93342, 4.48], [93343, 3.47], [93344, 2.44], [93345, 2.6], [93346, 2.42], [93347, 3.52], [93348, 2.45], [93349, 3.43], [93350, 4.37], [93351, 4.45], [93352, 4.36], [93353, 3.39], [93354, 3.64], [93355, 3.77], [93356, 4.24], [93357, 4.43], [93358, 4.38], [93359, 2.41], [93360, 2.64], [93361, 3.77], [93362, 4.39], [93363, 4.34], [93364, 3.46], [93365, 4.13], [93366, 4.44], [93367, 3.64], [93368, 4.45], [93369, 3.51], [93370, 4.39], [93371, 4.25], [93372, 3.51], [93373, 4.36], [93374, 3.41], [93375, 2.48], [93376, 3.77], [93377, 4.24], [93378, 3.78], [93379, 2.68], [93380, 2.62], [93381, 3.46], [93382, 3.65], [93383, 4.37], [93384, 3.77], [93385, 4.39], [93386, 4.5], [93387, 4.38], [93388, 4.34], [93389, 3.6], [93390, 1.74], [93391, 4.12], [93392, 4.13], [93393, 4.24], [93394, 4.3], [93395, 4.45], [93396, 4.17], [93397, 2.63], [93398, 3.55], [93399, 3.51], [93400, 3.7], [93401, 4.34], [93402, 4.39], [93403, 2.36], [93404, 4.5], [93405, 2.29], [93406, 4.36], [93407, 3.78], [93408, 3.64], [93409, 4.25], [93410, 4.36], [93411, 4.48], [93412, 3.73], [93413, 4.36], [93414, 3.64], [93415, 3.45], [93416, 3.64], [93417, 4.37], [93418, 2.36], [93419, 4.37], [93420, 2.33], [93421, 3.61], [93422, 3.54], [93423, 3.63], [93424, 4.48], [93425, 3.63], [93426, 3.78], [93427, 3.47], [93428, 4.36], [93429, 3.42], [93430, 4.48], [93431, 4.26], [93432, 4.25], [93433, 4.49], [93434, 4.34], [93435, 3.58], [93436, 4.38], [93437, 3.52], [93438, 3.55], [93439, 3.42], [93440, 3.78], [93441, 3.47], [93442, 4.39], [93443, 3.49], [93444, 3.42], [93445, 3.6], [93446, 2.42], [93447, 4.15], [93448, 2.58], [93449, 4.39], [93450, 4.5], [93451, 4.39], [93452, 3.6], [93453, 2.41], [93454, 4.34], [93455, 4.35], [93456, 4.36], [93457, 3.58], [93458, 3.49], [93459, 4.39], [93460, 3.63], [93461, 2.64], [93462, 2.45], [93463, 3.64], [93464, 3.48], [93465, 2.48], [93466, 3.49], [93467, 3.78], [93468, 3.78], [93469, 3.47], [93470, 2.62], [93471, 4.36], [93472, 3.55], [93473, 4.45], [93474, 2.63], [93475, 4.39], [93476, 4.38], [93477, 3.63], [93478, 4.37], [93479, 2.34], [93480, 3.56], [93481, 4.32], [93482, 4.13], [93483, 4.45], [93484, 4.48], [93485, 4.39], [93486, 4.53], [93487, 4.36], [93488, 3.64], [93489, 3.6], [93490, 3.66], [93491, 4.24], [93492, 3.61], [93493, 3.5], [93494, 4.37], [93495, 2.34], [93496, 2.41], [93497, 2.7], [93498, 4.53], [93499, 4.39], [93500, 4.43], [93501, 4.45], [93502, 3.63], [93503, 4.45], [93504, 4.39], [93505, 3.61], [93506, 4.43], [93507, 4.43], [93508, 3.55], [93509, 3.54], [93510, 4.45], [93511, 4.32], [93512, 4.25], [93513, 3.64], [93514, 1.76], [93515, 4.36], [93516, 2.44], [93517, 3.42], [93518, 3.65], [93519, 2.69], [93520, 3.65], [93521, 4.17], [93522, 3.47], [93523, 3.44], [93524, 3.46], [93525, 3.62], [93526, 4.34], [93527, 4.15], [93528, 3.78], [93529, 2.42], [93530, 3.74], [93531, 4.36], [93532, 4.36], [93533, 4.48], [93534, 3.77], [93535, 2.36], [93536, 2.69], [93537, 3.61], [93538, 4.31], [93539, 2.42], [93540, 3.46], [93541, 4.34], [93542, 4.36], [93543, 3.47], [93544, 4.48], [93545, 4.39], [93546, 4.39], [93547, 3.44], [93548, 2.4], [93549, 4.48], [93550, 4.13], [93551, 4.26], [93552, 4.43], [93553, 3.43], [93554, 4.43], [93555, 4.36], [93556, 4.34], [93557, 2.65], [93558, 4.34], [93559, 4.32], [93560, 3.45], [93561, 4.12], [93562, 3.6], [93563, 4.24], [93564, 3.47], [93565, 2.42], [93566, 4.34], [93567, 3.41], [93568, 3.49], [93569, 4.34], [93570, 2.64], [93571, 3.42], [93572, 4.36], [93573, 4.37], [93574, 4.38], [93575, 4.39], [93576, 4.23], [93577, 4.39], [93578, 3.62], [93579, 2.41], [93580, 4.36], [93581, 4.38], [93582, 3.43], [93583, 3.55], [93584, 3.6], [93585, 4.24], [93586, 2.66], [93587, 4.39], [93588, 3.78], [93589, 3.63], [93590, 2.36], [93591, 3.61], [93592, 4.36], [93593, 4.34], [93594, 3.64], [93595, 4.23], [93596, 3.64], [93597, 4.36], [93598, 4.39], [93599, 2.5], [93600, 3.75], [93601, 3.65], [93602, 4.48], [93603, 3.55], [93604, 4.45], [93605, 2.42], [93606, 3.45], [93607, 3.39], [93608, 2.45], [93609, 3.7], [93610, 4.37], [93611, 4.14], [93612, 3.47], [93613, 4.5], [93614, 4.36], [93615, 2.35], [93616, 3.44], [93617, 2.35], [93618, 4.36], [93619, 3.56], [93620, 4.34], [93621, 3.56], [93622, 2.42], [93623, 4.43], [93624, 4.45], [93625, 3.65], [93626, 4.39], [93627, 4.17], [93628, 4.32], [93629, 3.65], [93630, 3.66], [93631, 4.24], [93632, 3.62], [93633, 1.46], [93634, 3.48], [93635, 4.48], [93636, 4.36], [93637, 3.44], [93638, 4.23], [93639, 3.56], [93640, 2.36], [93641, 4.36], [93642, 4.34], [93643, 2.63], [93644, 2.43], [93645, 4.36], [93646, 3.42], [93647, 3.47], [93648, 2.45], [93649, 3.64], [93650, 2.35], [93651, 4.34], [93652, 3.7], [93653, 2.66], [93654, 3.52], [93655, 3.43], [93656, 4.46], [93657, 4.39], [93658, 3.6], [93659, 4.36], [93660, 2.64], [93661, 4.35], [93662, 3.53], [93663, 3.64], [93664, 2.36], [93665, 3.64], [93666, 3.65], [93667, 4.34], [93668, 3.6], [93669, 3.56], [93670, 2.44], [93671, 3.64], [93672, 3.6], [93673, 4.36], [93674, 3.78], [93675, 4.48], [93676, 4.34], [93677, 2.41], [93678, 4.43], [93679, 4.3], [93680, 4.39], [93681, 3.68], [93682, 4.25], [93683, 4.39], [93684, 4.53], [93685, 3.51], [93686, 4.23], [93687, 2.34], [93688, 3.41], [93689, 3.47], [93690, 3.61], [93691, 4.39], [93692, 3.78], [93693, 4.48], [93694, 1.69], [93695, 3.64], [93696, 3.53], [93697, 4.39], [93698, 3.65], [93699, 4.25], [93700, 4.39], [93701, 3.43], [93702, 3.44], [93703, 3.78], [93704, 3.78], [93705, 3.65], [93706, 4.36], [93707, 4.39], [93708, 3.64], [93709, 2.36], [93710, 3.55], [93711, 3.78], [93712, 3.64], [93713, 3.55], [93714, 3.59], [93715, 4.39], [93716, 3.48], [93717, 2.48], [93718, 2.55], [93719, 3.44], [93720, 1.65], [93721, 4.34], [93722, 4.53], [93723, 2.35], [93724, 4.37], [93725, 3.71], [93726, 3.46], [93727, 3.63], [93728, 3.65], [93729, 4.39], [93730, 2.36], [93731, 4.5], [93732, 2.44], [93733, 4.39], [93734, 4.43], [93735, 3.78], [93736, 3.47], [93737, 3.62], [93738, 3.56], [93739, 2.29], [93740, 2.36], [93741, 3.48], [93742, 3.4], [93743, 3.41], [93744, 4.45], [93745, 4.48], [93746, 3.49], [93747, 4.34], [93748, 4.13], [93749, 3.52], [93750, 4.34], [93751, 4.39], [93752, 3.51], [93753, 4.29], [93754, 4.39], [93755, 2.63], [93756, 3.78], [93757, 2.64], [93758, 4.36], [93759, 4.48], [93760, 4.48], [93761, 1.72], [93762, 4.48], [93763, 3.49], [93764, 4.31], [93765, 4.48], [93766, 4.37], [93767, 4.39], [93768, 4.36], [93769, 4.38], [93770, 3.78], [93771, 2.7], [93772, 4.36], [93773, 4.43], [93774, 3.47], [93775, 2.36], [93776, 4.36], [93777, 4.36], [93778, 2.65], [93779, 2.47], [93780, 3.48], [93781, 4.36], [93782, 4.48], [93783, 3.52], [93784, 3.46], [93785, 3.47], [93786, 3.47], [93787, 4.36], [93788, 4.39], [93789, 4.24], [93790, 3.5], [93791, 3.64], [93792, 2.48], [93793, 4.36], [93794, 2.29], [93795, 2.7], [93796, 3.47], [93797, 3.45], [93798, 3.52], [93799, 4.35], [93800, 3.61], [93801, 4.31], [93802, 4.39], [93803, 3.44], [93804, 4.39], [93805, 4.24], [93806, 3.65], [93807, 3.44], [93808, 4.48], [93809, 3.44], [93810, 3.78], [93811, 4.48], [93812, 4.24], [93813, 3.44], [93814, 3.65], [93815, 3.75], [93816, 2.42], [93817, 3.43], [93818, 3.46], [93819, 3.64], [93820, 4.37], [93821, 3.55], [93822, 3.62], [93823, 3.47], [93824, 4.12], [93825, 3.52], [93826, 4.35], [93827, 2.7], [93828, 4.36], [93829, 3.63], [93830, 3.77], [93831, 3.4], [93832, 4.34], [93833, 4.48], [93834, 4.34], [93835, 3.61], [93836, 3.49], [93837, 3.37], [93838, 4.38], [93839, 3.65], [93840, 3.78], [93841, 3.5], [93842, 4.26], [93843, 3.56], [93844, 3.45], [93845, 4.45], [93846, 3.78], [93847, 4.39], [93848, 3.49], [93849, 4.43], [93850, 3.41], [93851, 4.34], [93852, 3.64], [93853, 4.55], [93854, 3.55], [93855, 4.36], [93856, 4.36], [93857, 3.42], [93858, 3.77], [93859, 3.47], [93860, 3.63], [93861, 4.38], [93862, 4.12], [93863, 3.46], [93864, 4.36], [93865, 4.23], [93866, 3.47], [93867, 3.78], [93868, 4.48], [93869, 3.64], [93870, 3.47], [93871, 4.45], [93872, 3.54], [93873, 4.24], [93874, 3.65], [93875, 3.55], [93876, 4.39], [93877, 3.64], [93878, 4.24], [93879, 4.25], [93880, 4.48], [93881, 4.5], [93882, 3.49], [93883, 2.42], [93884, 3.66], [93885, 3.65], [93886, 3.35], [93887, 3.77], [93888, 4.27], [93889, 2.42], [93890, 2.72], [93891, 3.37], [93892, 3.47], [93893, 4.36], [93894, 4.45], [93895, 4.38], [93896, 3.78], [93897, 4.25], [93898, 3.78], [93899, 3.77], [93900, 4.41], [93901, 4.14], [93902, 2.42], [93903, 4.49], [93904, 3.65], [93905, 2.62], [93906, 4.43], [93907, 3.51], [93908, 2.33], [93909, 3.52], [93910, 1.72], [93911, 4.36], [93912, 4.48], [93913, 4.48], [93914, 3.64], [93915, 3.48], [93916, 3.51], [93917, 3.49], [93918, 2.44], [93919, 4.48], [93920, 3.61], [93921, 3.46], [93922, 3.56], [93923, 3.56], [93924, 4.41], [93925, 4.43], [93926, 3.72], [93927, 2.57], [93928, 3.6], [93929, 2.35], [93930, 4.31], [93931, 3.44], [93932, 3.75], [93933, 4.34], [93934, 4.17], [93935, 3.63], [93936, 3.6], [93937, 3.63], [93938, 4.38], [93939, 4.36], [93940, 4.38], [93941, 4.24], [93942, 2.44], [93943, 2.54], [93944, 4.32], [93945, 4.25], [93946, 4.39], [93947, 3.45], [93948, 2.73], [93949, 1.63], [93950, 2.57], [93951, 3.78], [93952, 4.36], [93953, 3.49], [93954, 4.25], [93955, 3.57], [93956, 4.18], [93957, 3.46], [93958, 3.53], [93959, 3.78], [93960, 4.36], [93961, 3.61], [93962, 3.78], [93963, 4.43], [93964, 4.39], [93965, 3.6], [93966, 2.5], [93967, 3.47], [93968, 2.37], [93969, 2.36], [93970, 3.44], [93971, 2.42], [93972, 2.62], [93973, 2.42], [93974, 2.69], [93975, 4.18], [93976, 3.77], [93977, 3.64], [93978, 2.4], [93979, 3.44], [93980, 2.42], [93981, 1.75], [93982, 4.48], [93983, 4.35], [93984, 4.39], [93985, 4.24], [93986, 3.46], [93987, 3.43], [93988, 3.46], [93989, 3.77], [93990, 4.23], [93991, 4.26], [93992, 3.62], [93993, 3.75], [93994, 4.37], [93995, 4.43], [93996, 4.48], [93997, 3.58], [93998, 3.65], [93999, 2.45], [94000, 4.41], [94001, 3.49], [94002, 3.64], [94003, 4.34], [94004, 2.66], [94005, 4.39], [94006, 2.55], [94007, 4.48], [94008, 3.62], [94009, 4.34], [94010, 3.78], [94011, 4.39], [94012, 4.38], [94013, 3.62], [94014, 2.69], [94015, 4.24], [94016, 3.74], [94017, 2.72], [94018, 3.74], [94019, 4.39], [94020, 4.48], [94021, 4.36], [94022, 4.31], [94023, 4.39], [94024, 3.5], [94025, 3.48], [94026, 2.69], [94027, 4.48], [94028, 3.47], [94029, 3.54], [94030, 3.64], [94031, 2.62], [94032, 3.46], [94033, 2.35], [94034, 4.37], [94035, 4.34], [94036, 4.37], [94037, 3.65], [94038, 3.49], [94039, 3.64], [94040, 4.36], [94041, 3.75], [94042, 4.38], [94043, 3.43], [94044, 4.26], [94045, 2.58], [94046, 3.77], [94047, 4.36], [94048, 4.55], [94049, 4.38], [94050, 4.38], [94051, 3.5], [94052, 3.65], [94053, 4.36], [94054, 4.37], [94055, 4.43], [94056, 3.44], [94057, 3.58], [94058, 3.73], [94059, 2.54], [94060, 4.37], [94061, 2.69], [94062, 4.5], [94063, 3.45], [94064, 3.65], [94065, 3.49], [94066, 3.45], [94067, 4.32], [94068, 3.55], [94069, 4.32], [94070, 2.34], [94071, 4.3], [94072, 4.36], [94073, 3.61], [94074, 4.48], [94075, 4.37], [94076, 4.29], [94077, 3.56], [94078, 3.48], [94079, 3.54], [94080, 4.25], [94081, 2.34], [94082, 3.64], [94083, 3.5], [94084, 4.31], [94085, 2.66], [94086, 2.68], [94087, 4.48], [94088, 4.37], [94089, 4.35], [94090, 4.25], [94091, 3.67], [94092, 4.45], [94093, 2.64], [94094, 4.55], [94095, 4.39], [94096, 3.62], [94097, 3.65], [94098, 2.42], [94099, 3.48], [94100, 2.36], [94101, 3.43], [94102, 1.68], [94103, 4.43], [94104, 3.41], [94105, 4.43], [94106, 3.47], [94107, 3.6], [94108, 4.37], [94109, 2.54], [94110, 4.48], [94111, 4.5], [94112, 3.61], [94113, 4.43], [94114, 3.75], [94115, 3.42], [94116, 3.6], [94117, 4.48], [94118, 4.36], [94119, 3.41], [94120, 3.76], [94121, 4.48], [94122, 4.38], [94123, 3.46], [94124, 3.76], [94125, 4.34], [94126, 3.66], [94127, 4.36], [94128, 2.46], [94129, 3.55], [94130, 3.5], [94131, 3.42], [94132, 3.49], [94133, 4.36], [94134, 4.39], [94135, 4.37], [94136, 2.64], [94137, 4.36], [94138, 4.32], [94139, 3.48], [94140, 2.44], [94141, 4.24], [94142, 4.38], [94143, 4.36], [94144, 3.6], [94145, 4.45], [94146, 4.39], [94147, 4.36], [94148, 4.41], [94149, 2.64], [94150, 3.65], [94151, 2.4], [94152, 4.38], [94153, 3.48], [94154, 2.56], [94155, 3.64], [94156, 2.62], [94157, 3.38], [94158, 1.64], [94159, 4.35], [94160, 4.48], [94161, 4.45], [94162, 3.65], [94163, 3.42], [94164, 3.47], [94165, 4.39], [94166, 4.14], [94167, 2.4], [94168, 3.7], [94169, 4.43], [94170, 4.36], [94171, 4.53], [94172, 4.36], [94173, 4.36], [94174, 4.45], [94175, 4.37], [94176, 4.24], [94177, 4.34], [94178, 3.51], [94179, 3.62], [94180, 3.65], [94181, 3.52], [94182, 2.42], [94183, 4.43], [94184, 3.52], [94185, 4.39], [94186, 3.75], [94187, 3.64], [94188, 3.65], [94189, 3.48], [94190, 3.65], [94191, 4.5], [94192, 2.42], [94193, 2.42], [94194, 3.65], [94195, 4.48], [94196, 4.36], [94197, 3.54], [94198, 4.39], [94199, 3.65], [94200, 3.64], [94201, 3.62], [94202, 4.48], [94203, 3.65], [94204, 4.45], [94205, 2.64], [94206, 4.39], [94207, 3.64], [94208, 3.47], [94209, 3.64], [94210, 3.68], [94211, 4.39], [94212, 4.37], [94213, 3.55], [94214, 4.25], [94215, 3.35], [94216, 2.62], [94217, 3.63], [94218, 2.44], [94219, 2.35], [94220, 3.78], [94221, 3.35], [94222, 4.24], [94223, 3.78], [94224, 4.5], [94225, 3.78], [94226, 3.6], [94227, 4.39], [94228, 4.32], [94229, 3.78], [94230, 4.43], [94231, 1.69], [94232, 4.48], [94233, 4.36], [94234, 3.7], [94235, 2.48], [94236, 4.43], [94237, 4.35], [94238, 4.23], [94239, 4.12], [94240, 2.36], [94241, 2.45], [94242, 3.66], [94243, 2.54], [94244, 4.37], [94245, 3.65], [94246, 4.39], [94247, 3.44], [94248, 3.45], [94249, 3.77], [94250, 4.13], [94251, 4.39], [94252, 2.42], [94253, 3.65], [94254, 4.34], [94255, 3.6], [94256, 2.32], [94257, 4.48], [94258, 3.44], [94259, 2.69], [94260, 3.64], [94261, 3.78], [94262, 4.17], [94263, 4.35], [94264, 2.42], [94265, 3.47], [94266, 3.44], [94267, 4.43], [94268, 4.31], [94269, 3.6], [94270, 1.52], [94271, 4.38], [94272, 3.46], [94273, 3.44], [94274, 4.45], [94275, 3.44], [94276, 4.38], [94277, 3.43], [94278, 2.45], [94279, 3.54], [94280, 3.78], [94281, 4.36], [94282, 4.5], [94283, 4.35], [94284, 2.44], [94285, 2.34], [94286, 3.76], [94287, 4.34], [94288, 4.39], [94289, 2.69], [94290, 3.61], [94291, 3.48], [94292, 4.37], [94293, 3.78], [94294, 4.36], [94295, 4.35], [94296, 2.42], [94297, 4.39], [94298, 4.36], [94299, 4.29], [94300, 4.48], [94301, 4.23], [94302, 2.34], [94303, 3.67], [94304, 4.38], [94305, 2.45], [94306, 4.32], [94307, 4.36], [94308, 3.72], [94309, 3.62], [94310, 4.37], [94311, 2.34], [94312, 2.7], [94313, 4.39], [94314, 4.34], [94315, 2.44], [94316, 4.39], [94317, 4.32], [94318, 3.47], [94319, 4.34], [94320, 3.48], [94321, 1.67], [94322, 4.44], [94323, 4.34], [94324, 2.35], [94325, 3.65], [94326, 3.69], [94327, 3.44], [94328, 4.24], [94329, 3.62], [94330, 4.39], [94331, 3.65], [94332, 3.65], [94333, 4.43], [94334, 3.67], [94335, 3.65], [94336, 3.4], [94337, 4.37], [94338, 2.39], [94339, 4.39], [94340, 2.37], [94341, 4.31], [94342, 3.48], [94343, 4.39], [94344, 3.65], [94345, 3.5], [94346, 3.47], [94347, 4.45], [94348, 3.61], [94349, 3.65], [94350, 3.65], [94351, 4.39], [94352, 3.55], [94353, 3.48], [94354, 4.39], [94355, 4.5], [94356, 3.63], [94357, 4.43], [94358, 3.47], [94359, 3.45], [94360, 3.55], [94361, 0.4], [94362, 4.38], [94363, 3.47], [94364, 1.69], [94365, 4.36], [94366, 4.39], [94367, 4.41], [94368, 3.65], [94369, 3.65], [94370, 4.39], [94371, 2.49], [94372, 4.39], [94373, 3.63], [94374, 2.34], [94375, 3.54], [94376, 2.34], [94377, 3.48], [94378, 3.53], [94379, 3.45], [94380, 2.32], [94381, 4.38], [94382, 3.62], [94383, 4.48], [94384, 4.13], [94385, 3.43], [94386, 3.49], [94387, 4.36], [94388, 3.65], [94389, 2.61], [94390, 3.47], [94391, 3.44], [94392, 4.36], [94393, 3.64], [94394, 4.39], [94395, 4.38], [94396, 2.54], [94397, 4.48], [94398, 4.36], [94399, 2.62], [94400, 4.37], [94401, 3.48], [94402, 3.78], [94403, 3.48], [94404, 3.62], [94405, 3.64], [94406, 4.38], [94407, 3.47], [94408, 4.37], [94409, 3.5], [94410, 4.27], [94411, 2.35], [94412, 4.37], [94413, 3.41], [94414, 3.49], [94415, 3.37], [94416, 3.47], [94417, 3.47], [94418, 3.41], [94419, 2.65], [94420, 3.5], [94421, 3.63], [94422, 4.49], [94423, 2.49], [94424, 4.18], [94425, 3.6], [94426, 3.65], [94427, 2.66], [94428, 3.52], [94429, 3.49], [94430, 3.46], [94431, 4.18], [94432, 4.35], [94433, 3.44], [94434, 2.45], [94435, 3.41], [94436, 4.39], [94437, 4.25], [94438, 4.38], [94439, 4.39], [94440, 4.36], [94441, 4.45], [94442, 4.23], [94443, 2.36], [94444, 4.45], [94445, 3.61], [94446, 4.36], [94447, 2.34], [94448, 3.62], [94449, 2.42], [94450, 4.34], [94451, 4.38], [94452, 3.69], [94453, 4.38], [94454, 4.36], [94455, 3.44], [94456, 4.23], [94457, 4.36], [94458, 2.41], [94459, 4.36], [94460, 2.62], [94461, 3.55], [94462, 4.43], [94463, 4.36], [94464, 2.63], [94465, 4.45], [94466, 3.45], [94467, 4.39], [94468, 3.47], [94469, 4.36], [94470, 4.39], [94471, 3.67], [94472, 1.71], [94473, 3.67], [94474, 3.55], [94475, 4.39], [94476, 3.65], [94477, 3.56], [94478, 3.66], [94479, 4.31], [94480, 3.44], [94481, 4.48], [94482, 2.33], [94483, 3.78], [94484, 2.64], [94485, 3.47], [94486, 2.29], [94487, 3.61], [94488, 3.64], [94489, 2.62], [94490, 3.65], [94491, 4.35], [94492, 4.43], [94493, 3.63], [94494, 4.37], [94495, 4.35], [94496, 3.64], [94497, 4.36], [94498, 4.23], [94499, 4.48], [94500, 3.64], [94501, 3.64], [94502, 4.37], [94503, 3.64], [94504, 4.48], [94505, 3.44], [94506, 1.66], [94507, 3.65], [94508, 2.65], [94509, 4.23], [94510, 3.56], [94511, 3.78], [94512, 3.44], [94513, 4.34], [94514, 2.42], [94515, 3.68], [94516, 4.39], [94517, 2.55], [94518, 3.55], [94519, 4.34], [94520, 2.37], [94521, 3.65], [94522, 4.37], [94523, 4.39], [94524, 4.31], [94525, 3.46], [94526, 3.6], [94527, 4.48], [94528, 3.52], [94529, 3.6], [94530, 2.34], [94531, 4.34], [94532, 4.39], [94533, 3.55], [94534, 3.44], [94535, 4.48], [94536, 2.63], [94537, 2.44], [94538, 3.75], [94539, 4.48], [94540, 4.39], [94541, 3.47], [94542, 3.64], [94543, 3.65], [94544, 3.42], [94545, 3.65], [94546, 3.78], [94547, 4.14], [94548, 3.61], [94549, 2.72], [94550, 4.25], [94551, 4.43], [94552, 2.48], [94553, 2.34], [94554, 3.5], [94555, 2.42], [94556, 4.38], [94557, 4.17], [94558, 3.44], [94559, 4.41], [94560, 2.64], [94561, 3.55], [94562, 4.39], [94563, 3.52], [94564, 2.66], [94565, 3.6], [94566, 3.51], [94567, 3.61], [94568, 3.41], [94569, 4.35], [94570, 3.64], [94571, 4.39], [94572, 4.39], [94573, 3.46], [94574, 4.48], [94575, 4.24], [94576, 3.73], [94577, 3.46], [94578, 4.23], [94579, 2.66], [94580, 3.53], [94581, 4.38], [94582, 4.23], [94583, 3.6], [94584, 4.37], [94585, 4.36], [94586, 4.48], [94587, 4.45], [94588, 4.25], [94589, 2.54], [94590, 4.36], [94591, 2.62], [94592, 4.36], [94593, 3.78], [94594, 3.65], [94595, 3.54], [94596, 2.42], [94597, 2.35], [94598, 3.46], [94599, 4.55], [94600, 4.55], [94601, 4.3], [94602, 2.32], [94603, 4.48], [94604, 3.52], [94605, 3.64], [94606, 3.67], [94607, 3.63], [94608, 4.55], [94609, 2.45], [94610, 3.64], [94611, 4.36], [94612, 4.38], [94613, 4.38], [94614, 4.23], [94615, 4.39], [94616, 3.44], [94617, 3.65], [94618, 2.42], [94619, 3.64], [94620, 3.49], [94621, 3.78], [94622, 3.48], [94623, 4.39], [94624, 2.45], [94625, 3.46], [94626, 4.24], [94627, 4.39], [94628, 2.5], [94629, 3.51], [94630, 4.48], [94631, 2.49], [94632, 3.5], [94633, 2.64], [94634, 4.34], [94635, 4.48], [94636, 4.27], [94637, 4.25], [94638, 4.36], [94639, 3.65], [94640, 4.39], [94641, 1.68], [94642, 4.37], [94643, 4.25], [94644, 2.37], [94645, 4.23], [94646, 4.39], [94647, 3.65], [94648, 4.43], [94649, 4.36], [94650, 4.45], [94651, 3.4], [94652, 4.37], [94653, 4.12], [94654, 2.65], [94655, 2.37], [94656, 3.65], [94657, 4.36], [94658, 2.36], [94659, 4.12], [94660, 3.4], [94661, 4.46], [94662, 4.45], [94663, 2.34], [94664, 4.36], [94665, 4.24], [94666, 3.64], [94667, 2.68], [94668, 1.73], [94669, 4.38], [94670, 4.37], [94671, 4.48], [94672, 3.65], [94673, 4.48], [94674, 4.48], [94675, 3.53], [94676, 4.48], [94677, 4.43], [94678, 3.65], [94679, 3.54], [94680, 4.38], [94681, 1.64], [94682, 3.45], [94683, 4.39], [94684, 4.3], [94685, 3.78], [94686, 4.45], [94687, 2.3], [94688, 4.39], [94689, 4.5], [94690, 3.64], [94691, 3.52], [94692, 3.63], [94693, 3.67], [94694, 4.48], [94695, 3.64], [94696, 3.63], [94697, 3.63], [94698, 4.36], [94699, 3.46], [94700, 3.78], [94701, 3.48], [94702, 2.3], [94703, 3.52], [94704, 3.47], [94705, 3.78], [94706, 3.41], [94707, 3.44], [94708, 4.45], [94709, 2.7], [94710, 3.6], [94711, 2.34], [94712, 3.47], [94713, 4.45], [94714, 3.64], [94715, 3.61], [94716, 3.64], [94717, 3.54], [94718, 3.48], [94719, 4.38], [94720, 3.71], [94721, 3.63], [94722, 3.72], [94723, 3.63], [94724, 2.65], [94725, 3.47], [94726, 4.38], [94727, 4.26], [94728, 3.54], [94729, 4.38], [94730, 3.65], [94731, 4.35], [94732, 4.32], [94733, 2.57], [94734, 4.31], [94735, 4.38], [94736, 4.23], [94737, 3.58], [94738, 3.77], [94739, 4.38], [94740, 4.37], [94741, 3.61], [94742, 3.44], [94743, 2.63], [94744, 3.63], [94745, 4.23], [94746, 3.65], [94747, 4.36], [94748, 3.64], [94749, 4.45], [94750, 3.61], [94751, 4.37], [94752, 4.25], [94753, 3.61], [94754, 4.39], [94755, 4.39], [94756, 4.38], [94757, 3.63], [94758, 2.61], [94759, 3.64], [94760, 3.65], [94761, 4.46], [94762, 4.38], [94763, 2.55], [94764, 3.64], [94765, 3.48], [94766, 3.61], [94767, 2.42], [94768, 3.48], [94769, 3.49], [94770, 2.57], [94771, 4.43], [94772, 3.75], [94773, 2.44], [94774, 3.65], [94775, 4.5], [94776, 3.56], [94777, 4.38], [94778, 4.31], [94779, 3.78], [94780, 2.45], [94781, 3.77], [94782, 2.34], [94783, 4.36], [94784, 4.34], [94785, 4.46], [94786, 3.64], [94787, 4.39], [94788, 3.73], [94789, 3.49], [94790, 3.61], [94791, 4.38], [94792, 3.62], [94793, 1.46], [94794, 4.36], [94795, 3.78], [94796, 2.3], [94797, 4.36], [94798, 3.49], [94799, 2.4], [94800, 3.75], [94801, 3.6], [94802, 4.39], [94803, 1.68], [94804, 4.48], [94805, 4.39], [94806, 2.58], [94807, 4.39], [94808, 2.35], [94809, 3.52], [94810, 3.64], [94811, 4.5], [94812, 3.46], [94813, 3.42], [94814, 3.49], [94815, 4.48], [94816, 4.39], [94817, 4.45], [94818, 4.43], [94819, 4.45], [94820, 3.65], [94821, 3.47], [94822, 4.48], [94823, 3.46], [94824, 1.65], [94825, 4.48], [94826, 3.6], [94827, 4.18], [94828, 4.36], [94829, 3.78], [94830, 2.45], [94831, 4.15], [94832, 1.7], [94833, 3.6], [94834, 3.49], [94835, 3.43], [94836, 4.34], [94837, 2.7], [94838, 3.74], [94839, 2.7], [94840, 4.45], [94841, 4.36], [94842, 3.64], [94843, 3.62], [94844, 2.34], [94845, 3.78], [94846, 2.41], [94847, 4.39], [94848, 4.48], [94849, 3.46], [94850, 3.6], [94851, 4.32], [94852, 4.36], [94853, 4.32], [94854, 3.62], [94855, 1.69], [94856, 3.6], [94857, 4.37], [94858, 4.36], [94859, 4.14], [94860, 2.42], [94861, 3.47], [94862, 2.64], [94863, 3.4], [94864, 3.65], [94865, 4.39], [94866, 3.74], [94867, 3.48], [94868, 4.36], [94869, 4.27], [94870, 3.78], [94871, 3.58], [94872, 2.35], [94873, 3.64], [94874, 4.24], [94875, 4.25], [94876, 3.48], [94877, 3.65], [94878, 4.36], [94879, 3.44], [94880, 4.14], [94881, 3.58], [94882, 3.63], [94883, 3.65], [94884, 4.39], [94885, 4.12], [94886, 2.5], [94887, 2.43], [94888, 2.37], [94889, 3.65], [94890, 2.41], [94891, 4.17], [94892, 4.31], [94893, 3.56], [94894, 4.43], [94895, 4.45], [94896, 4.39], [94897, 2.35], [94898, 3.77], [94899, 2.68], [94900, 4.45], [94901, 3.78], [94902, 3.73], [94903, 4.37], [94904, 3.62], [94905, 2.62], [94906, 4.39], [94907, 3.49], [94908, 2.42], [94909, 3.71], [94910, 3.67], [94911, 3.65], [94912, 4.23], [94913, 4.37], [94914, 4.17], [94915, 3.78], [94916, 4.45], [94917, 4.34], [94918, 4.37], [94919, 3.55], [94920, 3.5], [94921, 4.42], [94922, 4.32], [94923, 4.23], [94924, 3.64], [94925, 4.49], [94926, 4.48], [94927, 4.13], [94928, 2.41], [94929, 3.65], [94930, 3.44], [94931, 4.5], [94932, 4.39], [94933, 4.45], [94934, 4.43], [94935, 3.46], [94936, 3.38], [94937, 3.39], [94938, 4.45], [94939, 2.63], [94940, 4.45], [94941, 3.41], [94942, 3.75], [94943, 4.14], [94944, 4.35], [94945, 3.48], [94946, 2.34], [94947, 3.49], [94948, 4.48], [94949, 3.77], [94950, 4.48], [94951, 4.48], [94952, 3.63], [94953, 4.39], [94954, 3.64], [94955, 3.78], [94956, 3.6], [94957, 4.39], [94958, 3.78], [94959, 4.32], [94960, 4.38], [94961, 4.24], [94962, 4.38], [94963, 4.49], [94964, 1.65], [94965, 4.36], [94966, 2.7], [94967, 1.67], [94968, 4.48], [94969, 4.36], [94970, 2.45], [94971, 3.48], [94972, 3.78], [94973, 2.37], [94974, 4.24], [94975, 3.5], [94976, 2.37], [94977, 4.25], [94978, 4.12], [94979, 4.38], [94980, 4.24], [94981, 4.24], [94982, 4.43], [94983, 4.35], [94984, 2.62], [94985, 4.36], [94986, 1.69], [94987, 4.37], [94988, 4.31], [94989, 3.65], [94990, 3.54], [94991, 3.46], [94992, 4.34], [94993, 4.39], [94994, 4.45], [94995, 3.61], [94996, 4.39], [94997, 4.27], [94998, 3.78], [94999, 4.38], [95000, 3.46], [95001, 3.78], [95002, 2.34], [95003, 4.39], [95004, 3.4], [95005, 4.14], [95006, 3.55], [95007, 4.43], [95008, 2.41], [95009, 3.77], [95010, 3.64], [95011, 4.39], [95012, 2.63], [95013, 4.23], [95014, 4.39], [95015, 3.75], [95016, 3.77], [95017, 3.44], [95018, 3.5], [95019, 4.34], [95020, 3.49], [95021, 2.41], [95022, 2.45], [95023, 4.23], [95024, 4.23], [95025, 3.61], [95026, 4.48], [95027, 4.39], [95028, 3.63], [95029, 4.39], [95030, 3.6], [95031, 2.73], [95032, 3.38], [95033, 2.64], [95034, 4.19], [95035, 2.39], [95036, 4.38], [95037, 3.5], [95038, 4.38], [95039, 4.34], [95040, 4.39], [95041, 4.5], [95042, 3.43], [95043, 3.48], [95044, 3.77], [95045, 4.34], [95046, 4.38], [95047, 2.49], [95048, 3.45], [95049, 3.64], [95050, 3.44], [95051, 4.37], [95052, 4.39], [95053, 4.39], [95054, 4.17], [95055, 4.43], [95056, 3.5], [95057, 4.39], [95058, 4.45], [95059, 4.39], [95060, 3.44], [95061, 4.41], [95062, 3.45], [95063, 1.71], [95064, 3.45], [95065, 2.38], [95066, 4.39], [95067, 4.48], [95068, 3.54], [95069, 4.12], [95070, 4.36], [95071, 3.53], [95072, 3.7], [95073, 1.73], [95074, 3.6], [95075, 2.44], [95076, 3.49], [95077, 4.36], [95078, 3.49], [95079, 4.48], [95080, 4.32], [95081, 3.48], [95082, 3.6], [95083, 3.62], [95084, 3.63], [95085, 3.65], [95086, 4.36], [95087, 4.23], [95088, 4.45], [95089, 4.48], [95090, 2.62], [95091, 4.17], [95092, 3.61], [95093, 4.36], [95094, 3.38], [95095, 3.78], [95096, 4.36], [95097, 3.5], [95098, 4.31], [95099, 4.12], [95100, 4.31], [95101, 3.5], [95102, 4.38], [95103, 3.58], [95104, 4.31], [95105, 3.5], [95106, 3.64], [95107, 3.64], [95108, 3.44], [95109, 2.37], [95110, 4.36], [95111, 3.46], [95112, 4.39], [95113, 3.77], [95114, 3.44], [95115, 3.61], [95116, 4.38], [95117, 3.54], [95118, 4.39], [95119, 2.34], [95120, 4.48], [95121, 4.39], [95122, 4.39], [95123, 3.41], [95124, 4.36], [95125, 4.39], [95126, 4.24], [95127, 2.54], [95128, 3.62], [95129, 3.47], [95130, 3.76], [95131, 4.24], [95132, 2.64], [95133, 4.39], [95134, 3.64], [95135, 3.6], [95136, 3.38], [95137, 3.64], [95138, 3.45], [95139, 3.78], [95140, 1.46], [95141, 3.43], [95142, 2.62], [95143, 2.67], [95144, 1.69], [95145, 3.52], [95146, 4.24], [95147, 4.23], [95148, 3.64], [95149, 3.44], [95150, 4.48], [95151, 4.34], [95152, 3.56], [95153, 4.39], [95154, 3.58], [95155, 3.64], [95156, 3.44], [95157, 3.45], [95158, 4.52], [95159, 3.78], [95160, 3.63], [95161, 2.7], [95162, 4.36], [95163, 3.62], [95164, 3.5], [95165, 4.45], [95166, 3.44], [95167, 4.5], [95168, 4.43], [95169, 4.39], [95170, 2.65], [95171, 3.56], [95172, 3.64], [95173, 4.45], [95174, 3.65], [95175, 1.77], [95176, 4.37], [95177, 4.23], [95178, 3.6], [95179, 1.71], [95180, 3.77], [95181, 3.63], [95182, 2.47], [95183, 4.25], [95184, 4.38], [95185, 4.31], [95186, 3.78], [95187, 3.64], [95188, 4.25], [95189, 4.39], [95190, 3.37], [95191, 3.58], [95192, 3.65], [95193, 4.39], [95194, 4.13], [95195, 4.34], [95196, 4.34], [95197, 1.73], [95198, 4.48], [95199, 3.46], [95200, 4.48], [95201, 3.41], [95202, 3.49], [95203, 2.45], [95204, 4.35], [95205, 1.73], [95206, 4.32], [95207, 4.13], [95208, 2.45], [95209, 3.65], [95210, 4.25], [95211, 4.36], [95212, 4.31], [95213, 3.61], [95214, 2.34], [95215, 2.7], [95216, 4.36], [95217, 2.37], [95218, 2.54], [95219, 4.36], [95220, 2.57], [95221, 4.39], [95222, 3.45], [95223, 4.35], [95224, 4.13], [95225, 4.45], [95226, 4.5], [95227, 3.38], [95228, 3.62], [95229, 4.45], [95230, 3.42], [95231, 4.13], [95232, 3.48], [95233, 3.37], [95234, 4.26], [95235, 4.34], [95236, 2.54], [95237, 3.75], [95238, 3.75], [95239, 2.42], [95240, 4.37], [95241, 3.48], [95242, 4.39], [95243, 3.64], [95244, 4.36], [95245, 4.39], [95246, 4.37], [95247, 4.48], [95248, 4.53], [95249, 3.61], [95250, 4.36], [95251, 4.39], [95252, 4.36], [95253, 4.36], [95254, 4.37], [95255, 2.39], [95256, 4.36], [95257, 4.37], [95258, 4.38], [95259, 3.47], [95260, 3.64], [95261, 2.54], [95262, 4.31], [95263, 3.5], [95264, 4.31], [95265, 4.5], [95266, 3.64], [95267, 4.5], [95268, 4.23], [95269, 3.5], [95270, 3.64], [95271, 4.37], [95272, 4.38], [95273, 4.48], [95274, 2.42], [95275, 3.78], [95276, 3.4], [95277, 3.75], [95278, 4.43], [95279, 3.4], [95280, 3.75], [95281, 4.38], [95282, 4.23], [95283, 4.13], [95284, 2.37], [95285, 3.62], [95286, 3.52], [95287, 3.6], [95288, 3.67], [95289, 2.61], [95290, 4.34], [95291, 4.23], [95292, 4.43], [95293, 3.65], [95294, 4.24], [95295, 3.65], [95296, 3.65], [95297, 3.52], [95298, 3.77], [95299, 3.45], [95300, 2.44], [95301, 3.64], [95302, 4.24], [95303, 3.46], [95304, 4.38], [95305, 3.78], [95306, 4.17], [95307, 4.18], [95308, 3.66], [95309, 2.38], [95310, 2.58], [95311, 2.4], [95312, 3.47], [95313, 4.32], [95314, 4.43], [95315, 3.61], [95316, 2.3], [95317, 3.6], [95318, 4.17], [95319, 4.37], [95320, 4.39], [95321, 3.52], [95322, 4.34], [95323, 4.31], [95324, 3.47], [95325, 3.63], [95326, 4.5], [95327, 4.38], [95328, 3.5], [95329, 4.34], [95330, 3.63], [95331, 3.47], [95332, 3.78], [95333, 3.49], [95334, 4.36], [95335, 4.41], [95336, 3.77], [95337, 3.45], [95338, 4.39], [95339, 4.38], [95340, 2.54], [95341, 3.51], [95342, 3.45], [95343, 3.49], [95344, 4.43], [95345, 4.48], [95346, 4.37], [95347, 3.44], [95348, 4.39], [95349, 3.46], [95350, 3.37], [95351, 2.34], [95352, 4.39], [95353, 4.32], [95354, 3.49], [95355, 2.41], [95356, 3.65], [95357, 3.78], [95358, 3.78], [95359, 3.55], [95360, 4.52], [95361, 2.55], [95362, 4.34], [95363, 3.48], [95364, 4.48], [95365, 4.37], [95366, 3.5], [95367, 3.78], [95368, 3.47], [95369, 3.78], [95370, 2.69], [95371, 2.72], [95372, 2.35], [95373, 3.39], [95374, 4.25], [95375, 4.39], [95376, 4.52], [95377, 4.23], [95378, 3.44], [95379, 3.48], [95380, 3.65], [95381, 4.12], [95382, 3.38], [95383, 3.5], [95384, 4.5], [95385, 4.34], [95386, 3.78], [95387, 4.31], [95388, 3.46], [95389, 3.76], [95390, 2.58], [95391, 4.45], [95392, 4.39], [95393, 3.78], [95394, 4.43], [95395, 3.78], [95396, 4.24], [95397, 3.55], [95398, 4.43], [95399, 3.51], [95400, 3.47], [95401, 4.24], [95402, 3.42], [95403, 3.63], [95404, 3.58], [95405, 3.65], [95406, 3.56], [95407, 4.36], [95408, 3.42], [95409, 4.13], [95410, 2.59], [95411, 4.5], [95412, 3.63], [95413, 3.51], [95414, 4.31], [95415, 3.44], [95416, 3.61], [95417, 3.64], [95418, 4.36], [95419, 2.34], [95420, 4.36], [95421, 4.36], [95422, 4.39], [95423, 4.36], [95424, 1.68], [95425, 4.32], [95426, 3.6], [95427, 3.61], [95428, 3.53], [95429, 4.46], [95430, 4.48], [95431, 4.25], [95432, 3.75], [95433, 3.65], [95434, 3.56], [95435, 3.66], [95436, 4.36], [95437, 4.48], [95438, 3.66], [95439, 3.4], [95440, 4.48], [95441, 3.65], [95442, 2.34], [95443, 4.43], [95444, 3.56], [95445, 3.65], [95446, 3.45], [95447, 3.47], [95448, 4.12], [95449, 4.39], [95450, 4.34], [95451, 3.65], [95452, 4.39], [95453, 2.36], [95454, 3.78], [95455, 4.39], [95456, 3.71], [95457, 4.24], [95458, 3.49], [95459, 3.5], [95460, 4.48], [95461, 3.75], [95462, 3.47], [95463, 4.23], [95464, 3.61], [95465, 4.39], [95466, 3.72], [95467, 4.39], [95468, 3.55], [95469, 2.63], [95470, 2.71], [95471, 4.13], [95472, 4.39], [95473, 4.28], [95474, 3.46], [95475, 4.38], [95476, 4.48], [95477, 2.62], [95478, 2.65], [95479, 4.37], [95480, 3.78], [95481, 3.65], [95482, 3.61], [95483, 4.39], [95484, 4.39], [95485, 4.5], [95486, 4.31], [95487, 2.62], [95488, 4.39], [95489, 3.65], [95490, 3.46], [95491, 3.6], [95492, 3.78], [95493, 3.5], [95494, 2.29], [95495, 3.44], [95496, 1.71], [95497, 4.36], [95498, 2.41], [95499, 3.64], [95500, 3.64], [95501, 3.64], [95502, 3.63], [95503, 4.48], [95504, 4.35], [95505, 4.34], [95506, 3.78], [95507, 2.63], [95508, 3.64], [95509, 3.76], [95510, 4.18], [95511, 3.45], [95512, 4.38], [95513, 4.14], [95514, 4.48], [95515, 4.43], [95516, 2.7], [95517, 4.32], [95518, 4.18], [95519, 3.53], [95520, 3.75], [95521, 2.72], [95522, 2.64], [95523, 3.78], [95524, 4.37], [95525, 4.39], [95526, 3.41], [95527, 3.51], [95528, 2.48], [95529, 3.78], [95530, 2.33], [95531, 3.45], [95532, 3.77], [95533, 2.66], [95534, 3.78], [95535, 3.52], [95536, 4.45], [95537, 3.65], [95538, 4.23], [95539, 4.24], [95540, 4.36], [95541, 3.72], [95542, 2.62], [95543, 4.37], [95544, 4.27], [95545, 4.24], [95546, 4.24], [95547, 2.66], [95548, 2.48], [95549, 3.44], [95550, 4.36], [95551, 3.47], [95552, 2.5], [95553, 3.44], [95554, 4.26], [95555, 4.31], [95556, 3.65], [95557, 3.54], [95558, 3.78], [95559, 3.55], [95560, 3.63], [95561, 1.75], [95562, 3.64], [95563, 3.65], [95564, 4.48], [95565, 4.38], [95566, 4.37], [95567, 4.26], [95568, 1.75], [95569, 4.25], [95570, 4.39], [95571, 3.78], [95572, 4.38], [95573, 3.57], [95574, 3.75], [95575, 3.48], [95576, 3.78], [95577, 4.24], [95578, 4.5], [95579, 3.51], [95580, 2.34], [95581, 3.65], [95582, 4.36], [95583, 2.73], [95584, 2.45], [95585, 2.37], [95586, 3.66], [95587, 4.24], [95588, 4.48], [95589, 3.63], [95590, 3.61], [95591, 4.25], [95592, 3.75], [95593, 4.48], [95594, 4.48], [95595, 4.48], [95596, 3.58], [95597, 3.52], [95598, 4.24], [95599, 3.43], [95600, 4.39], [95601, 3.61], [95602, 4.38], [95603, 4.55], [95604, 2.66], [95605, 4.36], [95606, 4.27], [95607, 4.38], [95608, 2.29], [95609, 4.36], [95610, 4.25], [95611, 4.45], [95612, 3.78], [95613, 4.36], [95614, 3.45], [95615, 3.63], [95616, 4.31], [95617, 4.23], [95618, 3.63], [95619, 3.55], [95620, 4.53], [95621, 3.64], [95622, 2.63], [95623, 3.65], [95624, 2.64], [95625, 3.47], [95626, 4.27], [95627, 3.64], [95628, 4.37], [95629, 3.64], [95630, 4.23], [95631, 3.61], [95632, 4.36], [95633, 4.34], [95634, 4.46], [95635, 3.39], [95636, 3.65], [95637, 2.29], [95638, 3.5], [95639, 3.77], [95640, 4.39], [95641, 3.6], [95642, 2.68], [95643, 3.64], [95644, 1.72], [95645, 2.62], [95646, 3.78], [95647, 3.64], [95648, 2.35], [95649, 2.39], [95650, 4.48], [95651, 4.39], [95652, 2.69], [95653, 4.39], [95654, 3.56], [95655, 3.5], [95656, 3.78], [95657, 4.41], [95658, 3.37], [95659, 4.28], [95660, 2.42], [95661, 1.74], [95662, 3.77], [95663, 3.63], [95664, 4.34], [95665, 4.36], [95666, 3.45], [95667, 3.44], [95668, 3.78], [95669, 2.43], [95670, 3.61], [95671, 3.49], [95672, 4.39], [95673, 4.39], [95674, 4.36], [95675, 2.69], [95676, 2.45], [95677, 4.24], [95678, 4.46], [95679, 3.65], [95680, 3.77], [95681, 3.43], [95682, 2.45], [95683, 4.23], [95684, 4.32], [95685, 4.39], [95686, 2.67], [95687, 2.36], [95688, 2.65], [95689, 3.48], [95690, 3.5], [95691, 4.34], [95692, 4.24], [95693, 1.69], [95694, 4.43], [95695, 4.31], [95696, 4.39], [95697, 4.36], [95698, 3.35], [95699, 3.64], [95700, 3.78], [95701, 4.38], [95702, 4.34], [95703, 2.55], [95704, 4.36], [95705, 3.6], [95706, 2.44], [95707, 3.47], [95708, 3.42], [95709, 3.76], [95710, 4.32], [95711, 4.25], [95712, 4.36], [95713, 4.23], [95714, 4.46], [95715, 2.63], [95716, 4.38], [95717, 4.17], [95718, 4.39], [95719, 3.63], [95720, 4.23], [95721, 4.39], [95722, 4.48], [95723, 3.54], [95724, 4.25], [95725, 4.38], [95726, 3.53], [95727, 3.4], [95728, 4.48], [95729, 3.47], [95730, 4.28], [95731, 4.38], [95732, 3.41], [95733, 4.24], [95734, 4.48], [95735, 4.37], [95736, 3.73], [95737, 3.65], [95738, 3.68], [95739, 4.46], [95740, 4.43], [95741, 3.55], [95742, 3.63], [95743, 3.55], [95744, 2.58], [95745, 3.52], [95746, 4.36], [95747, 4.34], [95748, 3.64], [95749, 4.15], [95750, 4.24], [95751, 4.24], [95752, 4.48], [95753, 4.41], [95754, 3.5], [95755, 2.41], [95756, 4.36], [95757, 2.69], [95758, 4.34], [95759, 2.63], [95760, 3.61], [95761, 3.64], [95762, 2.35], [95763, 1.46], [95764, 3.48], [95765, 4.23], [95766, 3.65], [95767, 3.77], [95768, 4.32], [95769, 3.77], [95770, 4.48], [95771, 2.69], [95772, 2.62], [95773, 3.68], [95774, 2.42], [95775, 4.45], [95776, 3.64], [95777, 4.48], [95778, 4.34], [95779, 4.43], [95780, 3.42], [95781, 3.64], [95782, 3.47], [95783, 4.36], [95784, 4.34], [95785, 3.4], [95786, 3.78], [95787, 4.36], [95788, 4.36], [95789, 3.53], [95790, 3.64], [95791, 1.64], [95792, 3.64], [95793, 3.55], [95794, 4.25], [95795, 4.48], [95796, 3.63], [95797, 3.77], [95798, 3.48], [95799, 3.65], [95800, 3.63], [95801, 4.55], [95802, 3.54], [95803, 4.39], [95804, 3.65], [95805, 2.44], [95806, 3.64], [95807, 3.52], [95808, 3.45], [95809, 4.39], [95810, 3.46], [95811, 4.34], [95812, 4.39], [95813, 4.37], [95814, 4.13], [95815, 4.37], [95816, 3.52], [95817, 3.61], [95818, 2.45], [95819, 4.14], [95820, 3.5], [95821, 4.36], [95822, 3.5], [95823, 3.44], [95824, 4.36], [95825, 3.56], [95826, 4.31], [95827, 4.38], [95828, 4.13], [95829, 4.36], [95830, 3.62], [95831, 4.39], [95832, 3.78], [95833, 3.47], [95834, 3.6], [95835, 2.49], [95836, 4.48], [95837, 4.53], [95838, 4.48], [95839, 4.38], [95840, 2.32], [95841, 2.45], [95842, 3.65], [95843, 2.62], [95844, 4.13], [95845, 4.18], [95846, 2.62], [95847, 4.13], [95848, 1.72], [95849, 3.64], [95850, 4.39], [95851, 3.46], [95852, 4.32], [95853, 3.65], [95854, 1.64], [95855, 2.42], [95856, 2.7], [95857, 4.36], [95858, 4.53], [95859, 3.75], [95860, 2.64], [95861, 3.54], [95862, 2.46], [95863, 4.36], [95864, 4.36], [95865, 4.48], [95866, 3.6], [95867, 3.49], [95868, 4.45], [95869, 3.62], [95870, 2.62], [95871, 3.65], [95872, 4.48], [95873, 4.41], [95874, 4.34], [95875, 4.34], [95876, 3.41], [95877, 3.64], [95878, 4.39], [95879, 2.42], [95880, 3.46], [95881, 4.32], [95882, 4.43], [95883, 2.46], [95884, 4.37], [95885, 1.64], [95886, 3.67], [95887, 4.32], [95888, 3.47], [95889, 4.39], [95890, 2.58], [95891, 4.31], [95892, 3.47], [95893, 3.51], [95894, 4.36], [95895, 2.44], [95896, 3.64], [95897, 4.37], [95898, 2.54], [95899, 3.56], [95900, 3.48], [95901, 2.42], [95902, 2.72], [95903, 2.54], [95904, 3.56], [95905, 2.4], [95906, 2.63], [95907, 4.45], [95908, 3.54], [95909, 3.78], [95910, 3.78], [95911, 4.17], [95912, 2.63], [95913, 2.36], [95914, 3.64], [95915, 4.39], [95916, 4.39], [95917, 4.36], [95918, 3.65], [95919, 3.41], [95920, 4.11], [95921, 4.38], [95922, 3.47], [95923, 4.38], [95924, 4.23], [95925, 4.13], [95926, 4.34], [95927, 3.48], [95928, 4.43], [95929, 4.39], [95930, 4.29], [95931, 3.5], [95932, 4.35], [95933, 2.42], [95934, 3.67], [95935, 4.35], [95936, 2.63], [95937, 3.63], [95938, 3.78], [95939, 3.65], [95940, 3.61], [95941, 4.35], [95942, 3.41], [95943, 4.39], [95944, 2.69], [95945, 4.34], [95946, 2.58], [95947, 4.31], [95948, 4.36], [95949, 3.63], [95950, 3.44], [95951, 3.78], [95952, 2.59], [95953, 4.24], [95954, 4.38], [95955, 4.39], [95956, 3.65], [95957, 3.61], [95958, 4.46], [95959, 3.53], [95960, 2.55], [95961, 3.61], [95962, 3.49], [95963, 2.45], [95964, 3.5], [95965, 2.29], [95966, 3.5], [95967, 4.34], [95968, 4.53], [95969, 3.77], [95970, 2.57], [95971, 3.47], [95972, 3.43], [95973, 2.34], [95974, 4.39], [95975, 4.36], [95976, 3.54], [95977, 4.36], [95978, 4.39], [95979, 4.34], [95980, 2.7], [95981, 4.37], [95982, 2.54], [95983, 2.64], [95984, 3.54], [95985, 4.39], [95986, 4.36], [95987, 3.72], [95988, 3.64], [95989, 3.77], [95990, 3.64], [95991, 4.17], [95992, 2.67], [95993, 4.32], [95994, 4.17], [95995, 3.39], [95996, 3.5], [95997, 4.24], [95998, 2.44], [95999, 2.67], [96000, 4.37], [96001, 4.31], [96002, 3.56], [96003, 3.37], [96004, 3.43], [96005, 1.73], [96006, 2.46], [96007, 4.5], [96008, 3.6], [96009, 4.45], [96010, 3.78], [96011, 2.61], [96012, 2.61], [96013, 4.45], [96014, 4.43], [96015, 2.44], [96016, 3.52], [96017, 2.34], [96018, 4.36], [96019, 2.64], [96020, 4.26], [96021, 4.39], [96022, 2.4], [96023, 3.62], [96024, 4.48], [96025, 3.44], [96026, 4.44], [96027, 2.29], [96028, 2.34], [96029, 4.53], [96030, 4.36], [96031, 2.34], [96032, 2.71], [96033, 3.77], [96034, 4.3], [96035, 4.5], [96036, 3.78], [96037, 4.45], [96038, 2.45], [96039, 3.48], [96040, 3.54], [96041, 3.35], [96042, 3.65], [96043, 4.24], [96044, 3.49], [96045, 4.37], [96046, 4.48], [96047, 4.34], [96048, 3.47], [96049, 4.43], [96050, 3.43], [96051, 3.65], [96052, 2.62], [96053, 3.5], [96054, 2.64], [96055, 3.47], [96056, 3.44], [96057, 4.39], [96058, 4.39], [96059, 3.37], [96060, 4.36], [96061, 4.48], [96062, 3.5], [96063, 4.38], [96064, 3.47], [96065, 4.39], [96066, 3.46], [96067, 3.44], [96068, 2.45], [96069, 4.39], [96070, 4.38], [96071, 4.38], [96072, 4.32], [96073, 4.38], [96074, 4.12], [96075, 2.44], [96076, 4.43], [96077, 2.34], [96078, 3.63], [96079, 3.4], [96080, 3.65], [96081, 4.36], [96082, 3.78], [96083, 2.63], [96084, 4.45], [96085, 3.42], [96086, 3.44], [96087, 3.46], [96088, 3.34], [96089, 3.65], [96090, 3.44], [96091, 4.25], [96092, 2.48], [96093, 4.36], [96094, 3.42], [96095, 3.6], [96096, 3.55], [96097, 4.36], [96098, 3.44], [96099, 4.38], [96100, 3.65], [96101, 3.47], [96102, 3.54], [96103, 4.48], [96104, 4.55], [96105, 4.32], [96106, 4.34], [96107, 2.36], [96108, 2.45], [96109, 2.42], [96110, 3.4], [96111, 2.42], [96112, 4.34], [96113, 3.78], [96114, 3.53], [96115, 3.64], [96116, 4.45], [96117, 4.48], [96118, 1.7], [96119, 3.77], [96120, 3.65], [96121, 4.41], [96122, 3.61], [96123, 3.77], [96124, 2.36], [96125, 4.38], [96126, 3.51], [96127, 4.45], [96128, 4.41], [96129, 3.77], [96130, 4.43], [96131, 2.62], [96132, 3.43], [96133, 2.63], [96134, 3.42], [96135, 4.38], [96136, 3.52], [96137, 3.61], [96138, 3.52], [96139, 3.65], [96140, 3.52], [96141, 3.47], [96142, 3.78], [96143, 4.39], [96144, 4.43], [96145, 3.65], [96146, 4.13], [96147, 4.34], [96148, 3.6], [96149, 2.55], [96150, 4.36], [96151, 3.4], [96152, 3.64], [96153, 4.37], [96154, 2.42], [96155, 4.39], [96156, 4.38], [96157, 3.47], [96158, 4.48], [96159, 4.36], [96160, 4.23], [96161, 3.65], [96162, 3.57], [96163, 3.77], [96164, 2.58], [96165, 3.51], [96166, 2.34], [96167, 4.27], [96168, 2.58], [96169, 2.66], [96170, 3.48], [96171, 4.39], [96172, 3.65], [96173, 3.64], [96174, 3.63], [96175, 4.36], [96176, 4.48], [96177, 2.35], [96178, 3.77], [96179, 4.13], [96180, 3.53], [96181, 3.45], [96182, 3.71], [96183, 3.61], [96184, 4.28], [96185, 3.6], [96186, 3.46], [96187, 4.32], [96188, 4.17], [96189, 3.6], [96190, 2.43], [96191, 1.67], [96192, 3.56], [96193, 3.62], [96194, 3.55], [96195, 3.47], [96196, 4.39], [96197, 2.34], [96198, 4.37], [96199, 4.45], [96200, 3.61], [96201, 4.39], [96202, 4.36], [96203, 2.37], [96204, 2.34], [96205, 3.45], [96206, 3.44], [96207, 4.37], [96208, 4.11], [96209, 3.35], [96210, 4.36], [96211, 3.45], [96212, 1.68], [96213, 4.32], [96214, 3.64], [96215, 3.6], [96216, 4.24], [96217, 2.55], [96218, 2.37], [96219, 4.26], [96220, 2.34], [96221, 2.46], [96222, 4.45], [96223, 2.4], [96224, 3.39], [96225, 3.47], [96226, 4.38], [96227, 2.54], [96228, 3.73], [96229, 4.34], [96230, 3.41], [96231, 3.78], [96232, 2.54], [96233, 3.65], [96234, 4.34], [96235, 4.48], [96236, 4.48], [96237, 4.38], [96238, 3.77], [96239, 4.37], [96240, 4.14], [96241, 4.15], [96242, 1.51], [96243, 3.64], [96244, 2.45], [96245, 4.38], [96246, 4.39], [96247, 3.64], [96248, 3.37], [96249, 3.46], [96250, 3.78], [96251, 4.36], [96252, 3.41], [96253, 3.44], [96254, 3.65], [96255, 4.46], [96256, 4.46], [96257, 3.61], [96258, 4.48], [96259, 3.63], [96260, 3.64], [96261, 2.62], [96262, 4.34], [96263, 3.65], [96264, 3.47], [96265, 3.65], [96266, 3.79], [96267, 3.6], [96268, 3.4], [96269, 2.55], [96270, 3.61], [96271, 2.69], [96272, 3.78], [96273, 3.49], [96274, 3.78], [96275, 3.65], [96276, 4.32], [96277, 4.36], [96278, 3.49], [96279, 2.62], [96280, 3.47], [96281, 3.42], [96282, 3.47], [96283, 3.61], [96284, 4.39], [96285, 4.37], [96286, 3.41], [96287, 3.63], [96288, 4.48], [96289, 4.45], [96290, 1.67], [96291, 4.48], [96292, 4.39], [96293, 4.48], [96294, 4.48], [96295, 3.6], [96296, 3.55], [96297, 4.46], [96298, 2.69], [96299, 4.23], [96300, 2.4], [96301, 3.64], [96302, 4.23], [96303, 4.55], [96304, 4.36], [96305, 3.64], [96306, 3.48], [96307, 3.45], [96308, 3.78], [96309, 3.48], [96310, 3.46], [96311, 2.62], [96312, 3.64], [96313, 3.78], [96314, 3.45], [96315, 2.44], [96316, 3.64], [96317, 4.13], [96318, 3.54], [96319, 4.39], [96320, 3.55], [96321, 4.37], [96322, 4.38], [96323, 4.24], [96324, 4.37], [96325, 3.63], [96326, 4.16], [96327, 3.54], [96328, 2.36], [96329, 3.65], [96330, 3.45], [96331, 4.43], [96332, 3.65], [96333, 3.61], [96334, 3.46], [96335, 3.64], [96336, 3.65], [96337, 2.45], [96338, 3.64], [96339, 3.78], [96340, 4.39], [96341, 3.6], [96342, 3.61], [96343, 2.41], [96344, 4.34], [96345, 3.53], [96346, 2.62], [96347, 4.48], [96348, 2.42], [96349, 3.49], [96350, 3.65], [96351, 3.61], [96352, 4.24], [96353, 4.25], [96354, 4.48], [96355, 2.47], [96356, 3.61], [96357, 3.46], [96358, 4.45], [96359, 2.69], [96360, 4.35], [96361, 3.44], [96362, 2.45], [96363, 4.48], [96364, 3.49], [96365, 2.36], [96366, 4.45], [96367, 4.39], [96368, 3.47], [96369, 2.44], [96370, 4.32], [96371, 2.34], [96372, 3.78], [96373, 4.36], [96374, 4.35], [96375, 3.55], [96376, 3.45], [96377, 3.61], [96378, 2.36], [96379, 3.75], [96380, 3.64], [96381, 4.48], [96382, 4.39], [96383, 4.38], [96384, 3.51], [96385, 3.63], [96386, 2.67], [96387, 4.34], [96388, 3.75], [96389, 3.64], [96390, 4.23], [96391, 2.63], [96392, 4.38], [96393, 3.51], [96394, 3.64], [96395, 3.46], [96396, 4.37], [96397, 3.61], [96398, 3.62], [96399, 3.45], [96400, 4.32], [96401, 4.35], [96402, 3.44], [96403, 3.64], [96404, 3.48], [96405, 3.45], [96406, 3.52], [96407, 4.49], [96408, 2.67], [96409, 4.38], [96410, 3.64], [96411, 3.6], [96412, 3.64], [96413, 3.63], [96414, 3.71], [96415, 4.38], [96416, 4.48], [96417, 3.65], [96418, 4.34], [96419, 3.64], [96420, 3.62], [96421, 4.38], [96422, 4.37], [96423, 3.78], [96424, 3.48], [96425, 3.52], [96426, 4.36], [96427, 2.44], [96428, 3.44], [96429, 4.38], [96430, 4.45], [96431, 4.39], [96432, 4.38], [96433, 2.54], [96434, 3.6], [96435, 3.78], [96436, 3.63], [96437, 4.39], [96438, 4.48], [96439, 2.44], [96440, 4.32], [96441, 3.64], [96442, 4.39], [96443, 4.36], [96444, 4.11], [96445, 3.44], [96446, 4.35], [96447, 3.46], [96448, 4.46], [96449, 3.67], [96450, 3.55], [96451, 3.47], [96452, 2.69], [96453, 3.61], [96454, 3.64], [96455, 4.15], [96456, 2.48], [96457, 3.35], [96458, 4.39], [96459, 4.35], [96460, 3.42], [96461, 3.6], [96462, 4.13], [96463, 2.36], [96464, 3.47], [96465, 4.48], [96466, 2.48], [96467, 4.34], [96468, 3.61], [96469, 2.58], [96470, 4.36], [96471, 4.36], [96472, 3.58], [96473, 4.24], [96474, 3.52], [96475, 3.61], [96476, 3.66], [96477, 4.39], [96478, 1.71], [96479, 3.53], [96480, 2.45], [96481, 2.42], [96482, 2.66], [96483, 3.52], [96484, 4.37], [96485, 2.34], [96486, 3.64], [96487, 4.41], [96488, 3.65], [96489, 4.25], [96490, 4.34], [96491, 3.53], [96492, 3.44], [96493, 4.36], [96494, 3.64], [96495, 4.39], [96496, 2.47], [96497, 3.68], [96498, 4.39], [96499, 4.34], [96500, 4.48], [96501, 3.42], [96502, 4.48], [96503, 4.25], [96504, 2.62], [96505, 2.35], [96506, 4.48], [96507, 4.34], [96508, 4.35], [96509, 3.52], [96510, 3.37], [96511, 4.39], [96512, 4.48], [96513, 3.64], [96514, 4.39], [96515, 3.6], [96516, 4.25], [96517, 3.49], [96518, 3.65], [96519, 3.64], [96520, 4.48], [96521, 3.52], [96522, 4.38], [96523, 3.49], [96524, 3.51], [96525, 3.44], [96526, 4.23], [96527, 3.5], [96528, 4.48], [96529, 4.39], [96530, 4.36], [96531, 3.47], [96532, 3.78], [96533, 3.52], [96534, 4.35], [96535, 4.39], [96536, 3.64], [96537, 4.36], [96538, 4.38], [96539, 3.6], [96540, 4.48], [96541, 4.39], [96542, 3.78], [96543, 2.55], [96544, 4.39], [96545, 2.64], [96546, 3.52], [96547, 4.39], [96548, 2.66], [96549, 4.5], [96550, 3.51], [96551, 4.27], [96552, 4.36], [96553, 3.48], [96554, 3.64], [96555, 3.64], [96556, 2.56], [96557, 4.12], [96558, 4.39], [96559, 2.58], [96560, 2.58], [96561, 3.47], [96562, 4.31], [96563, 3.77], [96564, 4.37], [96565, 3.41], [96566, 3.48], [96567, 2.48], [96568, 3.74], [96569, 3.49], [96570, 4.23], [96571, 3.78], [96572, 4.36], [96573, 2.4], [96574, 2.52], [96575, 3.77], [96576, 3.64], [96577, 3.62], [96578, 2.45], [96579, 2.44], [96580, 4.38], [96581, 4.39], [96582, 4.39], [96583, 2.69], [96584, 3.46], [96585, 3.64], [96586, 4.35], [96587, 2.58], [96588, 4.39], [96589, 3.78], [96590, 4.23], [96591, 3.63], [96592, 2.58], [96593, 3.6], [96594, 3.46], [96595, 3.46], [96596, 4.39], [96597, 3.43], [96598, 3.64], [96599, 3.64], [96600, 3.63], [96601, 3.77], [96602, 4.23], [96603, 4.39], [96604, 3.58], [96605, 3.63], [96606, 3.64], [96607, 4.41], [96608, 3.45], [96609, 3.77], [96610, 3.48], [96611, 3.67], [96612, 4.44], [96613, 3.46], [96614, 4.37], [96615, 4.34], [96616, 4.39], [96617, 3.45], [96618, 3.43], [96619, 3.62], [96620, 4.45], [96621, 3.64], [96622, 3.6], [96623, 2.65], [96624, 3.78], [96625, 3.6], [96626, 3.5], [96627, 3.4], [96628, 2.34], [96629, 4.45], [96630, 4.34], [96631, 4.34], [96632, 3.67], [96633, 4.36], [96634, 4.34], [96635, 3.43], [96636, 4.23], [96637, 2.66], [96638, 2.64], [96639, 3.52], [96640, 4.39], [96641, 4.25], [96642, 4.48], [96643, 3.63], [96644, 4.48], [96645, 3.65], [96646, 1.74], [96647, 3.45], [96648, 3.43], [96649, 3.78], [96650, 2.34], [96651, 4.39], [96652, 3.52], [96653, 3.5], [96654, 3.44], [96655, 3.78], [96656, 3.54], [96657, 4.39], [96658, 4.39], [96659, 3.55], [96660, 4.41], [96661, 3.64], [96662, 2.37], [96663, 4.29], [96664, 1.52], [96665, 4.24], [96666, 3.6], [96667, 4.12], [96668, 3.5], [96669, 2.34], [96670, 3.6], [96671, 4.31], [96672, 4.36], [96673, 3.78], [96674, 4.11], [96675, 2.64], [96676, 4.5], [96677, 3.65], [96678, 3.77], [96679, 2.45], [96680, 3.48], [96681, 3.6], [96682, 4.48], [96683, 4.38], [96684, 3.42], [96685, 4.39], [96686, 3.45], [96687, 3.6], [96688, 3.62], [96689, 3.47], [96690, 4.55], [96691, 2.67], [96692, 2.44], [96693, 4.48], [96694, 4.42], [96695, 4.25], [96696, 3.61], [96697, 2.67], [96698, 3.44], [96699, 3.66], [96700, 4.17], [96701, 3.61], [96702, 3.65], [96703, 4.23], [96704, 3.78], [96705, 4.36], [96706, 4.17], [96707, 2.58], [96708, 4.43], [96709, 4.48], [96710, 4.45], [96711, 4.24], [96712, 4.37], [96713, 4.36], [96714, 4.37], [96715, 2.62], [96716, 2.44], [96717, 2.46], [96718, 4.45], [96719, 4.24], [96720, 2.57], [96721, 1.74], [96722, 4.38], [96723, 3.52], [96724, 3.41], [96725, 4.48], [96726, 3.48], [96727, 4.38], [96728, 2.72], [96729, 4.31], [96730, 4.39], [96731, 3.52], [96732, 2.69], [96733, 4.38], [96734, 3.47], [96735, 2.55], [96736, 3.64], [96737, 4.36], [96738, 4.13], [96739, 2.5], [96740, 2.44], [96741, 1.71], [96742, 3.76], [96743, 4.32], [96744, 4.31], [96745, 3.74], [96746, 3.6], [96747, 3.44], [96748, 3.48], [96749, 2.45], [96750, 4.53], [96751, 4.53], [96752, 3.44], [96753, 3.75], [96754, 3.47], [96755, 3.61], [96756, 4.35], [96757, 3.42], [96758, 2.44], [96759, 4.48], [96760, 3.52], [96761, 2.54], [96762, 4.48], [96763, 3.77], [96764, 4.5], [96765, 3.78], [96766, 3.49], [96767, 1.72], [96768, 4.24], [96769, 3.72], [96770, 4.48], [96771, 4.35], [96772, 4.38], [96773, 2.64], [96774, 4.35], [96775, 3.47], [96776, 2.44], [96777, 3.78], [96778, 3.52], [96779, 3.41], [96780, 4.36], [96781, 2.44], [96782, 3.4], [96783, 3.65], [96784, 2.57], [96785, 2.43], [96786, 4.38], [96787, 3.4], [96788, 2.63], [96789, 3.44], [96790, 4.37], [96791, 4.48], [96792, 3.47], [96793, 4.36], [96794, 4.15], [96795, 3.49], [96796, 3.46], [96797, 4.48], [96798, 4.34], [96799, 4.39], [96800, 4.27], [96801, 3.48], [96802, 2.45], [96803, 2.44], [96804, 3.46], [96805, 3.65], [96806, 4.37], [96807, 4.39], [96808, 3.52], [96809, 3.78], [96810, 4.5], [96811, 4.34], [96812, 3.64], [96813, 3.49], [96814, 3.47], [96815, 4.37], [96816, 4.48], [96817, 3.61], [96818, 2.72], [96819, 3.78], [96820, 4.39], [96821, 3.64], [96822, 3.47], [96823, 3.63], [96824, 4.36], [96825, 4.39], [96826, 3.55], [96827, 4.48], [96828, 3.76], [96829, 3.44], [96830, 3.66], [96831, 4.45], [96832, 3.42], [96833, 4.48], [96834, 4.34], [96835, 3.67], [96836, 4.39], [96837, 3.64], [96838, 4.48], [96839, 3.58], [96840, 3.77], [96841, 3.63], [96842, 2.35], [96843, 3.45], [96844, 4.48], [96845, 4.48], [96846, 2.7], [96847, 3.6], [96848, 4.37], [96849, 4.35], [96850, 3.64], [96851, 3.45], [96852, 4.39], [96853, 4.39], [96854, 3.45], [96855, 4.23], [96856, 2.67], [96857, 4.34], [96858, 2.64], [96859, 4.36], [96860, 4.39], [96861, 4.39], [96862, 3.54], [96863, 3.65], [96864, 3.77], [96865, 3.75], [96866, 3.6], [96867, 3.78], [96868, 3.75], [96869, 4.5], [96870, 4.36], [96871, 3.42], [96872, 3.64], [96873, 4.23], [96874, 3.45], [96875, 1.75], [96876, 4.41], [96877, 3.47], [96878, 3.45], [96879, 3.48], [96880, 3.77], [96881, 4.27], [96882, 4.39], [96883, 3.52], [96884, 3.63], [96885, 4.36], [96886, 4.18], [96887, 2.57], [96888, 3.64], [96889, 4.43], [96890, 2.36], [96891, 4.38], [96892, 2.7], [96893, 2.4], [96894, 4.48], [96895, 3.6], [96896, 2.44], [96897, 4.48], [96898, 3.64], [96899, 4.48], [96900, 4.39], [96901, 2.44], [96902, 3.61], [96903, 3.35], [96904, 3.45], [96905, 4.43], [96906, 3.52], [96907, 1.63], [96908, 2.33], [96909, 4.39], [96910, 4.39], [96911, 4.48], [96912, 2.69], [96913, 3.64], [96914, 2.46], [96915, 4.41], [96916, 4.45], [96917, 4.24], [96918, 3.77], [96919, 4.39], [96920, 1.75], [96921, 4.23], [96922, 4.31], [96923, 3.44], [96924, 3.47], [96925, 4.36], [96926, 4.38], [96927, 4.24], [96928, 3.47], [96929, 2.42], [96930, 4.45], [96931, 4.52], [96932, 3.44], [96933, 3.64], [96934, 4.28], [96935, 2.7], [96936, 4.38], [96937, 4.34], [96938, 3.49], [96939, 4.39], [96940, 3.45], [96941, 3.66], [96942, 4.37], [96943, 3.77], [96944, 4.37], [96945, 4.12], [96946, 4.36], [96947, 3.55], [96948, 3.5], [96949, 3.55], [96950, 2.54], [96951, 4.39], [96952, 4.43], [96953, 2.31], [96954, 4.36], [96955, 3.58], [96956, 4.36], [96957, 3.64], [96958, 4.38], [96959, 3.55], [96960, 4.48], [96961, 3.78], [96962, 3.52], [96963, 4.36], [96964, 2.45], [96965, 4.45], [96966, 4.48], [96967, 3.64], [96968, 2.63], [96969, 4.5], [96970, 3.62], [96971, 4.37], [96972, 2.55], [96973, 2.54], [96974, 3.63], [96975, 3.45], [96976, 2.42], [96977, 3.44], [96978, 4.39], [96979, 4.48], [96980, 4.36], [96981, 2.55], [96982, 4.37], [96983, 3.65], [96984, 2.55], [96985, 3.51], [96986, 2.42], [96987, 4.48], [96988, 3.47], [96989, 3.47], [96990, 3.43], [96991, 4.35], [96992, 2.7], [96993, 4.39], [96994, 3.42], [96995, 3.64], [96996, 3.64], [96997, 3.52], [96998, 3.58], [96999, 3.5], [97000, 4.53], [97001, 3.7], [97002, 3.53], [97003, 3.67], [97004, 2.44], [97005, 2.42], [97006, 4.39], [97007, 3.64], [97008, 4.24], [97009, 3.62], [97010, 3.48], [97011, 2.29], [97012, 4.39], [97013, 4.24], [97014, 3.46], [97015, 3.61], [97016, 4.48], [97017, 2.35], [97018, 4.48], [97019, 4.41], [97020, 2.35], [97021, 3.56], [97022, 3.44], [97023, 2.59], [97024, 3.74], [97025, 3.78], [97026, 4.38], [97027, 4.24], [97028, 2.69], [97029, 2.37], [97030, 2.66], [97031, 4.36], [97032, 3.65], [97033, 4.38], [97034, 4.43], [97035, 3.65], [97036, 2.64], [97037, 3.62], [97038, 3.65], [97039, 3.42], [97040, 3.77], [97041, 2.64], [97042, 3.55], [97043, 2.63], [97044, 2.36], [97045, 3.45], [97046, 2.7], [97047, 3.45], [97048, 3.6], [97049, 4.36], [97050, 4.48], [97051, 2.62], [97052, 3.55], [97053, 3.56], [97054, 4.49], [97055, 3.44], [97056, 4.35], [97057, 4.43], [97058, 3.47], [97059, 4.12], [97060, 4.39], [97061, 3.54], [97062, 3.78], [97063, 2.36], [97064, 2.34], [97065, 3.64], [97066, 4.38], [97067, 3.45], [97068, 3.5], [97069, 2.68], [97070, 3.78], [97071, 4.39], [97072, 3.64], [97073, 4.5], [97074, 4.36], [97075, 3.44], [97076, 2.46], [97077, 4.46], [97078, 3.44], [97079, 4.27], [97080, 4.41], [97081, 4.34], [97082, 3.65], [97083, 3.64], [97084, 3.64], [97085, 4.39], [97086, 4.14], [97087, 4.36], [97088, 4.37], [97089, 4.25], [97090, 2.54], [97091, 3.65], [97092, 4.15], [97093, 4.13], [97094, 3.46], [97095, 4.35], [97096, 3.4], [97097, 3.64], [97098, 3.61], [97099, 2.37], [97100, 3.56], [97101, 3.4], [97102, 4.24], [97103, 4.32], [97104, 3.75], [97105, 4.36], [97106, 4.37], [97107, 3.5], [97108, 4.39], [97109, 3.63], [97110, 3.6], [97111, 3.66], [97112, 3.64], [97113, 3.4], [97114, 3.63], [97115, 2.44], [97116, 3.55], [97117, 4.36], [97118, 3.49], [97119, 3.62], [97120, 4.55], [97121, 4.23], [97122, 4.36], [97123, 3.48], [97124, 4.36], [97125, 3.41], [97126, 4.32], [97127, 2.34], [97128, 3.78], [97129, 3.63], [97130, 3.33], [97131, 3.39], [97132, 3.58], [97133, 3.66], [97134, 4.45], [97135, 4.24], [97136, 4.39], [97137, 4.36], [97138, 2.65], [97139, 3.47], [97140, 4.39], [97141, 4.49], [97142, 4.36], [97143, 3.7], [97144, 3.55], [97145, 4.25], [97146, 4.35], [97147, 3.61], [97148, 2.42], [97149, 2.69], [97150, 4.34], [97151, 3.78], [97152, 4.11], [97153, 2.39], [97154, 2.63], [97155, 3.43], [97156, 4.38], [97157, 3.55], [97158, 4.36], [97159, 3.37], [97160, 3.51], [97161, 3.64], [97162, 3.62], [97163, 3.61], [97164, 2.35], [97165, 3.47], [97166, 3.65], [97167, 4.39], [97168, 4.24], [97169, 4.45], [97170, 2.63], [97171, 2.45], [97172, 3.6], [97173, 4.36], [97174, 4.38], [97175, 2.64], [97176, 4.36], [97177, 4.24], [97178, 1.64], [97179, 4.39], [97180, 3.4], [97181, 4.17], [97182, 3.6], [97183, 4.5], [97184, 4.25], [97185, 2.62], [97186, 3.48], [97187, 2.69], [97188, 4.46], [97189, 3.44], [97190, 2.37], [97191, 3.45], [97192, 4.39], [97193, 3.61], [97194, 4.37], [97195, 4.49], [97196, 4.39], [97197, 3.62], [97198, 2.34], [97199, 4.38], [97200, 4.43], [97201, 3.37], [97202, 3.78], [97203, 3.73], [97204, 3.41], [97205, 3.46], [97206, 3.77], [97207, 4.36], [97208, 4.25], [97209, 3.47], [97210, 3.55], [97211, 2.4], [97212, 4.37], [97213, 4.36], [97214, 3.64], [97215, 4.38], [97216, 3.44], [97217, 3.64], [97218, 4.43], [97219, 2.63], [97220, 4.39], [97221, 4.44], [97222, 4.39], [97223, 3.78], [97224, 4.36], [97225, 3.64], [97226, 3.49], [97227, 4.31], [97228, 4.34], [97229, 3.78], [97230, 4.39], [97231, 3.62], [97232, 3.45], [97233, 3.79], [97234, 4.36], [97235, 3.5], [97236, 3.43], [97237, 3.64], [97238, 3.64], [97239, 4.39], [97240, 4.17], [97241, 3.4], [97242, 4.48], [97243, 4.45], [97244, 4.23], [97245, 2.4], [97246, 4.48], [97247, 2.35], [97248, 4.37], [97249, 4.39], [97250, 3.5], [97251, 4.39], [97252, 3.62], [97253, 3.76], [97254, 3.48], [97255, 4.23], [97256, 4.31], [97257, 4.28], [97258, 4.48], [97259, 3.44], [97260, 4.45], [97261, 4.39], [97262, 3.55], [97263, 4.39], [97264, 4.49], [97265, 3.44], [97266, 4.45], [97267, 4.5], [97268, 4.39], [97269, 3.48], [97270, 4.39], [97271, 3.51], [97272, 4.17], [97273, 2.61], [97274, 3.64], [97275, 4.48], [97276, 4.24], [97277, 3.78], [97278, 2.4], [97279, 4.36], [97280, 4.11], [97281, 3.4], [97282, 3.71], [97283, 3.44], [97284, 4.48], [97285, 4.39], [97286, 3.65], [97287, 2.44], [97288, 4.36], [97289, 4.5], [97290, 3.64], [97291, 4.36], [97292, 3.63], [97293, 3.65], [97294, 4.39], [97295, 2.55], [97296, 3.35], [97297, 4.31], [97298, 4.37], [97299, 3.51], [97300, 3.64], [97301, 3.64], [97302, 3.5], [97303, 3.64], [97304, 3.49], [97305, 3.42], [97306, 2.44], [97307, 4.36], [97308, 4.38], [97309, 4.12], [97310, 2.63], [97311, 3.46], [97312, 3.67], [97313, 3.54], [97314, 3.42], [97315, 2.54], [97316, 2.63], [97317, 3.51], [97318, 2.34], [97319, 4.48], [97320, 3.65], [97321, 1.75], [97322, 3.65], [97323, 3.6], [97324, 4.12], [97325, 2.42], [97326, 4.11], [97327, 2.62], [97328, 3.45], [97329, 1.69], [97330, 2.69], [97331, 4.39], [97332, 3.54], [97333, 3.55], [97334, 3.52], [97335, 2.37], [97336, 4.13], [97337, 3.67], [97338, 2.42], [97339, 3.62], [97340, 3.65], [97341, 3.5], [97342, 4.12], [97343, 3.48], [97344, 3.49], [97345, 2.42], [97346, 4.36], [97347, 4.39], [97348, 3.61], [97349, 4.48], [97350, 3.55], [97351, 3.44], [97352, 1.77], [97353, 4.36], [97354, 4.24], [97355, 4.32], [97356, 3.56], [97357, 3.65], [97358, 3.46], [97359, 4.34], [97360, 3.44], [97361, 2.34], [97362, 4.37], [97363, 4.36], [97364, 3.54], [97365, 3.65], [97366, 3.65], [97367, 3.44], [97368, 2.42], [97369, 3.64], [97370, 3.56], [97371, 2.32], [97372, 3.56], [97373, 3.44], [97374, 4.36], [97375, 4.32], [97376, 4.38], [97377, 4.5], [97378, 4.39], [97379, 4.38], [97380, 3.52], [97381, 3.65], [97382, 3.48], [97383, 2.47], [97384, 3.65], [97385, 3.58], [97386, 2.69], [97387, 4.23], [97388, 4.23], [97389, 3.79], [97390, 3.61], [97391, 2.57], [97392, 3.49], [97393, 2.63], [97394, 3.46], [97395, 3.43], [97396, 2.41], [97397, 3.61], [97398, 2.69], [97399, 3.56], [97400, 3.64], [97401, 3.54], [97402, 3.65], [97403, 3.47], [97404, 3.65], [97405, 4.3], [97406, 4.24], [97407, 4.39], [97408, 4.39], [97409, 3.78], [97410, 2.35], [97411, 4.37], [97412, 3.47], [97413, 3.67], [97414, 4.39], [97415, 4.45], [97416, 3.63], [97417, 3.47], [97418, 3.62], [97419, 4.17], [97420, 3.65], [97421, 3.48], [97422, 3.37], [97423, 4.5], [97424, 4.38], [97425, 3.47], [97426, 4.38], [97427, 4.39], [97428, 3.45], [97429, 2.55], [97430, 3.53], [97431, 4.34], [97432, 3.72], [97433, 2.34], [97434, 4.5], [97435, 1.73], [97436, 4.24], [97437, 4.39], [97438, 4.24], [97439, 3.6], [97440, 3.47], [97441, 2.42], [97442, 4.43], [97443, 3.53], [97444, 3.52], [97445, 3.65], [97446, 3.65], [97447, 3.77], [97448, 2.47], [97449, 2.7], [97450, 2.43], [97451, 3.6], [97452, 4.34], [97453, 3.6], [97454, 1.69], [97455, 4.25], [97456, 3.43], [97457, 4.45], [97458, 3.64], [97459, 4.37], [97460, 2.42], [97461, 3.62], [97462, 3.42], [97463, 4.36], [97464, 3.55], [97465, 4.32], [97466, 3.4], [97467, 4.39], [97468, 3.53], [97469, 3.42], [97470, 4.25], [97471, 3.68], [97472, 2.73], [97473, 3.48], [97474, 4.41], [97475, 3.53], [97476, 3.73], [97477, 4.48], [97478, 3.44], [97479, 2.61], [97480, 3.47], [97481, 2.45], [97482, 3.44], [97483, 2.36], [97484, 3.73], [97485, 4.36], [97486, 4.36], [97487, 4.48], [97488, 4.36], [97489, 2.39], [97490, 4.13], [97491, 4.39], [97492, 4.45], [97493, 3.44], [97494, 4.37], [97495, 3.41], [97496, 3.67], [97497, 4.45], [97498, 4.34], [97499, 3.65], [97500, 4.37], [97501, 4.39], [97502, 2.59], [97503, 4.35], [97504, 4.36], [97505, 3.65], [97506, 1.65], [97507, 3.44], [97508, 2.55], [97509, 3.71], [97510, 4.39], [97511, 4.36], [97512, 2.43], [97513, 4.15], [97514, 3.64], [97515, 4.13], [97516, 3.52], [97517, 4.38], [97518, 3.61], [97519, 4.24], [97520, 3.75], [97521, 4.39], [97522, 1.65], [97523, 3.6], [97524, 4.43], [97525, 4.24], [97526, 2.42], [97527, 2.69], [97528, 4.34], [97529, 3.59], [97530, 3.51], [97531, 3.65], [97532, 3.78], [97533, 4.37], [97534, 3.65], [97535, 3.68], [97536, 4.12], [97537, 4.44], [97538, 3.47], [97539, 4.52], [97540, 3.37], [97541, 3.41], [97542, 3.47], [97543, 4.38], [97544, 3.77], [97545, 3.78], [97546, 2.66], [97547, 3.63], [97548, 3.56], [97549, 4.49], [97550, 2.45], [97551, 3.78], [97552, 4.25], [97553, 4.36], [97554, 2.34], [97555, 3.54], [97556, 3.65], [97557, 4.32], [97558, 2.45], [97559, 2.45], [97560, 4.32], [97561, 4.34], [97562, 4.34], [97563, 3.52], [97564, 3.5], [97565, 2.36], [97566, 4.43], [97567, 3.58], [97568, 1.48], [97569, 4.38], [97570, 4.34], [97571, 4.36], [97572, 4.48], [97573, 4.45], [97574, 4.44], [97575, 3.67], [97576, 2.63], [97577, 4.24], [97578, 3.43], [97579, 3.78], [97580, 2.3], [97581, 3.61], [97582, 2.32], [97583, 4.39], [97584, 3.44], [97585, 3.78], [97586, 2.34], [97587, 4.24], [97588, 4.24], [97589, 3.78], [97590, 2.58], [97591, 2.67], [97592, 4.48], [97593, 3.46], [97594, 2.72], [97595, 3.55], [97596, 2.54], [97597, 2.59], [97598, 3.46], [97599, 3.48], [97600, 4.24], [97601, 3.65], [97602, 4.36], [97603, 3.65], [97604, 3.48], [97605, 4.37], [97606, 2.35], [97607, 3.67], [97608, 4.12], [97609, 4.13], [97610, 3.48], [97611, 4.52], [97612, 4.52], [97613, 3.52], [97614, 4.14], [97615, 2.54], [97616, 2.48], [97617, 4.39], [97618, 3.54], [97619, 3.48], [97620, 4.24], [97621, 3.52], [97622, 4.43], [97623, 3.59], [97624, 3.6], [97625, 4.43], [97626, 4.48], [97627, 2.72], [97628, 3.47], [97629, 3.65], [97630, 4.39], [97631, 2.64], [97632, 3.46], [97633, 4.36], [97634, 3.45], [97635, 3.47], [97636, 3.78], [97637, 3.43], [97638, 3.66], [97639, 3.44], [97640, 4.34], [97641, 4.5], [97642, 4.34], [97643, 3.63], [97644, 4.43], [97645, 4.45], [97646, 4.31], [97647, 3.58], [97648, 4.11], [97649, 3.64], [97650, 4.41], [97651, 1.75], [97652, 4.36], [97653, 2.65], [97654, 4.24], [97655, 3.42], [97656, 3.66], [97657, 3.78], [97658, 3.78], [97659, 3.37], [97660, 3.6], [97661, 4.43], [97662, 4.32], [97663, 3.52], [97664, 3.65], [97665, 4.38], [97666, 4.18], [97667, 3.4], [97668, 3.43], [97669, 3.65], [97670, 3.65], [97671, 3.52], [97672, 3.44], [97673, 3.46], [97674, 2.54], [97675, 4.39], [97676, 4.41], [97677, 1.64], [97678, 4.24], [97679, 4.36], [97680, 2.7], [97681, 3.58], [97682, 3.78], [97683, 3.51], [97684, 2.73], [97685, 4.25], [97686, 2.49], [97687, 4.45], [97688, 4.31], [97689, 3.48], [97690, 3.47], [97691, 3.37], [97692, 3.54], [97693, 4.48], [97694, 4.36], [97695, 3.64], [97696, 3.54], [97697, 3.5], [97698, 3.5], [97699, 3.4], [97700, 4.37], [97701, 4.32], [97702, 4.38], [97703, 4.37], [97704, 2.34], [97705, 4.48], [97706, 4.36], [97707, 3.48], [97708, 3.44], [97709, 1.67], [97710, 4.24], [97711, 4.23], [97712, 4.27], [97713, 3.44], [97714, 4.45], [97715, 4.38], [97716, 3.78], [97717, 3.54], [97718, 3.42], [97719, 3.49], [97720, 4.35], [97721, 2.34], [97722, 1.74], [97723, 3.51], [97724, 3.47], [97725, 3.54], [97726, 4.23], [97727, 4.45], [97728, 3.52], [97729, 2.64], [97730, 4.36], [97731, 3.45], [97732, 4.45], [97733, 3.78], [97734, 4.36], [97735, 4.41], [97736, 4.39], [97737, 4.39], [97738, 3.78], [97739, 2.47], [97740, 3.47], [97741, 2.35], [97742, 3.47], [97743, 4.41], [97744, 3.42], [97745, 4.24], [97746, 3.53], [97747, 4.48], [97748, 4.45], [97749, 1.71], [97750, 3.44], [97751, 4.5], [97752, 4.48], [97753, 3.64], [97754, 3.61], [97755, 3.58], [97756, 3.41], [97757, 3.47], [97758, 4.5], [97759, 2.44], [97760, 3.53], [97761, 4.55], [97762, 3.62], [97763, 4.39], [97764, 3.78], [97765, 3.44], [97766, 4.36], [97767, 4.18], [97768, 4.37], [97769, 2.57], [97770, 2.32], [97771, 3.69], [97772, 3.48], [97773, 3.57], [97774, 4.48], [97775, 4.48], [97776, 3.44], [97777, 4.38], [97778, 3.47], [97779, 4.5], [97780, 3.55], [97781, 4.37], [97782, 4.39], [97783, 4.35], [97784, 4.53], [97785, 4.17], [97786, 3.52], [97787, 3.65], [97788, 3.62], [97789, 4.43], [97790, 2.55], [97791, 2.42], [97792, 4.36], [97793, 4.5], [97794, 4.24], [97795, 4.39], [97796, 2.36], [97797, 2.42], [97798, 3.39], [97799, 2.5], [97800, 3.61], [97801, 3.62], [97802, 3.63], [97803, 4.36], [97804, 3.54], [97805, 2.55], [97806, 4.44], [97807, 3.44], [97808, 4.24], [97809, 3.78], [97810, 3.49], [97811, 3.55], [97812, 3.46], [97813, 3.6], [97814, 4.39], [97815, 4.5], [97816, 4.24], [97817, 4.36], [97818, 3.55], [97819, 2.54], [97820, 2.66], [97821, 4.39], [97822, 3.56], [97823, 4.5], [97824, 3.65], [97825, 3.58], [97826, 3.44], [97827, 2.44], [97828, 4.34], [97829, 4.27], [97830, 2.69], [97831, 2.64], [97832, 3.44], [97833, 1.64], [97834, 4.36], [97835, 4.52], [97836, 4.5], [97837, 4.36], [97838, 3.64], [97839, 3.45], [97840, 2.35], [97841, 4.12], [97842, 3.63], [97843, 4.5], [97844, 4.27], [97845, 3.76], [97846, 4.32], [97847, 3.53], [97848, 4.32], [97849, 4.37], [97850, 4.48], [97851, 3.51], [97852, 4.45], [97853, 3.43], [97854, 4.39], [97855, 3.56], [97856, 3.6], [97857, 2.43], [97858, 2.48], [97859, 2.44], [97860, 3.48], [97861, 3.73], [97862, 4.37], [97863, 3.5], [97864, 3.41], [97865, 4.15], [97866, 4.12], [97867, 4.48], [97868, 1.7], [97869, 2.37], [97870, 3.48], [97871, 3.61], [97872, 3.65], [97873, 3.58], [97874, 3.37], [97875, 4.25], [97876, 2.41], [97877, 4.37], [97878, 4.14], [97879, 2.35], [97880, 2.49], [97881, 4.36], [97882, 4.32], [97883, 3.47], [97884, 4.36], [97885, 3.37], [97886, 3.47], [97887, 3.66], [97888, 3.65], [97889, 4.38], [97890, 4.48], [97891, 3.45], [97892, 4.36], [97893, 4.13], [97894, 3.45], [97895, 3.48], [97896, 3.63], [97897, 4.32], [97898, 4.55], [97899, 4.13], [97900, 3.44], [97901, 2.34], [97902, 4.37], [97903, 2.47], [97904, 3.49], [97905, 1.74], [97906, 3.46], [97907, 4.36], [97908, 3.55], [97909, 1.69], [97910, 2.69], [97911, 4.45], [97912, 2.42], [97913, 3.78], [97914, 4.36], [97915, 4.36], [97916, 2.62], [97917, 3.7], [97918, 4.48], [97919, 3.63], [97920, 2.34], [97921, 3.78], [97922, 2.36], [97923, 3.63], [97924, 2.55], [97925, 2.58], [97926, 2.48], [97927, 1.67], [97928, 2.3], [97929, 2.44], [97930, 3.4], [97931, 3.43], [97932, 2.43], [97933, 3.78], [97934, 3.47], [97935, 3.42], [97936, 3.55], [97937, 4.15], [97938, 4.34], [97939, 4.43], [97940, 4.13], [97941, 3.54], [97942, 4.39], [97943, 3.43], [97944, 4.39], [97945, 4.26], [97946, 2.43], [97947, 3.47], [97948, 3.44], [97949, 2.48], [97950, 2.62], [97951, 4.32], [97952, 4.24], [97953, 4.38], [97954, 4.34], [97955, 2.65], [97956, 3.78], [97957, 4.24], [97958, 3.6], [97959, 4.34], [97960, 3.44], [97961, 3.47], [97962, 3.42], [97963, 4.38], [97964, 2.67], [97965, 4.23], [97966, 3.62], [97967, 4.48], [97968, 4.36], [97969, 3.37], [97970, 4.36], [97971, 4.23], [97972, 3.54], [97973, 4.39], [97974, 4.38], [97975, 3.64], [97976, 2.7], [97977, 3.78], [97978, 4.12], [97979, 4.5], [97980, 4.48], [97981, 4.24], [97982, 3.4], [97983, 3.57], [97984, 3.47], [97985, 4.34], [97986, 4.43], [97987, 3.44], [97988, 4.26], [97989, 3.47], [97990, 3.5], [97991, 3.65], [97992, 3.41], [97993, 4.35], [97994, 2.34], [97995, 1.63], [97996, 3.58], [97997, 3.65], [97998, 3.63], [97999, 3.42], [98000, 4.38], [98001, 3.44], [98002, 4.41], [98003, 4.17], [98004, 4.38], [98005, 3.56], [98006, 4.45], [98007, 3.55], [98008, 2.54], [98009, 3.71], [98010, 4.37], [98011, 2.63], [98012, 4.48], [98013, 4.39], [98014, 4.36], [98015, 4.32], [98016, 2.7], [98017, 4.36], [98018, 2.58], [98019, 3.61], [98020, 3.47], [98021, 2.41], [98022, 4.24], [98023, 4.34], [98024, 3.47], [98025, 3.63], [98026, 3.63], [98027, 4.18], [98028, 4.44], [98029, 4.34], [98030, 3.78], [98031, 4.17], [98032, 4.43], [98033, 2.35], [98034, 4.48], [98035, 2.45], [98036, 4.5], [98037, 4.39], [98038, 4.45], [98039, 3.63], [98040, 2.44], [98041, 3.5], [98042, 4.37], [98043, 3.47], [98044, 4.43], [98045, 2.42], [98046, 3.56], [98047, 4.36], [98048, 4.48], [98049, 3.44], [98050, 4.39], [98051, 3.65], [98052, 4.38], [98053, 4.55], [98054, 3.78], [98055, 2.61], [98056, 3.65], [98057, 4.23], [98058, 3.45], [98059, 4.39], [98060, 4.39], [98061, 4.38], [98062, 3.78], [98063, 3.47], [98064, 4.48], [98065, 2.29], [98066, 3.73], [98067, 3.46], [98068, 3.63], [98069, 4.34], [98070, 3.49], [98071, 4.46], [98072, 4.31], [98073, 2.34], [98074, 4.36], [98075, 2.57], [98076, 2.46], [98077, 2.34], [98078, 3.52], [98079, 3.42], [98080, 4.43], [98081, 4.26], [98082, 4.48], [98083, 2.62], [98084, 3.77], [98085, 4.36], [98086, 2.34], [98087, 2.63], [98088, 3.65], [98089, 4.39], [98090, 2.45], [98091, 2.65], [98092, 2.38], [98093, 3.64], [98094, 3.64], [98095, 3.53], [98096, 3.63], [98097, 3.4], [98098, 3.64], [98099, 2.44], [98100, 4.39], [98101, 4.24], [98102, 4.5], [98103, 3.5], [98104, 3.46], [98105, 2.36], [98106, 3.51], [98107, 2.4], [98108, 3.47], [98109, 4.39], [98110, 4.48], [98111, 3.65], [98112, 3.45], [98113, 3.5], [98114, 4.49], [98115, 2.29], [98116, 3.52], [98117, 3.6], [98118, 3.78], [98119, 3.56], [98120, 3.58], [98121, 3.6], [98122, 3.47], [98123, 3.64], [98124, 2.34], [98125, 3.65], [98126, 4.24], [98127, 3.65], [98128, 3.47], [98129, 3.7], [98130, 3.65], [98131, 2.7], [98132, 3.64], [98133, 2.33], [98134, 3.65], [98135, 3.61], [98136, 3.78], [98137, 3.46], [98138, 3.52], [98139, 2.45], [98140, 4.34], [98141, 2.45], [98142, 4.36], [98143, 3.53], [98144, 3.67], [98145, 3.78], [98146, 3.65], [98147, 2.48], [98148, 4.48], [98149, 4.36], [98150, 4.36], [98151, 3.71], [98152, 3.72], [98153, 3.53], [98154, 2.35], [98155, 3.55], [98156, 4.34], [98157, 4.45], [98158, 1.46], [98159, 3.62], [98160, 1.7], [98161, 3.78], [98162, 4.34], [98163, 4.11], [98164, 3.64], [98165, 4.36], [98166, 2.41], [98167, 4.43], [98168, 4.39], [98169, 3.65], [98170, 2.46], [98171, 2.44], [98172, 4.34], [98173, 3.45], [98174, 3.66], [98175, 3.61], [98176, 3.64], [98177, 4.39], [98178, 4.36], [98179, 3.56], [98180, 3.61], [98181, 3.64], [98182, 3.64], [98183, 4.25], [98184, 4.45], [98185, 2.45], [98186, 3.63], [98187, 3.47], [98188, 4.43], [98189, 3.64], [98190, 4.45], [98191, 3.62], [98192, 4.43], [98193, 3.5], [98194, 4.45], [98195, 3.64], [98196, 4.45], [98197, 3.47], [98198, 4.43], [98199, 4.38], [98200, 4.38], [98201, 4.27], [98202, 3.63], [98203, 4.49], [98204, 3.44], [98205, 3.65], [98206, 2.44], [98207, 2.67], [98208, 4.24], [98209, 4.13], [98210, 4.53], [98211, 4.45], [98212, 3.65], [98213, 3.35], [98214, 3.56], [98215, 4.34], [98216, 3.65], [98217, 3.78], [98218, 3.42], [98219, 3.47], [98220, 3.78], [98221, 3.61], [98222, 4.36], [98223, 2.42], [98224, 3.45], [98225, 4.24], [98226, 3.65], [98227, 2.61], [98228, 4.36], [98229, 3.47], [98230, 3.78], [98231, 4.48], [98232, 3.46], [98233, 2.44], [98234, 3.65], [98235, 3.65], [98236, 3.62], [98237, 3.47], [98238, 4.43], [98239, 4.39], [98240, 4.32], [98241, 4.45], [98242, 4.39], [98243, 3.75], [98244, 4.43], [98245, 3.64], [98246, 4.26], [98247, 3.78], [98248, 3.55], [98249, 3.78], [98250, 3.65], [98251, 3.44], [98252, 4.36], [98253, 4.34], [98254, 4.12], [98255, 3.42], [98256, 2.34], [98257, 3.71], [98258, 3.65], [98259, 4.36], [98260, 3.78], [98261, 3.52], [98262, 2.69], [98263, 3.52], [98264, 2.66], [98265, 4.36], [98266, 3.48], [98267, 2.64], [98268, 3.65], [98269, 3.58], [98270, 3.64], [98271, 3.35], [98272, 4.31], [98273, 4.35], [98274, 2.42], [98275, 4.37], [98276, 3.78], [98277, 4.38], [98278, 4.48], [98279, 3.65], [98280, 4.37], [98281, 2.4], [98282, 4.36], [98283, 3.64], [98284, 2.5], [98285, 4.24], [98286, 3.47], [98287, 3.47], [98288, 3.47], [98289, 4.39], [98290, 4.39], [98291, 3.5], [98292, 4.37], [98293, 3.78], [98294, 4.38], [98295, 4.36], [98296, 2.54], [98297, 4.39], [98298, 3.65], [98299, 4.12], [98300, 4.38], [98301, 4.36], [98302, 4.39], [98303, 3.78], [98304, 3.65], [98305, 3.78], [98306, 2.35], [98307, 4.36], [98308, 3.55], [98309, 2.45], [98310, 4.5], [98311, 4.24], [98312, 3.47], [98313, 2.65], [98314, 3.61], [98315, 4.39], [98316, 3.78], [98317, 4.43], [98318, 3.65], [98319, 2.55], [98320, 4.39], [98321, 3.53], [98322, 1.72], [98323, 3.55], [98324, 4.39], [98325, 3.65], [98326, 3.65], [98327, 4.32], [98328, 3.55], [98329, 4.38], [98330, 3.64], [98331, 2.34], [98332, 2.42], [98333, 3.46], [98334, 4.36], [98335, 4.36], [98336, 3.64], [98337, 3.78], [98338, 4.36], [98339, 4.48], [98340, 3.65], [98341, 4.11], [98342, 3.47], [98343, 4.15], [98344, 3.52], [98345, 4.23], [98346, 3.64], [98347, 3.47], [98348, 3.47], [98349, 4.39], [98350, 4.32], [98351, 3.5], [98352, 3.65], [98353, 3.61], [98354, 3.61], [98355, 4.36], [98356, 3.66], [98357, 4.55], [98358, 3.5], [98359, 3.63], [98360, 4.36], [98361, 3.63], [98362, 4.36], [98363, 3.62], [98364, 2.3], [98365, 1.64], [98366, 3.64], [98367, 4.39], [98368, 2.39], [98369, 4.3], [98370, 4.53], [98371, 4.12], [98372, 4.39], [98373, 3.55], [98374, 3.77], [98375, 3.78], [98376, 3.33], [98377, 4.39], [98378, 4.12], [98379, 3.65], [98380, 3.64], [98381, 3.53], [98382, 2.58], [98383, 4.46], [98384, 4.48], [98385, 4.43], [98386, 4.36], [98387, 3.5], [98388, 3.45], [98389, 4.25], [98390, 3.77], [98391, 3.48], [98392, 3.47], [98393, 3.63], [98394, 3.6], [98395, 3.64], [98396, 4.37], [98397, 4.39], [98398, 3.42], [98399, 4.39], [98400, 3.76], [98401, 3.54], [98402, 4.15], [98403, 1.52], [98404, 4.34], [98405, 4.42], [98406, 4.14], [98407, 3.62], [98408, 3.64], [98409, 3.6], [98410, 4.39], [98411, 4.14], [98412, 4.43], [98413, 4.48], [98414, 4.38], [98415, 3.43], [98416, 4.39], [98417, 2.39], [98418, 4.36], [98419, 4.36], [98420, 4.38], [98421, 3.53], [98422, 3.71], [98423, 3.46], [98424, 2.63], [98425, 3.45], [98426, 2.62], [98427, 4.48], [98428, 4.48], [98429, 4.36], [98430, 4.45], [98431, 4.34], [98432, 3.44], [98433, 4.23], [98434, 4.39], [98435, 4.38], [98436, 3.35], [98437, 2.65], [98438, 2.32], [98439, 2.69], [98440, 4.36], [98441, 2.55], [98442, 3.44], [98443, 3.65], [98444, 4.13], [98445, 4.44], [98446, 3.78], [98447, 3.7], [98448, 3.65], [98449, 2.34], [98450, 4.34], [98451, 3.78], [98452, 3.76], [98453, 3.62], [98454, 4.17], [98455, 3.65], [98456, 3.5], [98457, 2.67], [98458, 4.36], [98459, 3.58], [98460, 4.24], [98461, 3.37], [98462, 1.65], [98463, 4.48], [98464, 4.38], [98465, 4.34], [98466, 4.44], [98467, 3.78], [98468, 4.36], [98469, 3.77], [98470, 3.5], [98471, 4.15], [98472, 3.62], [98473, 3.58], [98474, 4.13], [98475, 2.31], [98476, 4.13], [98477, 3.48], [98478, 4.39], [98479, 3.65], [98480, 3.65], [98481, 4.34], [98482, 3.78], [98483, 3.63], [98484, 3.44], [98485, 4.39], [98486, 4.39], [98487, 2.33], [98488, 2.34], [98489, 4.41], [98490, 3.6], [98491, 4.36], [98492, 3.46], [98493, 3.41], [98494, 4.18], [98495, 3.59], [98496, 4.43], [98497, 4.36], [98498, 3.49], [98499, 2.34], [98500, 2.3], [98501, 3.63], [98502, 3.64], [98503, 3.64], [98504, 3.64], [98505, 3.75], [98506, 4.24], [98507, 3.48], [98508, 3.67], [98509, 4.35], [98510, 3.61], [98511, 3.65], [98512, 3.64], [98513, 3.54], [98514, 4.23], [98515, 4.34], [98516, 3.76], [98517, 3.78], [98518, 4.36], [98519, 4.48], [98520, 3.58], [98521, 3.61], [98522, 3.49], [98523, 2.44], [98524, 3.52], [98525, 2.4], [98526, 3.62], [98527, 3.56], [98528, 4.36], [98529, 4.23], [98530, 2.42], [98531, 4.25], [98532, 2.64], [98533, 3.61], [98534, 2.42], [98535, 3.44], [98536, 4.48], [98537, 3.54], [98538, 4.45], [98539, 4.39], [98540, 3.64], [98541, 3.44], [98542, 4.5], [98543, 4.36], [98544, 4.48], [98545, 4.39], [98546, 3.65], [98547, 3.52], [98548, 2.34], [98549, 4.36], [98550, 4.27], [98551, 4.37], [98552, 4.41], [98553, 2.46], [98554, 2.34], [98555, 4.25], [98556, 4.39], [98557, 4.38], [98558, 3.55], [98559, 3.62], [98560, 2.43], [98561, 3.68], [98562, 4.38], [98563, 3.62], [98564, 4.48], [98565, 1.69], [98566, 4.5], [98567, 3.46], [98568, 4.42], [98569, 3.46], [98570, 4.26], [98571, 3.78], [98572, 2.5], [98573, 4.25], [98574, 4.48], [98575, 3.64], [98576, 4.23], [98577, 3.46], [98578, 4.45], [98579, 3.6], [98580, 2.44], [98581, 3.67], [98582, 2.54], [98583, 3.65], [98584, 2.34], [98585, 4.39], [98586, 4.3], [98587, 3.5], [98588, 4.39], [98589, 3.7], [98590, 3.78], [98591, 2.69], [98592, 2.7], [98593, 4.18], [98594, 3.64], [98595, 4.34], [98596, 2.63], [98597, 0.37], [98598, 3.4], [98599, 3.75], [98600, 4.39], [98601, 4.34], [98602, 1.76], [98603, 2.44], [98604, 2.45], [98605, 3.54], [98606, 3.65], [98607, 2.42], [98608, 4.45], [98609, 4.36], [98610, 3.48], [98611, 4.39], [98612, 4.38], [98613, 4.49], [98614, 3.45], [98615, 4.45], [98616, 3.77], [98617, 4.36], [98618, 4.45], [98619, 4.39], [98620, 2.34], [98621, 3.73], [98622, 4.23], [98623, 4.23], [98624, 3.55], [98625, 3.78], [98626, 3.47], [98627, 4.39], [98628, 3.37], [98629, 3.44], [98630, 3.47], [98631, 3.64], [98632, 4.36], [98633, 3.42], [98634, 3.43], [98635, 3.48], [98636, 4.25], [98637, 3.4], [98638, 2.67], [98639, 3.37], [98640, 3.75], [98641, 3.58], [98642, 3.53], [98643, 4.34], [98644, 2.69], [98645, 3.61], [98646, 4.31], [98647, 3.4], [98648, 3.46], [98649, 4.48], [98650, 3.47], [98651, 3.37], [98652, 2.41], [98653, 4.14], [98654, 4.17], [98655, 4.55], [98656, 2.34], [98657, 3.64], [98658, 2.55], [98659, 4.31], [98660, 2.3], [98661, 2.34], [98662, 3.55], [98663, 2.54], [98664, 4.34], [98665, 3.64], [98666, 4.45], [98667, 2.34], [98668, 3.64], [98669, 3.65], [98670, 4.38], [98671, 4.39], [98672, 2.63], [98673, 4.5], [98674, 4.14], [98675, 3.78], [98676, 3.64], [98677, 4.38], [98678, 4.13], [98679, 4.36], [98680, 2.62], [98681, 1.46], [98682, 3.73], [98683, 4.39], [98684, 4.48], [98685, 3.74], [98686, 4.24], [98687, 4.23], [98688, 3.64], [98689, 4.23], [98690, 4.52], [98691, 3.65], [98692, 3.49], [98693, 3.45], [98694, 3.48], [98695, 3.61], [98696, 4.26], [98697, 4.37], [98698, 3.65], [98699, 4.55], [98700, 4.35], [98701, 3.4], [98702, 3.55], [98703, 4.39], [98704, 4.36], [98705, 3.78], [98706, 4.48], [98707, 3.63], [98708, 3.78], [98709, 2.38], [98710, 3.46], [98711, 3.52], [98712, 3.64], [98713, 4.39], [98714, 1.46], [98715, 2.65], [98716, 2.32], [98717, 4.45], [98718, 2.48], [98719, 4.32], [98720, 4.34], [98721, 3.6], [98722, 3.43], [98723, 4.52], [98724, 4.35], [98725, 4.36], [98726, 4.17], [98727, 3.47], [98728, 2.43], [98729, 4.38], [98730, 4.43], [98731, 3.47], [98732, 4.39], [98733, 3.64], [98734, 4.39], [98735, 3.64], [98736, 3.46], [98737, 4.24], [98738, 3.56], [98739, 2.69], [98740, 3.62], [98741, 3.78], [98742, 2.42], [98743, 2.41], [98744, 4.36], [98745, 3.78], [98746, 3.43], [98747, 4.32], [98748, 2.37], [98749, 4.39], [98750, 3.78], [98751, 2.73], [98752, 4.44], [98753, 3.65], [98754, 4.45], [98755, 2.7], [98756, 3.4], [98757, 4.36], [98758, 2.67], [98759, 2.73], [98760, 3.45], [98761, 2.32], [98762, 4.48], [98763, 3.55], [98764, 4.36], [98765, 3.78], [98766, 3.45], [98767, 3.47], [98768, 3.64], [98769, 2.34], [98770, 3.57], [98771, 4.18], [98772, 3.51], [98773, 2.29], [98774, 3.44], [98775, 4.43], [98776, 2.34], [98777, 4.41], [98778, 3.75], [98779, 2.55], [98780, 4.36], [98781, 4.52], [98782, 3.54], [98783, 4.49], [98784, 3.78], [98785, 2.39], [98786, 1.64], [98787, 3.73], [98788, 3.43], [98789, 4.36], [98790, 2.35], [98791, 3.46], [98792, 3.56], [98793, 1.7], [98794, 4.5], [98795, 4.34], [98796, 4.37], [98797, 4.45], [98798, 4.17], [98799, 3.43], [98800, 2.54], [98801, 2.65], [98802, 2.42], [98803, 4.36], [98804, 4.36], [98805, 1.69], [98806, 3.64], [98807, 3.67], [98808, 2.39], [98809, 3.64], [98810, 4.38], [98811, 2.35], [98812, 3.65], [98813, 4.53], [98814, 4.38], [98815, 4.38], [98816, 4.17], [98817, 4.34], [98818, 4.36], [98819, 3.51], [98820, 2.55], [98821, 3.45], [98822, 3.78], [98823, 3.47], [98824, 4.27], [98825, 3.44], [98826, 3.51], [98827, 2.58], [98828, 4.53], [98829, 2.39], [98830, 3.78], [98831, 4.39], [98832, 4.32], [98833, 2.48], [98834, 4.36], [98835, 4.5], [98836, 4.39], [98837, 3.58], [98838, 2.55], [98839, 4.48], [98840, 2.61], [98841, 3.47], [98842, 4.5], [98843, 1.74], [98844, 3.45], [98845, 2.42], [98846, 2.35], [98847, 2.54], [98848, 3.52], [98849, 4.34], [98850, 4.13], [98851, 4.48], [98852, 4.24], [98853, 3.45], [98854, 3.78], [98855, 3.47], [98856, 2.44], [98857, 4.39], [98858, 2.62], [98859, 3.53], [98860, 4.12], [98861, 2.36], [98862, 3.45], [98863, 4.45], [98864, 4.24], [98865, 3.49], [98866, 2.36], [98867, 3.49], [98868, 4.43], [98869, 1.69], [98870, 4.38], [98871, 4.41], [98872, 3.58], [98873, 3.43], [98874, 4.48], [98875, 4.35], [98876, 4.39], [98877, 4.14], [98878, 2.38], [98879, 3.78], [98880, 3.6], [98881, 2.67], [98882, 3.41], [98883, 4.48], [98884, 4.36], [98885, 2.63], [98886, 4.27], [98887, 4.55], [98888, 3.46], [98889, 3.35], [98890, 3.64], [98891, 3.48], [98892, 3.65], [98893, 3.37], [98894, 3.61], [98895, 4.38], [98896, 3.77], [98897, 4.29], [98898, 4.38], [98899, 4.38], [98900, 4.36], [98901, 1.71], [98902, 3.65], [98903, 3.6], [98904, 2.67], [98905, 3.6], [98906, 2.45], [98907, 3.47], [98908, 2.4], [98909, 2.66], [98910, 3.49], [98911, 2.37], [98912, 2.61], [98913, 2.42], [98914, 3.54], [98915, 4.32], [98916, 4.36], [98917, 2.42], [98918, 4.49], [98919, 4.38], [98920, 3.64], [98921, 4.36], [98922, 4.24], [98923, 4.34], [98924, 4.36], [98925, 3.78], [98926, 3.58], [98927, 3.61], [98928, 3.47], [98929, 4.48], [98930, 2.5], [98931, 4.37], [98932, 3.65], [98933, 4.39], [98934, 3.55], [98935, 3.65], [98936, 4.39], [98937, 3.6], [98938, 3.64], [98939, 4.25], [98940, 4.36], [98941, 3.57], [98942, 3.65], [98943, 4.39], [98944, 3.6], [98945, 4.24], [98946, 3.52], [98947, 3.58], [98948, 4.34], [98949, 4.27], [98950, 2.63], [98951, 2.4], [98952, 3.75], [98953, 3.78], [98954, 4.13], [98955, 3.56], [98956, 2.36], [98957, 3.78], [98958, 4.14], [98959, 3.48], [98960, 4.36], [98961, 3.46], [98962, 3.59], [98963, 3.65], [98964, 3.59], [98965, 4.38], [98966, 4.38], [98967, 3.54], [98968, 3.37], [98969, 3.64], [98970, 3.72], [98971, 3.64], [98972, 2.45], [98973, 4.37], [98974, 4.36], [98975, 2.63], [98976, 3.43], [98977, 2.69], [98978, 4.5], [98979, 3.45], [98980, 4.43], [98981, 4.28], [98982, 3.6], [98983, 3.44], [98984, 3.47], [98985, 4.34], [98986, 4.36], [98987, 4.39], [98988, 2.4], [98989, 4.36], [98990, 2.54], [98991, 3.78], [98992, 1.64], [98993, 4.39], [98994, 4.48], [98995, 3.63], [98996, 4.36], [98997, 3.65], [98998, 3.45], [98999, 3.65], [99000, 3.55], [99001, 3.65], [99002, 4.36], [99003, 3.48], [99004, 2.34], [99005, 4.36], [99006, 2.48], [99007, 2.37], [99008, 3.65], [99009, 4.43], [99010, 4.18], [99011, 2.62], [99012, 3.67], [99013, 4.48], [99014, 4.5], [99015, 3.63], [99016, 3.64], [99017, 3.65], [99018, 4.37], [99019, 4.38], [99020, 4.46], [99021, 3.61], [99022, 4.36], [99023, 4.34], [99024, 4.3], [99025, 3.42], [99026, 3.65], [99027, 3.62], [99028, 3.6], [99029, 4.55], [99030, 4.45], [99031, 3.48], [99032, 4.38], [99033, 1.69], [99034, 2.58], [99035, 4.46], [99036, 4.39], [99037, 2.62], [99038, 4.14], [99039, 3.64], [99040, 3.63], [99041, 4.36], [99042, 4.32], [99043, 4.38], [99044, 3.49], [99045, 3.64], [99046, 4.37], [99047, 3.49], [99048, 3.64], [99049, 3.65], [99050, 4.36], [99051, 4.48], [99052, 3.61], [99053, 4.43], [99054, 1.47], [99055, 4.36], [99056, 4.37], [99057, 3.48], [99058, 4.45], [99059, 2.48], [99060, 3.53], [99061, 4.36], [99062, 3.44], [99063, 3.57], [99064, 4.43], [99065, 4.36], [99066, 3.48], [99067, 4.36], [99068, 4.34], [99069, 4.36], [99070, 3.58], [99071, 4.39], [99072, 4.36], [99073, 3.7], [99074, 4.36], [99075, 3.71], [99076, 3.44], [99077, 3.49], [99078, 0.5], [99079, 3.64], [99080, 3.78], [99081, 3.44], [99082, 4.39], [99083, 2.64], [99084, 3.4], [99085, 3.71], [99086, 3.62], [99087, 3.5], [99088, 4.39], [99089, 2.42], [99090, 4.48], [99091, 1.64], [99092, 4.45], [99093, 3.61], [99094, 2.45], [99095, 3.52], [99096, 4.48], [99097, 4.36], [99098, 3.48], [99099, 3.52], [99100, 3.5], [99101, 4.43], [99102, 2.45], [99103, 3.72], [99104, 3.65], [99105, 3.51], [99106, 4.43], [99107, 3.76], [99108, 4.32], [99109, 4.5], [99110, 3.64], [99111, 3.45], [99112, 3.64], [99113, 4.38], [99114, 2.63], [99115, 2.37], [99116, 3.64], [99117, 3.47], [99118, 4.38], [99119, 3.63], [99120, 3.42], [99121, 2.66], [99122, 3.64], [99123, 2.41], [99124, 4.34], [99125, 2.34], [99126, 4.5], [99127, 4.36], [99128, 2.59], [99129, 3.65], [99130, 3.55], [99131, 3.47], [99132, 4.39], [99133, 4.39], [99134, 4.12], [99135, 3.39], [99136, 4.24], [99137, 4.39], [99138, 3.78], [99139, 4.24], [99140, 3.54], [99141, 4.45], [99142, 4.39], [99143, 3.53], [99144, 3.6], [99145, 2.49], [99146, 3.44], [99147, 2.34], [99148, 2.63], [99149, 4.39], [99150, 4.38], [99151, 4.36], [99152, 2.36], [99153, 4.37], [99154, 3.55], [99155, 3.65], [99156, 4.45], [99157, 4.24], [99158, 4.39], [99159, 3.73], [99160, 2.61], [99161, 4.39], [99162, 4.36], [99163, 3.42], [99164, 4.25], [99165, 4.36], [99166, 3.75], [99167, 4.39], [99168, 3.46], [99169, 3.76], [99170, 3.54], [99171, 3.43], [99172, 2.41], [99173, 4.38], [99174, 3.49], [99175, 3.55], [99176, 3.38], [99177, 3.55], [99178, 2.34], [99179, 4.48], [99180, 3.55], [99181, 4.45], [99182, 3.43], [99183, 3.64], [99184, 3.78], [99185, 1.7], [99186, 4.39], [99187, 3.65], [99188, 3.65], [99189, 4.39], [99190, 2.34], [99191, 3.42], [99192, 3.65], [99193, 2.58], [99194, 2.62], [99195, 4.32], [99196, 4.12], [99197, 3.66], [99198, 2.62], [99199, 4.36], [99200, 3.6], [99201, 3.6], [99202, 2.4], [99203, 3.4], [99204, 4.39], [99205, 2.69], [99206, 3.47], [99207, 4.39], [99208, 3.52], [99209, 4.45], [99210, 3.5], [99211, 3.7], [99212, 2.65], [99213, 3.49], [99214, 3.43], [99215, 3.55], [99216, 4.46], [99217, 3.61], [99218, 4.39], [99219, 3.48], [99220, 4.37], [99221, 3.52], [99222, 2.64], [99223, 3.47], [99224, 3.65], [99225, 4.48], [99226, 2.42], [99227, 3.45], [99228, 4.36], [99229, 4.45], [99230, 4.46], [99231, 4.3], [99232, 4.37], [99233, 3.46], [99234, 2.44], [99235, 2.66], [99236, 3.78], [99237, 4.34], [99238, 3.58], [99239, 3.64], [99240, 2.62], [99241, 4.38], [99242, 3.65], [99243, 3.64], [99244, 4.39], [99245, 3.65], [99246, 3.65], [99247, 3.49], [99248, 3.65], [99249, 4.39], [99250, 2.66], [99251, 4.38], [99252, 4.34], [99253, 3.52], [99254, 3.45], [99255, 4.38], [99256, 3.44], [99257, 1.65], [99258, 4.34], [99259, 4.39], [99260, 2.69], [99261, 4.39], [99262, 3.52], [99263, 3.75], [99264, 4.36], [99265, 4.23], [99266, 4.34], [99267, 4.45], [99268, 4.34], [99269, 3.43], [99270, 3.55], [99271, 4.24], [99272, 3.5], [99273, 3.64], [99274, 4.17], [99275, 4.36], [99276, 3.78], [99277, 2.37], [99278, 3.49], [99279, 3.75], [99280, 3.64], [99281, 3.65], [99282, 4.48], [99283, 4.37], [99284, 2.44], [99285, 4.25], [99286, 4.5], [99287, 4.36], [99288, 3.78], [99289, 3.44], [99290, 4.36], [99291, 3.5], [99292, 1.71], [99293, 3.65], [99294, 3.47], [99295, 3.78], [99296, 3.47], [99297, 4.36], [99298, 4.5], [99299, 4.45], [99300, 3.78], [99301, 2.41], [99302, 3.47], [99303, 2.64], [99304, 3.65], [99305, 3.61], [99306, 2.67], [99307, 4.48], [99308, 1.69], [99309, 3.62], [99310, 4.23], [99311, 4.23], [99312, 2.42], [99313, 4.45], [99314, 4.25], [99315, 3.55], [99316, 3.61], [99317, 4.43], [99318, 4.34], [99319, 4.38], [99320, 3.76], [99321, 4.48], [99322, 3.75], [99323, 3.48], [99324, 3.62], [99325, 4.39], [99326, 3.61], [99327, 4.48], [99328, 3.78], [99329, 3.45], [99330, 2.42], [99331, 4.43], [99332, 3.49], [99333, 3.62], [99334, 3.67], [99335, 4.17], [99336, 4.39], [99337, 2.62], [99338, 2.62], [99339, 4.36], [99340, 3.47], [99341, 2.34], [99342, 3.6], [99343, 3.48], [99344, 3.46], [99345, 4.25], [99346, 2.3], [99347, 3.47], [99348, 4.36], [99349, 3.77], [99350, 4.36], [99351, 3.44], [99352, 4.39], [99353, 3.65], [99354, 3.61], [99355, 4.45], [99356, 4.39], [99357, 3.47], [99358, 3.48], [99359, 2.42], [99360, 4.32], [99361, 3.51], [99362, 3.72], [99363, 3.65], [99364, 4.36], [99365, 3.43], [99366, 4.39], [99367, 3.62], [99368, 3.56], [99369, 4.41], [99370, 3.47], [99371, 3.49], [99372, 4.34], [99373, 4.36], [99374, 4.48], [99375, 3.67], [99376, 3.65], [99377, 2.37], [99378, 2.54], [99379, 3.78], [99380, 3.62], [99381, 3.55], [99382, 3.56], [99383, 4.35], [99384, 4.39], [99385, 3.55], [99386, 4.45], [99387, 3.64], [99388, 3.64], [99389, 1.48], [99390, 2.44], [99391, 4.46], [99392, 4.48], [99393, 3.52], [99394, 3.55], [99395, 3.64], [99396, 3.47], [99397, 4.36], [99398, 4.39], [99399, 4.39], [99400, 3.78], [99401, 2.7], [99402, 4.23], [99403, 4.36], [99404, 3.48], [99405, 4.39], [99406, 4.5], [99407, 3.56], [99408, 4.39], [99409, 4.39], [99410, 3.49], [99411, 3.59], [99412, 4.43], [99413, 4.45], [99414, 3.6], [99415, 4.36], [99416, 3.73], [99417, 4.46], [99418, 3.55], [99419, 3.53], [99420, 4.39], [99421, 1.7], [99422, 3.42], [99423, 3.35], [99424, 3.52], [99425, 3.55], [99426, 4.36], [99427, 4.35], [99428, 2.35], [99429, 3.5], [99430, 4.32], [99431, 3.51], [99432, 4.23], [99433, 3.45], [99434, 3.6], [99435, 3.64], [99436, 3.6], [99437, 4.39], [99438, 3.65], [99439, 2.33], [99440, 4.36], [99441, 3.63], [99442, 2.47], [99443, 3.44], [99444, 2.54], [99445, 3.65], [99446, 4.49], [99447, 3.61], [99448, 3.48], [99449, 4.36], [99450, 4.23], [99451, 3.61], [99452, 3.64], [99453, 4.25], [99454, 4.27], [99455, 4.24], [99456, 4.45], [99457, 4.34], [99458, 4.55], [99459, 3.42], [99460, 4.36], [99461, 3.44], [99462, 3.65], [99463, 4.55], [99464, 3.46], [99465, 2.42], [99466, 2.66], [99467, 3.46], [99468, 4.39], [99469, 4.38], [99470, 4.25], [99471, 4.41], [99472, 3.46], [99473, 3.44], [99474, 4.45], [99475, 3.55], [99476, 3.64], [99477, 4.39], [99478, 3.63], [99479, 4.37], [99480, 3.62], [99481, 4.41], [99482, 2.73], [99483, 4.38], [99484, 4.23], [99485, 3.64], [99486, 4.34], [99487, 3.42], [99488, 3.62], [99489, 4.48], [99490, 2.55], [99491, 3.4], [99492, 3.43], [99493, 2.48], [99494, 3.75], [99495, 4.36], [99496, 4.32], [99497, 2.62], [99498, 3.58], [99499, 2.63], [99500, 4.48], [99501, 4.35], [99502, 3.42], [99503, 4.27], [99504, 3.78], [99505, 4.39], [99506, 4.46], [99507, 3.52], [99508, 3.62], [99509, 3.46], [99510, 3.55], [99511, 4.38], [99512, 3.62], [99513, 3.77], [99514, 4.39], [99515, 4.53], [99516, 3.63], [99517, 3.63], [99518, 3.54], [99519, 4.25], [99520, 3.54], [99521, 3.65], [99522, 3.65], [99523, 3.52], [99524, 4.18], [99525, 3.51], [99526, 4.36], [99527, 4.35], [99528, 4.36], [99529, 4.36], [99530, 4.27], [99531, 3.46], [99532, 3.48], [99533, 2.69], [99534, 3.46], [99535, 4.36], [99536, 3.65], [99537, 3.5], [99538, 3.64], [99539, 3.49], [99540, 3.41], [99541, 2.65], [99542, 3.65], [99543, 3.65], [99544, 3.67], [99545, 3.52], [99546, 3.64], [99547, 2.65], [99548, 3.64], [99549, 3.6], [99550, 3.63], [99551, 3.47], [99552, 3.78], [99553, 2.34], [99554, 4.37], [99555, 3.53], [99556, 4.45], [99557, 3.78], [99558, 4.45], [99559, 3.41], [99560, 3.58], [99561, 2.61], [99562, 3.6], [99563, 2.35], [99564, 4.38], [99565, 2.5], [99566, 4.18], [99567, 2.48], [99568, 3.44], [99569, 4.39], [99570, 2.34], [99571, 2.54], [99572, 4.48], [99573, 3.71], [99574, 2.64], [99575, 2.36], [99576, 4.37], [99577, 4.39], [99578, 1.64], [99579, 2.44], [99580, 2.64], [99581, 3.58], [99582, 4.36], [99583, 4.36], [99584, 4.25], [99585, 4.48], [99586, 3.63], [99587, 4.43], [99588, 3.43], [99589, 4.24], [99590, 4.39], [99591, 3.63], [99592, 4.36], [99593, 4.24], [99594, 4.31], [99595, 3.7], [99596, 4.39], [99597, 4.41], [99598, 3.52], [99599, 3.64], [99600, 2.38], [99601, 3.63], [99602, 4.5], [99603, 3.45], [99604, 4.48], [99605, 4.34], [99606, 1.72], [99607, 4.53], [99608, 2.35], [99609, 3.74], [99610, 3.56], [99611, 2.69], [99612, 4.38], [99613, 3.56], [99614, 3.55], [99615, 4.39], [99616, 3.65], [99617, 3.47], [99618, 4.36], [99619, 3.65], [99620, 4.35], [99621, 3.44], [99622, 2.54], [99623, 4.5], [99624, 3.46], [99625, 2.72], [99626, 4.38], [99627, 3.45], [99628, 4.14], [99629, 2.61], [99630, 4.24], [99631, 3.47], [99632, 3.63], [99633, 4.39], [99634, 3.78], [99635, 3.48], [99636, 4.34], [99637, 4.39], [99638, 3.6], [99639, 4.39], [99640, 4.52], [99641, 3.42], [99642, 2.67], [99643, 4.23], [99644, 4.34], [99645, 3.61], [99646, 3.65], [99647, 3.47], [99648, 4.34], [99649, 3.77], [99650, 4.32], [99651, 2.62], [99652, 4.32], [99653, 3.36], [99654, 4.39], [99655, 4.37], [99656, 3.54], [99657, 3.78], [99658, 4.23], [99659, 4.49], [99660, 3.78], [99661, 3.47], [99662, 4.24], [99663, 4.48], [99664, 2.48], [99665, 4.24], [99666, 1.72], [99667, 2.41], [99668, 2.42], [99669, 3.64], [99670, 3.63], [99671, 4.38], [99672, 4.34], [99673, 4.39], [99674, 4.45], [99675, 4.25], [99676, 4.55], [99677, 3.41], [99678, 3.64], [99679, 4.39], [99680, 4.48], [99681, 3.47], [99682, 4.45], [99683, 4.39], [99684, 4.23], [99685, 4.43], [99686, 3.65], [99687, 3.61], [99688, 2.67], [99689, 3.6], [99690, 3.65], [99691, 4.36], [99692, 4.5], [99693, 2.71], [99694, 4.34], [99695, 3.65], [99696, 3.75], [99697, 3.66], [99698, 3.58], [99699, 4.5], [99700, 2.61], [99701, 3.65], [99702, 4.24], [99703, 4.41], [99704, 2.66], [99705, 3.65], [99706, 4.53], [99707, 2.49], [99708, 4.37], [99709, 4.24], [99710, 3.48], [99711, 4.45], [99712, 3.48], [99713, 2.44], [99714, 4.46], [99715, 3.47], [99716, 3.53], [99717, 4.25], [99718, 2.63], [99719, 4.36], [99720, 4.25], [99721, 2.65], [99722, 3.52], [99723, 4.35], [99724, 3.45], [99725, 3.58], [99726, 4.55], [99727, 4.48], [99728, 4.49], [99729, 3.44], [99730, 4.36], [99731, 3.46], [99732, 2.46], [99733, 4.37], [99734, 4.52], [99735, 4.5], [99736, 4.24], [99737, 4.53], [99738, 3.44], [99739, 4.26], [99740, 3.61], [99741, 2.63], [99742, 4.32], [99743, 3.72], [99744, 3.78], [99745, 4.36], [99746, 4.38], [99747, 4.48], [99748, 2.54], [99749, 2.65], [99750, 4.18], [99751, 3.6], [99752, 3.43], [99753, 3.64], [99754, 3.77], [99755, 3.61], [99756, 4.39], [99757, 4.39], [99758, 4.24], [99759, 2.36], [99760, 3.43], [99761, 3.7], [99762, 3.63], [99763, 4.39], [99764, 2.34], [99765, 2.34], [99766, 3.44], [99767, 4.23], [99768, 4.39], [99769, 4.35], [99770, 3.62], [99771, 4.39], [99772, 4.48], [99773, 3.5], [99774, 4.36], [99775, 4.31], [99776, 4.38], [99777, 3.44], [99778, 4.24], [99779, 4.39], [99780, 3.65], [99781, 2.73], [99782, 2.34], [99783, 3.78], [99784, 3.64], [99785, 4.31], [99786, 1.48], [99787, 4.36], [99788, 3.47], [99789, 3.76], [99790, 4.29], [99791, 3.61], [99792, 4.25], [99793, 3.47], [99794, 3.75], [99795, 3.78], [99796, 4.36], [99797, 2.36], [99798, 3.45], [99799, 4.11], [99800, 2.61], [99801, 1.72], [99802, 4.12], [99803, 4.23], [99804, 3.55], [99805, 4.34], [99806, 2.7], [99807, 3.58], [99808, 3.77], [99809, 3.47], [99810, 4.12], [99811, 4.39], [99812, 4.36], [99813, 3.63], [99814, 4.24], [99815, 2.35], [99816, 4.48], [99817, 1.69], [99818, 4.12], [99819, 3.6], [99820, 4.36], [99821, 3.46], [99822, 4.32], [99823, 4.45], [99824, 3.45], [99825, 4.25], [99826, 4.36], [99827, 4.24], [99828, 4.5], [99829, 4.39], [99830, 3.42], [99831, 4.35], [99832, 3.45], [99833, 4.48], [99834, 3.51], [99835, 3.61], [99836, 4.36], [99837, 4.5], [99838, 3.46], [99839, 4.26], [99840, 2.48], [99841, 4.48], [99842, 4.34], [99843, 4.34], [99844, 3.62], [99845, 4.48], [99846, 2.35], [99847, 3.63], [99848, 3.61], [99849, 2.64], [99850, 4.48], [99851, 4.38], [99852, 4.38], [99853, 3.5], [99854, 3.42], [99855, 4.39], [99856, 3.78], [99857, 4.34], [99858, 3.46], [99859, 4.34], [99860, 4.36], [99861, 3.44], [99862, 3.63], [99863, 3.65], [99864, 3.43], [99865, 4.36], [99866, 4.49], [99867, 3.55], [99868, 4.43], [99869, 2.29], [99870, 3.63], [99871, 3.65], [99872, 4.43], [99873, 3.54], [99874, 4.36], [99875, 3.63], [99876, 4.37], [99877, 3.54], [99878, 4.32], [99879, 4.15], [99880, 4.36], [99881, 3.65], [99882, 2.67], [99883, 4.34], [99884, 3.65], [99885, 3.61], [99886, 3.75], [99887, 3.65], [99888, 2.35], [99889, 4.39], [99890, 3.48], [99891, 4.36], [99892, 3.47], [99893, 3.45], [99894, 4.23], [99895, 4.37], [99896, 4.48], [99897, 3.78], [99898, 3.66], [99899, 4.39], [99900, 4.24], [99901, 4.11], [99902, 4.37], [99903, 3.65], [99904, 3.78], [99905, 4.43], [99906, 3.78], [99907, 4.38], [99908, 3.44], [99909, 3.48], [99910, 4.41], [99911, 4.43], [99912, 4.12], [99913, 4.41], [99914, 4.37], [99915, 4.38], [99916, 2.58], [99917, 4.48], [99918, 4.39], [99919, 4.36], [99920, 3.78], [99921, 4.5], [99922, 3.55], [99923, 2.35], [99924, 1.64], [99925, 3.65], [99926, 3.64], [99927, 4.38], [99928, 3.65], [99929, 4.35], [99930, 4.27], [99931, 3.78], [99932, 4.36], [99933, 2.34], [99934, 4.38], [99935, 4.43], [99936, 3.65], [99937, 4.29], [99938, 4.39], [99939, 2.45], [99940, 4.36], [99941, 3.65], [99942, 3.61], [99943, 3.49], [99944, 3.47], [99945, 4.32], [99946, 3.51], [99947, 2.34], [99948, 2.34], [99949, 4.34], [99950, 4.31], [99951, 4.36], [99952, 3.4], [99953, 3.65], [99954, 2.63], [99955, 2.35], [99956, 3.78], [99957, 4.36], [99958, 3.55], [99959, 4.39], [99960, 3.65], [99961, 4.34], [99962, 4.48], [99963, 4.36], [99964, 3.64], [99965, 4.5], [99966, 4.37], [99967, 1.69], [99968, 3.41], [99969, 4.5], [99970, 4.12], [99971, 4.48], [99972, 2.37], [99973, 4.39], [99974, 4.36], [99975, 3.64], [99976, 4.34], [99977, 4.37], [99978, 4.38], [99979, 2.44], [99980, 3.78], [99981, 4.34], [99982, 4.37], [99983, 3.54], [99984, 3.51], [99985, 3.55], [99986, 3.65], [99987, 4.38], [99988, 4.48], [99989, 3.63], [99990, 3.64], [99991, 3.73], [99992, 3.67], [99993, 3.49], [99994, 3.78], [99995, 3.48], [99996, 3.78], [99997, 3.54], [99998, 4.32], [99999, 2.34], [100000, 3.47], [100001, 3.37], [100002, 2.44], [100003, 4.34], [100004, 2.55], [100005, 3.63], [100006, 3.52], [100007, 4.5], [100008, 3.45], [100009, 3.74], [100010, 4.48], [100011, 3.55], [100012, 4.48], [100013, 3.56], [100014, 4.37], [100015, 2.69], [100016, 4.36], [100017, 4.39], [100018, 3.55], [100019, 3.42], [100020, 4.34], [100021, 4.34], [100022, 4.34], [100023, 2.55], [100024, 2.4], [100025, 3.52], [100026, 3.64], [100027, 4.55], [100028, 2.42], [100029, 3.58], [100030, 3.65], [100031, 2.29], [100032, 3.65], [100033, 3.61], [100034, 3.5], [100035, 1.67], [100036, 4.41], [100037, 3.65], [100038, 1.72], [100039, 3.78], [100040, 2.68], [100041, 3.73], [100042, 3.79], [100043, 3.65], [100044, 2.64], [100045, 4.37], [100046, 4.17], [100047, 3.53], [100048, 3.48], [100049, 3.6], [100050, 4.48], [100051, 3.44], [100052, 4.53], [100053, 3.64], [100054, 2.66], [100055, 3.51], [100056, 4.36], [100057, 3.41], [100058, 3.63], [100059, 4.24], [100060, 3.64], [100061, 4.43], [100062, 3.78], [100063, 3.76], [100064, 3.71], [100065, 2.69], [100066, 3.78], [100067, 2.54], [100068, 3.65], [100069, 3.64], [100070, 4.32], [100071, 3.65], [100072, 3.55], [100073, 3.63], [100074, 4.5], [100075, 4.5], [100076, 3.65], [100077, 4.39], [100078, 3.44], [100079, 3.78], [100080, 3.45], [100081, 2.62], [100082, 4.14], [100083, 3.65], [100084, 2.57], [100085, 4.43], [100086, 3.47], [100087, 4.25], [100088, 3.64], [100089, 4.13], [100090, 3.47], [100091, 3.48], [100092, 3.45], [100093, 4.48], [100094, 4.31], [100095, 3.78], [100096, 4.37], [100097, 4.39], [100098, 4.38], [100099, 3.46], [100100, 4.25], [100101, 3.55], [100102, 4.43], [100103, 4.44], [100104, 2.42], [100105, 4.36], [100106, 4.46], [100107, 2.34], [100108, 3.63], [100109, 4.39], [100110, 2.34], [100111, 2.41], [100112, 3.55], [100113, 3.66], [100114, 2.44], [100115, 3.44], [100116, 2.62], [100117, 2.39], [100118, 3.45], [100119, 4.38], [100120, 4.17], [100121, 3.48], [100122, 3.63], [100123, 2.64], [100124, 4.48], [100125, 4.12], [100126, 3.47], [100127, 4.34], [100128, 1.76], [100129, 3.35], [100130, 3.45], [100131, 3.49], [100132, 3.64], [100133, 3.49], [100134, 4.39], [100135, 3.5], [100136, 4.53], [100137, 4.34], [100138, 4.28], [100139, 4.24], [100140, 3.77], [100141, 4.25], [100142, 2.4], [100143, 1.73], [100144, 1.67], [100145, 4.25], [100146, 2.54], [100147, 3.78], [100148, 4.12], [100149, 2.36], [100150, 1.66], [100151, 3.6], [100152, 4.36], [100153, 3.47], [100154, 4.48], [100155, 3.45], [100156, 2.47], [100157, 3.46], [100158, 4.35], [100159, 4.37], [100160, 3.45], [100161, 3.61], [100162, 2.64], [100163, 4.25], [100164, 4.27], [100165, 4.17], [100166, 3.45], [100167, 3.48], [100168, 3.56], [100169, 3.64], [100170, 4.36], [100171, 4.48], [100172, 2.57], [100173, 4.36], [100174, 4.32], [100175, 3.55], [100176, 3.45], [100177, 4.35], [100178, 3.61], [100179, 2.57], [100180, 3.64], [100181, 3.67], [100182, 3.64], [100183, 2.32], [100184, 3.46], [100185, 2.3], [100186, 3.55], [100187, 2.36], [100188, 4.38], [100189, 4.12], [100190, 2.34], [100191, 2.72], [100192, 3.48], [100193, 3.46], [100194, 3.61], [100195, 3.64], [100196, 4.43], [100197, 4.5], [100198, 3.64], [100199, 4.48], [100200, 4.36], [100201, 4.48], [100202, 3.64], [100203, 3.47], [100204, 2.7], [100205, 3.59], [100206, 4.29], [100207, 3.49], [100208, 3.68], [100209, 3.41], [100210, 3.65], [100211, 3.45], [100212, 4.36], [100213, 2.44], [100214, 3.65], [100215, 3.41], [100216, 3.56], [100217, 4.41], [100218, 3.39], [100219, 3.63], [100220, 3.61], [100221, 4.49], [100222, 4.36], [100223, 3.64], [100224, 4.23], [100225, 3.63], [100226, 3.46], [100227, 4.39], [100228, 3.47], [100229, 3.62], [100230, 4.43], [100231, 3.75], [100232, 4.34], [100233, 4.44], [100234, 2.54], [100235, 4.36], [100236, 3.46], [100237, 4.32], [100238, 3.47], [100239, 3.78], [100240, 3.76], [100241, 2.42], [100242, 3.66], [100243, 4.39], [100244, 3.62], [100245, 4.43], [100246, 1.48], [100247, 3.59], [100248, 2.42], [100249, 3.46], [100250, 3.52], [100251, 2.58], [100252, 2.7], [100253, 3.61], [100254, 4.36], [100255, 3.6], [100256, 4.37], [100257, 3.77], [100258, 3.51], [100259, 4.39], [100260, 4.48], [100261, 4.5], [100262, 2.34], [100263, 3.78], [100264, 4.39], [100265, 3.65], [100266, 4.15], [100267, 4.43], [100268, 4.53], [100269, 4.34], [100270, 3.45], [100271, 2.67], [100272, 4.39], [100273, 2.45], [100274, 3.47], [100275, 3.49], [100276, 3.44], [100277, 3.46], [100278, 4.36], [100279, 4.38], [100280, 3.65], [100281, 1.65], [100282, 3.42], [100283, 4.39], [100284, 4.29], [100285, 4.27], [100286, 3.77], [100287, 3.65], [100288, 4.39], [100289, 4.36], [100290, 3.74], [100291, 1.64], [100292, 3.6], [100293, 4.32], [100294, 4.31], [100295, 2.65], [100296, 2.45], [100297, 2.37], [100298, 3.46], [100299, 3.48], [100300, 4.39], [100301, 3.55], [100302, 3.48], [100303, 4.43], [100304, 4.18], [100305, 3.58], [100306, 4.34], [100307, 2.4], [100308, 3.76], [100309, 2.69], [100310, 3.6], [100311, 3.42], [100312, 3.51], [100313, 3.56], [100314, 4.39], [100315, 3.54], [100316, 2.61], [100317, 3.65], [100318, 3.48]]\n"
          ]
        },
        {
          "output_type": "stream",
          "name": "stderr",
          "text": [
            "\n"
          ]
        }
      ]
    },
    {
      "cell_type": "code",
      "source": [
        "test = pd.DataFrame(y_pred,columns=['row_id','engagement_score'])\n",
        "test.shape"
      ],
      "metadata": {
        "colab": {
          "base_uri": "https://localhost:8080/"
        },
        "id": "bz28A1Fk_sxg",
        "outputId": "cf7a5f27-9237-4fba-c4eb-8bfcc29f9ed8"
      },
      "execution_count": 270,
      "outputs": [
        {
          "output_type": "execute_result",
          "data": {
            "text/plain": [
              "(11121, 2)"
            ]
          },
          "metadata": {},
          "execution_count": 270
        }
      ]
    },
    {
      "cell_type": "code",
      "source": [
        "test.head(20)"
      ],
      "metadata": {
        "colab": {
          "base_uri": "https://localhost:8080/",
          "height": 677
        },
        "id": "j-fkb_LuEz7w",
        "outputId": "238d6722-e058-4cd0-b3e2-96ec5f418ba7"
      },
      "execution_count": 271,
      "outputs": [
        {
          "output_type": "execute_result",
          "data": {
            "text/html": [
              "\n",
              "  <div id=\"df-9593cda8-1d5c-456e-9164-6611e385bc28\">\n",
              "    <div class=\"colab-df-container\">\n",
              "      <div>\n",
              "<style scoped>\n",
              "    .dataframe tbody tr th:only-of-type {\n",
              "        vertical-align: middle;\n",
              "    }\n",
              "\n",
              "    .dataframe tbody tr th {\n",
              "        vertical-align: top;\n",
              "    }\n",
              "\n",
              "    .dataframe thead th {\n",
              "        text-align: right;\n",
              "    }\n",
              "</style>\n",
              "<table border=\"1\" class=\"dataframe\">\n",
              "  <thead>\n",
              "    <tr style=\"text-align: right;\">\n",
              "      <th></th>\n",
              "      <th>row_id</th>\n",
              "      <th>engagement_score</th>\n",
              "    </tr>\n",
              "  </thead>\n",
              "  <tbody>\n",
              "    <tr>\n",
              "      <th>0</th>\n",
              "      <td>89198</td>\n",
              "      <td>4.34</td>\n",
              "    </tr>\n",
              "    <tr>\n",
              "      <th>1</th>\n",
              "      <td>89199</td>\n",
              "      <td>4.34</td>\n",
              "    </tr>\n",
              "    <tr>\n",
              "      <th>2</th>\n",
              "      <td>89200</td>\n",
              "      <td>2.33</td>\n",
              "    </tr>\n",
              "    <tr>\n",
              "      <th>3</th>\n",
              "      <td>89201</td>\n",
              "      <td>3.75</td>\n",
              "    </tr>\n",
              "    <tr>\n",
              "      <th>4</th>\n",
              "      <td>89202</td>\n",
              "      <td>2.35</td>\n",
              "    </tr>\n",
              "    <tr>\n",
              "      <th>5</th>\n",
              "      <td>89203</td>\n",
              "      <td>3.75</td>\n",
              "    </tr>\n",
              "    <tr>\n",
              "      <th>6</th>\n",
              "      <td>89204</td>\n",
              "      <td>3.65</td>\n",
              "    </tr>\n",
              "    <tr>\n",
              "      <th>7</th>\n",
              "      <td>89205</td>\n",
              "      <td>4.37</td>\n",
              "    </tr>\n",
              "    <tr>\n",
              "      <th>8</th>\n",
              "      <td>89206</td>\n",
              "      <td>3.48</td>\n",
              "    </tr>\n",
              "    <tr>\n",
              "      <th>9</th>\n",
              "      <td>89207</td>\n",
              "      <td>4.36</td>\n",
              "    </tr>\n",
              "    <tr>\n",
              "      <th>10</th>\n",
              "      <td>89208</td>\n",
              "      <td>3.77</td>\n",
              "    </tr>\n",
              "    <tr>\n",
              "      <th>11</th>\n",
              "      <td>89209</td>\n",
              "      <td>4.39</td>\n",
              "    </tr>\n",
              "    <tr>\n",
              "      <th>12</th>\n",
              "      <td>89210</td>\n",
              "      <td>3.65</td>\n",
              "    </tr>\n",
              "    <tr>\n",
              "      <th>13</th>\n",
              "      <td>89211</td>\n",
              "      <td>4.48</td>\n",
              "    </tr>\n",
              "    <tr>\n",
              "      <th>14</th>\n",
              "      <td>89212</td>\n",
              "      <td>3.43</td>\n",
              "    </tr>\n",
              "    <tr>\n",
              "      <th>15</th>\n",
              "      <td>89213</td>\n",
              "      <td>3.58</td>\n",
              "    </tr>\n",
              "    <tr>\n",
              "      <th>16</th>\n",
              "      <td>89214</td>\n",
              "      <td>2.36</td>\n",
              "    </tr>\n",
              "    <tr>\n",
              "      <th>17</th>\n",
              "      <td>89215</td>\n",
              "      <td>3.78</td>\n",
              "    </tr>\n",
              "    <tr>\n",
              "      <th>18</th>\n",
              "      <td>89216</td>\n",
              "      <td>4.36</td>\n",
              "    </tr>\n",
              "    <tr>\n",
              "      <th>19</th>\n",
              "      <td>89217</td>\n",
              "      <td>2.68</td>\n",
              "    </tr>\n",
              "  </tbody>\n",
              "</table>\n",
              "</div>\n",
              "      <button class=\"colab-df-convert\" onclick=\"convertToInteractive('df-9593cda8-1d5c-456e-9164-6611e385bc28')\"\n",
              "              title=\"Convert this dataframe to an interactive table.\"\n",
              "              style=\"display:none;\">\n",
              "        \n",
              "  <svg xmlns=\"http://www.w3.org/2000/svg\" height=\"24px\"viewBox=\"0 0 24 24\"\n",
              "       width=\"24px\">\n",
              "    <path d=\"M0 0h24v24H0V0z\" fill=\"none\"/>\n",
              "    <path d=\"M18.56 5.44l.94 2.06.94-2.06 2.06-.94-2.06-.94-.94-2.06-.94 2.06-2.06.94zm-11 1L8.5 8.5l.94-2.06 2.06-.94-2.06-.94L8.5 2.5l-.94 2.06-2.06.94zm10 10l.94 2.06.94-2.06 2.06-.94-2.06-.94-.94-2.06-.94 2.06-2.06.94z\"/><path d=\"M17.41 7.96l-1.37-1.37c-.4-.4-.92-.59-1.43-.59-.52 0-1.04.2-1.43.59L10.3 9.45l-7.72 7.72c-.78.78-.78 2.05 0 2.83L4 21.41c.39.39.9.59 1.41.59.51 0 1.02-.2 1.41-.59l7.78-7.78 2.81-2.81c.8-.78.8-2.07 0-2.86zM5.41 20L4 18.59l7.72-7.72 1.47 1.35L5.41 20z\"/>\n",
              "  </svg>\n",
              "      </button>\n",
              "      \n",
              "  <style>\n",
              "    .colab-df-container {\n",
              "      display:flex;\n",
              "      flex-wrap:wrap;\n",
              "      gap: 12px;\n",
              "    }\n",
              "\n",
              "    .colab-df-convert {\n",
              "      background-color: #E8F0FE;\n",
              "      border: none;\n",
              "      border-radius: 50%;\n",
              "      cursor: pointer;\n",
              "      display: none;\n",
              "      fill: #1967D2;\n",
              "      height: 32px;\n",
              "      padding: 0 0 0 0;\n",
              "      width: 32px;\n",
              "    }\n",
              "\n",
              "    .colab-df-convert:hover {\n",
              "      background-color: #E2EBFA;\n",
              "      box-shadow: 0px 1px 2px rgba(60, 64, 67, 0.3), 0px 1px 3px 1px rgba(60, 64, 67, 0.15);\n",
              "      fill: #174EA6;\n",
              "    }\n",
              "\n",
              "    [theme=dark] .colab-df-convert {\n",
              "      background-color: #3B4455;\n",
              "      fill: #D2E3FC;\n",
              "    }\n",
              "\n",
              "    [theme=dark] .colab-df-convert:hover {\n",
              "      background-color: #434B5C;\n",
              "      box-shadow: 0px 1px 3px 1px rgba(0, 0, 0, 0.15);\n",
              "      filter: drop-shadow(0px 1px 2px rgba(0, 0, 0, 0.3));\n",
              "      fill: #FFFFFF;\n",
              "    }\n",
              "  </style>\n",
              "\n",
              "      <script>\n",
              "        const buttonEl =\n",
              "          document.querySelector('#df-9593cda8-1d5c-456e-9164-6611e385bc28 button.colab-df-convert');\n",
              "        buttonEl.style.display =\n",
              "          google.colab.kernel.accessAllowed ? 'block' : 'none';\n",
              "\n",
              "        async function convertToInteractive(key) {\n",
              "          const element = document.querySelector('#df-9593cda8-1d5c-456e-9164-6611e385bc28');\n",
              "          const dataTable =\n",
              "            await google.colab.kernel.invokeFunction('convertToInteractive',\n",
              "                                                     [key], {});\n",
              "          if (!dataTable) return;\n",
              "\n",
              "          const docLinkHtml = 'Like what you see? Visit the ' +\n",
              "            '<a target=\"_blank\" href=https://colab.research.google.com/notebooks/data_table.ipynb>data table notebook</a>'\n",
              "            + ' to learn more about interactive tables.';\n",
              "          element.innerHTML = '';\n",
              "          dataTable['output_type'] = 'display_data';\n",
              "          await google.colab.output.renderOutput(dataTable, element);\n",
              "          const docLink = document.createElement('div');\n",
              "          docLink.innerHTML = docLinkHtml;\n",
              "          element.appendChild(docLink);\n",
              "        }\n",
              "      </script>\n",
              "    </div>\n",
              "  </div>\n",
              "  "
            ],
            "text/plain": [
              "    row_id  engagement_score\n",
              "0    89198              4.34\n",
              "1    89199              4.34\n",
              "2    89200              2.33\n",
              "3    89201              3.75\n",
              "4    89202              2.35\n",
              "5    89203              3.75\n",
              "6    89204              3.65\n",
              "7    89205              4.37\n",
              "8    89206              3.48\n",
              "9    89207              4.36\n",
              "10   89208              3.77\n",
              "11   89209              4.39\n",
              "12   89210              3.65\n",
              "13   89211              4.48\n",
              "14   89212              3.43\n",
              "15   89213              3.58\n",
              "16   89214              2.36\n",
              "17   89215              3.78\n",
              "18   89216              4.36\n",
              "19   89217              2.68"
            ]
          },
          "metadata": {},
          "execution_count": 271
        }
      ]
    },
    {
      "cell_type": "code",
      "source": [
        "test.to_csv('/content/drive/MyDrive/sample_submission_Final.csv')"
      ],
      "metadata": {
        "id": "UtZUM7DT_sz-"
      },
      "execution_count": 272,
      "outputs": []
    }
  ]
}